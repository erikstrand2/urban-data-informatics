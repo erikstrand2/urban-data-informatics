{
  "nbformat": 4,
  "nbformat_minor": 0,
  "metadata": {
    "colab": {
      "name": "Stage III: Travel characteristics.ipynb",
      "provenance": [],
      "collapsed_sections": [],
      "include_colab_link": true
    },
    "kernelspec": {
      "display_name": "Python 3",
      "name": "python3"
    }
  },
  "cells": [
    {
      "cell_type": "markdown",
      "metadata": {
        "id": "view-in-github",
        "colab_type": "text"
      },
      "source": [
        "<a href=\"https://colab.research.google.com/github/erikstrand2/urban-data-informatics/blob/master/final-project/Stage_III_Travel_characteristics.ipynb\" target=\"_parent\"><img src=\"https://colab.research.google.com/assets/colab-badge.svg\" alt=\"Open In Colab\"/></a>"
      ]
    },
    {
      "cell_type": "markdown",
      "metadata": {
        "id": "h7KvyxO8sv_o"
      },
      "source": [
        "# Stage III: Analysis of Unit Travel Characteristics"
      ]
    },
    {
      "cell_type": "markdown",
      "metadata": {
        "id": "CTR6uLc-7nxe"
      },
      "source": [
        "## Setup\n"
      ]
    },
    {
      "cell_type": "code",
      "metadata": {
        "id": "FKb5E5OP7cK7",
        "colab": {
          "base_uri": "https://localhost:8080/"
        },
        "outputId": "dcbc8932-1b1c-4e10-b271-9778d2f9939a"
      },
      "source": [
        "%%time \n",
        "\n",
        "# Important library for many geopython libraries\n",
        "!apt install gdal-bin python-gdal python3-gdal \n",
        "# Install rtree - Geopandas requirment\n",
        "!apt install python3-rtree \n",
        "# Install Geopandas\n",
        "!pip install git+git://github.com/geopandas/geopandas.git\n",
        "# Install descartes - Geopandas requirment\n",
        "!pip install descartes \n",
        "# Install Folium for Geographic data visualization\n",
        "!pip install folium\n",
        "# Install plotlyExpress\n",
        "!pip install plotly_express\n",
        "# Install mapclassify\n",
        "!pip install mapclassify\n",
        "\n",
        "# %load_ext google.colab.data_table"
      ],
      "execution_count": null,
      "outputs": [
        {
          "output_type": "stream",
          "text": [
            "Reading package lists... Done\n",
            "Building dependency tree       \n",
            "Reading state information... Done\n",
            "gdal-bin is already the newest version (2.2.3+dfsg-2).\n",
            "python-gdal is already the newest version (2.2.3+dfsg-2).\n",
            "python3-gdal is already the newest version (2.2.3+dfsg-2).\n",
            "0 upgraded, 0 newly installed, 0 to remove and 14 not upgraded.\n",
            "Reading package lists... Done\n",
            "Building dependency tree       \n",
            "Reading state information... Done\n",
            "python3-rtree is already the newest version (0.8.3+ds-1).\n",
            "0 upgraded, 0 newly installed, 0 to remove and 14 not upgraded.\n",
            "Collecting git+git://github.com/geopandas/geopandas.git\n",
            "  Cloning git://github.com/geopandas/geopandas.git to /tmp/pip-req-build-k2vtnifz\n",
            "  Running command git clone -q git://github.com/geopandas/geopandas.git /tmp/pip-req-build-k2vtnifz\n",
            "Requirement already satisfied (use --upgrade to upgrade): geopandas==0.8.0+72.ge506de5 from git+git://github.com/geopandas/geopandas.git in /usr/local/lib/python3.6/dist-packages\n",
            "Requirement already satisfied: pandas>=0.24.0 in /usr/local/lib/python3.6/dist-packages (from geopandas==0.8.0+72.ge506de5) (1.1.5)\n",
            "Requirement already satisfied: shapely>=1.6 in /usr/local/lib/python3.6/dist-packages (from geopandas==0.8.0+72.ge506de5) (1.7.1)\n",
            "Requirement already satisfied: fiona>=1.8 in /usr/local/lib/python3.6/dist-packages (from geopandas==0.8.0+72.ge506de5) (1.8.18)\n",
            "Requirement already satisfied: pyproj>=2.2.0 in /usr/local/lib/python3.6/dist-packages (from geopandas==0.8.0+72.ge506de5) (3.0.0.post1)\n",
            "Requirement already satisfied: python-dateutil>=2.7.3 in /usr/local/lib/python3.6/dist-packages (from pandas>=0.24.0->geopandas==0.8.0+72.ge506de5) (2.8.1)\n",
            "Requirement already satisfied: pytz>=2017.2 in /usr/local/lib/python3.6/dist-packages (from pandas>=0.24.0->geopandas==0.8.0+72.ge506de5) (2018.9)\n",
            "Requirement already satisfied: numpy>=1.15.4 in /usr/local/lib/python3.6/dist-packages (from pandas>=0.24.0->geopandas==0.8.0+72.ge506de5) (1.19.4)\n",
            "Requirement already satisfied: six>=1.7 in /usr/local/lib/python3.6/dist-packages (from fiona>=1.8->geopandas==0.8.0+72.ge506de5) (1.15.0)\n",
            "Requirement already satisfied: cligj>=0.5 in /usr/local/lib/python3.6/dist-packages (from fiona>=1.8->geopandas==0.8.0+72.ge506de5) (0.7.1)\n",
            "Requirement already satisfied: attrs>=17 in /usr/local/lib/python3.6/dist-packages (from fiona>=1.8->geopandas==0.8.0+72.ge506de5) (20.3.0)\n",
            "Requirement already satisfied: munch in /usr/local/lib/python3.6/dist-packages (from fiona>=1.8->geopandas==0.8.0+72.ge506de5) (2.5.0)\n",
            "Requirement already satisfied: click-plugins>=1.0 in /usr/local/lib/python3.6/dist-packages (from fiona>=1.8->geopandas==0.8.0+72.ge506de5) (1.1.1)\n",
            "Requirement already satisfied: certifi in /usr/local/lib/python3.6/dist-packages (from fiona>=1.8->geopandas==0.8.0+72.ge506de5) (2020.12.5)\n",
            "Requirement already satisfied: click<8,>=4.0 in /usr/local/lib/python3.6/dist-packages (from fiona>=1.8->geopandas==0.8.0+72.ge506de5) (7.1.2)\n",
            "Building wheels for collected packages: geopandas\n",
            "  Building wheel for geopandas (setup.py) ... \u001b[?25l\u001b[?25hdone\n",
            "  Created wheel for geopandas: filename=geopandas-0.8.0+72.ge506de5-py2.py3-none-any.whl size=973052 sha256=ab7b8c8009c17faa30fbeede33417f791280054263fc5f020090f26ab97471d4\n",
            "  Stored in directory: /tmp/pip-ephem-wheel-cache-m189t5z2/wheels/91/24/71/376c9c67192694168352afcccc2d264248f7e2cc6192997186\n",
            "Successfully built geopandas\n",
            "Requirement already satisfied: descartes in /usr/local/lib/python3.6/dist-packages (1.1.0)\n",
            "Requirement already satisfied: matplotlib in /usr/local/lib/python3.6/dist-packages (from descartes) (3.2.2)\n",
            "Requirement already satisfied: cycler>=0.10 in /usr/local/lib/python3.6/dist-packages (from matplotlib->descartes) (0.10.0)\n",
            "Requirement already satisfied: numpy>=1.11 in /usr/local/lib/python3.6/dist-packages (from matplotlib->descartes) (1.19.4)\n",
            "Requirement already satisfied: python-dateutil>=2.1 in /usr/local/lib/python3.6/dist-packages (from matplotlib->descartes) (2.8.1)\n",
            "Requirement already satisfied: kiwisolver>=1.0.1 in /usr/local/lib/python3.6/dist-packages (from matplotlib->descartes) (1.3.1)\n",
            "Requirement already satisfied: pyparsing!=2.0.4,!=2.1.2,!=2.1.6,>=2.0.1 in /usr/local/lib/python3.6/dist-packages (from matplotlib->descartes) (2.4.7)\n",
            "Requirement already satisfied: six in /usr/local/lib/python3.6/dist-packages (from cycler>=0.10->matplotlib->descartes) (1.15.0)\n",
            "Requirement already satisfied: folium in /usr/local/lib/python3.6/dist-packages (0.8.3)\n",
            "Requirement already satisfied: branca>=0.3.0 in /usr/local/lib/python3.6/dist-packages (from folium) (0.4.1)\n",
            "Requirement already satisfied: jinja2 in /usr/local/lib/python3.6/dist-packages (from folium) (2.11.2)\n",
            "Requirement already satisfied: requests in /usr/local/lib/python3.6/dist-packages (from folium) (2.23.0)\n",
            "Requirement already satisfied: numpy in /usr/local/lib/python3.6/dist-packages (from folium) (1.19.4)\n",
            "Requirement already satisfied: six in /usr/local/lib/python3.6/dist-packages (from folium) (1.15.0)\n",
            "Requirement already satisfied: MarkupSafe>=0.23 in /usr/local/lib/python3.6/dist-packages (from jinja2->folium) (1.1.1)\n",
            "Requirement already satisfied: urllib3!=1.25.0,!=1.25.1,<1.26,>=1.21.1 in /usr/local/lib/python3.6/dist-packages (from requests->folium) (1.24.3)\n",
            "Requirement already satisfied: chardet<4,>=3.0.2 in /usr/local/lib/python3.6/dist-packages (from requests->folium) (3.0.4)\n",
            "Requirement already satisfied: certifi>=2017.4.17 in /usr/local/lib/python3.6/dist-packages (from requests->folium) (2020.12.5)\n",
            "Requirement already satisfied: idna<3,>=2.5 in /usr/local/lib/python3.6/dist-packages (from requests->folium) (2.10)\n",
            "Requirement already satisfied: plotly_express in /usr/local/lib/python3.6/dist-packages (0.4.1)\n",
            "Requirement already satisfied: scipy>=0.18 in /usr/local/lib/python3.6/dist-packages (from plotly_express) (1.4.1)\n",
            "Requirement already satisfied: statsmodels>=0.9.0 in /usr/local/lib/python3.6/dist-packages (from plotly_express) (0.10.2)\n",
            "Requirement already satisfied: numpy>=1.11 in /usr/local/lib/python3.6/dist-packages (from plotly_express) (1.19.4)\n",
            "Requirement already satisfied: patsy>=0.5 in /usr/local/lib/python3.6/dist-packages (from plotly_express) (0.5.1)\n",
            "Requirement already satisfied: plotly>=4.1.0 in /usr/local/lib/python3.6/dist-packages (from plotly_express) (4.4.1)\n",
            "Requirement already satisfied: pandas>=0.20.0 in /usr/local/lib/python3.6/dist-packages (from plotly_express) (1.1.5)\n",
            "Requirement already satisfied: six in /usr/local/lib/python3.6/dist-packages (from patsy>=0.5->plotly_express) (1.15.0)\n",
            "Requirement already satisfied: retrying>=1.3.3 in /usr/local/lib/python3.6/dist-packages (from plotly>=4.1.0->plotly_express) (1.3.3)\n",
            "Requirement already satisfied: python-dateutil>=2.7.3 in /usr/local/lib/python3.6/dist-packages (from pandas>=0.20.0->plotly_express) (2.8.1)\n",
            "Requirement already satisfied: pytz>=2017.2 in /usr/local/lib/python3.6/dist-packages (from pandas>=0.20.0->plotly_express) (2018.9)\n",
            "Requirement already satisfied: mapclassify in /usr/local/lib/python3.6/dist-packages (2.4.0)\n",
            "Requirement already satisfied: scipy>=1.0 in /usr/local/lib/python3.6/dist-packages (from mapclassify) (1.4.1)\n",
            "Requirement already satisfied: scikit-learn in /usr/local/lib/python3.6/dist-packages (from mapclassify) (0.22.2.post1)\n",
            "Requirement already satisfied: numpy>=1.3 in /usr/local/lib/python3.6/dist-packages (from mapclassify) (1.19.4)\n",
            "Requirement already satisfied: networkx in /usr/local/lib/python3.6/dist-packages (from mapclassify) (2.5)\n",
            "Requirement already satisfied: pandas>=1.0 in /usr/local/lib/python3.6/dist-packages (from mapclassify) (1.1.5)\n",
            "Requirement already satisfied: joblib>=0.11 in /usr/local/lib/python3.6/dist-packages (from scikit-learn->mapclassify) (1.0.0)\n",
            "Requirement already satisfied: decorator>=4.3.0 in /usr/local/lib/python3.6/dist-packages (from networkx->mapclassify) (4.4.2)\n",
            "Requirement already satisfied: pytz>=2017.2 in /usr/local/lib/python3.6/dist-packages (from pandas>=1.0->mapclassify) (2018.9)\n",
            "Requirement already satisfied: python-dateutil>=2.7.3 in /usr/local/lib/python3.6/dist-packages (from pandas>=1.0->mapclassify) (2.8.1)\n",
            "Requirement already satisfied: six>=1.5 in /usr/local/lib/python3.6/dist-packages (from python-dateutil>=2.7.3->pandas>=1.0->mapclassify) (1.15.0)\n",
            "CPU times: user 90.8 ms, sys: 49.7 ms, total: 141 ms\n",
            "Wall time: 20.1 s\n"
          ],
          "name": "stdout"
        }
      ]
    },
    {
      "cell_type": "code",
      "metadata": {
        "colab": {
          "base_uri": "https://localhost:8080/"
        },
        "id": "qXtbh5n50gdR",
        "outputId": "968394ad-873f-4459-aa50-c4f5d1b52237"
      },
      "source": [
        "from google.colab import drive\n",
        "drive.mount('/content/drive')"
      ],
      "execution_count": null,
      "outputs": [
        {
          "output_type": "stream",
          "text": [
            "Mounted at /content/drive\n"
          ],
          "name": "stdout"
        }
      ]
    },
    {
      "cell_type": "code",
      "metadata": {
        "id": "aGNQg3Aa7TyZ"
      },
      "source": [
        "import pandas as pd\n",
        "import numpy as np\n",
        "import geopandas as gpd\n",
        "import re\n",
        "import matplotlib.pyplot as plt\n",
        "import matplotlib.ticker as mtick\n",
        "import mapclassify\n",
        "import matplotlib.cm as cm\n",
        "import matplotlib.colors as colors\n",
        "import statsmodels.formula.api as sm"
      ],
      "execution_count": null,
      "outputs": []
    },
    {
      "cell_type": "markdown",
      "metadata": {
        "id": "fLJobcC5yxTp"
      },
      "source": [
        "## Taxi data and COVID-19 Data"
      ]
    },
    {
      "cell_type": "markdown",
      "metadata": {
        "id": "rMbxvhadujuy"
      },
      "source": [
        "This part aims to run correlations and regressions between COVID-19 data and trips change"
      ]
    },
    {
      "cell_type": "code",
      "metadata": {
        "colab": {
          "base_uri": "https://localhost:8080/",
          "height": 467
        },
        "id": "rHnaJDIQy0_o",
        "outputId": "cfa671e8-69c6-4de3-fac7-762ab8fc78d3"
      },
      "source": [
        "covid_bynta = gpd.read_file(\"drive/MyDrive/IUDI Final Project/data/covid_bynta\")\n",
        "covid_bynta[\"CASE_RATE\"] = covid_bynta[\"Avg_grid_c\"]\n",
        "\n",
        "covid_bynta.head()"
      ],
      "execution_count": null,
      "outputs": [
        {
          "output_type": "execute_result",
          "data": {
            "text/html": [
              "<div>\n",
              "<style scoped>\n",
              "    .dataframe tbody tr th:only-of-type {\n",
              "        vertical-align: middle;\n",
              "    }\n",
              "\n",
              "    .dataframe tbody tr th {\n",
              "        vertical-align: top;\n",
              "    }\n",
              "\n",
              "    .dataframe thead th {\n",
              "        text-align: right;\n",
              "    }\n",
              "</style>\n",
              "<table border=\"1\" class=\"dataframe\">\n",
              "  <thead>\n",
              "    <tr style=\"text-align: right;\">\n",
              "      <th></th>\n",
              "      <th>OBJECTID</th>\n",
              "      <th>BoroCode</th>\n",
              "      <th>BoroName</th>\n",
              "      <th>CountyFIPS</th>\n",
              "      <th>NTACode</th>\n",
              "      <th>NTAName</th>\n",
              "      <th>Shape_Leng</th>\n",
              "      <th>Shape_Le_1</th>\n",
              "      <th>Shape_Area</th>\n",
              "      <th>Count_</th>\n",
              "      <th>Avg_pointi</th>\n",
              "      <th>Avg_grid_c</th>\n",
              "      <th>geometry</th>\n",
              "      <th>CASE_RATE</th>\n",
              "    </tr>\n",
              "  </thead>\n",
              "  <tbody>\n",
              "    <tr>\n",
              "      <th>0</th>\n",
              "      <td>1</td>\n",
              "      <td>1</td>\n",
              "      <td>Manhattan</td>\n",
              "      <td>061</td>\n",
              "      <td>MN15</td>\n",
              "      <td>Clinton</td>\n",
              "      <td>34481.628773</td>\n",
              "      <td>34481.605660</td>\n",
              "      <td>1.836215e+07</td>\n",
              "      <td>43630</td>\n",
              "      <td>8.427355e+05</td>\n",
              "      <td>2296.806677</td>\n",
              "      <td>POLYGON ((985958.652 220876.750, 985970.759 22...</td>\n",
              "      <td>2296.806677</td>\n",
              "    </tr>\n",
              "    <tr>\n",
              "      <th>1</th>\n",
              "      <td>2</td>\n",
              "      <td>1</td>\n",
              "      <td>Manhattan</td>\n",
              "      <td>061</td>\n",
              "      <td>MN25</td>\n",
              "      <td>Battery Park City-Lower Manhattan</td>\n",
              "      <td>43738.496041</td>\n",
              "      <td>43738.183813</td>\n",
              "      <td>1.901426e+07</td>\n",
              "      <td>38652</td>\n",
              "      <td>1.412032e+06</td>\n",
              "      <td>1775.924672</td>\n",
              "      <td>MULTIPOLYGON (((984032.884 192223.748, 983984....</td>\n",
              "      <td>1775.924672</td>\n",
              "    </tr>\n",
              "    <tr>\n",
              "      <th>2</th>\n",
              "      <td>3</td>\n",
              "      <td>1</td>\n",
              "      <td>Manhattan</td>\n",
              "      <td>061</td>\n",
              "      <td>MN14</td>\n",
              "      <td>Lincoln Square</td>\n",
              "      <td>19869.908314</td>\n",
              "      <td>19869.681573</td>\n",
              "      <td>1.580552e+07</td>\n",
              "      <td>39251</td>\n",
              "      <td>7.283790e+05</td>\n",
              "      <td>1542.954969</td>\n",
              "      <td>POLYGON ((991173.649 222552.152, 991046.810 22...</td>\n",
              "      <td>1542.954969</td>\n",
              "    </tr>\n",
              "    <tr>\n",
              "      <th>3</th>\n",
              "      <td>4</td>\n",
              "      <td>1</td>\n",
              "      <td>Manhattan</td>\n",
              "      <td>061</td>\n",
              "      <td>MN17</td>\n",
              "      <td>Midtown-Midtown South</td>\n",
              "      <td>27032.700221</td>\n",
              "      <td>27032.583487</td>\n",
              "      <td>3.019157e+07</td>\n",
              "      <td>73476</td>\n",
              "      <td>9.416262e+05</td>\n",
              "      <td>2239.991558</td>\n",
              "      <td>POLYGON ((991725.244 217725.299, 992169.505 21...</td>\n",
              "      <td>2239.991558</td>\n",
              "    </tr>\n",
              "    <tr>\n",
              "      <th>4</th>\n",
              "      <td>5</td>\n",
              "      <td>1</td>\n",
              "      <td>Manhattan</td>\n",
              "      <td>061</td>\n",
              "      <td>MN40</td>\n",
              "      <td>Upper East Side-Carnegie Hill</td>\n",
              "      <td>23778.410362</td>\n",
              "      <td>23778.410362</td>\n",
              "      <td>2.006536e+07</td>\n",
              "      <td>50158</td>\n",
              "      <td>7.310517e+05</td>\n",
              "      <td>1784.171453</td>\n",
              "      <td>POLYGON ((998281.392 225347.967, 998145.231 22...</td>\n",
              "      <td>1784.171453</td>\n",
              "    </tr>\n",
              "  </tbody>\n",
              "</table>\n",
              "</div>"
            ],
            "text/plain": [
              "   OBJECTID  ...    CASE_RATE\n",
              "0         1  ...  2296.806677\n",
              "1         2  ...  1775.924672\n",
              "2         3  ...  1542.954969\n",
              "3         4  ...  2239.991558\n",
              "4         5  ...  1784.171453\n",
              "\n",
              "[5 rows x 14 columns]"
            ]
          },
          "metadata": {
            "tags": []
          },
          "execution_count": 6
        }
      ]
    },
    {
      "cell_type": "code",
      "metadata": {
        "colab": {
          "base_uri": "https://localhost:8080/",
          "height": 197
        },
        "id": "84u9XFVH1WLD",
        "outputId": "0dfb2edf-1913-4905-df49-a49a26aaa270"
      },
      "source": [
        "trips_19_cnts = pd.read_csv(\"drive/MyDrive/IUDI Final Project/data/trips_19_cnt.csv\")\n",
        "trips_20_cnts = pd.read_csv(\"drive/MyDrive/IUDI Final Project/data/trips_20_cnt.csv\")\n",
        "taxi_zones = gpd.read_file(\"drive/MyDrive/IUDI Final Project/data/taxi_zones\")\n",
        "\n",
        "trip_counts = trips_19_cnts[[\"PULocationID\", \"n\"]].merge(trips_20_cnts[[\"PULocationID\", \"n\"]], how = \"outer\", on = \"PULocationID\", suffixes = (\"_19\", \"_20\"))\n",
        "trip_counts[\"change\"] = trip_counts[\"n_20\"] - trip_counts[\"n_19\"]\n",
        "trip_counts.head()"
      ],
      "execution_count": null,
      "outputs": [
        {
          "output_type": "execute_result",
          "data": {
            "text/html": [
              "<div>\n",
              "<style scoped>\n",
              "    .dataframe tbody tr th:only-of-type {\n",
              "        vertical-align: middle;\n",
              "    }\n",
              "\n",
              "    .dataframe tbody tr th {\n",
              "        vertical-align: top;\n",
              "    }\n",
              "\n",
              "    .dataframe thead th {\n",
              "        text-align: right;\n",
              "    }\n",
              "</style>\n",
              "<table border=\"1\" class=\"dataframe\">\n",
              "  <thead>\n",
              "    <tr style=\"text-align: right;\">\n",
              "      <th></th>\n",
              "      <th>PULocationID</th>\n",
              "      <th>n_19</th>\n",
              "      <th>n_20</th>\n",
              "      <th>change</th>\n",
              "    </tr>\n",
              "  </thead>\n",
              "  <tbody>\n",
              "    <tr>\n",
              "      <th>0</th>\n",
              "      <td>1</td>\n",
              "      <td>3721</td>\n",
              "      <td>1762.0</td>\n",
              "      <td>-1959.0</td>\n",
              "    </tr>\n",
              "    <tr>\n",
              "      <th>1</th>\n",
              "      <td>2</td>\n",
              "      <td>64</td>\n",
              "      <td>16.0</td>\n",
              "      <td>-48.0</td>\n",
              "    </tr>\n",
              "    <tr>\n",
              "      <th>2</th>\n",
              "      <td>3</td>\n",
              "      <td>1031</td>\n",
              "      <td>751.0</td>\n",
              "      <td>-280.0</td>\n",
              "    </tr>\n",
              "    <tr>\n",
              "      <th>3</th>\n",
              "      <td>4</td>\n",
              "      <td>79608</td>\n",
              "      <td>27771.0</td>\n",
              "      <td>-51837.0</td>\n",
              "    </tr>\n",
              "    <tr>\n",
              "      <th>4</th>\n",
              "      <td>5</td>\n",
              "      <td>116</td>\n",
              "      <td>65.0</td>\n",
              "      <td>-51.0</td>\n",
              "    </tr>\n",
              "  </tbody>\n",
              "</table>\n",
              "</div>"
            ],
            "text/plain": [
              "   PULocationID   n_19     n_20   change\n",
              "0             1   3721   1762.0  -1959.0\n",
              "1             2     64     16.0    -48.0\n",
              "2             3   1031    751.0   -280.0\n",
              "3             4  79608  27771.0 -51837.0\n",
              "4             5    116     65.0    -51.0"
            ]
          },
          "metadata": {
            "tags": []
          },
          "execution_count": 7
        }
      ]
    },
    {
      "cell_type": "code",
      "metadata": {
        "colab": {
          "base_uri": "https://localhost:8080/",
          "height": 604
        },
        "id": "6Xnh4pWc1uMN",
        "outputId": "fa65fc88-9d68-4098-a8db-679611a8a231"
      },
      "source": [
        "trips_byzone = taxi_zones.merge(trip_counts, left_on = \"LocationID\", right_on = \"PULocationID\")\n",
        "trips_byzone[\"perc_change\"] = trips_byzone[\"change\"] / trips_byzone[\"n_19\"]\n",
        "covid_trips = gpd.sjoin(covid_bynta, trips_byzone, how = 'left')\n",
        "\n",
        "print(len(covid_trips))\n",
        "print(len(covid_bynta))\n",
        "print(len(trips_byzone))\n",
        "covid_trips.head()"
      ],
      "execution_count": null,
      "outputs": [
        {
          "output_type": "stream",
          "text": [
            "246\n",
            "29\n",
            "259\n"
          ],
          "name": "stdout"
        },
        {
          "output_type": "execute_result",
          "data": {
            "text/html": [
              "<div>\n",
              "<style scoped>\n",
              "    .dataframe tbody tr th:only-of-type {\n",
              "        vertical-align: middle;\n",
              "    }\n",
              "\n",
              "    .dataframe tbody tr th {\n",
              "        vertical-align: top;\n",
              "    }\n",
              "\n",
              "    .dataframe thead th {\n",
              "        text-align: right;\n",
              "    }\n",
              "</style>\n",
              "<table border=\"1\" class=\"dataframe\">\n",
              "  <thead>\n",
              "    <tr style=\"text-align: right;\">\n",
              "      <th></th>\n",
              "      <th>OBJECTID_left</th>\n",
              "      <th>BoroCode</th>\n",
              "      <th>BoroName</th>\n",
              "      <th>CountyFIPS</th>\n",
              "      <th>NTACode</th>\n",
              "      <th>NTAName</th>\n",
              "      <th>Shape_Leng_left</th>\n",
              "      <th>Shape_Le_1</th>\n",
              "      <th>Shape_Area_left</th>\n",
              "      <th>Count_</th>\n",
              "      <th>Avg_pointi</th>\n",
              "      <th>Avg_grid_c</th>\n",
              "      <th>geometry</th>\n",
              "      <th>CASE_RATE</th>\n",
              "      <th>index_right</th>\n",
              "      <th>OBJECTID_right</th>\n",
              "      <th>Shape_Leng_right</th>\n",
              "      <th>Shape_Area_right</th>\n",
              "      <th>zone</th>\n",
              "      <th>LocationID</th>\n",
              "      <th>borough</th>\n",
              "      <th>PULocationID</th>\n",
              "      <th>n_19</th>\n",
              "      <th>n_20</th>\n",
              "      <th>change</th>\n",
              "      <th>perc_change</th>\n",
              "    </tr>\n",
              "  </thead>\n",
              "  <tbody>\n",
              "    <tr>\n",
              "      <th>0</th>\n",
              "      <td>1</td>\n",
              "      <td>1</td>\n",
              "      <td>Manhattan</td>\n",
              "      <td>061</td>\n",
              "      <td>MN15</td>\n",
              "      <td>Clinton</td>\n",
              "      <td>34481.628773</td>\n",
              "      <td>34481.60566</td>\n",
              "      <td>1.836215e+07</td>\n",
              "      <td>43630</td>\n",
              "      <td>842735.498694</td>\n",
              "      <td>2296.806677</td>\n",
              "      <td>POLYGON ((985958.652 220876.750, 985970.759 22...</td>\n",
              "      <td>2296.806677</td>\n",
              "      <td>67</td>\n",
              "      <td>68</td>\n",
              "      <td>0.049337</td>\n",
              "      <td>0.000111</td>\n",
              "      <td>East Chelsea</td>\n",
              "      <td>68</td>\n",
              "      <td>Manhattan</td>\n",
              "      <td>68</td>\n",
              "      <td>1065069</td>\n",
              "      <td>393646.0</td>\n",
              "      <td>-671423.0</td>\n",
              "      <td>-0.630403</td>\n",
              "    </tr>\n",
              "    <tr>\n",
              "      <th>0</th>\n",
              "      <td>1</td>\n",
              "      <td>1</td>\n",
              "      <td>Manhattan</td>\n",
              "      <td>061</td>\n",
              "      <td>MN15</td>\n",
              "      <td>Clinton</td>\n",
              "      <td>34481.628773</td>\n",
              "      <td>34481.60566</td>\n",
              "      <td>1.836215e+07</td>\n",
              "      <td>43630</td>\n",
              "      <td>842735.498694</td>\n",
              "      <td>2296.806677</td>\n",
              "      <td>POLYGON ((985958.652 220876.750, 985970.759 22...</td>\n",
              "      <td>2296.806677</td>\n",
              "      <td>241</td>\n",
              "      <td>246</td>\n",
              "      <td>0.069467</td>\n",
              "      <td>0.000281</td>\n",
              "      <td>West Chelsea/Hudson Yards</td>\n",
              "      <td>246</td>\n",
              "      <td>Manhattan</td>\n",
              "      <td>246</td>\n",
              "      <td>705036</td>\n",
              "      <td>276717.0</td>\n",
              "      <td>-428319.0</td>\n",
              "      <td>-0.607514</td>\n",
              "    </tr>\n",
              "    <tr>\n",
              "      <th>0</th>\n",
              "      <td>1</td>\n",
              "      <td>1</td>\n",
              "      <td>Manhattan</td>\n",
              "      <td>061</td>\n",
              "      <td>MN15</td>\n",
              "      <td>Clinton</td>\n",
              "      <td>34481.628773</td>\n",
              "      <td>34481.60566</td>\n",
              "      <td>1.836215e+07</td>\n",
              "      <td>43630</td>\n",
              "      <td>842735.498694</td>\n",
              "      <td>2296.806677</td>\n",
              "      <td>POLYGON ((985958.652 220876.750, 985970.759 22...</td>\n",
              "      <td>2296.806677</td>\n",
              "      <td>99</td>\n",
              "      <td>100</td>\n",
              "      <td>0.024813</td>\n",
              "      <td>0.000037</td>\n",
              "      <td>Garment District</td>\n",
              "      <td>100</td>\n",
              "      <td>Manhattan</td>\n",
              "      <td>100</td>\n",
              "      <td>900006</td>\n",
              "      <td>325622.0</td>\n",
              "      <td>-574384.0</td>\n",
              "      <td>-0.638200</td>\n",
              "    </tr>\n",
              "    <tr>\n",
              "      <th>0</th>\n",
              "      <td>1</td>\n",
              "      <td>1</td>\n",
              "      <td>Manhattan</td>\n",
              "      <td>061</td>\n",
              "      <td>MN15</td>\n",
              "      <td>Clinton</td>\n",
              "      <td>34481.628773</td>\n",
              "      <td>34481.60566</td>\n",
              "      <td>1.836215e+07</td>\n",
              "      <td>43630</td>\n",
              "      <td>842735.498694</td>\n",
              "      <td>2296.806677</td>\n",
              "      <td>POLYGON ((985958.652 220876.750, 985970.759 22...</td>\n",
              "      <td>2296.806677</td>\n",
              "      <td>225</td>\n",
              "      <td>230</td>\n",
              "      <td>0.031028</td>\n",
              "      <td>0.000056</td>\n",
              "      <td>Times Sq/Theatre District</td>\n",
              "      <td>230</td>\n",
              "      <td>Manhattan</td>\n",
              "      <td>230</td>\n",
              "      <td>1513660</td>\n",
              "      <td>564120.0</td>\n",
              "      <td>-949540.0</td>\n",
              "      <td>-0.627314</td>\n",
              "    </tr>\n",
              "    <tr>\n",
              "      <th>0</th>\n",
              "      <td>1</td>\n",
              "      <td>1</td>\n",
              "      <td>Manhattan</td>\n",
              "      <td>061</td>\n",
              "      <td>MN15</td>\n",
              "      <td>Clinton</td>\n",
              "      <td>34481.628773</td>\n",
              "      <td>34481.60566</td>\n",
              "      <td>1.836215e+07</td>\n",
              "      <td>43630</td>\n",
              "      <td>842735.498694</td>\n",
              "      <td>2296.806677</td>\n",
              "      <td>POLYGON ((985958.652 220876.750, 985970.759 22...</td>\n",
              "      <td>2296.806677</td>\n",
              "      <td>47</td>\n",
              "      <td>48</td>\n",
              "      <td>0.043747</td>\n",
              "      <td>0.000094</td>\n",
              "      <td>Clinton East</td>\n",
              "      <td>48</td>\n",
              "      <td>Manhattan</td>\n",
              "      <td>48</td>\n",
              "      <td>1415245</td>\n",
              "      <td>512994.0</td>\n",
              "      <td>-902251.0</td>\n",
              "      <td>-0.637523</td>\n",
              "    </tr>\n",
              "  </tbody>\n",
              "</table>\n",
              "</div>"
            ],
            "text/plain": [
              "   OBJECTID_left  BoroCode   BoroName  ...      n_20    change perc_change\n",
              "0              1         1  Manhattan  ...  393646.0 -671423.0   -0.630403\n",
              "0              1         1  Manhattan  ...  276717.0 -428319.0   -0.607514\n",
              "0              1         1  Manhattan  ...  325622.0 -574384.0   -0.638200\n",
              "0              1         1  Manhattan  ...  564120.0 -949540.0   -0.627314\n",
              "0              1         1  Manhattan  ...  512994.0 -902251.0   -0.637523\n",
              "\n",
              "[5 rows x 26 columns]"
            ]
          },
          "metadata": {
            "tags": []
          },
          "execution_count": 8
        }
      ]
    },
    {
      "cell_type": "code",
      "metadata": {
        "colab": {
          "base_uri": "https://localhost:8080/"
        },
        "id": "A-7J3RdG10AO",
        "outputId": "1879e362-c5f8-4d5c-9f7d-035eec5852e9"
      },
      "source": [
        "covid_trips.columns.tolist()\n",
        "covid_trips = covid_trips.groupby(['NTACode'])[['n_19', 'change']].sum()\n",
        "covid_trips = covid_bynta.merge(covid_trips, on = 'NTACode')\n",
        "\n",
        "covid_trips['perc_change'] = covid_trips['change'] / covid_trips['n_19']\n",
        "# covid_trips.to_file('drive/MyDrive/IUDI Final Project/output/covid_trips')\n",
        "covid_trips.shape"
      ],
      "execution_count": null,
      "outputs": [
        {
          "output_type": "execute_result",
          "data": {
            "text/plain": [
              "(29, 17)"
            ]
          },
          "metadata": {
            "tags": []
          },
          "execution_count": 9
        }
      ]
    },
    {
      "cell_type": "code",
      "metadata": {
        "colab": {
          "base_uri": "https://localhost:8080/",
          "height": 107
        },
        "id": "gLHEj6E12OOe",
        "outputId": "2e2baa68-c5d6-41b3-b5e3-238787a7ea78"
      },
      "source": [
        "covid_trips[['CASE_RATE', 'perc_change']].corr()"
      ],
      "execution_count": null,
      "outputs": [
        {
          "output_type": "execute_result",
          "data": {
            "text/html": [
              "<div>\n",
              "<style scoped>\n",
              "    .dataframe tbody tr th:only-of-type {\n",
              "        vertical-align: middle;\n",
              "    }\n",
              "\n",
              "    .dataframe tbody tr th {\n",
              "        vertical-align: top;\n",
              "    }\n",
              "\n",
              "    .dataframe thead th {\n",
              "        text-align: right;\n",
              "    }\n",
              "</style>\n",
              "<table border=\"1\" class=\"dataframe\">\n",
              "  <thead>\n",
              "    <tr style=\"text-align: right;\">\n",
              "      <th></th>\n",
              "      <th>CASE_RATE</th>\n",
              "      <th>perc_change</th>\n",
              "    </tr>\n",
              "  </thead>\n",
              "  <tbody>\n",
              "    <tr>\n",
              "      <th>CASE_RATE</th>\n",
              "      <td>1.000000</td>\n",
              "      <td>0.685562</td>\n",
              "    </tr>\n",
              "    <tr>\n",
              "      <th>perc_change</th>\n",
              "      <td>0.685562</td>\n",
              "      <td>1.000000</td>\n",
              "    </tr>\n",
              "  </tbody>\n",
              "</table>\n",
              "</div>"
            ],
            "text/plain": [
              "             CASE_RATE  perc_change\n",
              "CASE_RATE     1.000000     0.685562\n",
              "perc_change   0.685562     1.000000"
            ]
          },
          "metadata": {
            "tags": []
          },
          "execution_count": 10
        }
      ]
    },
    {
      "cell_type": "code",
      "metadata": {
        "colab": {
          "base_uri": "https://localhost:8080/",
          "height": 421
        },
        "id": "o3OdqUOI2RJL",
        "outputId": "d5ee57be-b152-43fa-a2d2-9dd2ee720f13"
      },
      "source": [
        "ols = sm.ols(formula = \"perc_change ~ CASE_RATE\", data = covid_trips).fit()\n",
        "ols.summary()"
      ],
      "execution_count": null,
      "outputs": [
        {
          "output_type": "execute_result",
          "data": {
            "text/html": [
              "<table class=\"simpletable\">\n",
              "<caption>OLS Regression Results</caption>\n",
              "<tr>\n",
              "  <th>Dep. Variable:</th>       <td>perc_change</td>   <th>  R-squared:         </th> <td>   0.470</td>\n",
              "</tr>\n",
              "<tr>\n",
              "  <th>Model:</th>                   <td>OLS</td>       <th>  Adj. R-squared:    </th> <td>   0.450</td>\n",
              "</tr>\n",
              "<tr>\n",
              "  <th>Method:</th>             <td>Least Squares</td>  <th>  F-statistic:       </th> <td>   23.94</td>\n",
              "</tr>\n",
              "<tr>\n",
              "  <th>Date:</th>             <td>Thu, 17 Dec 2020</td> <th>  Prob (F-statistic):</th> <td>4.06e-05</td>\n",
              "</tr>\n",
              "<tr>\n",
              "  <th>Time:</th>                 <td>22:01:40</td>     <th>  Log-Likelihood:    </th> <td>  57.541</td>\n",
              "</tr>\n",
              "<tr>\n",
              "  <th>No. Observations:</th>      <td>    29</td>      <th>  AIC:               </th> <td>  -111.1</td>\n",
              "</tr>\n",
              "<tr>\n",
              "  <th>Df Residuals:</th>          <td>    27</td>      <th>  BIC:               </th> <td>  -108.3</td>\n",
              "</tr>\n",
              "<tr>\n",
              "  <th>Df Model:</th>              <td>     1</td>      <th>                     </th>     <td> </td>   \n",
              "</tr>\n",
              "<tr>\n",
              "  <th>Covariance Type:</th>      <td>nonrobust</td>    <th>                     </th>     <td> </td>   \n",
              "</tr>\n",
              "</table>\n",
              "<table class=\"simpletable\">\n",
              "<tr>\n",
              "      <td></td>         <th>coef</th>     <th>std err</th>      <th>t</th>      <th>P>|t|</th>  <th>[0.025</th>    <th>0.975]</th>  \n",
              "</tr>\n",
              "<tr>\n",
              "  <th>Intercept</th> <td>   -0.7191</td> <td>    0.026</td> <td>  -27.769</td> <td> 0.000</td> <td>   -0.772</td> <td>   -0.666</td>\n",
              "</tr>\n",
              "<tr>\n",
              "  <th>CASE_RATE</th> <td> 5.342e-05</td> <td> 1.09e-05</td> <td>    4.893</td> <td> 0.000</td> <td>  3.1e-05</td> <td> 7.58e-05</td>\n",
              "</tr>\n",
              "</table>\n",
              "<table class=\"simpletable\">\n",
              "<tr>\n",
              "  <th>Omnibus:</th>       <td>15.072</td> <th>  Durbin-Watson:     </th> <td>   1.358</td>\n",
              "</tr>\n",
              "<tr>\n",
              "  <th>Prob(Omnibus):</th> <td> 0.001</td> <th>  Jarque-Bera (JB):  </th> <td>  17.459</td>\n",
              "</tr>\n",
              "<tr>\n",
              "  <th>Skew:</th>          <td> 1.316</td> <th>  Prob(JB):          </th> <td>0.000162</td>\n",
              "</tr>\n",
              "<tr>\n",
              "  <th>Kurtosis:</th>      <td> 5.743</td> <th>  Cond. No.          </th> <td>9.59e+03</td>\n",
              "</tr>\n",
              "</table><br/><br/>Warnings:<br/>[1] Standard Errors assume that the covariance matrix of the errors is correctly specified.<br/>[2] The condition number is large, 9.59e+03. This might indicate that there are<br/>strong multicollinearity or other numerical problems."
            ],
            "text/plain": [
              "<class 'statsmodels.iolib.summary.Summary'>\n",
              "\"\"\"\n",
              "                            OLS Regression Results                            \n",
              "==============================================================================\n",
              "Dep. Variable:            perc_change   R-squared:                       0.470\n",
              "Model:                            OLS   Adj. R-squared:                  0.450\n",
              "Method:                 Least Squares   F-statistic:                     23.94\n",
              "Date:                Thu, 17 Dec 2020   Prob (F-statistic):           4.06e-05\n",
              "Time:                        22:01:40   Log-Likelihood:                 57.541\n",
              "No. Observations:                  29   AIC:                            -111.1\n",
              "Df Residuals:                      27   BIC:                            -108.3\n",
              "Df Model:                           1                                         \n",
              "Covariance Type:            nonrobust                                         \n",
              "==============================================================================\n",
              "                 coef    std err          t      P>|t|      [0.025      0.975]\n",
              "------------------------------------------------------------------------------\n",
              "Intercept     -0.7191      0.026    -27.769      0.000      -0.772      -0.666\n",
              "CASE_RATE   5.342e-05   1.09e-05      4.893      0.000     3.1e-05    7.58e-05\n",
              "==============================================================================\n",
              "Omnibus:                       15.072   Durbin-Watson:                   1.358\n",
              "Prob(Omnibus):                  0.001   Jarque-Bera (JB):               17.459\n",
              "Skew:                           1.316   Prob(JB):                     0.000162\n",
              "Kurtosis:                       5.743   Cond. No.                     9.59e+03\n",
              "==============================================================================\n",
              "\n",
              "Warnings:\n",
              "[1] Standard Errors assume that the covariance matrix of the errors is correctly specified.\n",
              "[2] The condition number is large, 9.59e+03. This might indicate that there are\n",
              "strong multicollinearity or other numerical problems.\n",
              "\"\"\""
            ]
          },
          "metadata": {
            "tags": []
          },
          "execution_count": 11
        }
      ]
    },
    {
      "cell_type": "code",
      "metadata": {
        "colab": {
          "base_uri": "https://localhost:8080/",
          "height": 367
        },
        "id": "orpr_MP02d6E",
        "outputId": "0bd05c1d-6a89-47c9-8078-e632328a7198"
      },
      "source": [
        "plt.figure(figsize = (5,5))\n",
        "plt.scatter(covid_trips['CASE_RATE'], covid_trips['perc_change'], color='white', edgecolor='k')\n",
        "plt.xlabel(\"COVID-19 case rate per 100,000 residents\")\n",
        "plt.ylabel(\"Percent change in taxi rides, 2019-2020\")\n",
        "plt.title(\"COVID-19 and Taxi Usage in Manhattan\")\n",
        "\n",
        "\n",
        "x1 = covid_trips['CASE_RATE'].min()\n",
        "x2 = covid_trips['CASE_RATE'].max()\n",
        "y1 = ols.params[0] + (ols.params[1] * x1)\n",
        "y2 = ols.params[0] + (ols.params[1] * x2)\n",
        "\n",
        "plt.gca().set_yticklabels(['{:.0f}%'.format(x*100) for x in plt.gca().get_yticks()]) \n",
        "plt.plot([x1, x2], [y1, y2], linestyle = '--', color = 'blue')"
      ],
      "execution_count": null,
      "outputs": [
        {
          "output_type": "execute_result",
          "data": {
            "text/plain": [
              "[<matplotlib.lines.Line2D at 0x7f04e1d1bef0>]"
            ]
          },
          "metadata": {
            "tags": []
          },
          "execution_count": 12
        },
        {
          "output_type": "display_data",
          "data": {
            "image/png": "[encoded data removed]",
            "text/plain": [
              "<Figure size 360x360 with 1 Axes>"
            ]
          },
          "metadata": {
            "tags": [],
            "needs_background": "light"
          }
        }
      ]
    },
    {
      "cell_type": "markdown",
      "metadata": {
        "id": "ZG_otxrQ6Q-0"
      },
      "source": [
        "## Taxi data and ACS data"
      ]
    },
    {
      "cell_type": "markdown",
      "metadata": {
        "id": "h6u-KuIRwm-R"
      },
      "source": [
        "This part aims to run correlations and regressions of taxi data and ACS variables"
      ]
    },
    {
      "cell_type": "code",
      "metadata": {
        "id": "s3DZjs1RrdfX",
        "colab": {
          "base_uri": "https://localhost:8080/",
          "height": 501
        },
        "outputId": "6fdab32a-7bd5-4987-df7b-a1cab571cfda"
      },
      "source": [
        "ACS = gpd.read_file(\"drive/MyDrive/IUDI Final Project/output/NTAPopulationGeo.shp\")\n",
        "ACS.head()"
      ],
      "execution_count": null,
      "outputs": [
        {
          "output_type": "execute_result",
          "data": {
            "text/html": [
              "<div>\n",
              "<style scoped>\n",
              "    .dataframe tbody tr th:only-of-type {\n",
              "        vertical-align: middle;\n",
              "    }\n",
              "\n",
              "    .dataframe tbody tr th {\n",
              "        vertical-align: top;\n",
              "    }\n",
              "\n",
              "    .dataframe thead th {\n",
              "        text-align: right;\n",
              "    }\n",
              "</style>\n",
              "<table border=\"1\" class=\"dataframe\">\n",
              "  <thead>\n",
              "    <tr style=\"text-align: right;\">\n",
              "      <th></th>\n",
              "      <th>Estimate!!</th>\n",
              "      <th>Estimate_1</th>\n",
              "      <th>Estimate_2</th>\n",
              "      <th>Estimate_3</th>\n",
              "      <th>Estimate_4</th>\n",
              "      <th>Estimate_5</th>\n",
              "      <th>Estimate_6</th>\n",
              "      <th>Estimate_7</th>\n",
              "      <th>Estimate_8</th>\n",
              "      <th>Estimate_9</th>\n",
              "      <th>Estimate10</th>\n",
              "      <th>Estimate11</th>\n",
              "      <th>Estimate12</th>\n",
              "      <th>Estimate13</th>\n",
              "      <th>Estimate14</th>\n",
              "      <th>Estimate15</th>\n",
              "      <th>Estimate16</th>\n",
              "      <th>Estimate17</th>\n",
              "      <th>Estimate18</th>\n",
              "      <th>Estimate19</th>\n",
              "      <th>Estimate20</th>\n",
              "      <th>Estimate21</th>\n",
              "      <th>Estimate22</th>\n",
              "      <th>Estimate23</th>\n",
              "      <th>Estimate24</th>\n",
              "      <th>Estimate25</th>\n",
              "      <th>Estimate26</th>\n",
              "      <th>Estimate27</th>\n",
              "      <th>2010 Censu</th>\n",
              "      <th>2010 NYC B</th>\n",
              "      <th>2010 Cen_1</th>\n",
              "      <th>PUMA</th>\n",
              "      <th>OBJECTID</th>\n",
              "      <th>BoroCode</th>\n",
              "      <th>BoroName</th>\n",
              "      <th>CountyFIPS</th>\n",
              "      <th>NTACode</th>\n",
              "      <th>NTAName</th>\n",
              "      <th>Shape__Are</th>\n",
              "      <th>Shape__Len</th>\n",
              "      <th>geometry</th>\n",
              "    </tr>\n",
              "  </thead>\n",
              "  <tbody>\n",
              "    <tr>\n",
              "      <th>0</th>\n",
              "      <td>52922</td>\n",
              "      <td>3258.786</td>\n",
              "      <td>7657.150</td>\n",
              "      <td>4906.304</td>\n",
              "      <td>17037.718</td>\n",
              "      <td>7191.019</td>\n",
              "      <td>5805.146</td>\n",
              "      <td>4314.578</td>\n",
              "      <td>2735.144</td>\n",
              "      <td>262.6</td>\n",
              "      <td>24959.899</td>\n",
              "      <td>27962.101</td>\n",
              "      <td>1.731266e+06</td>\n",
              "      <td>7621.772947</td>\n",
              "      <td>5496.189399</td>\n",
              "      <td>6710.529916</td>\n",
              "      <td>5039.484239</td>\n",
              "      <td>3098.080014</td>\n",
              "      <td>43746</td>\n",
              "      <td>8224.408</td>\n",
              "      <td>4903.912</td>\n",
              "      <td>6289.176</td>\n",
              "      <td>4932.279</td>\n",
              "      <td>3979.110</td>\n",
              "      <td>2911.683</td>\n",
              "      <td>1626.413</td>\n",
              "      <td>4809.014</td>\n",
              "      <td>192567</td>\n",
              "      <td>427.0</td>\n",
              "      <td>7.0</td>\n",
              "      <td>209700.0</td>\n",
              "      <td>26607.0</td>\n",
              "      <td>79</td>\n",
              "      <td>1</td>\n",
              "      <td>Manhattan</td>\n",
              "      <td>061</td>\n",
              "      <td>MN01</td>\n",
              "      <td>Marble Hill-Inwood</td>\n",
              "      <td>1.773272e+07</td>\n",
              "      <td>31844.333429</td>\n",
              "      <td>MULTIPOLYGON (((1005959.774 251373.191, 100593...</td>\n",
              "    </tr>\n",
              "    <tr>\n",
              "      <th>1</th>\n",
              "      <td>86117</td>\n",
              "      <td>6413.088</td>\n",
              "      <td>11833.941</td>\n",
              "      <td>8279.028</td>\n",
              "      <td>29427.145</td>\n",
              "      <td>11696.000</td>\n",
              "      <td>9328.778</td>\n",
              "      <td>5057.468</td>\n",
              "      <td>4084.180</td>\n",
              "      <td>561.8</td>\n",
              "      <td>38453.680</td>\n",
              "      <td>47663.320</td>\n",
              "      <td>2.029293e+06</td>\n",
              "      <td>9327.091542</td>\n",
              "      <td>11394.954841</td>\n",
              "      <td>11474.914199</td>\n",
              "      <td>8764.749919</td>\n",
              "      <td>6697.850967</td>\n",
              "      <td>70401</td>\n",
              "      <td>12627.303</td>\n",
              "      <td>7567.958</td>\n",
              "      <td>8363.848</td>\n",
              "      <td>5915.838</td>\n",
              "      <td>7057.522</td>\n",
              "      <td>6402.155</td>\n",
              "      <td>2012.410</td>\n",
              "      <td>9448.639</td>\n",
              "      <td>490461</td>\n",
              "      <td>976.0</td>\n",
              "      <td>16.0</td>\n",
              "      <td>362306.0</td>\n",
              "      <td>60848.0</td>\n",
              "      <td>74</td>\n",
              "      <td>1</td>\n",
              "      <td>Manhattan</td>\n",
              "      <td>061</td>\n",
              "      <td>MN03</td>\n",
              "      <td>Central Harlem North-Polo Grounds</td>\n",
              "      <td>2.540349e+07</td>\n",
              "      <td>27983.841731</td>\n",
              "      <td>POLYGON ((1002387.622 243857.529, 1002357.734 ...</td>\n",
              "    </tr>\n",
              "    <tr>\n",
              "      <th>2</th>\n",
              "      <td>52700</td>\n",
              "      <td>2692.562</td>\n",
              "      <td>6715.124</td>\n",
              "      <td>5117.492</td>\n",
              "      <td>19520.898</td>\n",
              "      <td>7696.995</td>\n",
              "      <td>5382.058</td>\n",
              "      <td>2697.475</td>\n",
              "      <td>2867.127</td>\n",
              "      <td>241.0</td>\n",
              "      <td>26863.089</td>\n",
              "      <td>25836.911</td>\n",
              "      <td>1.473620e+06</td>\n",
              "      <td>6451.328183</td>\n",
              "      <td>5316.606556</td>\n",
              "      <td>4577.948854</td>\n",
              "      <td>5516.373001</td>\n",
              "      <td>3991.146548</td>\n",
              "      <td>44895</td>\n",
              "      <td>7486.298</td>\n",
              "      <td>4275.088</td>\n",
              "      <td>7118.635</td>\n",
              "      <td>4927.450</td>\n",
              "      <td>5151.462</td>\n",
              "      <td>3656.003</td>\n",
              "      <td>1387.938</td>\n",
              "      <td>4994.420</td>\n",
              "      <td>187162</td>\n",
              "      <td>427.0</td>\n",
              "      <td>7.0</td>\n",
              "      <td>161701.0</td>\n",
              "      <td>26614.0</td>\n",
              "      <td>101</td>\n",
              "      <td>1</td>\n",
              "      <td>Manhattan</td>\n",
              "      <td>061</td>\n",
              "      <td>MN04</td>\n",
              "      <td>Hamilton Heights</td>\n",
              "      <td>1.609614e+07</td>\n",
              "      <td>17411.381931</td>\n",
              "      <td>POLYGON ((1000758.022 241844.088, 1000814.808 ...</td>\n",
              "    </tr>\n",
              "    <tr>\n",
              "      <th>3</th>\n",
              "      <td>23673</td>\n",
              "      <td>1508.398</td>\n",
              "      <td>2745.913</td>\n",
              "      <td>3054.987</td>\n",
              "      <td>8123.563</td>\n",
              "      <td>3075.819</td>\n",
              "      <td>2455.242</td>\n",
              "      <td>1434.192</td>\n",
              "      <td>1282.923</td>\n",
              "      <td>132.7</td>\n",
              "      <td>10979.421</td>\n",
              "      <td>12693.579</td>\n",
              "      <td>5.519668e+05</td>\n",
              "      <td>3134.327191</td>\n",
              "      <td>3362.322675</td>\n",
              "      <td>2604.600556</td>\n",
              "      <td>2134.125067</td>\n",
              "      <td>1464.383883</td>\n",
              "      <td>20127</td>\n",
              "      <td>4191.589</td>\n",
              "      <td>2332.480</td>\n",
              "      <td>2899.364</td>\n",
              "      <td>2210.208</td>\n",
              "      <td>1769.312</td>\n",
              "      <td>1425.839</td>\n",
              "      <td>554.994</td>\n",
              "      <td>1434.440</td>\n",
              "      <td>80189</td>\n",
              "      <td>305.0</td>\n",
              "      <td>5.0</td>\n",
              "      <td>109509.0</td>\n",
              "      <td>19010.0</td>\n",
              "      <td>143</td>\n",
              "      <td>1</td>\n",
              "      <td>Manhattan</td>\n",
              "      <td>061</td>\n",
              "      <td>MN06</td>\n",
              "      <td>Manhattanville</td>\n",
              "      <td>1.064708e+07</td>\n",
              "      <td>17040.685896</td>\n",
              "      <td>POLYGON ((999173.862 238493.121, 999084.171 23...</td>\n",
              "    </tr>\n",
              "    <tr>\n",
              "      <th>4</th>\n",
              "      <td>53094</td>\n",
              "      <td>1498.935</td>\n",
              "      <td>4361.448</td>\n",
              "      <td>13561.991</td>\n",
              "      <td>16017.062</td>\n",
              "      <td>5080.501</td>\n",
              "      <td>4759.339</td>\n",
              "      <td>4194.406</td>\n",
              "      <td>3607.134</td>\n",
              "      <td>307.2</td>\n",
              "      <td>23632.447</td>\n",
              "      <td>29461.553</td>\n",
              "      <td>1.419966e+06</td>\n",
              "      <td>2746.880703</td>\n",
              "      <td>3587.588883</td>\n",
              "      <td>3591.723849</td>\n",
              "      <td>7501.811440</td>\n",
              "      <td>12036.893845</td>\n",
              "      <td>48135</td>\n",
              "      <td>7760.386</td>\n",
              "      <td>2951.562</td>\n",
              "      <td>4365.270</td>\n",
              "      <td>3558.266</td>\n",
              "      <td>3071.511</td>\n",
              "      <td>2624.541</td>\n",
              "      <td>1203.172</td>\n",
              "      <td>9174.187</td>\n",
              "      <td>324817</td>\n",
              "      <td>610.0</td>\n",
              "      <td>10.0</td>\n",
              "      <td>202004.0</td>\n",
              "      <td>38020.0</td>\n",
              "      <td>144</td>\n",
              "      <td>1</td>\n",
              "      <td>Manhattan</td>\n",
              "      <td>061</td>\n",
              "      <td>MN09</td>\n",
              "      <td>Morningside Heights</td>\n",
              "      <td>2.015591e+07</td>\n",
              "      <td>20746.031807</td>\n",
              "      <td>POLYGON ((997508.803 234914.241, 997373.294 23...</td>\n",
              "    </tr>\n",
              "  </tbody>\n",
              "</table>\n",
              "</div>"
            ],
            "text/plain": [
              "   Estimate!!  ...                                           geometry\n",
              "0       52922  ...  MULTIPOLYGON (((1005959.774 251373.191, 100593...\n",
              "1       86117  ...  POLYGON ((1002387.622 243857.529, 1002357.734 ...\n",
              "2       52700  ...  POLYGON ((1000758.022 241844.088, 1000814.808 ...\n",
              "3       23673  ...  POLYGON ((999173.862 238493.121, 999084.171 23...\n",
              "4       53094  ...  POLYGON ((997508.803 234914.241, 997373.294 23...\n",
              "\n",
              "[5 rows x 41 columns]"
            ]
          },
          "metadata": {
            "tags": []
          },
          "execution_count": 13
        }
      ]
    },
    {
      "cell_type": "code",
      "metadata": {
        "colab": {
          "base_uri": "https://localhost:8080/",
          "height": 554
        },
        "id": "S9QQe_s2swoy",
        "outputId": "bc9b907a-5cc0-4743-f372-1c3513b19bbc"
      },
      "source": [
        "acs_trips = gpd.sjoin(ACS, trips_byzone, how = 'left')\r\n",
        "print(len(acs_trips))\r\n",
        "print(len(ACS))\r\n",
        "print(len(trips_byzone))\r\n",
        "acs_trips.head()"
      ],
      "execution_count": null,
      "outputs": [
        {
          "output_type": "stream",
          "text": [
            "198\n",
            "29\n",
            "259\n"
          ],
          "name": "stdout"
        },
        {
          "output_type": "execute_result",
          "data": {
            "text/html": [
              "<div>\n",
              "<style scoped>\n",
              "    .dataframe tbody tr th:only-of-type {\n",
              "        vertical-align: middle;\n",
              "    }\n",
              "\n",
              "    .dataframe tbody tr th {\n",
              "        vertical-align: top;\n",
              "    }\n",
              "\n",
              "    .dataframe thead th {\n",
              "        text-align: right;\n",
              "    }\n",
              "</style>\n",
              "<table border=\"1\" class=\"dataframe\">\n",
              "  <thead>\n",
              "    <tr style=\"text-align: right;\">\n",
              "      <th></th>\n",
              "      <th>Estimate!!</th>\n",
              "      <th>Estimate_1</th>\n",
              "      <th>Estimate_2</th>\n",
              "      <th>Estimate_3</th>\n",
              "      <th>Estimate_4</th>\n",
              "      <th>Estimate_5</th>\n",
              "      <th>Estimate_6</th>\n",
              "      <th>Estimate_7</th>\n",
              "      <th>Estimate_8</th>\n",
              "      <th>Estimate_9</th>\n",
              "      <th>Estimate10</th>\n",
              "      <th>Estimate11</th>\n",
              "      <th>Estimate12</th>\n",
              "      <th>Estimate13</th>\n",
              "      <th>Estimate14</th>\n",
              "      <th>Estimate15</th>\n",
              "      <th>Estimate16</th>\n",
              "      <th>Estimate17</th>\n",
              "      <th>Estimate18</th>\n",
              "      <th>Estimate19</th>\n",
              "      <th>Estimate20</th>\n",
              "      <th>Estimate21</th>\n",
              "      <th>Estimate22</th>\n",
              "      <th>Estimate23</th>\n",
              "      <th>Estimate24</th>\n",
              "      <th>Estimate25</th>\n",
              "      <th>Estimate26</th>\n",
              "      <th>Estimate27</th>\n",
              "      <th>2010 Censu</th>\n",
              "      <th>2010 NYC B</th>\n",
              "      <th>2010 Cen_1</th>\n",
              "      <th>PUMA</th>\n",
              "      <th>OBJECTID_left</th>\n",
              "      <th>BoroCode</th>\n",
              "      <th>BoroName</th>\n",
              "      <th>CountyFIPS</th>\n",
              "      <th>NTACode</th>\n",
              "      <th>NTAName</th>\n",
              "      <th>Shape__Are</th>\n",
              "      <th>Shape__Len</th>\n",
              "      <th>geometry</th>\n",
              "      <th>index_right</th>\n",
              "      <th>OBJECTID_right</th>\n",
              "      <th>Shape_Leng</th>\n",
              "      <th>Shape_Area</th>\n",
              "      <th>zone</th>\n",
              "      <th>LocationID</th>\n",
              "      <th>borough</th>\n",
              "      <th>PULocationID</th>\n",
              "      <th>n_19</th>\n",
              "      <th>n_20</th>\n",
              "      <th>change</th>\n",
              "      <th>perc_change</th>\n",
              "    </tr>\n",
              "  </thead>\n",
              "  <tbody>\n",
              "    <tr>\n",
              "      <th>0</th>\n",
              "      <td>52922</td>\n",
              "      <td>3258.786</td>\n",
              "      <td>7657.15</td>\n",
              "      <td>4906.304</td>\n",
              "      <td>17037.718</td>\n",
              "      <td>7191.019</td>\n",
              "      <td>5805.146</td>\n",
              "      <td>4314.578</td>\n",
              "      <td>2735.144</td>\n",
              "      <td>262.6</td>\n",
              "      <td>24959.899</td>\n",
              "      <td>27962.101</td>\n",
              "      <td>1.731266e+06</td>\n",
              "      <td>7621.772947</td>\n",
              "      <td>5496.189399</td>\n",
              "      <td>6710.529916</td>\n",
              "      <td>5039.484239</td>\n",
              "      <td>3098.080014</td>\n",
              "      <td>43746</td>\n",
              "      <td>8224.408</td>\n",
              "      <td>4903.912</td>\n",
              "      <td>6289.176</td>\n",
              "      <td>4932.279</td>\n",
              "      <td>3979.11</td>\n",
              "      <td>2911.683</td>\n",
              "      <td>1626.413</td>\n",
              "      <td>4809.014</td>\n",
              "      <td>192567</td>\n",
              "      <td>427.0</td>\n",
              "      <td>7.0</td>\n",
              "      <td>209700.0</td>\n",
              "      <td>26607.0</td>\n",
              "      <td>79</td>\n",
              "      <td>1</td>\n",
              "      <td>Manhattan</td>\n",
              "      <td>061</td>\n",
              "      <td>MN01</td>\n",
              "      <td>Marble Hill-Inwood</td>\n",
              "      <td>1.773272e+07</td>\n",
              "      <td>31844.333429</td>\n",
              "      <td>MULTIPOLYGON (((1005959.774 251373.191, 100593...</td>\n",
              "      <td>122</td>\n",
              "      <td>127</td>\n",
              "      <td>0.060019</td>\n",
              "      <td>0.000163</td>\n",
              "      <td>Inwood</td>\n",
              "      <td>127</td>\n",
              "      <td>Manhattan</td>\n",
              "      <td>127</td>\n",
              "      <td>4511</td>\n",
              "      <td>2204.0</td>\n",
              "      <td>-2307.0</td>\n",
              "      <td>-0.511417</td>\n",
              "    </tr>\n",
              "    <tr>\n",
              "      <th>0</th>\n",
              "      <td>52922</td>\n",
              "      <td>3258.786</td>\n",
              "      <td>7657.15</td>\n",
              "      <td>4906.304</td>\n",
              "      <td>17037.718</td>\n",
              "      <td>7191.019</td>\n",
              "      <td>5805.146</td>\n",
              "      <td>4314.578</td>\n",
              "      <td>2735.144</td>\n",
              "      <td>262.6</td>\n",
              "      <td>24959.899</td>\n",
              "      <td>27962.101</td>\n",
              "      <td>1.731266e+06</td>\n",
              "      <td>7621.772947</td>\n",
              "      <td>5496.189399</td>\n",
              "      <td>6710.529916</td>\n",
              "      <td>5039.484239</td>\n",
              "      <td>3098.080014</td>\n",
              "      <td>43746</td>\n",
              "      <td>8224.408</td>\n",
              "      <td>4903.912</td>\n",
              "      <td>6289.176</td>\n",
              "      <td>4932.279</td>\n",
              "      <td>3979.11</td>\n",
              "      <td>2911.683</td>\n",
              "      <td>1626.413</td>\n",
              "      <td>4809.014</td>\n",
              "      <td>192567</td>\n",
              "      <td>427.0</td>\n",
              "      <td>7.0</td>\n",
              "      <td>209700.0</td>\n",
              "      <td>26607.0</td>\n",
              "      <td>79</td>\n",
              "      <td>1</td>\n",
              "      <td>Manhattan</td>\n",
              "      <td>061</td>\n",
              "      <td>MN01</td>\n",
              "      <td>Marble Hill-Inwood</td>\n",
              "      <td>1.773272e+07</td>\n",
              "      <td>31844.333429</td>\n",
              "      <td>MULTIPOLYGON (((1005959.774 251373.191, 100593...</td>\n",
              "      <td>123</td>\n",
              "      <td>128</td>\n",
              "      <td>0.070209</td>\n",
              "      <td>0.000207</td>\n",
              "      <td>Inwood Hill Park</td>\n",
              "      <td>128</td>\n",
              "      <td>Manhattan</td>\n",
              "      <td>128</td>\n",
              "      <td>426</td>\n",
              "      <td>194.0</td>\n",
              "      <td>-232.0</td>\n",
              "      <td>-0.544601</td>\n",
              "    </tr>\n",
              "    <tr>\n",
              "      <th>0</th>\n",
              "      <td>52922</td>\n",
              "      <td>3258.786</td>\n",
              "      <td>7657.15</td>\n",
              "      <td>4906.304</td>\n",
              "      <td>17037.718</td>\n",
              "      <td>7191.019</td>\n",
              "      <td>5805.146</td>\n",
              "      <td>4314.578</td>\n",
              "      <td>2735.144</td>\n",
              "      <td>262.6</td>\n",
              "      <td>24959.899</td>\n",
              "      <td>27962.101</td>\n",
              "      <td>1.731266e+06</td>\n",
              "      <td>7621.772947</td>\n",
              "      <td>5496.189399</td>\n",
              "      <td>6710.529916</td>\n",
              "      <td>5039.484239</td>\n",
              "      <td>3098.080014</td>\n",
              "      <td>43746</td>\n",
              "      <td>8224.408</td>\n",
              "      <td>4903.912</td>\n",
              "      <td>6289.176</td>\n",
              "      <td>4932.279</td>\n",
              "      <td>3979.11</td>\n",
              "      <td>2911.683</td>\n",
              "      <td>1626.413</td>\n",
              "      <td>4809.014</td>\n",
              "      <td>192567</td>\n",
              "      <td>427.0</td>\n",
              "      <td>7.0</td>\n",
              "      <td>209700.0</td>\n",
              "      <td>26607.0</td>\n",
              "      <td>79</td>\n",
              "      <td>1</td>\n",
              "      <td>Manhattan</td>\n",
              "      <td>061</td>\n",
              "      <td>MN01</td>\n",
              "      <td>Marble Hill-Inwood</td>\n",
              "      <td>1.773272e+07</td>\n",
              "      <td>31844.333429</td>\n",
              "      <td>MULTIPOLYGON (((1005959.774 251373.191, 100593...</td>\n",
              "      <td>148</td>\n",
              "      <td>153</td>\n",
              "      <td>0.024737</td>\n",
              "      <td>0.000032</td>\n",
              "      <td>Marble Hill</td>\n",
              "      <td>153</td>\n",
              "      <td>Manhattan</td>\n",
              "      <td>153</td>\n",
              "      <td>979</td>\n",
              "      <td>396.0</td>\n",
              "      <td>-583.0</td>\n",
              "      <td>-0.595506</td>\n",
              "    </tr>\n",
              "    <tr>\n",
              "      <th>0</th>\n",
              "      <td>52922</td>\n",
              "      <td>3258.786</td>\n",
              "      <td>7657.15</td>\n",
              "      <td>4906.304</td>\n",
              "      <td>17037.718</td>\n",
              "      <td>7191.019</td>\n",
              "      <td>5805.146</td>\n",
              "      <td>4314.578</td>\n",
              "      <td>2735.144</td>\n",
              "      <td>262.6</td>\n",
              "      <td>24959.899</td>\n",
              "      <td>27962.101</td>\n",
              "      <td>1.731266e+06</td>\n",
              "      <td>7621.772947</td>\n",
              "      <td>5496.189399</td>\n",
              "      <td>6710.529916</td>\n",
              "      <td>5039.484239</td>\n",
              "      <td>3098.080014</td>\n",
              "      <td>43746</td>\n",
              "      <td>8224.408</td>\n",
              "      <td>4903.912</td>\n",
              "      <td>6289.176</td>\n",
              "      <td>4932.279</td>\n",
              "      <td>3979.11</td>\n",
              "      <td>2911.683</td>\n",
              "      <td>1626.413</td>\n",
              "      <td>4809.014</td>\n",
              "      <td>192567</td>\n",
              "      <td>427.0</td>\n",
              "      <td>7.0</td>\n",
              "      <td>209700.0</td>\n",
              "      <td>26607.0</td>\n",
              "      <td>79</td>\n",
              "      <td>1</td>\n",
              "      <td>Manhattan</td>\n",
              "      <td>061</td>\n",
              "      <td>MN01</td>\n",
              "      <td>Marble Hill-Inwood</td>\n",
              "      <td>1.773272e+07</td>\n",
              "      <td>31844.333429</td>\n",
              "      <td>MULTIPOLYGON (((1005959.774 251373.191, 100593...</td>\n",
              "      <td>215</td>\n",
              "      <td>220</td>\n",
              "      <td>0.106016</td>\n",
              "      <td>0.000313</td>\n",
              "      <td>Spuyten Duyvil/Kingsbridge</td>\n",
              "      <td>220</td>\n",
              "      <td>Bronx</td>\n",
              "      <td>220</td>\n",
              "      <td>2222</td>\n",
              "      <td>1323.0</td>\n",
              "      <td>-899.0</td>\n",
              "      <td>-0.404590</td>\n",
              "    </tr>\n",
              "    <tr>\n",
              "      <th>0</th>\n",
              "      <td>52922</td>\n",
              "      <td>3258.786</td>\n",
              "      <td>7657.15</td>\n",
              "      <td>4906.304</td>\n",
              "      <td>17037.718</td>\n",
              "      <td>7191.019</td>\n",
              "      <td>5805.146</td>\n",
              "      <td>4314.578</td>\n",
              "      <td>2735.144</td>\n",
              "      <td>262.6</td>\n",
              "      <td>24959.899</td>\n",
              "      <td>27962.101</td>\n",
              "      <td>1.731266e+06</td>\n",
              "      <td>7621.772947</td>\n",
              "      <td>5496.189399</td>\n",
              "      <td>6710.529916</td>\n",
              "      <td>5039.484239</td>\n",
              "      <td>3098.080014</td>\n",
              "      <td>43746</td>\n",
              "      <td>8224.408</td>\n",
              "      <td>4903.912</td>\n",
              "      <td>6289.176</td>\n",
              "      <td>4932.279</td>\n",
              "      <td>3979.11</td>\n",
              "      <td>2911.683</td>\n",
              "      <td>1626.413</td>\n",
              "      <td>4809.014</td>\n",
              "      <td>192567</td>\n",
              "      <td>427.0</td>\n",
              "      <td>7.0</td>\n",
              "      <td>209700.0</td>\n",
              "      <td>26607.0</td>\n",
              "      <td>79</td>\n",
              "      <td>1</td>\n",
              "      <td>Manhattan</td>\n",
              "      <td>061</td>\n",
              "      <td>MN01</td>\n",
              "      <td>Marble Hill-Inwood</td>\n",
              "      <td>1.773272e+07</td>\n",
              "      <td>31844.333429</td>\n",
              "      <td>MULTIPOLYGON (((1005959.774 251373.191, 100593...</td>\n",
              "      <td>115</td>\n",
              "      <td>120</td>\n",
              "      <td>0.083261</td>\n",
              "      <td>0.000093</td>\n",
              "      <td>Highbridge Park</td>\n",
              "      <td>120</td>\n",
              "      <td>Manhattan</td>\n",
              "      <td>120</td>\n",
              "      <td>274</td>\n",
              "      <td>125.0</td>\n",
              "      <td>-149.0</td>\n",
              "      <td>-0.543796</td>\n",
              "    </tr>\n",
              "  </tbody>\n",
              "</table>\n",
              "</div>"
            ],
            "text/plain": [
              "   Estimate!!  Estimate_1  Estimate_2  ...    n_20  change  perc_change\n",
              "0       52922    3258.786     7657.15  ...  2204.0 -2307.0    -0.511417\n",
              "0       52922    3258.786     7657.15  ...   194.0  -232.0    -0.544601\n",
              "0       52922    3258.786     7657.15  ...   396.0  -583.0    -0.595506\n",
              "0       52922    3258.786     7657.15  ...  1323.0  -899.0    -0.404590\n",
              "0       52922    3258.786     7657.15  ...   125.0  -149.0    -0.543796\n",
              "\n",
              "[5 rows x 53 columns]"
            ]
          },
          "metadata": {
            "tags": []
          },
          "execution_count": 14
        }
      ]
    },
    {
      "cell_type": "code",
      "metadata": {
        "colab": {
          "base_uri": "https://localhost:8080/",
          "height": 501
        },
        "id": "vBOMLBhAs7qC",
        "outputId": "03d8daa7-e35f-42bf-9386-761dfc289edd"
      },
      "source": [
        "acs_trips = acs_trips.groupby(['NTACode'])[['n_19','change']].sum()\r\n",
        "acs_trips = ACS.merge(acs_trips, on = 'NTACode')\r\n",
        "acs_trips['perc_change'] = acs_trips['change'] / acs_trips['n_19']\r\n",
        "acs_trips['Estimate__'] = acs_trips['Estimate!!']\r\n",
        "\r\n",
        "\r\n",
        "acs_trips.head()"
      ],
      "execution_count": null,
      "outputs": [
        {
          "output_type": "execute_result",
          "data": {
            "text/html": [
              "<div>\n",
              "<style scoped>\n",
              "    .dataframe tbody tr th:only-of-type {\n",
              "        vertical-align: middle;\n",
              "    }\n",
              "\n",
              "    .dataframe tbody tr th {\n",
              "        vertical-align: top;\n",
              "    }\n",
              "\n",
              "    .dataframe thead th {\n",
              "        text-align: right;\n",
              "    }\n",
              "</style>\n",
              "<table border=\"1\" class=\"dataframe\">\n",
              "  <thead>\n",
              "    <tr style=\"text-align: right;\">\n",
              "      <th></th>\n",
              "      <th>Estimate!!</th>\n",
              "      <th>Estimate_1</th>\n",
              "      <th>Estimate_2</th>\n",
              "      <th>Estimate_3</th>\n",
              "      <th>Estimate_4</th>\n",
              "      <th>Estimate_5</th>\n",
              "      <th>Estimate_6</th>\n",
              "      <th>Estimate_7</th>\n",
              "      <th>Estimate_8</th>\n",
              "      <th>Estimate_9</th>\n",
              "      <th>Estimate10</th>\n",
              "      <th>Estimate11</th>\n",
              "      <th>Estimate12</th>\n",
              "      <th>Estimate13</th>\n",
              "      <th>Estimate14</th>\n",
              "      <th>Estimate15</th>\n",
              "      <th>Estimate16</th>\n",
              "      <th>Estimate17</th>\n",
              "      <th>Estimate18</th>\n",
              "      <th>Estimate19</th>\n",
              "      <th>Estimate20</th>\n",
              "      <th>Estimate21</th>\n",
              "      <th>Estimate22</th>\n",
              "      <th>Estimate23</th>\n",
              "      <th>Estimate24</th>\n",
              "      <th>Estimate25</th>\n",
              "      <th>Estimate26</th>\n",
              "      <th>Estimate27</th>\n",
              "      <th>2010 Censu</th>\n",
              "      <th>2010 NYC B</th>\n",
              "      <th>2010 Cen_1</th>\n",
              "      <th>PUMA</th>\n",
              "      <th>OBJECTID</th>\n",
              "      <th>BoroCode</th>\n",
              "      <th>BoroName</th>\n",
              "      <th>CountyFIPS</th>\n",
              "      <th>NTACode</th>\n",
              "      <th>NTAName</th>\n",
              "      <th>Shape__Are</th>\n",
              "      <th>Shape__Len</th>\n",
              "      <th>geometry</th>\n",
              "      <th>n_19</th>\n",
              "      <th>change</th>\n",
              "      <th>perc_change</th>\n",
              "      <th>Estimate__</th>\n",
              "    </tr>\n",
              "  </thead>\n",
              "  <tbody>\n",
              "    <tr>\n",
              "      <th>0</th>\n",
              "      <td>52922</td>\n",
              "      <td>3258.786</td>\n",
              "      <td>7657.150</td>\n",
              "      <td>4906.304</td>\n",
              "      <td>17037.718</td>\n",
              "      <td>7191.019</td>\n",
              "      <td>5805.146</td>\n",
              "      <td>4314.578</td>\n",
              "      <td>2735.144</td>\n",
              "      <td>262.6</td>\n",
              "      <td>24959.899</td>\n",
              "      <td>27962.101</td>\n",
              "      <td>1.731266e+06</td>\n",
              "      <td>7621.772947</td>\n",
              "      <td>5496.189399</td>\n",
              "      <td>6710.529916</td>\n",
              "      <td>5039.484239</td>\n",
              "      <td>3098.080014</td>\n",
              "      <td>43746</td>\n",
              "      <td>8224.408</td>\n",
              "      <td>4903.912</td>\n",
              "      <td>6289.176</td>\n",
              "      <td>4932.279</td>\n",
              "      <td>3979.110</td>\n",
              "      <td>2911.683</td>\n",
              "      <td>1626.413</td>\n",
              "      <td>4809.014</td>\n",
              "      <td>192567</td>\n",
              "      <td>427.0</td>\n",
              "      <td>7.0</td>\n",
              "      <td>209700.0</td>\n",
              "      <td>26607.0</td>\n",
              "      <td>79</td>\n",
              "      <td>1</td>\n",
              "      <td>Manhattan</td>\n",
              "      <td>061</td>\n",
              "      <td>MN01</td>\n",
              "      <td>Marble Hill-Inwood</td>\n",
              "      <td>1.773272e+07</td>\n",
              "      <td>31844.333429</td>\n",
              "      <td>MULTIPOLYGON (((1005959.774 251373.191, 100593...</td>\n",
              "      <td>8412</td>\n",
              "      <td>-4170.0</td>\n",
              "      <td>-0.495720</td>\n",
              "      <td>52922</td>\n",
              "    </tr>\n",
              "    <tr>\n",
              "      <th>1</th>\n",
              "      <td>86117</td>\n",
              "      <td>6413.088</td>\n",
              "      <td>11833.941</td>\n",
              "      <td>8279.028</td>\n",
              "      <td>29427.145</td>\n",
              "      <td>11696.000</td>\n",
              "      <td>9328.778</td>\n",
              "      <td>5057.468</td>\n",
              "      <td>4084.180</td>\n",
              "      <td>561.8</td>\n",
              "      <td>38453.680</td>\n",
              "      <td>47663.320</td>\n",
              "      <td>2.029293e+06</td>\n",
              "      <td>9327.091542</td>\n",
              "      <td>11394.954841</td>\n",
              "      <td>11474.914199</td>\n",
              "      <td>8764.749919</td>\n",
              "      <td>6697.850967</td>\n",
              "      <td>70401</td>\n",
              "      <td>12627.303</td>\n",
              "      <td>7567.958</td>\n",
              "      <td>8363.848</td>\n",
              "      <td>5915.838</td>\n",
              "      <td>7057.522</td>\n",
              "      <td>6402.155</td>\n",
              "      <td>2012.410</td>\n",
              "      <td>9448.639</td>\n",
              "      <td>490461</td>\n",
              "      <td>976.0</td>\n",
              "      <td>16.0</td>\n",
              "      <td>362306.0</td>\n",
              "      <td>60848.0</td>\n",
              "      <td>74</td>\n",
              "      <td>1</td>\n",
              "      <td>Manhattan</td>\n",
              "      <td>061</td>\n",
              "      <td>MN03</td>\n",
              "      <td>Central Harlem North-Polo Grounds</td>\n",
              "      <td>2.540349e+07</td>\n",
              "      <td>27983.841731</td>\n",
              "      <td>POLYGON ((1002387.622 243857.529, 1002357.734 ...</td>\n",
              "      <td>351064</td>\n",
              "      <td>-182547.0</td>\n",
              "      <td>-0.519982</td>\n",
              "      <td>86117</td>\n",
              "    </tr>\n",
              "    <tr>\n",
              "      <th>2</th>\n",
              "      <td>52700</td>\n",
              "      <td>2692.562</td>\n",
              "      <td>6715.124</td>\n",
              "      <td>5117.492</td>\n",
              "      <td>19520.898</td>\n",
              "      <td>7696.995</td>\n",
              "      <td>5382.058</td>\n",
              "      <td>2697.475</td>\n",
              "      <td>2867.127</td>\n",
              "      <td>241.0</td>\n",
              "      <td>26863.089</td>\n",
              "      <td>25836.911</td>\n",
              "      <td>1.473620e+06</td>\n",
              "      <td>6451.328183</td>\n",
              "      <td>5316.606556</td>\n",
              "      <td>4577.948854</td>\n",
              "      <td>5516.373001</td>\n",
              "      <td>3991.146548</td>\n",
              "      <td>44895</td>\n",
              "      <td>7486.298</td>\n",
              "      <td>4275.088</td>\n",
              "      <td>7118.635</td>\n",
              "      <td>4927.450</td>\n",
              "      <td>5151.462</td>\n",
              "      <td>3656.003</td>\n",
              "      <td>1387.938</td>\n",
              "      <td>4994.420</td>\n",
              "      <td>187162</td>\n",
              "      <td>427.0</td>\n",
              "      <td>7.0</td>\n",
              "      <td>161701.0</td>\n",
              "      <td>26614.0</td>\n",
              "      <td>101</td>\n",
              "      <td>1</td>\n",
              "      <td>Manhattan</td>\n",
              "      <td>061</td>\n",
              "      <td>MN04</td>\n",
              "      <td>Hamilton Heights</td>\n",
              "      <td>1.609614e+07</td>\n",
              "      <td>17411.381931</td>\n",
              "      <td>POLYGON ((1000758.022 241844.088, 1000814.808 ...</td>\n",
              "      <td>180890</td>\n",
              "      <td>-93134.0</td>\n",
              "      <td>-0.514865</td>\n",
              "      <td>52700</td>\n",
              "    </tr>\n",
              "    <tr>\n",
              "      <th>3</th>\n",
              "      <td>23673</td>\n",
              "      <td>1508.398</td>\n",
              "      <td>2745.913</td>\n",
              "      <td>3054.987</td>\n",
              "      <td>8123.563</td>\n",
              "      <td>3075.819</td>\n",
              "      <td>2455.242</td>\n",
              "      <td>1434.192</td>\n",
              "      <td>1282.923</td>\n",
              "      <td>132.7</td>\n",
              "      <td>10979.421</td>\n",
              "      <td>12693.579</td>\n",
              "      <td>5.519668e+05</td>\n",
              "      <td>3134.327191</td>\n",
              "      <td>3362.322675</td>\n",
              "      <td>2604.600556</td>\n",
              "      <td>2134.125067</td>\n",
              "      <td>1464.383883</td>\n",
              "      <td>20127</td>\n",
              "      <td>4191.589</td>\n",
              "      <td>2332.480</td>\n",
              "      <td>2899.364</td>\n",
              "      <td>2210.208</td>\n",
              "      <td>1769.312</td>\n",
              "      <td>1425.839</td>\n",
              "      <td>554.994</td>\n",
              "      <td>1434.440</td>\n",
              "      <td>80189</td>\n",
              "      <td>305.0</td>\n",
              "      <td>5.0</td>\n",
              "      <td>109509.0</td>\n",
              "      <td>19010.0</td>\n",
              "      <td>143</td>\n",
              "      <td>1</td>\n",
              "      <td>Manhattan</td>\n",
              "      <td>061</td>\n",
              "      <td>MN06</td>\n",
              "      <td>Manhattanville</td>\n",
              "      <td>1.064708e+07</td>\n",
              "      <td>17040.685896</td>\n",
              "      <td>POLYGON ((999173.862 238493.121, 999084.171 23...</td>\n",
              "      <td>98156</td>\n",
              "      <td>-54242.0</td>\n",
              "      <td>-0.552610</td>\n",
              "      <td>23673</td>\n",
              "    </tr>\n",
              "    <tr>\n",
              "      <th>4</th>\n",
              "      <td>53094</td>\n",
              "      <td>1498.935</td>\n",
              "      <td>4361.448</td>\n",
              "      <td>13561.991</td>\n",
              "      <td>16017.062</td>\n",
              "      <td>5080.501</td>\n",
              "      <td>4759.339</td>\n",
              "      <td>4194.406</td>\n",
              "      <td>3607.134</td>\n",
              "      <td>307.2</td>\n",
              "      <td>23632.447</td>\n",
              "      <td>29461.553</td>\n",
              "      <td>1.419966e+06</td>\n",
              "      <td>2746.880703</td>\n",
              "      <td>3587.588883</td>\n",
              "      <td>3591.723849</td>\n",
              "      <td>7501.811440</td>\n",
              "      <td>12036.893845</td>\n",
              "      <td>48135</td>\n",
              "      <td>7760.386</td>\n",
              "      <td>2951.562</td>\n",
              "      <td>4365.270</td>\n",
              "      <td>3558.266</td>\n",
              "      <td>3071.511</td>\n",
              "      <td>2624.541</td>\n",
              "      <td>1203.172</td>\n",
              "      <td>9174.187</td>\n",
              "      <td>324817</td>\n",
              "      <td>610.0</td>\n",
              "      <td>10.0</td>\n",
              "      <td>202004.0</td>\n",
              "      <td>38020.0</td>\n",
              "      <td>144</td>\n",
              "      <td>1</td>\n",
              "      <td>Manhattan</td>\n",
              "      <td>061</td>\n",
              "      <td>MN09</td>\n",
              "      <td>Morningside Heights</td>\n",
              "      <td>2.015591e+07</td>\n",
              "      <td>20746.031807</td>\n",
              "      <td>POLYGON ((997508.803 234914.241, 997373.294 23...</td>\n",
              "      <td>1274780</td>\n",
              "      <td>-778786.0</td>\n",
              "      <td>-0.610918</td>\n",
              "      <td>53094</td>\n",
              "    </tr>\n",
              "  </tbody>\n",
              "</table>\n",
              "</div>"
            ],
            "text/plain": [
              "   Estimate!!  Estimate_1  Estimate_2  ...    change  perc_change  Estimate__\n",
              "0       52922    3258.786    7657.150  ...   -4170.0    -0.495720       52922\n",
              "1       86117    6413.088   11833.941  ... -182547.0    -0.519982       86117\n",
              "2       52700    2692.562    6715.124  ...  -93134.0    -0.514865       52700\n",
              "3       23673    1508.398    2745.913  ...  -54242.0    -0.552610       23673\n",
              "4       53094    1498.935    4361.448  ... -778786.0    -0.610918       53094\n",
              "\n",
              "[5 rows x 45 columns]"
            ]
          },
          "metadata": {
            "tags": []
          },
          "execution_count": 15
        }
      ]
    },
    {
      "cell_type": "code",
      "metadata": {
        "colab": {
          "base_uri": "https://localhost:8080/",
          "height": 107
        },
        "id": "EHj0ssJzs7vH",
        "outputId": "83cc91fc-7fdf-463f-d82b-b49c278e394e"
      },
      "source": [
        "acs_trips[['Estimate__', 'perc_change']].corr()"
      ],
      "execution_count": null,
      "outputs": [
        {
          "output_type": "execute_result",
          "data": {
            "text/html": [
              "<div>\n",
              "<style scoped>\n",
              "    .dataframe tbody tr th:only-of-type {\n",
              "        vertical-align: middle;\n",
              "    }\n",
              "\n",
              "    .dataframe tbody tr th {\n",
              "        vertical-align: top;\n",
              "    }\n",
              "\n",
              "    .dataframe thead th {\n",
              "        text-align: right;\n",
              "    }\n",
              "</style>\n",
              "<table border=\"1\" class=\"dataframe\">\n",
              "  <thead>\n",
              "    <tr style=\"text-align: right;\">\n",
              "      <th></th>\n",
              "      <th>Estimate__</th>\n",
              "      <th>perc_change</th>\n",
              "    </tr>\n",
              "  </thead>\n",
              "  <tbody>\n",
              "    <tr>\n",
              "      <th>Estimate__</th>\n",
              "      <td>1.000000</td>\n",
              "      <td>0.213206</td>\n",
              "    </tr>\n",
              "    <tr>\n",
              "      <th>perc_change</th>\n",
              "      <td>0.213206</td>\n",
              "      <td>1.000000</td>\n",
              "    </tr>\n",
              "  </tbody>\n",
              "</table>\n",
              "</div>"
            ],
            "text/plain": [
              "             Estimate__  perc_change\n",
              "Estimate__     1.000000     0.213206\n",
              "perc_change    0.213206     1.000000"
            ]
          },
          "metadata": {
            "tags": []
          },
          "execution_count": 16
        }
      ]
    },
    {
      "cell_type": "code",
      "metadata": {
        "colab": {
          "base_uri": "https://localhost:8080/",
          "height": 421
        },
        "id": "0Cuk6DgkuxAg",
        "outputId": "051cc967-4fe4-4ca1-a586-d4cb3c63fd09"
      },
      "source": [
        "ols = sm.ols(formula = \"perc_change ~ Estimate__\", data = acs_trips).fit()\r\n",
        "ols.summary()"
      ],
      "execution_count": null,
      "outputs": [
        {
          "output_type": "execute_result",
          "data": {
            "text/html": [
              "<table class=\"simpletable\">\n",
              "<caption>OLS Regression Results</caption>\n",
              "<tr>\n",
              "  <th>Dep. Variable:</th>       <td>perc_change</td>   <th>  R-squared:         </th> <td>   0.045</td>\n",
              "</tr>\n",
              "<tr>\n",
              "  <th>Model:</th>                   <td>OLS</td>       <th>  Adj. R-squared:    </th> <td>   0.010</td>\n",
              "</tr>\n",
              "<tr>\n",
              "  <th>Method:</th>             <td>Least Squares</td>  <th>  F-statistic:       </th> <td>   1.286</td>\n",
              "</tr>\n",
              "<tr>\n",
              "  <th>Date:</th>             <td>Thu, 17 Dec 2020</td> <th>  Prob (F-statistic):</th>  <td> 0.267</td> \n",
              "</tr>\n",
              "<tr>\n",
              "  <th>Time:</th>                 <td>22:01:42</td>     <th>  Log-Likelihood:    </th> <td>  50.686</td>\n",
              "</tr>\n",
              "<tr>\n",
              "  <th>No. Observations:</th>      <td>    29</td>      <th>  AIC:               </th> <td>  -97.37</td>\n",
              "</tr>\n",
              "<tr>\n",
              "  <th>Df Residuals:</th>          <td>    27</td>      <th>  BIC:               </th> <td>  -94.64</td>\n",
              "</tr>\n",
              "<tr>\n",
              "  <th>Df Model:</th>              <td>     1</td>      <th>                     </th>     <td> </td>   \n",
              "</tr>\n",
              "<tr>\n",
              "  <th>Covariance Type:</th>      <td>nonrobust</td>    <th>                     </th>     <td> </td>   \n",
              "</tr>\n",
              "</table>\n",
              "<table class=\"simpletable\">\n",
              "<tr>\n",
              "       <td></td>         <th>coef</th>     <th>std err</th>      <th>t</th>      <th>P>|t|</th>  <th>[0.025</th>    <th>0.975]</th>  \n",
              "</tr>\n",
              "<tr>\n",
              "  <th>Intercept</th>  <td>   -0.6167</td> <td>    0.020</td> <td>  -30.757</td> <td> 0.000</td> <td>   -0.658</td> <td>   -0.576</td>\n",
              "</tr>\n",
              "<tr>\n",
              "  <th>Estimate__</th> <td> 3.694e-07</td> <td> 3.26e-07</td> <td>    1.134</td> <td> 0.267</td> <td>-2.99e-07</td> <td> 1.04e-06</td>\n",
              "</tr>\n",
              "</table>\n",
              "<table class=\"simpletable\">\n",
              "<tr>\n",
              "  <th>Omnibus:</th>       <td> 4.412</td> <th>  Durbin-Watson:     </th> <td>   0.431</td>\n",
              "</tr>\n",
              "<tr>\n",
              "  <th>Prob(Omnibus):</th> <td> 0.110</td> <th>  Jarque-Bera (JB):  </th> <td>   3.770</td>\n",
              "</tr>\n",
              "<tr>\n",
              "  <th>Skew:</th>          <td> 0.878</td> <th>  Prob(JB):          </th> <td>   0.152</td>\n",
              "</tr>\n",
              "<tr>\n",
              "  <th>Kurtosis:</th>      <td> 2.806</td> <th>  Cond. No.          </th> <td>1.52e+05</td>\n",
              "</tr>\n",
              "</table><br/><br/>Warnings:<br/>[1] Standard Errors assume that the covariance matrix of the errors is correctly specified.<br/>[2] The condition number is large, 1.52e+05. This might indicate that there are<br/>strong multicollinearity or other numerical problems."
            ],
            "text/plain": [
              "<class 'statsmodels.iolib.summary.Summary'>\n",
              "\"\"\"\n",
              "                            OLS Regression Results                            \n",
              "==============================================================================\n",
              "Dep. Variable:            perc_change   R-squared:                       0.045\n",
              "Model:                            OLS   Adj. R-squared:                  0.010\n",
              "Method:                 Least Squares   F-statistic:                     1.286\n",
              "Date:                Thu, 17 Dec 2020   Prob (F-statistic):              0.267\n",
              "Time:                        22:01:42   Log-Likelihood:                 50.686\n",
              "No. Observations:                  29   AIC:                            -97.37\n",
              "Df Residuals:                      27   BIC:                            -94.64\n",
              "Df Model:                           1                                         \n",
              "Covariance Type:            nonrobust                                         \n",
              "==============================================================================\n",
              "                 coef    std err          t      P>|t|      [0.025      0.975]\n",
              "------------------------------------------------------------------------------\n",
              "Intercept     -0.6167      0.020    -30.757      0.000      -0.658      -0.576\n",
              "Estimate__  3.694e-07   3.26e-07      1.134      0.267   -2.99e-07    1.04e-06\n",
              "==============================================================================\n",
              "Omnibus:                        4.412   Durbin-Watson:                   0.431\n",
              "Prob(Omnibus):                  0.110   Jarque-Bera (JB):                3.770\n",
              "Skew:                           0.878   Prob(JB):                        0.152\n",
              "Kurtosis:                       2.806   Cond. No.                     1.52e+05\n",
              "==============================================================================\n",
              "\n",
              "Warnings:\n",
              "[1] Standard Errors assume that the covariance matrix of the errors is correctly specified.\n",
              "[2] The condition number is large, 1.52e+05. This might indicate that there are\n",
              "strong multicollinearity or other numerical problems.\n",
              "\"\"\""
            ]
          },
          "metadata": {
            "tags": []
          },
          "execution_count": 17
        }
      ]
    },
    {
      "cell_type": "code",
      "metadata": {
        "colab": {
          "base_uri": "https://localhost:8080/",
          "height": 367
        },
        "id": "HWzbPi9jvsjh",
        "outputId": "8ffda020-a947-4b1f-eb76-1b3d6b49668b"
      },
      "source": [
        "plt.figure(figsize = (5,5))\r\n",
        "plt.scatter(acs_trips['Estimate__'], acs_trips['perc_change'], color='white', edgecolor='k')\r\n",
        "plt.xlabel(\"Total Population per NTA\")\r\n",
        "plt.ylabel(\"Percent change in taxi rides, 2019-2020\")\r\n",
        "plt.title(\"Median Age and Taxi Usage in Manhattan\")\r\n",
        "\r\n",
        "x1 = acs_trips['Estimate__'].min()\r\n",
        "x2 = acs_trips['Estimate__'].max()\r\n",
        "y1 = ols.params[0] + (ols.params[1] * x1)\r\n",
        "y2 = ols.params[0] + (ols.params[1] * x2)\r\n",
        "\r\n",
        "plt.gca().set_yticklabels(['{:.0f}%'.format(x*100) for x in plt.gca().get_yticks()]) \r\n",
        "plt.plot([x1, x2], [y1, y2], linestyle = '--', color = 'blue')"
      ],
      "execution_count": null,
      "outputs": [
        {
          "output_type": "execute_result",
          "data": {
            "text/plain": [
              "[<matplotlib.lines.Line2D at 0x7f04e186eb38>]"
            ]
          },
          "metadata": {
            "tags": []
          },
          "execution_count": 18
        },
        {
          "output_type": "display_data",
          "data": {
            "image/png": "[encoded data removed]",
            "text/plain": [
              "<Figure size 360x360 with 1 Axes>"
            ]
          },
          "metadata": {
            "tags": [],
            "needs_background": "light"
          }
        }
      ]
    },
    {
      "cell_type": "code",
      "metadata": {
        "colab": {
          "base_uri": "https://localhost:8080/",
          "height": 107
        },
        "id": "KowZcPbytoJ_",
        "outputId": "080d10e6-4154-4d1e-a25c-249a4293794e"
      },
      "source": [
        "acs_trips[['Estimate_9', 'perc_change']].corr()"
      ],
      "execution_count": null,
      "outputs": [
        {
          "output_type": "execute_result",
          "data": {
            "text/html": [
              "<div>\n",
              "<style scoped>\n",
              "    .dataframe tbody tr th:only-of-type {\n",
              "        vertical-align: middle;\n",
              "    }\n",
              "\n",
              "    .dataframe tbody tr th {\n",
              "        vertical-align: top;\n",
              "    }\n",
              "\n",
              "    .dataframe thead th {\n",
              "        text-align: right;\n",
              "    }\n",
              "</style>\n",
              "<table border=\"1\" class=\"dataframe\">\n",
              "  <thead>\n",
              "    <tr style=\"text-align: right;\">\n",
              "      <th></th>\n",
              "      <th>Estimate_9</th>\n",
              "      <th>perc_change</th>\n",
              "    </tr>\n",
              "  </thead>\n",
              "  <tbody>\n",
              "    <tr>\n",
              "      <th>Estimate_9</th>\n",
              "      <td>1.000000</td>\n",
              "      <td>-0.070857</td>\n",
              "    </tr>\n",
              "    <tr>\n",
              "      <th>perc_change</th>\n",
              "      <td>-0.070857</td>\n",
              "      <td>1.000000</td>\n",
              "    </tr>\n",
              "  </tbody>\n",
              "</table>\n",
              "</div>"
            ],
            "text/plain": [
              "             Estimate_9  perc_change\n",
              "Estimate_9     1.000000    -0.070857\n",
              "perc_change   -0.070857     1.000000"
            ]
          },
          "metadata": {
            "tags": []
          },
          "execution_count": 19
        }
      ]
    },
    {
      "cell_type": "code",
      "metadata": {
        "colab": {
          "base_uri": "https://localhost:8080/",
          "height": 387
        },
        "id": "bveqEU1tuucr",
        "outputId": "7c479fb5-b519-4289-b830-0e77d02a1d79"
      },
      "source": [
        "ols = sm.ols(formula = \"perc_change ~ Estimate_9\", data = acs_trips).fit()\r\n",
        "ols.summary()"
      ],
      "execution_count": null,
      "outputs": [
        {
          "output_type": "execute_result",
          "data": {
            "text/html": [
              "<table class=\"simpletable\">\n",
              "<caption>OLS Regression Results</caption>\n",
              "<tr>\n",
              "  <th>Dep. Variable:</th>       <td>perc_change</td>   <th>  R-squared:         </th> <td>   0.005</td>\n",
              "</tr>\n",
              "<tr>\n",
              "  <th>Model:</th>                   <td>OLS</td>       <th>  Adj. R-squared:    </th> <td>  -0.032</td>\n",
              "</tr>\n",
              "<tr>\n",
              "  <th>Method:</th>             <td>Least Squares</td>  <th>  F-statistic:       </th> <td>  0.1362</td>\n",
              "</tr>\n",
              "<tr>\n",
              "  <th>Date:</th>             <td>Thu, 17 Dec 2020</td> <th>  Prob (F-statistic):</th>  <td> 0.715</td> \n",
              "</tr>\n",
              "<tr>\n",
              "  <th>Time:</th>                 <td>22:01:46</td>     <th>  Log-Likelihood:    </th> <td>  50.085</td>\n",
              "</tr>\n",
              "<tr>\n",
              "  <th>No. Observations:</th>      <td>    29</td>      <th>  AIC:               </th> <td>  -96.17</td>\n",
              "</tr>\n",
              "<tr>\n",
              "  <th>Df Residuals:</th>          <td>    27</td>      <th>  BIC:               </th> <td>  -93.43</td>\n",
              "</tr>\n",
              "<tr>\n",
              "  <th>Df Model:</th>              <td>     1</td>      <th>                     </th>     <td> </td>   \n",
              "</tr>\n",
              "<tr>\n",
              "  <th>Covariance Type:</th>      <td>nonrobust</td>    <th>                     </th>     <td> </td>   \n",
              "</tr>\n",
              "</table>\n",
              "<table class=\"simpletable\">\n",
              "<tr>\n",
              "       <td></td>         <th>coef</th>     <th>std err</th>      <th>t</th>      <th>P>|t|</th>  <th>[0.025</th>    <th>0.975]</th>  \n",
              "</tr>\n",
              "<tr>\n",
              "  <th>Intercept</th>  <td>   -0.5894</td> <td>    0.020</td> <td>  -29.975</td> <td> 0.000</td> <td>   -0.630</td> <td>   -0.549</td>\n",
              "</tr>\n",
              "<tr>\n",
              "  <th>Estimate_9</th> <td>-1.764e-05</td> <td> 4.78e-05</td> <td>   -0.369</td> <td> 0.715</td> <td>   -0.000</td> <td> 8.04e-05</td>\n",
              "</tr>\n",
              "</table>\n",
              "<table class=\"simpletable\">\n",
              "<tr>\n",
              "  <th>Omnibus:</th>       <td> 3.844</td> <th>  Durbin-Watson:     </th> <td>   0.349</td>\n",
              "</tr>\n",
              "<tr>\n",
              "  <th>Prob(Omnibus):</th> <td> 0.146</td> <th>  Jarque-Bera (JB):  </th> <td>   3.364</td>\n",
              "</tr>\n",
              "<tr>\n",
              "  <th>Skew:</th>          <td> 0.817</td> <th>  Prob(JB):          </th> <td>   0.186</td>\n",
              "</tr>\n",
              "<tr>\n",
              "  <th>Kurtosis:</th>      <td> 2.661</td> <th>  Cond. No.          </th> <td>    977.</td>\n",
              "</tr>\n",
              "</table><br/><br/>Warnings:<br/>[1] Standard Errors assume that the covariance matrix of the errors is correctly specified."
            ],
            "text/plain": [
              "<class 'statsmodels.iolib.summary.Summary'>\n",
              "\"\"\"\n",
              "                            OLS Regression Results                            \n",
              "==============================================================================\n",
              "Dep. Variable:            perc_change   R-squared:                       0.005\n",
              "Model:                            OLS   Adj. R-squared:                 -0.032\n",
              "Method:                 Least Squares   F-statistic:                    0.1362\n",
              "Date:                Thu, 17 Dec 2020   Prob (F-statistic):              0.715\n",
              "Time:                        22:01:46   Log-Likelihood:                 50.085\n",
              "No. Observations:                  29   AIC:                            -96.17\n",
              "Df Residuals:                      27   BIC:                            -93.43\n",
              "Df Model:                           1                                         \n",
              "Covariance Type:            nonrobust                                         \n",
              "==============================================================================\n",
              "                 coef    std err          t      P>|t|      [0.025      0.975]\n",
              "------------------------------------------------------------------------------\n",
              "Intercept     -0.5894      0.020    -29.975      0.000      -0.630      -0.549\n",
              "Estimate_9 -1.764e-05   4.78e-05     -0.369      0.715      -0.000    8.04e-05\n",
              "==============================================================================\n",
              "Omnibus:                        3.844   Durbin-Watson:                   0.349\n",
              "Prob(Omnibus):                  0.146   Jarque-Bera (JB):                3.364\n",
              "Skew:                           0.817   Prob(JB):                        0.186\n",
              "Kurtosis:                       2.661   Cond. No.                         977.\n",
              "==============================================================================\n",
              "\n",
              "Warnings:\n",
              "[1] Standard Errors assume that the covariance matrix of the errors is correctly specified.\n",
              "\"\"\""
            ]
          },
          "metadata": {
            "tags": []
          },
          "execution_count": 20
        }
      ]
    },
    {
      "cell_type": "code",
      "metadata": {
        "colab": {
          "base_uri": "https://localhost:8080/",
          "height": 367
        },
        "id": "sMHobOwUvl94",
        "outputId": "1402a1b9-63a1-4ec8-a464-767cca97d290"
      },
      "source": [
        "plt.figure(figsize = (5,5))\r\n",
        "plt.scatter(acs_trips['Estimate_9'], acs_trips['perc_change'], color='white', edgecolor='k')\r\n",
        "plt.xlabel(\"Median age (years) per NTA\")\r\n",
        "plt.ylabel(\"Percent change in taxi rides, 2019-2020\")\r\n",
        "plt.title(\"Median Age and Taxi Usage in Manhattan\")\r\n",
        "\r\n",
        "x1 = acs_trips['Estimate_9'].min()\r\n",
        "x2 = acs_trips['Estimate_9'].max()\r\n",
        "y1 = ols.params[0] + (ols.params[1] * x1)\r\n",
        "y2 = ols.params[0] + (ols.params[1] * x2)\r\n",
        "\r\n",
        "plt.gca().set_yticklabels(['{:.0f}%'.format(x*100) for x in plt.gca().get_yticks()]) \r\n",
        "plt.plot([x1, x2], [y1, y2], linestyle = '--', color = 'blue')"
      ],
      "execution_count": null,
      "outputs": [
        {
          "output_type": "execute_result",
          "data": {
            "text/plain": [
              "[<matplotlib.lines.Line2D at 0x7f04e17e36d8>]"
            ]
          },
          "metadata": {
            "tags": []
          },
          "execution_count": 21
        },
        {
          "output_type": "display_data",
          "data": {
            "image/png": "[encoded data removed]",
            "text/plain": [
              "<Figure size 360x360 with 1 Axes>"
            ]
          },
          "metadata": {
            "tags": [],
            "needs_background": "light"
          }
        }
      ]
    },
    {
      "cell_type": "code",
      "metadata": {
        "colab": {
          "base_uri": "https://localhost:8080/",
          "height": 107
        },
        "id": "WWfhV2ies7yq",
        "outputId": "1c978cb9-2870-4605-9661-03522d610045"
      },
      "source": [
        "acs_trips[['Estimate15', 'perc_change']].corr()"
      ],
      "execution_count": null,
      "outputs": [
        {
          "output_type": "execute_result",
          "data": {
            "text/html": [
              "<div>\n",
              "<style scoped>\n",
              "    .dataframe tbody tr th:only-of-type {\n",
              "        vertical-align: middle;\n",
              "    }\n",
              "\n",
              "    .dataframe tbody tr th {\n",
              "        vertical-align: top;\n",
              "    }\n",
              "\n",
              "    .dataframe thead th {\n",
              "        text-align: right;\n",
              "    }\n",
              "</style>\n",
              "<table border=\"1\" class=\"dataframe\">\n",
              "  <thead>\n",
              "    <tr style=\"text-align: right;\">\n",
              "      <th></th>\n",
              "      <th>Estimate15</th>\n",
              "      <th>perc_change</th>\n",
              "    </tr>\n",
              "  </thead>\n",
              "  <tbody>\n",
              "    <tr>\n",
              "      <th>Estimate15</th>\n",
              "      <td>1.000000</td>\n",
              "      <td>0.623711</td>\n",
              "    </tr>\n",
              "    <tr>\n",
              "      <th>perc_change</th>\n",
              "      <td>0.623711</td>\n",
              "      <td>1.000000</td>\n",
              "    </tr>\n",
              "  </tbody>\n",
              "</table>\n",
              "</div>"
            ],
            "text/plain": [
              "             Estimate15  perc_change\n",
              "Estimate15     1.000000     0.623711\n",
              "perc_change    0.623711     1.000000"
            ]
          },
          "metadata": {
            "tags": []
          },
          "execution_count": 24
        }
      ]
    },
    {
      "cell_type": "code",
      "metadata": {
        "colab": {
          "base_uri": "https://localhost:8080/",
          "height": 421
        },
        "id": "EIW6hqiNusvg",
        "outputId": "e0668282-0c08-4637-8438-35d069892303"
      },
      "source": [
        "ols = sm.ols(formula = \"perc_change ~ Estimate15\", data = acs_trips).fit()\r\n",
        "ols.summary()"
      ],
      "execution_count": null,
      "outputs": [
        {
          "output_type": "execute_result",
          "data": {
            "text/html": [
              "<table class=\"simpletable\">\n",
              "<caption>OLS Regression Results</caption>\n",
              "<tr>\n",
              "  <th>Dep. Variable:</th>       <td>perc_change</td>   <th>  R-squared:         </th> <td>   0.389</td>\n",
              "</tr>\n",
              "<tr>\n",
              "  <th>Model:</th>                   <td>OLS</td>       <th>  Adj. R-squared:    </th> <td>   0.366</td>\n",
              "</tr>\n",
              "<tr>\n",
              "  <th>Method:</th>             <td>Least Squares</td>  <th>  F-statistic:       </th> <td>   17.19</td>\n",
              "</tr>\n",
              "<tr>\n",
              "  <th>Date:</th>             <td>Thu, 17 Dec 2020</td> <th>  Prob (F-statistic):</th> <td>0.000300</td>\n",
              "</tr>\n",
              "<tr>\n",
              "  <th>Time:</th>                 <td>22:05:43</td>     <th>  Log-Likelihood:    </th> <td>  57.156</td>\n",
              "</tr>\n",
              "<tr>\n",
              "  <th>No. Observations:</th>      <td>    29</td>      <th>  AIC:               </th> <td>  -110.3</td>\n",
              "</tr>\n",
              "<tr>\n",
              "  <th>Df Residuals:</th>          <td>    27</td>      <th>  BIC:               </th> <td>  -107.6</td>\n",
              "</tr>\n",
              "<tr>\n",
              "  <th>Df Model:</th>              <td>     1</td>      <th>                     </th>     <td> </td>   \n",
              "</tr>\n",
              "<tr>\n",
              "  <th>Covariance Type:</th>      <td>nonrobust</td>    <th>                     </th>     <td> </td>   \n",
              "</tr>\n",
              "</table>\n",
              "<table class=\"simpletable\">\n",
              "<tr>\n",
              "       <td></td>         <th>coef</th>     <th>std err</th>      <th>t</th>      <th>P>|t|</th>  <th>[0.025</th>    <th>0.975]</th>  \n",
              "</tr>\n",
              "<tr>\n",
              "  <th>Intercept</th>  <td>   -0.6388</td> <td>    0.012</td> <td>  -52.307</td> <td> 0.000</td> <td>   -0.664</td> <td>   -0.614</td>\n",
              "</tr>\n",
              "<tr>\n",
              "  <th>Estimate15</th> <td> 1.029e-05</td> <td> 2.48e-06</td> <td>    4.146</td> <td> 0.000</td> <td>  5.2e-06</td> <td> 1.54e-05</td>\n",
              "</tr>\n",
              "</table>\n",
              "<table class=\"simpletable\">\n",
              "<tr>\n",
              "  <th>Omnibus:</th>       <td> 3.971</td> <th>  Durbin-Watson:     </th> <td>   1.105</td>\n",
              "</tr>\n",
              "<tr>\n",
              "  <th>Prob(Omnibus):</th> <td> 0.137</td> <th>  Jarque-Bera (JB):  </th> <td>   2.955</td>\n",
              "</tr>\n",
              "<tr>\n",
              "  <th>Skew:</th>          <td> 0.780</td> <th>  Prob(JB):          </th> <td>   0.228</td>\n",
              "</tr>\n",
              "<tr>\n",
              "  <th>Kurtosis:</th>      <td> 3.100</td> <th>  Cond. No.          </th> <td>9.26e+03</td>\n",
              "</tr>\n",
              "</table><br/><br/>Warnings:<br/>[1] Standard Errors assume that the covariance matrix of the errors is correctly specified.<br/>[2] The condition number is large, 9.26e+03. This might indicate that there are<br/>strong multicollinearity or other numerical problems."
            ],
            "text/plain": [
              "<class 'statsmodels.iolib.summary.Summary'>\n",
              "\"\"\"\n",
              "                            OLS Regression Results                            \n",
              "==============================================================================\n",
              "Dep. Variable:            perc_change   R-squared:                       0.389\n",
              "Model:                            OLS   Adj. R-squared:                  0.366\n",
              "Method:                 Least Squares   F-statistic:                     17.19\n",
              "Date:                Thu, 17 Dec 2020   Prob (F-statistic):           0.000300\n",
              "Time:                        22:05:43   Log-Likelihood:                 57.156\n",
              "No. Observations:                  29   AIC:                            -110.3\n",
              "Df Residuals:                      27   BIC:                            -107.6\n",
              "Df Model:                           1                                         \n",
              "Covariance Type:            nonrobust                                         \n",
              "==============================================================================\n",
              "                 coef    std err          t      P>|t|      [0.025      0.975]\n",
              "------------------------------------------------------------------------------\n",
              "Intercept     -0.6388      0.012    -52.307      0.000      -0.664      -0.614\n",
              "Estimate15  1.029e-05   2.48e-06      4.146      0.000     5.2e-06    1.54e-05\n",
              "==============================================================================\n",
              "Omnibus:                        3.971   Durbin-Watson:                   1.105\n",
              "Prob(Omnibus):                  0.137   Jarque-Bera (JB):                2.955\n",
              "Skew:                           0.780   Prob(JB):                        0.228\n",
              "Kurtosis:                       3.100   Cond. No.                     9.26e+03\n",
              "==============================================================================\n",
              "\n",
              "Warnings:\n",
              "[1] Standard Errors assume that the covariance matrix of the errors is correctly specified.\n",
              "[2] The condition number is large, 9.26e+03. This might indicate that there are\n",
              "strong multicollinearity or other numerical problems.\n",
              "\"\"\""
            ]
          },
          "metadata": {
            "tags": []
          },
          "execution_count": 22
        }
      ]
    },
    {
      "cell_type": "code",
      "metadata": {
        "colab": {
          "base_uri": "https://localhost:8080/",
          "height": 367
        },
        "id": "IX-7CdEivjYc",
        "outputId": "21a33715-3d3a-4d15-ed24-76f66250930a"
      },
      "source": [
        "plt.figure(figsize = (5,5))\r\n",
        "plt.scatter(acs_trips['Estimate15'], acs_trips['perc_change'], color='white', edgecolor='k')\r\n",
        "plt.xlabel(\"Some college or associate's degree per NTA\")\r\n",
        "plt.ylabel(\"Percent change in taxi rides, 2019-2020\")\r\n",
        "plt.title(\"Some college or associate's degree and Taxi Usage in Manhattan\")\r\n",
        "\r\n",
        "x1 = acs_trips['Estimate15'].min()\r\n",
        "x2 = acs_trips['Estimate15'].max()\r\n",
        "y1 = ols.params[0] + (ols.params[1] * x1)\r\n",
        "y2 = ols.params[0] + (ols.params[1] * x2)\r\n",
        "\r\n",
        "plt.gca().set_yticklabels(['{:.0f}%'.format(x*100) for x in plt.gca().get_yticks()]) \r\n",
        "plt.plot([x1, x2], [y1, y2], linestyle = '--', color = 'blue')"
      ],
      "execution_count": null,
      "outputs": [
        {
          "output_type": "execute_result",
          "data": {
            "text/plain": [
              "[<matplotlib.lines.Line2D at 0x7f04e15b5390>]"
            ]
          },
          "metadata": {
            "tags": []
          },
          "execution_count": 23
        },
        {
          "output_type": "display_data",
          "data": {
            "image/png": "[encoded data removed]",
            "text/plain": [
              "<Figure size 360x360 with 1 Axes>"
            ]
          },
          "metadata": {
            "tags": [],
            "needs_background": "light"
          }
        }
      ]
    },
    {
      "cell_type": "code",
      "metadata": {
        "colab": {
          "base_uri": "https://localhost:8080/",
          "height": 111
        },
        "id": "Kk2TJ_9Rs75q",
        "outputId": "42bc8e4e-fccd-48c7-bb1b-383a0cfda356"
      },
      "source": [
        "acs_trips[['Estimate16', 'perc_change']].corr()"
      ],
      "execution_count": null,
      "outputs": [
        {
          "output_type": "execute_result",
          "data": {
            "text/html": [
              "<div>\n",
              "<style scoped>\n",
              "    .dataframe tbody tr th:only-of-type {\n",
              "        vertical-align: middle;\n",
              "    }\n",
              "\n",
              "    .dataframe tbody tr th {\n",
              "        vertical-align: top;\n",
              "    }\n",
              "\n",
              "    .dataframe thead th {\n",
              "        text-align: right;\n",
              "    }\n",
              "</style>\n",
              "<table border=\"1\" class=\"dataframe\">\n",
              "  <thead>\n",
              "    <tr style=\"text-align: right;\">\n",
              "      <th></th>\n",
              "      <th>Estimate16</th>\n",
              "      <th>perc_change</th>\n",
              "    </tr>\n",
              "  </thead>\n",
              "  <tbody>\n",
              "    <tr>\n",
              "      <th>Estimate16</th>\n",
              "      <td>1.000000</td>\n",
              "      <td>-0.227481</td>\n",
              "    </tr>\n",
              "    <tr>\n",
              "      <th>perc_change</th>\n",
              "      <td>-0.227481</td>\n",
              "      <td>1.000000</td>\n",
              "    </tr>\n",
              "  </tbody>\n",
              "</table>\n",
              "</div>"
            ],
            "text/plain": [
              "             Estimate16  perc_change\n",
              "Estimate16     1.000000    -0.227481\n",
              "perc_change   -0.227481     1.000000"
            ]
          },
          "metadata": {
            "tags": []
          },
          "execution_count": 84
        }
      ]
    },
    {
      "cell_type": "code",
      "metadata": {
        "colab": {
          "base_uri": "https://localhost:8080/",
          "height": 478
        },
        "id": "isvvcZxkuaZS",
        "outputId": "117dccfa-7134-44f5-8c1e-0aa3a607d108"
      },
      "source": [
        "ols = sm.ols(formula = \"perc_change ~ Estimate16\", data = acs_trips).fit()\r\n",
        "ols.summary()"
      ],
      "execution_count": null,
      "outputs": [
        {
          "output_type": "execute_result",
          "data": {
            "text/html": [
              "<table class=\"simpletable\">\n",
              "<caption>OLS Regression Results</caption>\n",
              "<tr>\n",
              "  <th>Dep. Variable:</th>       <td>perc_change</td>   <th>  R-squared:         </th> <td>   0.052</td>\n",
              "</tr>\n",
              "<tr>\n",
              "  <th>Model:</th>                   <td>OLS</td>       <th>  Adj. R-squared:    </th> <td>   0.017</td>\n",
              "</tr>\n",
              "<tr>\n",
              "  <th>Method:</th>             <td>Least Squares</td>  <th>  F-statistic:       </th> <td>   1.473</td>\n",
              "</tr>\n",
              "<tr>\n",
              "  <th>Date:</th>             <td>Thu, 17 Dec 2020</td> <th>  Prob (F-statistic):</th>  <td> 0.235</td> \n",
              "</tr>\n",
              "<tr>\n",
              "  <th>Time:</th>                 <td>21:45:14</td>     <th>  Log-Likelihood:    </th> <td>  50.782</td>\n",
              "</tr>\n",
              "<tr>\n",
              "  <th>No. Observations:</th>      <td>    29</td>      <th>  AIC:               </th> <td>  -97.56</td>\n",
              "</tr>\n",
              "<tr>\n",
              "  <th>Df Residuals:</th>          <td>    27</td>      <th>  BIC:               </th> <td>  -94.83</td>\n",
              "</tr>\n",
              "<tr>\n",
              "  <th>Df Model:</th>              <td>     1</td>      <th>                     </th>     <td> </td>   \n",
              "</tr>\n",
              "<tr>\n",
              "  <th>Covariance Type:</th>      <td>nonrobust</td>    <th>                     </th>     <td> </td>   \n",
              "</tr>\n",
              "</table>\n",
              "<table class=\"simpletable\">\n",
              "<tr>\n",
              "       <td></td>         <th>coef</th>     <th>std err</th>      <th>t</th>      <th>P>|t|</th>  <th>[0.025</th>    <th>0.975]</th>  \n",
              "</tr>\n",
              "<tr>\n",
              "  <th>Intercept</th>  <td>   -0.5776</td> <td>    0.017</td> <td>  -33.704</td> <td> 0.000</td> <td>   -0.613</td> <td>   -0.542</td>\n",
              "</tr>\n",
              "<tr>\n",
              "  <th>Estimate16</th> <td>-2.017e-06</td> <td> 1.66e-06</td> <td>   -1.214</td> <td> 0.235</td> <td>-5.43e-06</td> <td> 1.39e-06</td>\n",
              "</tr>\n",
              "</table>\n",
              "<table class=\"simpletable\">\n",
              "<tr>\n",
              "  <th>Omnibus:</th>       <td> 2.912</td> <th>  Durbin-Watson:     </th> <td>   0.433</td>\n",
              "</tr>\n",
              "<tr>\n",
              "  <th>Prob(Omnibus):</th> <td> 0.233</td> <th>  Jarque-Bera (JB):  </th> <td>   2.551</td>\n",
              "</tr>\n",
              "<tr>\n",
              "  <th>Skew:</th>          <td> 0.649</td> <th>  Prob(JB):          </th> <td>   0.279</td>\n",
              "</tr>\n",
              "<tr>\n",
              "  <th>Kurtosis:</th>      <td> 2.346</td> <th>  Cond. No.          </th> <td>2.19e+04</td>\n",
              "</tr>\n",
              "</table><br/><br/>Warnings:<br/>[1] Standard Errors assume that the covariance matrix of the errors is correctly specified.<br/>[2] The condition number is large, 2.19e+04. This might indicate that there are<br/>strong multicollinearity or other numerical problems."
            ],
            "text/plain": [
              "<class 'statsmodels.iolib.summary.Summary'>\n",
              "\"\"\"\n",
              "                            OLS Regression Results                            \n",
              "==============================================================================\n",
              "Dep. Variable:            perc_change   R-squared:                       0.052\n",
              "Model:                            OLS   Adj. R-squared:                  0.017\n",
              "Method:                 Least Squares   F-statistic:                     1.473\n",
              "Date:                Thu, 17 Dec 2020   Prob (F-statistic):              0.235\n",
              "Time:                        21:45:14   Log-Likelihood:                 50.782\n",
              "No. Observations:                  29   AIC:                            -97.56\n",
              "Df Residuals:                      27   BIC:                            -94.83\n",
              "Df Model:                           1                                         \n",
              "Covariance Type:            nonrobust                                         \n",
              "==============================================================================\n",
              "                 coef    std err          t      P>|t|      [0.025      0.975]\n",
              "------------------------------------------------------------------------------\n",
              "Intercept     -0.5776      0.017    -33.704      0.000      -0.613      -0.542\n",
              "Estimate16 -2.017e-06   1.66e-06     -1.214      0.235   -5.43e-06    1.39e-06\n",
              "==============================================================================\n",
              "Omnibus:                        2.912   Durbin-Watson:                   0.433\n",
              "Prob(Omnibus):                  0.233   Jarque-Bera (JB):                2.551\n",
              "Skew:                           0.649   Prob(JB):                        0.279\n",
              "Kurtosis:                       2.346   Cond. No.                     2.19e+04\n",
              "==============================================================================\n",
              "\n",
              "Warnings:\n",
              "[1] Standard Errors assume that the covariance matrix of the errors is correctly specified.\n",
              "[2] The condition number is large, 2.19e+04. This might indicate that there are\n",
              "strong multicollinearity or other numerical problems.\n",
              "\"\"\""
            ]
          },
          "metadata": {
            "tags": []
          },
          "execution_count": 85
        }
      ]
    },
    {
      "cell_type": "code",
      "metadata": {
        "colab": {
          "base_uri": "https://localhost:8080/",
          "height": 367
        },
        "id": "CKNP2IBMvfxk",
        "outputId": "d3cc0faf-ef06-4224-99ee-403ba8696556"
      },
      "source": [
        "plt.figure(figsize = (5,5))\r\n",
        "plt.scatter(acs_trips['Estimate16'], acs_trips['perc_change'], color='white', edgecolor='k')\r\n",
        "plt.xlabel(\"Bachelor's degree per NTA\")\r\n",
        "plt.ylabel(\"Percent change in taxi rides, 2019-2020\")\r\n",
        "plt.title(\"Bachelor's degree and Taxi Usage in Manhattan\")\r\n",
        "\r\n",
        "x1 = acs_trips['Estimate16'].min()\r\n",
        "x2 = acs_trips['Estimate16'].max()\r\n",
        "y1 = ols.params[0] + (ols.params[1] * x1)\r\n",
        "y2 = ols.params[0] + (ols.params[1] * x2)\r\n",
        "\r\n",
        "plt.gca().set_yticklabels(['{:.0f}%'.format(x*100) for x in plt.gca().get_yticks()]) \r\n",
        "plt.plot([x1, x2], [y1, y2], linestyle = '--', color = 'blue')"
      ],
      "execution_count": null,
      "outputs": [
        {
          "output_type": "execute_result",
          "data": {
            "text/plain": [
              "[<matplotlib.lines.Line2D at 0x7f5d5064fd68>]"
            ]
          },
          "metadata": {
            "tags": []
          },
          "execution_count": 86
        },
        {
          "output_type": "display_data",
          "data": {
            "image/png": "[encoded data removed]",
            "text/plain": [
              "<Figure size 360x360 with 1 Axes>"
            ]
          },
          "metadata": {
            "tags": [],
            "needs_background": "light"
          }
        }
      ]
    },
    {
      "cell_type": "code",
      "metadata": {
        "colab": {
          "base_uri": "https://localhost:8080/",
          "height": 107
        },
        "id": "3jZU8g00s8BJ",
        "outputId": "f8f59826-9c56-4574-e437-524044be0c22"
      },
      "source": [
        "acs_trips[['Estimate21', 'perc_change']].corr()"
      ],
      "execution_count": null,
      "outputs": [
        {
          "output_type": "execute_result",
          "data": {
            "text/html": [
              "<div>\n",
              "<style scoped>\n",
              "    .dataframe tbody tr th:only-of-type {\n",
              "        vertical-align: middle;\n",
              "    }\n",
              "\n",
              "    .dataframe tbody tr th {\n",
              "        vertical-align: top;\n",
              "    }\n",
              "\n",
              "    .dataframe thead th {\n",
              "        text-align: right;\n",
              "    }\n",
              "</style>\n",
              "<table border=\"1\" class=\"dataframe\">\n",
              "  <thead>\n",
              "    <tr style=\"text-align: right;\">\n",
              "      <th></th>\n",
              "      <th>Estimate21</th>\n",
              "      <th>perc_change</th>\n",
              "    </tr>\n",
              "  </thead>\n",
              "  <tbody>\n",
              "    <tr>\n",
              "      <th>Estimate21</th>\n",
              "      <td>1.000000</td>\n",
              "      <td>0.532778</td>\n",
              "    </tr>\n",
              "    <tr>\n",
              "      <th>perc_change</th>\n",
              "      <td>0.532778</td>\n",
              "      <td>1.000000</td>\n",
              "    </tr>\n",
              "  </tbody>\n",
              "</table>\n",
              "</div>"
            ],
            "text/plain": [
              "             Estimate21  perc_change\n",
              "Estimate21     1.000000     0.532778\n",
              "perc_change    0.532778     1.000000"
            ]
          },
          "metadata": {
            "tags": []
          },
          "execution_count": 25
        }
      ]
    },
    {
      "cell_type": "code",
      "metadata": {
        "colab": {
          "base_uri": "https://localhost:8080/",
          "height": 421
        },
        "id": "4heHuV3YtsBj",
        "outputId": "ede3b1eb-5b04-4b7e-b720-55952b51e333"
      },
      "source": [
        "ols = sm.ols(formula = \"perc_change ~ Estimate21\", data = acs_trips).fit()\r\n",
        "ols.summary()"
      ],
      "execution_count": null,
      "outputs": [
        {
          "output_type": "execute_result",
          "data": {
            "text/html": [
              "<table class=\"simpletable\">\n",
              "<caption>OLS Regression Results</caption>\n",
              "<tr>\n",
              "  <th>Dep. Variable:</th>       <td>perc_change</td>   <th>  R-squared:         </th> <td>   0.284</td>\n",
              "</tr>\n",
              "<tr>\n",
              "  <th>Model:</th>                   <td>OLS</td>       <th>  Adj. R-squared:    </th> <td>   0.257</td>\n",
              "</tr>\n",
              "<tr>\n",
              "  <th>Method:</th>             <td>Least Squares</td>  <th>  F-statistic:       </th> <td>   10.70</td>\n",
              "</tr>\n",
              "<tr>\n",
              "  <th>Date:</th>             <td>Thu, 17 Dec 2020</td> <th>  Prob (F-statistic):</th>  <td>0.00292</td>\n",
              "</tr>\n",
              "<tr>\n",
              "  <th>Time:</th>                 <td>22:08:04</td>     <th>  Log-Likelihood:    </th> <td>  54.853</td>\n",
              "</tr>\n",
              "<tr>\n",
              "  <th>No. Observations:</th>      <td>    29</td>      <th>  AIC:               </th> <td>  -105.7</td>\n",
              "</tr>\n",
              "<tr>\n",
              "  <th>Df Residuals:</th>          <td>    27</td>      <th>  BIC:               </th> <td>  -103.0</td>\n",
              "</tr>\n",
              "<tr>\n",
              "  <th>Df Model:</th>              <td>     1</td>      <th>                     </th>     <td> </td>   \n",
              "</tr>\n",
              "<tr>\n",
              "  <th>Covariance Type:</th>      <td>nonrobust</td>    <th>                     </th>     <td> </td>   \n",
              "</tr>\n",
              "</table>\n",
              "<table class=\"simpletable\">\n",
              "<tr>\n",
              "       <td></td>         <th>coef</th>     <th>std err</th>      <th>t</th>      <th>P>|t|</th>  <th>[0.025</th>    <th>0.975]</th>  \n",
              "</tr>\n",
              "<tr>\n",
              "  <th>Intercept</th>  <td>   -0.6315</td> <td>    0.013</td> <td>  -48.763</td> <td> 0.000</td> <td>   -0.658</td> <td>   -0.605</td>\n",
              "</tr>\n",
              "<tr>\n",
              "  <th>Estimate21</th> <td>  7.94e-06</td> <td> 2.43e-06</td> <td>    3.271</td> <td> 0.003</td> <td> 2.96e-06</td> <td> 1.29e-05</td>\n",
              "</tr>\n",
              "</table>\n",
              "<table class=\"simpletable\">\n",
              "<tr>\n",
              "  <th>Omnibus:</th>       <td> 2.450</td> <th>  Durbin-Watson:     </th> <td>   0.869</td>\n",
              "</tr>\n",
              "<tr>\n",
              "  <th>Prob(Omnibus):</th> <td> 0.294</td> <th>  Jarque-Bera (JB):  </th> <td>   2.057</td>\n",
              "</tr>\n",
              "<tr>\n",
              "  <th>Skew:</th>          <td> 0.634</td> <th>  Prob(JB):          </th> <td>   0.358</td>\n",
              "</tr>\n",
              "<tr>\n",
              "  <th>Kurtosis:</th>      <td> 2.697</td> <th>  Cond. No.          </th> <td>9.84e+03</td>\n",
              "</tr>\n",
              "</table><br/><br/>Warnings:<br/>[1] Standard Errors assume that the covariance matrix of the errors is correctly specified.<br/>[2] The condition number is large, 9.84e+03. This might indicate that there are<br/>strong multicollinearity or other numerical problems."
            ],
            "text/plain": [
              "<class 'statsmodels.iolib.summary.Summary'>\n",
              "\"\"\"\n",
              "                            OLS Regression Results                            \n",
              "==============================================================================\n",
              "Dep. Variable:            perc_change   R-squared:                       0.284\n",
              "Model:                            OLS   Adj. R-squared:                  0.257\n",
              "Method:                 Least Squares   F-statistic:                     10.70\n",
              "Date:                Thu, 17 Dec 2020   Prob (F-statistic):            0.00292\n",
              "Time:                        22:08:04   Log-Likelihood:                 54.853\n",
              "No. Observations:                  29   AIC:                            -105.7\n",
              "Df Residuals:                      27   BIC:                            -103.0\n",
              "Df Model:                           1                                         \n",
              "Covariance Type:            nonrobust                                         \n",
              "==============================================================================\n",
              "                 coef    std err          t      P>|t|      [0.025      0.975]\n",
              "------------------------------------------------------------------------------\n",
              "Intercept     -0.6315      0.013    -48.763      0.000      -0.658      -0.605\n",
              "Estimate21   7.94e-06   2.43e-06      3.271      0.003    2.96e-06    1.29e-05\n",
              "==============================================================================\n",
              "Omnibus:                        2.450   Durbin-Watson:                   0.869\n",
              "Prob(Omnibus):                  0.294   Jarque-Bera (JB):                2.057\n",
              "Skew:                           0.634   Prob(JB):                        0.358\n",
              "Kurtosis:                       2.697   Cond. No.                     9.84e+03\n",
              "==============================================================================\n",
              "\n",
              "Warnings:\n",
              "[1] Standard Errors assume that the covariance matrix of the errors is correctly specified.\n",
              "[2] The condition number is large, 9.84e+03. This might indicate that there are\n",
              "strong multicollinearity or other numerical problems.\n",
              "\"\"\""
            ]
          },
          "metadata": {
            "tags": []
          },
          "execution_count": 27
        }
      ]
    },
    {
      "cell_type": "code",
      "metadata": {
        "colab": {
          "base_uri": "https://localhost:8080/",
          "height": 373
        },
        "id": "OiP03uQKtsGK",
        "outputId": "36163e85-e1ae-4ea2-e776-4dd4b20ba6f8"
      },
      "source": [
        "plt.figure(figsize = (5,5))\r\n",
        "plt.scatter(acs_trips['Estimate21'], acs_trips['perc_change'], color='white', edgecolor='k')\r\n",
        "plt.xlabel(\"Annual Income $15,000 to $24,999 per NTA\")\r\n",
        "plt.ylabel(\"Percent change in taxi rides, 2019-2020\")\r\n",
        "plt.title(\"Annual Income $15,000 to $24,999 and Taxi Usage in Manhattan\")\r\n",
        "\r\n",
        "x1 = acs_trips['Estimate21'].min()\r\n",
        "x2 = acs_trips['Estimate21'].max()\r\n",
        "y1 = ols.params[0] + (ols.params[1] * x1)\r\n",
        "y2 = ols.params[0] + (ols.params[1] * x2)\r\n",
        "\r\n",
        "plt.gca().set_yticklabels(['{:.0f}%'.format(x*100) for x in plt.gca().get_yticks()]) \r\n",
        "plt.plot([x1, x2], [y1, y2], linestyle = '--', color = 'blue')"
      ],
      "execution_count": null,
      "outputs": [
        {
          "output_type": "execute_result",
          "data": {
            "text/plain": [
              "[<matplotlib.lines.Line2D at 0x7f04e154a358>]"
            ]
          },
          "metadata": {
            "tags": []
          },
          "execution_count": 28
        },
        {
          "output_type": "display_data",
          "data": {
            "image/png": "[encoded data removed]",
            "text/plain": [
              "<Figure size 360x360 with 1 Axes>"
            ]
          },
          "metadata": {
            "tags": [],
            "needs_background": "light"
          }
        }
      ]
    },
    {
      "cell_type": "code",
      "metadata": {
        "colab": {
          "base_uri": "https://localhost:8080/",
          "height": 478
        },
        "id": "bp7rM7QrxRnU",
        "outputId": "6fb6e9af-78a5-4bed-cfc0-0b2fc9786c4a"
      },
      "source": [
        "ols = sm.ols(formula = \"perc_change ~ Estimate_2\", data = acs_trips).fit()\r\n",
        "ols.summary()"
      ],
      "execution_count": null,
      "outputs": [
        {
          "output_type": "execute_result",
          "data": {
            "text/html": [
              "<table class=\"simpletable\">\n",
              "<caption>OLS Regression Results</caption>\n",
              "<tr>\n",
              "  <th>Dep. Variable:</th>       <td>perc_change</td>   <th>  R-squared:         </th> <td>   0.320</td>\n",
              "</tr>\n",
              "<tr>\n",
              "  <th>Model:</th>                   <td>OLS</td>       <th>  Adj. R-squared:    </th> <td>   0.295</td>\n",
              "</tr>\n",
              "<tr>\n",
              "  <th>Method:</th>             <td>Least Squares</td>  <th>  F-statistic:       </th> <td>   12.69</td>\n",
              "</tr>\n",
              "<tr>\n",
              "  <th>Date:</th>             <td>Thu, 17 Dec 2020</td> <th>  Prob (F-statistic):</th>  <td>0.00139</td>\n",
              "</tr>\n",
              "<tr>\n",
              "  <th>Time:</th>                 <td>21:45:37</td>     <th>  Log-Likelihood:    </th> <td>  55.599</td>\n",
              "</tr>\n",
              "<tr>\n",
              "  <th>No. Observations:</th>      <td>    29</td>      <th>  AIC:               </th> <td>  -107.2</td>\n",
              "</tr>\n",
              "<tr>\n",
              "  <th>Df Residuals:</th>          <td>    27</td>      <th>  BIC:               </th> <td>  -104.5</td>\n",
              "</tr>\n",
              "<tr>\n",
              "  <th>Df Model:</th>              <td>     1</td>      <th>                     </th>     <td> </td>   \n",
              "</tr>\n",
              "<tr>\n",
              "  <th>Covariance Type:</th>      <td>nonrobust</td>    <th>                     </th>     <td> </td>   \n",
              "</tr>\n",
              "</table>\n",
              "<table class=\"simpletable\">\n",
              "<tr>\n",
              "       <td></td>         <th>coef</th>     <th>std err</th>      <th>t</th>      <th>P>|t|</th>  <th>[0.025</th>    <th>0.975]</th>  \n",
              "</tr>\n",
              "<tr>\n",
              "  <th>Intercept</th>  <td>   -0.6337</td> <td>    0.013</td> <td>  -50.199</td> <td> 0.000</td> <td>   -0.660</td> <td>   -0.608</td>\n",
              "</tr>\n",
              "<tr>\n",
              "  <th>Estimate_2</th> <td> 7.033e-06</td> <td> 1.97e-06</td> <td>    3.563</td> <td> 0.001</td> <td> 2.98e-06</td> <td> 1.11e-05</td>\n",
              "</tr>\n",
              "</table>\n",
              "<table class=\"simpletable\">\n",
              "<tr>\n",
              "  <th>Omnibus:</th>       <td> 1.632</td> <th>  Durbin-Watson:     </th> <td>   0.760</td>\n",
              "</tr>\n",
              "<tr>\n",
              "  <th>Prob(Omnibus):</th> <td> 0.442</td> <th>  Jarque-Bera (JB):  </th> <td>   0.964</td>\n",
              "</tr>\n",
              "<tr>\n",
              "  <th>Skew:</th>          <td> 0.445</td> <th>  Prob(JB):          </th> <td>   0.618</td>\n",
              "</tr>\n",
              "<tr>\n",
              "  <th>Kurtosis:</th>      <td> 3.067</td> <th>  Cond. No.          </th> <td>1.18e+04</td>\n",
              "</tr>\n",
              "</table><br/><br/>Warnings:<br/>[1] Standard Errors assume that the covariance matrix of the errors is correctly specified.<br/>[2] The condition number is large, 1.18e+04. This might indicate that there are<br/>strong multicollinearity or other numerical problems."
            ],
            "text/plain": [
              "<class 'statsmodels.iolib.summary.Summary'>\n",
              "\"\"\"\n",
              "                            OLS Regression Results                            \n",
              "==============================================================================\n",
              "Dep. Variable:            perc_change   R-squared:                       0.320\n",
              "Model:                            OLS   Adj. R-squared:                  0.295\n",
              "Method:                 Least Squares   F-statistic:                     12.69\n",
              "Date:                Thu, 17 Dec 2020   Prob (F-statistic):            0.00139\n",
              "Time:                        21:45:37   Log-Likelihood:                 55.599\n",
              "No. Observations:                  29   AIC:                            -107.2\n",
              "Df Residuals:                      27   BIC:                            -104.5\n",
              "Df Model:                           1                                         \n",
              "Covariance Type:            nonrobust                                         \n",
              "==============================================================================\n",
              "                 coef    std err          t      P>|t|      [0.025      0.975]\n",
              "------------------------------------------------------------------------------\n",
              "Intercept     -0.6337      0.013    -50.199      0.000      -0.660      -0.608\n",
              "Estimate_2  7.033e-06   1.97e-06      3.563      0.001    2.98e-06    1.11e-05\n",
              "==============================================================================\n",
              "Omnibus:                        1.632   Durbin-Watson:                   0.760\n",
              "Prob(Omnibus):                  0.442   Jarque-Bera (JB):                0.964\n",
              "Skew:                           0.445   Prob(JB):                        0.618\n",
              "Kurtosis:                       3.067   Cond. No.                     1.18e+04\n",
              "==============================================================================\n",
              "\n",
              "Warnings:\n",
              "[1] Standard Errors assume that the covariance matrix of the errors is correctly specified.\n",
              "[2] The condition number is large, 1.18e+04. This might indicate that there are\n",
              "strong multicollinearity or other numerical problems.\n",
              "\"\"\""
            ]
          },
          "metadata": {
            "tags": []
          },
          "execution_count": 90
        }
      ]
    },
    {
      "cell_type": "code",
      "metadata": {
        "colab": {
          "base_uri": "https://localhost:8080/",
          "height": 367
        },
        "id": "DmREEy4dx2O3",
        "outputId": "1768156f-e5dc-49eb-91c0-487b052b8d47"
      },
      "source": [
        "plt.figure(figsize = (5,5))\r\n",
        "plt.scatter(acs_trips['Estimate_2'], acs_trips['perc_change'], color='white', edgecolor='k')\r\n",
        "plt.xlabel(\"5 to 17 years per NTA\")\r\n",
        "plt.ylabel(\"Percent change in taxi rides, 2019-2020\")\r\n",
        "plt.title(\"5 to 17 years and Taxi Usage in Manhattan\")\r\n",
        "\r\n",
        "x1 = acs_trips['Estimate_2'].min()\r\n",
        "x2 = acs_trips['Estimate_2'].max()\r\n",
        "y1 = ols.params[0] + (ols.params[1] * x1)\r\n",
        "y2 = ols.params[0] + (ols.params[1] * x2)\r\n",
        "\r\n",
        "plt.gca().set_yticklabels(['{:.0f}%'.format(x*100) for x in plt.gca().get_yticks()]) \r\n",
        "plt.plot([x1, x2], [y1, y2], linestyle = '--', color = 'blue')"
      ],
      "execution_count": null,
      "outputs": [
        {
          "output_type": "execute_result",
          "data": {
            "text/plain": [
              "[<matplotlib.lines.Line2D at 0x7f5d5061f780>]"
            ]
          },
          "metadata": {
            "tags": []
          },
          "execution_count": 91
        },
        {
          "output_type": "display_data",
          "data": {
            "image/png": "[encoded data removed]",
            "text/plain": [
              "<Figure size 360x360 with 1 Axes>"
            ]
          },
          "metadata": {
            "tags": [],
            "needs_background": "light"
          }
        }
      ]
    },
    {
      "cell_type": "code",
      "metadata": {
        "colab": {
          "base_uri": "https://localhost:8080/",
          "height": 478
        },
        "id": "a5IiQorZxRqJ",
        "outputId": "c6223f41-5bdc-4f5c-dc3e-1f7983468057"
      },
      "source": [
        "ols = sm.ols(formula = \"perc_change ~ Estimate17\", data = acs_trips).fit()\r\n",
        "ols.summary()"
      ],
      "execution_count": null,
      "outputs": [
        {
          "output_type": "execute_result",
          "data": {
            "text/html": [
              "<table class=\"simpletable\">\n",
              "<caption>OLS Regression Results</caption>\n",
              "<tr>\n",
              "  <th>Dep. Variable:</th>       <td>perc_change</td>   <th>  R-squared:         </th> <td>   0.048</td>\n",
              "</tr>\n",
              "<tr>\n",
              "  <th>Model:</th>                   <td>OLS</td>       <th>  Adj. R-squared:    </th> <td>   0.013</td>\n",
              "</tr>\n",
              "<tr>\n",
              "  <th>Method:</th>             <td>Least Squares</td>  <th>  F-statistic:       </th> <td>   1.357</td>\n",
              "</tr>\n",
              "<tr>\n",
              "  <th>Date:</th>             <td>Thu, 17 Dec 2020</td> <th>  Prob (F-statistic):</th>  <td> 0.254</td> \n",
              "</tr>\n",
              "<tr>\n",
              "  <th>Time:</th>                 <td>21:45:47</td>     <th>  Log-Likelihood:    </th> <td>  50.723</td>\n",
              "</tr>\n",
              "<tr>\n",
              "  <th>No. Observations:</th>      <td>    29</td>      <th>  AIC:               </th> <td>  -97.45</td>\n",
              "</tr>\n",
              "<tr>\n",
              "  <th>Df Residuals:</th>          <td>    27</td>      <th>  BIC:               </th> <td>  -94.71</td>\n",
              "</tr>\n",
              "<tr>\n",
              "  <th>Df Model:</th>              <td>     1</td>      <th>                     </th>     <td> </td>   \n",
              "</tr>\n",
              "<tr>\n",
              "  <th>Covariance Type:</th>      <td>nonrobust</td>    <th>                     </th>     <td> </td>   \n",
              "</tr>\n",
              "</table>\n",
              "<table class=\"simpletable\">\n",
              "<tr>\n",
              "       <td></td>         <th>coef</th>     <th>std err</th>      <th>t</th>      <th>P>|t|</th>  <th>[0.025</th>    <th>0.975]</th>  \n",
              "</tr>\n",
              "<tr>\n",
              "  <th>Intercept</th>  <td>   -0.5832</td> <td>    0.014</td> <td>  -42.754</td> <td> 0.000</td> <td>   -0.611</td> <td>   -0.555</td>\n",
              "</tr>\n",
              "<tr>\n",
              "  <th>Estimate17</th> <td>-1.483e-06</td> <td> 1.27e-06</td> <td>   -1.165</td> <td> 0.254</td> <td> -4.1e-06</td> <td> 1.13e-06</td>\n",
              "</tr>\n",
              "</table>\n",
              "<table class=\"simpletable\">\n",
              "<tr>\n",
              "  <th>Omnibus:</th>       <td> 2.379</td> <th>  Durbin-Watson:     </th> <td>   0.437</td>\n",
              "</tr>\n",
              "<tr>\n",
              "  <th>Prob(Omnibus):</th> <td> 0.304</td> <th>  Jarque-Bera (JB):  </th> <td>   2.096</td>\n",
              "</tr>\n",
              "<tr>\n",
              "  <th>Skew:</th>          <td> 0.573</td> <th>  Prob(JB):          </th> <td>   0.351</td>\n",
              "</tr>\n",
              "<tr>\n",
              "  <th>Kurtosis:</th>      <td> 2.352</td> <th>  Cond. No.          </th> <td>1.80e+04</td>\n",
              "</tr>\n",
              "</table><br/><br/>Warnings:<br/>[1] Standard Errors assume that the covariance matrix of the errors is correctly specified.<br/>[2] The condition number is large, 1.8e+04. This might indicate that there are<br/>strong multicollinearity or other numerical problems."
            ],
            "text/plain": [
              "<class 'statsmodels.iolib.summary.Summary'>\n",
              "\"\"\"\n",
              "                            OLS Regression Results                            \n",
              "==============================================================================\n",
              "Dep. Variable:            perc_change   R-squared:                       0.048\n",
              "Model:                            OLS   Adj. R-squared:                  0.013\n",
              "Method:                 Least Squares   F-statistic:                     1.357\n",
              "Date:                Thu, 17 Dec 2020   Prob (F-statistic):              0.254\n",
              "Time:                        21:45:47   Log-Likelihood:                 50.723\n",
              "No. Observations:                  29   AIC:                            -97.45\n",
              "Df Residuals:                      27   BIC:                            -94.71\n",
              "Df Model:                           1                                         \n",
              "Covariance Type:            nonrobust                                         \n",
              "==============================================================================\n",
              "                 coef    std err          t      P>|t|      [0.025      0.975]\n",
              "------------------------------------------------------------------------------\n",
              "Intercept     -0.5832      0.014    -42.754      0.000      -0.611      -0.555\n",
              "Estimate17 -1.483e-06   1.27e-06     -1.165      0.254    -4.1e-06    1.13e-06\n",
              "==============================================================================\n",
              "Omnibus:                        2.379   Durbin-Watson:                   0.437\n",
              "Prob(Omnibus):                  0.304   Jarque-Bera (JB):                2.096\n",
              "Skew:                           0.573   Prob(JB):                        0.351\n",
              "Kurtosis:                       2.352   Cond. No.                     1.80e+04\n",
              "==============================================================================\n",
              "\n",
              "Warnings:\n",
              "[1] Standard Errors assume that the covariance matrix of the errors is correctly specified.\n",
              "[2] The condition number is large, 1.8e+04. This might indicate that there are\n",
              "strong multicollinearity or other numerical problems.\n",
              "\"\"\""
            ]
          },
          "metadata": {
            "tags": []
          },
          "execution_count": 92
        }
      ]
    },
    {
      "cell_type": "code",
      "metadata": {
        "colab": {
          "base_uri": "https://localhost:8080/",
          "height": 367
        },
        "id": "28TTiiphyIjR",
        "outputId": "d7b24c2d-4abe-421c-b3ce-0a9332a3ce6c"
      },
      "source": [
        "plt.figure(figsize = (5,5))\r\n",
        "plt.scatter(acs_trips['Estimate17'], acs_trips['perc_change'], color='white', edgecolor='k')\r\n",
        "plt.xlabel(\"Graduate or professional degree per NTA\")\r\n",
        "plt.ylabel(\"Percent change in taxi rides, 2019-2020\")\r\n",
        "plt.title(\"Graduate or professional degree and Taxi Usage in Manhattan\")\r\n",
        "\r\n",
        "x1 = acs_trips['Estimate17'].min()\r\n",
        "x2 = acs_trips['Estimate17'].max()\r\n",
        "y1 = ols.params[0] + (ols.params[1] * x1)\r\n",
        "y2 = ols.params[0] + (ols.params[1] * x2)\r\n",
        "\r\n",
        "plt.gca().set_yticklabels(['{:.0f}%'.format(x*100) for x in plt.gca().get_yticks()]) \r\n",
        "plt.plot([x1, x2], [y1, y2], linestyle = '--', color = 'blue')"
      ],
      "execution_count": null,
      "outputs": [
        {
          "output_type": "execute_result",
          "data": {
            "text/plain": [
              "[<matplotlib.lines.Line2D at 0x7f5d584909e8>]"
            ]
          },
          "metadata": {
            "tags": []
          },
          "execution_count": 93
        },
        {
          "output_type": "display_data",
          "data": {
            "image/png": "[encoded data removed]",
            "text/plain": [
              "<Figure size 360x360 with 1 Axes>"
            ]
          },
          "metadata": {
            "tags": [],
            "needs_background": "light"
          }
        }
      ]
    },
    {
      "cell_type": "code",
      "metadata": {
        "colab": {
          "base_uri": "https://localhost:8080/",
          "height": 478
        },
        "id": "pX-Exa46xRsz",
        "outputId": "5afed370-93c8-452c-ec85-4de01d3adce0"
      },
      "source": [
        "ols = sm.ols(formula = \"perc_change ~ Estimate26\", data = acs_trips).fit()\r\n",
        "ols.summary()"
      ],
      "execution_count": null,
      "outputs": [
        {
          "output_type": "execute_result",
          "data": {
            "text/html": [
              "<table class=\"simpletable\">\n",
              "<caption>OLS Regression Results</caption>\n",
              "<tr>\n",
              "  <th>Dep. Variable:</th>       <td>perc_change</td>   <th>  R-squared:         </th> <td>   0.148</td>\n",
              "</tr>\n",
              "<tr>\n",
              "  <th>Model:</th>                   <td>OLS</td>       <th>  Adj. R-squared:    </th> <td>   0.116</td>\n",
              "</tr>\n",
              "<tr>\n",
              "  <th>Method:</th>             <td>Least Squares</td>  <th>  F-statistic:       </th> <td>   4.672</td>\n",
              "</tr>\n",
              "<tr>\n",
              "  <th>Date:</th>             <td>Thu, 17 Dec 2020</td> <th>  Prob (F-statistic):</th>  <td>0.0397</td> \n",
              "</tr>\n",
              "<tr>\n",
              "  <th>Time:</th>                 <td>21:45:59</td>     <th>  Log-Likelihood:    </th> <td>  52.326</td>\n",
              "</tr>\n",
              "<tr>\n",
              "  <th>No. Observations:</th>      <td>    29</td>      <th>  AIC:               </th> <td>  -100.7</td>\n",
              "</tr>\n",
              "<tr>\n",
              "  <th>Df Residuals:</th>          <td>    27</td>      <th>  BIC:               </th> <td>  -97.92</td>\n",
              "</tr>\n",
              "<tr>\n",
              "  <th>Df Model:</th>              <td>     1</td>      <th>                     </th>     <td> </td>   \n",
              "</tr>\n",
              "<tr>\n",
              "  <th>Covariance Type:</th>      <td>nonrobust</td>    <th>                     </th>     <td> </td>   \n",
              "</tr>\n",
              "</table>\n",
              "<table class=\"simpletable\">\n",
              "<tr>\n",
              "       <td></td>         <th>coef</th>     <th>std err</th>      <th>t</th>      <th>P>|t|</th>  <th>[0.025</th>    <th>0.975]</th>  \n",
              "</tr>\n",
              "<tr>\n",
              "  <th>Intercept</th>  <td>   -0.5739</td> <td>    0.013</td> <td>  -44.958</td> <td> 0.000</td> <td>   -0.600</td> <td>   -0.548</td>\n",
              "</tr>\n",
              "<tr>\n",
              "  <th>Estimate26</th> <td>-1.442e-06</td> <td> 6.67e-07</td> <td>   -2.162</td> <td> 0.040</td> <td>-2.81e-06</td> <td>-7.32e-08</td>\n",
              "</tr>\n",
              "</table>\n",
              "<table class=\"simpletable\">\n",
              "<tr>\n",
              "  <th>Omnibus:</th>       <td> 2.008</td> <th>  Durbin-Watson:     </th> <td>   0.609</td>\n",
              "</tr>\n",
              "<tr>\n",
              "  <th>Prob(Omnibus):</th> <td> 0.366</td> <th>  Jarque-Bera (JB):  </th> <td>   1.669</td>\n",
              "</tr>\n",
              "<tr>\n",
              "  <th>Skew:</th>          <td> 0.447</td> <th>  Prob(JB):          </th> <td>   0.434</td>\n",
              "</tr>\n",
              "<tr>\n",
              "  <th>Kurtosis:</th>      <td> 2.237</td> <th>  Cond. No.          </th> <td>3.19e+04</td>\n",
              "</tr>\n",
              "</table><br/><br/>Warnings:<br/>[1] Standard Errors assume that the covariance matrix of the errors is correctly specified.<br/>[2] The condition number is large, 3.19e+04. This might indicate that there are<br/>strong multicollinearity or other numerical problems."
            ],
            "text/plain": [
              "<class 'statsmodels.iolib.summary.Summary'>\n",
              "\"\"\"\n",
              "                            OLS Regression Results                            \n",
              "==============================================================================\n",
              "Dep. Variable:            perc_change   R-squared:                       0.148\n",
              "Model:                            OLS   Adj. R-squared:                  0.116\n",
              "Method:                 Least Squares   F-statistic:                     4.672\n",
              "Date:                Thu, 17 Dec 2020   Prob (F-statistic):             0.0397\n",
              "Time:                        21:45:59   Log-Likelihood:                 52.326\n",
              "No. Observations:                  29   AIC:                            -100.7\n",
              "Df Residuals:                      27   BIC:                            -97.92\n",
              "Df Model:                           1                                         \n",
              "Covariance Type:            nonrobust                                         \n",
              "==============================================================================\n",
              "                 coef    std err          t      P>|t|      [0.025      0.975]\n",
              "------------------------------------------------------------------------------\n",
              "Intercept     -0.5739      0.013    -44.958      0.000      -0.600      -0.548\n",
              "Estimate26 -1.442e-06   6.67e-07     -2.162      0.040   -2.81e-06   -7.32e-08\n",
              "==============================================================================\n",
              "Omnibus:                        2.008   Durbin-Watson:                   0.609\n",
              "Prob(Omnibus):                  0.366   Jarque-Bera (JB):                1.669\n",
              "Skew:                           0.447   Prob(JB):                        0.434\n",
              "Kurtosis:                       2.237   Cond. No.                     3.19e+04\n",
              "==============================================================================\n",
              "\n",
              "Warnings:\n",
              "[1] Standard Errors assume that the covariance matrix of the errors is correctly specified.\n",
              "[2] The condition number is large, 3.19e+04. This might indicate that there are\n",
              "strong multicollinearity or other numerical problems.\n",
              "\"\"\""
            ]
          },
          "metadata": {
            "tags": []
          },
          "execution_count": 94
        }
      ]
    },
    {
      "cell_type": "code",
      "metadata": {
        "colab": {
          "base_uri": "https://localhost:8080/",
          "height": 367
        },
        "id": "V8y2-s80xR0L",
        "outputId": "c9b27ae1-744e-48e6-865f-4de22e4b7d4b"
      },
      "source": [
        "plt.figure(figsize = (5,5))\r\n",
        "plt.scatter(acs_trips['Estimate26'], acs_trips['perc_change'], color='white', edgecolor='k')\r\n",
        "plt.xlabel(\"$75,000 or more per NTA\")\r\n",
        "plt.ylabel(\"Percent change in taxi rides, 2019-2020\")\r\n",
        "plt.title(\"$75,000 or more and Taxi Usage in Manhattan\")\r\n",
        "\r\n",
        "x1 = acs_trips['Estimate26'].min()\r\n",
        "x2 = acs_trips['Estimate26'].max()\r\n",
        "y1 = ols.params[0] + (ols.params[1] * x1)\r\n",
        "y2 = ols.params[0] + (ols.params[1] * x2)\r\n",
        "\r\n",
        "plt.gca().set_yticklabels(['{:.0f}%'.format(x*100) for x in plt.gca().get_yticks()]) \r\n",
        "plt.plot([x1, x2], [y1, y2], linestyle = '--', color = 'blue')"
      ],
      "execution_count": null,
      "outputs": [
        {
          "output_type": "execute_result",
          "data": {
            "text/plain": [
              "[<matplotlib.lines.Line2D at 0x7f5d58311828>]"
            ]
          },
          "metadata": {
            "tags": []
          },
          "execution_count": 95
        },
        {
          "output_type": "display_data",
          "data": {
            "image/png": "[encoded data removed]",
            "text/plain": [
              "<Figure size 360x360 with 1 Axes>"
            ]
          },
          "metadata": {
            "tags": [],
            "needs_background": "light"
          }
        }
      ]
    },
    {
      "cell_type": "code",
      "metadata": {
        "colab": {
          "base_uri": "https://localhost:8080/",
          "height": 478
        },
        "id": "l5eny4i5dcY-",
        "outputId": "97aaa395-c32b-4364-c4df-9f4f8abb4b72"
      },
      "source": [
        "ols = sm.ols(formula = \"perc_change ~ Estimate21\", data = acs_trips).fit()\n",
        "ols.summary()"
      ],
      "execution_count": null,
      "outputs": [
        {
          "output_type": "execute_result",
          "data": {
            "text/html": [
              "<table class=\"simpletable\">\n",
              "<caption>OLS Regression Results</caption>\n",
              "<tr>\n",
              "  <th>Dep. Variable:</th>       <td>perc_change</td>   <th>  R-squared:         </th> <td>   0.284</td>\n",
              "</tr>\n",
              "<tr>\n",
              "  <th>Model:</th>                   <td>OLS</td>       <th>  Adj. R-squared:    </th> <td>   0.257</td>\n",
              "</tr>\n",
              "<tr>\n",
              "  <th>Method:</th>             <td>Least Squares</td>  <th>  F-statistic:       </th> <td>   10.70</td>\n",
              "</tr>\n",
              "<tr>\n",
              "  <th>Date:</th>             <td>Thu, 17 Dec 2020</td> <th>  Prob (F-statistic):</th>  <td>0.00292</td>\n",
              "</tr>\n",
              "<tr>\n",
              "  <th>Time:</th>                 <td>21:46:09</td>     <th>  Log-Likelihood:    </th> <td>  54.853</td>\n",
              "</tr>\n",
              "<tr>\n",
              "  <th>No. Observations:</th>      <td>    29</td>      <th>  AIC:               </th> <td>  -105.7</td>\n",
              "</tr>\n",
              "<tr>\n",
              "  <th>Df Residuals:</th>          <td>    27</td>      <th>  BIC:               </th> <td>  -103.0</td>\n",
              "</tr>\n",
              "<tr>\n",
              "  <th>Df Model:</th>              <td>     1</td>      <th>                     </th>     <td> </td>   \n",
              "</tr>\n",
              "<tr>\n",
              "  <th>Covariance Type:</th>      <td>nonrobust</td>    <th>                     </th>     <td> </td>   \n",
              "</tr>\n",
              "</table>\n",
              "<table class=\"simpletable\">\n",
              "<tr>\n",
              "       <td></td>         <th>coef</th>     <th>std err</th>      <th>t</th>      <th>P>|t|</th>  <th>[0.025</th>    <th>0.975]</th>  \n",
              "</tr>\n",
              "<tr>\n",
              "  <th>Intercept</th>  <td>   -0.6315</td> <td>    0.013</td> <td>  -48.763</td> <td> 0.000</td> <td>   -0.658</td> <td>   -0.605</td>\n",
              "</tr>\n",
              "<tr>\n",
              "  <th>Estimate21</th> <td>  7.94e-06</td> <td> 2.43e-06</td> <td>    3.271</td> <td> 0.003</td> <td> 2.96e-06</td> <td> 1.29e-05</td>\n",
              "</tr>\n",
              "</table>\n",
              "<table class=\"simpletable\">\n",
              "<tr>\n",
              "  <th>Omnibus:</th>       <td> 2.450</td> <th>  Durbin-Watson:     </th> <td>   0.869</td>\n",
              "</tr>\n",
              "<tr>\n",
              "  <th>Prob(Omnibus):</th> <td> 0.294</td> <th>  Jarque-Bera (JB):  </th> <td>   2.057</td>\n",
              "</tr>\n",
              "<tr>\n",
              "  <th>Skew:</th>          <td> 0.634</td> <th>  Prob(JB):          </th> <td>   0.358</td>\n",
              "</tr>\n",
              "<tr>\n",
              "  <th>Kurtosis:</th>      <td> 2.697</td> <th>  Cond. No.          </th> <td>9.84e+03</td>\n",
              "</tr>\n",
              "</table><br/><br/>Warnings:<br/>[1] Standard Errors assume that the covariance matrix of the errors is correctly specified.<br/>[2] The condition number is large, 9.84e+03. This might indicate that there are<br/>strong multicollinearity or other numerical problems."
            ],
            "text/plain": [
              "<class 'statsmodels.iolib.summary.Summary'>\n",
              "\"\"\"\n",
              "                            OLS Regression Results                            \n",
              "==============================================================================\n",
              "Dep. Variable:            perc_change   R-squared:                       0.284\n",
              "Model:                            OLS   Adj. R-squared:                  0.257\n",
              "Method:                 Least Squares   F-statistic:                     10.70\n",
              "Date:                Thu, 17 Dec 2020   Prob (F-statistic):            0.00292\n",
              "Time:                        21:46:09   Log-Likelihood:                 54.853\n",
              "No. Observations:                  29   AIC:                            -105.7\n",
              "Df Residuals:                      27   BIC:                            -103.0\n",
              "Df Model:                           1                                         \n",
              "Covariance Type:            nonrobust                                         \n",
              "==============================================================================\n",
              "                 coef    std err          t      P>|t|      [0.025      0.975]\n",
              "------------------------------------------------------------------------------\n",
              "Intercept     -0.6315      0.013    -48.763      0.000      -0.658      -0.605\n",
              "Estimate21   7.94e-06   2.43e-06      3.271      0.003    2.96e-06    1.29e-05\n",
              "==============================================================================\n",
              "Omnibus:                        2.450   Durbin-Watson:                   0.869\n",
              "Prob(Omnibus):                  0.294   Jarque-Bera (JB):                2.057\n",
              "Skew:                           0.634   Prob(JB):                        0.358\n",
              "Kurtosis:                       2.697   Cond. No.                     9.84e+03\n",
              "==============================================================================\n",
              "\n",
              "Warnings:\n",
              "[1] Standard Errors assume that the covariance matrix of the errors is correctly specified.\n",
              "[2] The condition number is large, 9.84e+03. This might indicate that there are\n",
              "strong multicollinearity or other numerical problems.\n",
              "\"\"\""
            ]
          },
          "metadata": {
            "tags": []
          },
          "execution_count": 96
        }
      ]
    },
    {
      "cell_type": "code",
      "metadata": {
        "colab": {
          "base_uri": "https://localhost:8080/",
          "height": 367
        },
        "id": "S5Hk5Wm3dfz7",
        "outputId": "104ef2ab-1659-4aca-fbb5-55a15f03364b"
      },
      "source": [
        "plt.figure(figsize = (5,5))\n",
        "plt.scatter(acs_trips['Estimate21'], acs_trips['perc_change'], color='white', edgecolor='k')\n",
        "plt.xlabel(\"Residents with income \\$15,000 - \\$24,999\")\n",
        "plt.ylabel(\"Percent change in taxi rides, 2019-2020\")\n",
        "plt.title(\"Annual Income and Taxi Usage in Manhattan\")\n",
        "\n",
        "x1 = acs_trips['Estimate21'].min()\n",
        "x2 = acs_trips['Estimate21'].max()\n",
        "y1 = ols.params[0] + (ols.params[1] * x1)\n",
        "y2 = ols.params[0] + (ols.params[1] * x2)\n",
        "\n",
        "plt.gca().set_yticklabels(['{:.0f}%'.format(x*100) for x in plt.gca().get_yticks()]) \n",
        "plt.plot([x1, x2], [y1, y2], linestyle = '--', color = 'blue')"
      ],
      "execution_count": null,
      "outputs": [
        {
          "output_type": "execute_result",
          "data": {
            "text/plain": [
              "[<matplotlib.lines.Line2D at 0x7f5d58179b00>]"
            ]
          },
          "metadata": {
            "tags": []
          },
          "execution_count": 97
        },
        {
          "output_type": "display_data",
          "data": {
            "image/png": "[encoded data removed]",
            "text/plain": [
              "<Figure size 360x360 with 1 Axes>"
            ]
          },
          "metadata": {
            "tags": [],
            "needs_background": "light"
          }
        }
      ]
    },
    {
      "cell_type": "code",
      "metadata": {
        "colab": {
          "base_uri": "https://localhost:8080/",
          "height": 478
        },
        "id": "fK22gJcTq8HB",
        "outputId": "eb724eea-a275-4861-836a-25b3f4ce1068"
      },
      "source": [
        "ols = sm.ols(formula = \"perc_change ~ Estimate15\", data = acs_trips).fit()\n",
        "ols.summary()"
      ],
      "execution_count": null,
      "outputs": [
        {
          "output_type": "execute_result",
          "data": {
            "text/html": [
              "<table class=\"simpletable\">\n",
              "<caption>OLS Regression Results</caption>\n",
              "<tr>\n",
              "  <th>Dep. Variable:</th>       <td>perc_change</td>   <th>  R-squared:         </th> <td>   0.389</td>\n",
              "</tr>\n",
              "<tr>\n",
              "  <th>Model:</th>                   <td>OLS</td>       <th>  Adj. R-squared:    </th> <td>   0.366</td>\n",
              "</tr>\n",
              "<tr>\n",
              "  <th>Method:</th>             <td>Least Squares</td>  <th>  F-statistic:       </th> <td>   17.19</td>\n",
              "</tr>\n",
              "<tr>\n",
              "  <th>Date:</th>             <td>Thu, 17 Dec 2020</td> <th>  Prob (F-statistic):</th> <td>0.000300</td>\n",
              "</tr>\n",
              "<tr>\n",
              "  <th>Time:</th>                 <td>21:48:32</td>     <th>  Log-Likelihood:    </th> <td>  57.156</td>\n",
              "</tr>\n",
              "<tr>\n",
              "  <th>No. Observations:</th>      <td>    29</td>      <th>  AIC:               </th> <td>  -110.3</td>\n",
              "</tr>\n",
              "<tr>\n",
              "  <th>Df Residuals:</th>          <td>    27</td>      <th>  BIC:               </th> <td>  -107.6</td>\n",
              "</tr>\n",
              "<tr>\n",
              "  <th>Df Model:</th>              <td>     1</td>      <th>                     </th>     <td> </td>   \n",
              "</tr>\n",
              "<tr>\n",
              "  <th>Covariance Type:</th>      <td>nonrobust</td>    <th>                     </th>     <td> </td>   \n",
              "</tr>\n",
              "</table>\n",
              "<table class=\"simpletable\">\n",
              "<tr>\n",
              "       <td></td>         <th>coef</th>     <th>std err</th>      <th>t</th>      <th>P>|t|</th>  <th>[0.025</th>    <th>0.975]</th>  \n",
              "</tr>\n",
              "<tr>\n",
              "  <th>Intercept</th>  <td>   -0.6388</td> <td>    0.012</td> <td>  -52.307</td> <td> 0.000</td> <td>   -0.664</td> <td>   -0.614</td>\n",
              "</tr>\n",
              "<tr>\n",
              "  <th>Estimate15</th> <td> 1.029e-05</td> <td> 2.48e-06</td> <td>    4.146</td> <td> 0.000</td> <td>  5.2e-06</td> <td> 1.54e-05</td>\n",
              "</tr>\n",
              "</table>\n",
              "<table class=\"simpletable\">\n",
              "<tr>\n",
              "  <th>Omnibus:</th>       <td> 3.971</td> <th>  Durbin-Watson:     </th> <td>   1.105</td>\n",
              "</tr>\n",
              "<tr>\n",
              "  <th>Prob(Omnibus):</th> <td> 0.137</td> <th>  Jarque-Bera (JB):  </th> <td>   2.955</td>\n",
              "</tr>\n",
              "<tr>\n",
              "  <th>Skew:</th>          <td> 0.780</td> <th>  Prob(JB):          </th> <td>   0.228</td>\n",
              "</tr>\n",
              "<tr>\n",
              "  <th>Kurtosis:</th>      <td> 3.100</td> <th>  Cond. No.          </th> <td>9.26e+03</td>\n",
              "</tr>\n",
              "</table><br/><br/>Warnings:<br/>[1] Standard Errors assume that the covariance matrix of the errors is correctly specified.<br/>[2] The condition number is large, 9.26e+03. This might indicate that there are<br/>strong multicollinearity or other numerical problems."
            ],
            "text/plain": [
              "<class 'statsmodels.iolib.summary.Summary'>\n",
              "\"\"\"\n",
              "                            OLS Regression Results                            \n",
              "==============================================================================\n",
              "Dep. Variable:            perc_change   R-squared:                       0.389\n",
              "Model:                            OLS   Adj. R-squared:                  0.366\n",
              "Method:                 Least Squares   F-statistic:                     17.19\n",
              "Date:                Thu, 17 Dec 2020   Prob (F-statistic):           0.000300\n",
              "Time:                        21:48:32   Log-Likelihood:                 57.156\n",
              "No. Observations:                  29   AIC:                            -110.3\n",
              "Df Residuals:                      27   BIC:                            -107.6\n",
              "Df Model:                           1                                         \n",
              "Covariance Type:            nonrobust                                         \n",
              "==============================================================================\n",
              "                 coef    std err          t      P>|t|      [0.025      0.975]\n",
              "------------------------------------------------------------------------------\n",
              "Intercept     -0.6388      0.012    -52.307      0.000      -0.664      -0.614\n",
              "Estimate15  1.029e-05   2.48e-06      4.146      0.000     5.2e-06    1.54e-05\n",
              "==============================================================================\n",
              "Omnibus:                        3.971   Durbin-Watson:                   1.105\n",
              "Prob(Omnibus):                  0.137   Jarque-Bera (JB):                2.955\n",
              "Skew:                           0.780   Prob(JB):                        0.228\n",
              "Kurtosis:                       3.100   Cond. No.                     9.26e+03\n",
              "==============================================================================\n",
              "\n",
              "Warnings:\n",
              "[1] Standard Errors assume that the covariance matrix of the errors is correctly specified.\n",
              "[2] The condition number is large, 9.26e+03. This might indicate that there are\n",
              "strong multicollinearity or other numerical problems.\n",
              "\"\"\""
            ]
          },
          "metadata": {
            "tags": []
          },
          "execution_count": 100
        }
      ]
    },
    {
      "cell_type": "code",
      "metadata": {
        "colab": {
          "base_uri": "https://localhost:8080/",
          "height": 367
        },
        "id": "rAM8u6OjrRkG",
        "outputId": "b9c7ef47-a4ae-4553-c109-518329720eb9"
      },
      "source": [
        "plt.figure(figsize = (5,5))\n",
        "plt.scatter(acs_trips['Estimate15'], acs_trips['perc_change'], color='white', edgecolor='k')\n",
        "plt.xlabel(\"Residents with some college or Associate's degree\")\n",
        "plt.ylabel(\"Percent change in taxi rides, 2019-2020\")\n",
        "plt.title(\"Annual Income and Taxi Usage in Manhattan\")\n",
        "\n",
        "x1 = acs_trips['Estimate15'].min()\n",
        "x2 = acs_trips['Estimate15'].max()\n",
        "y1 = ols.params[0] + (ols.params[1] * x1)\n",
        "y2 = ols.params[0] + (ols.params[1] * x2)\n",
        "\n",
        "plt.gca().set_yticklabels(['{:.0f}%'.format(x*100) for x in plt.gca().get_yticks()]) \n",
        "plt.plot([x1, x2], [y1, y2], linestyle = '--', color = 'blue')"
      ],
      "execution_count": null,
      "outputs": [
        {
          "output_type": "execute_result",
          "data": {
            "text/plain": [
              "[<matplotlib.lines.Line2D at 0x7f5d503b5208>]"
            ]
          },
          "metadata": {
            "tags": []
          },
          "execution_count": 101
        },
        {
          "output_type": "display_data",
          "data": {
            "image/png": "[encoded data removed]",
            "text/plain": [
              "<Figure size 360x360 with 1 Axes>"
            ]
          },
          "metadata": {
            "tags": [],
            "needs_background": "light"
          }
        }
      ]
    },
    {
      "cell_type": "markdown",
      "metadata": {
        "id": "cWCbBmKhZ3Jv"
      },
      "source": [
        "## Maps"
      ]
    },
    {
      "cell_type": "markdown",
      "metadata": {
        "id": "6UBeNFBYwusW"
      },
      "source": [
        "Mapping all of the variables of interest"
      ]
    },
    {
      "cell_type": "code",
      "metadata": {
        "colab": {
          "base_uri": "https://localhost:8080/",
          "height": 608
        },
        "id": "ylegNVikac7C",
        "outputId": "96b1e904-654e-461e-d2bf-4ee109c4af50"
      },
      "source": [
        "plt1 = trips_byzone.plot(figsize = (10,10), column = \"perc_change\", scheme = \"quantiles\", legend = True)\n",
        "\n",
        "leg = plt1.get_legend()\n",
        "leg.set_bbox_to_anchor((0.4,1))\n",
        "plt.title(\"Taxi Ride percent change, 2019-2020\")\n",
        "plt.axis(False)"
      ],
      "execution_count": null,
      "outputs": [
        {
          "output_type": "execute_result",
          "data": {
            "text/plain": [
              "(905464.739038986, 1075092.878374982, 112485.76061678902, 280480.4146430246)"
            ]
          },
          "metadata": {
            "tags": []
          },
          "execution_count": 39
        },
        {
          "output_type": "display_data",
          "data": {
            "image/png": "[encoded data removed]",
            "text/plain": [
              "<Figure size 720x720 with 1 Axes>"
            ]
          },
          "metadata": {
            "tags": [],
            "needs_background": "light"
          }
        }
      ]
    },
    {
      "cell_type": "code",
      "metadata": {
        "id": "Y07V3MI1xSDV",
        "colab": {
          "base_uri": "https://localhost:8080/",
          "height": 608
        },
        "outputId": "6e6b0146-91bb-4284-f42b-2f8a0c82f335"
      },
      "source": [
        "plt2 = covid_trips.plot(figsize = (10,10), column = \"perc_change\", scheme = \"quantiles\", legend = True)\n",
        "\n",
        "leg2 = plt2.get_legend()\n",
        "leg2.set_bbox_to_anchor((0.6,1))\n",
        "plt.title(\"Taxi Ride percentage change, 2019-2020\")\n",
        "plt.axis(False)"
      ],
      "execution_count": null,
      "outputs": [
        {
          "output_type": "execute_result",
          "data": {
            "text/plain": [
              "(969060.880270385, 1012018.2551666418, 184509.04999694825, 263121.0425933838)"
            ]
          },
          "metadata": {
            "tags": []
          },
          "execution_count": 51
        },
        {
          "output_type": "display_data",
          "data": {
            "image/png": "[encoded data removed]",
            "text/plain": [
              "<Figure size 720x720 with 1 Axes>"
            ]
          },
          "metadata": {
            "tags": [],
            "needs_background": "light"
          }
        }
      ]
    },
    {
      "cell_type": "code",
      "metadata": {
        "colab": {
          "base_uri": "https://localhost:8080/",
          "height": 608
        },
        "id": "l6xk_D7WaXFt",
        "outputId": "4416d663-bb5a-41a9-ad30-705d1f32ead0"
      },
      "source": [
        "plt3 = covid_bynta.plot(figsize = (10,10), column = 'CASE_RATE', scheme = 'quantiles', legend = True)\n",
        "\n",
        "plt.title(\"COVID-19 Case rate per 100,000 residents\")\n",
        "leg3 = plt3.get_legend()\n",
        "leg3.set_bbox_to_anchor((0.6,1))\n",
        "\n",
        "plt.axis(False)"
      ],
      "execution_count": null,
      "outputs": [
        {
          "output_type": "execute_result",
          "data": {
            "text/plain": [
              "(969060.880270385, 1012018.2551666418, 184509.04999694825, 263121.0425933838)"
            ]
          },
          "metadata": {
            "tags": []
          },
          "execution_count": 50
        },
        {
          "output_type": "display_data",
          "data": {
            "image/png": "[encoded data removed]",
            "text/plain": [
              "<Figure size 720x720 with 1 Axes>"
            ]
          },
          "metadata": {
            "tags": [],
            "needs_background": "light"
          }
        }
      ]
    },
    {
      "cell_type": "code",
      "metadata": {
        "colab": {
          "base_uri": "https://localhost:8080/",
          "height": 479
        },
        "id": "xTB6Nc6Nburc",
        "outputId": "c8160c93-8ae0-40e3-81f0-c7dd41d78aa6"
      },
      "source": [
        "acs_trips.head()"
      ],
      "execution_count": null,
      "outputs": [
        {
          "output_type": "execute_result",
          "data": {
            "text/html": [
              "<div>\n",
              "<style scoped>\n",
              "    .dataframe tbody tr th:only-of-type {\n",
              "        vertical-align: middle;\n",
              "    }\n",
              "\n",
              "    .dataframe tbody tr th {\n",
              "        vertical-align: top;\n",
              "    }\n",
              "\n",
              "    .dataframe thead th {\n",
              "        text-align: right;\n",
              "    }\n",
              "</style>\n",
              "<table border=\"1\" class=\"dataframe\">\n",
              "  <thead>\n",
              "    <tr style=\"text-align: right;\">\n",
              "      <th></th>\n",
              "      <th>Estimate__</th>\n",
              "      <th>Estimate_1</th>\n",
              "      <th>Estimate_2</th>\n",
              "      <th>Estimate_3</th>\n",
              "      <th>Estimate_4</th>\n",
              "      <th>Estimate_5</th>\n",
              "      <th>Estimate_6</th>\n",
              "      <th>Estimate_7</th>\n",
              "      <th>Estimate_8</th>\n",
              "      <th>Estimate_9</th>\n",
              "      <th>Estimate10</th>\n",
              "      <th>Estimate11</th>\n",
              "      <th>Estimate12</th>\n",
              "      <th>Estimate13</th>\n",
              "      <th>Estimate14</th>\n",
              "      <th>Estimate15</th>\n",
              "      <th>Estimate16</th>\n",
              "      <th>Estimate17</th>\n",
              "      <th>Estimate18</th>\n",
              "      <th>Estimate19</th>\n",
              "      <th>Estimate20</th>\n",
              "      <th>Estimate21</th>\n",
              "      <th>Estimate22</th>\n",
              "      <th>Estimate23</th>\n",
              "      <th>Estimate24</th>\n",
              "      <th>Estimate25</th>\n",
              "      <th>Estimate26</th>\n",
              "      <th>Estimate27</th>\n",
              "      <th>2010_Censu</th>\n",
              "      <th>2010_NYC_B</th>\n",
              "      <th>2010_Cen_1</th>\n",
              "      <th>PUMA</th>\n",
              "      <th>OBJECTID</th>\n",
              "      <th>BoroCode</th>\n",
              "      <th>BoroName</th>\n",
              "      <th>CountyFIPS</th>\n",
              "      <th>NTACode</th>\n",
              "      <th>NTAName</th>\n",
              "      <th>Shape__Are</th>\n",
              "      <th>Shape__Len</th>\n",
              "      <th>geometry</th>\n",
              "      <th>n_19</th>\n",
              "      <th>change</th>\n",
              "      <th>perc_change</th>\n",
              "    </tr>\n",
              "  </thead>\n",
              "  <tbody>\n",
              "    <tr>\n",
              "      <th>0</th>\n",
              "      <td>52922</td>\n",
              "      <td>3258.786</td>\n",
              "      <td>7657.150</td>\n",
              "      <td>4906.304</td>\n",
              "      <td>17037.718</td>\n",
              "      <td>7191.019</td>\n",
              "      <td>5805.146</td>\n",
              "      <td>61.6</td>\n",
              "      <td>38.3</td>\n",
              "      <td>19224.542</td>\n",
              "      <td>335.1</td>\n",
              "      <td>364.9</td>\n",
              "      <td>19529.800</td>\n",
              "      <td>93.4258</td>\n",
              "      <td>67.3661</td>\n",
              "      <td>83.9274</td>\n",
              "      <td>138.1</td>\n",
              "      <td>99.0</td>\n",
              "      <td>5208.847</td>\n",
              "      <td>12.7011</td>\n",
              "      <td>9.5926</td>\n",
              "      <td>97.7</td>\n",
              "      <td>71.5</td>\n",
              "      <td>63.1</td>\n",
              "      <td>50.2</td>\n",
              "      <td>29.5</td>\n",
              "      <td>89.7</td>\n",
              "      <td>192567</td>\n",
              "      <td>427.0</td>\n",
              "      <td>7.0</td>\n",
              "      <td>209700.0</td>\n",
              "      <td>26607.0</td>\n",
              "      <td>79</td>\n",
              "      <td>1</td>\n",
              "      <td>Manhattan</td>\n",
              "      <td>061</td>\n",
              "      <td>MN01</td>\n",
              "      <td>Marble Hill-Inwood</td>\n",
              "      <td>1.773272e+07</td>\n",
              "      <td>31844.333429</td>\n",
              "      <td>MULTIPOLYGON (((1005960.173 251370.172, 100594...</td>\n",
              "      <td>18759</td>\n",
              "      <td>-8633.0</td>\n",
              "      <td>-0.460206</td>\n",
              "    </tr>\n",
              "    <tr>\n",
              "      <th>1</th>\n",
              "      <td>86117</td>\n",
              "      <td>6413.088</td>\n",
              "      <td>11833.941</td>\n",
              "      <td>8279.028</td>\n",
              "      <td>29427.145</td>\n",
              "      <td>11696.000</td>\n",
              "      <td>9328.778</td>\n",
              "      <td>95.9</td>\n",
              "      <td>76.0</td>\n",
              "      <td>29808.733</td>\n",
              "      <td>738.6</td>\n",
              "      <td>861.4</td>\n",
              "      <td>32809.160</td>\n",
              "      <td>153.4880</td>\n",
              "      <td>196.3917</td>\n",
              "      <td>200.3703</td>\n",
              "      <td>327.9</td>\n",
              "      <td>260.5</td>\n",
              "      <td>10253.615</td>\n",
              "      <td>37.4708</td>\n",
              "      <td>23.3176</td>\n",
              "      <td>191.9</td>\n",
              "      <td>137.2</td>\n",
              "      <td>163.8</td>\n",
              "      <td>148.9</td>\n",
              "      <td>50.4</td>\n",
              "      <td>240.2</td>\n",
              "      <td>490461</td>\n",
              "      <td>976.0</td>\n",
              "      <td>16.0</td>\n",
              "      <td>362306.0</td>\n",
              "      <td>60848.0</td>\n",
              "      <td>74</td>\n",
              "      <td>1</td>\n",
              "      <td>Manhattan</td>\n",
              "      <td>061</td>\n",
              "      <td>MN03</td>\n",
              "      <td>Central Harlem North-Polo Grounds</td>\n",
              "      <td>2.540349e+07</td>\n",
              "      <td>27983.841731</td>\n",
              "      <td>POLYGON ((1002388.021 243854.511, 1002358.133 ...</td>\n",
              "      <td>523255</td>\n",
              "      <td>-275831.0</td>\n",
              "      <td>-0.527145</td>\n",
              "    </tr>\n",
              "    <tr>\n",
              "      <th>2</th>\n",
              "      <td>52700</td>\n",
              "      <td>2692.562</td>\n",
              "      <td>6715.124</td>\n",
              "      <td>5117.492</td>\n",
              "      <td>19520.898</td>\n",
              "      <td>7696.995</td>\n",
              "      <td>5382.058</td>\n",
              "      <td>34.8</td>\n",
              "      <td>36.8</td>\n",
              "      <td>18187.822</td>\n",
              "      <td>355.0</td>\n",
              "      <td>345.0</td>\n",
              "      <td>18753.214</td>\n",
              "      <td>83.9524</td>\n",
              "      <td>71.2125</td>\n",
              "      <td>59.7530</td>\n",
              "      <td>153.9</td>\n",
              "      <td>110.1</td>\n",
              "      <td>6914.497</td>\n",
              "      <td>17.8189</td>\n",
              "      <td>10.3711</td>\n",
              "      <td>111.3</td>\n",
              "      <td>75.3</td>\n",
              "      <td>82.9</td>\n",
              "      <td>57.1</td>\n",
              "      <td>22.0</td>\n",
              "      <td>80.7</td>\n",
              "      <td>187162</td>\n",
              "      <td>427.0</td>\n",
              "      <td>7.0</td>\n",
              "      <td>161701.0</td>\n",
              "      <td>26614.0</td>\n",
              "      <td>101</td>\n",
              "      <td>1</td>\n",
              "      <td>Manhattan</td>\n",
              "      <td>061</td>\n",
              "      <td>MN04</td>\n",
              "      <td>Hamilton Heights</td>\n",
              "      <td>1.609614e+07</td>\n",
              "      <td>17411.381931</td>\n",
              "      <td>POLYGON ((1000758.421 241841.071, 1000815.207 ...</td>\n",
              "      <td>226041</td>\n",
              "      <td>-118859.0</td>\n",
              "      <td>-0.525829</td>\n",
              "    </tr>\n",
              "    <tr>\n",
              "      <th>3</th>\n",
              "      <td>23673</td>\n",
              "      <td>1508.398</td>\n",
              "      <td>2745.913</td>\n",
              "      <td>3054.987</td>\n",
              "      <td>8123.563</td>\n",
              "      <td>3075.819</td>\n",
              "      <td>2455.242</td>\n",
              "      <td>24.2</td>\n",
              "      <td>24.2</td>\n",
              "      <td>7811.263</td>\n",
              "      <td>183.1</td>\n",
              "      <td>316.9</td>\n",
              "      <td>8740.718</td>\n",
              "      <td>52.0907</td>\n",
              "      <td>55.5435</td>\n",
              "      <td>97.4904</td>\n",
              "      <td>68.7</td>\n",
              "      <td>97.5</td>\n",
              "      <td>2391.894</td>\n",
              "      <td>9.3910</td>\n",
              "      <td>5.1946</td>\n",
              "      <td>56.6</td>\n",
              "      <td>41.4</td>\n",
              "      <td>33.8</td>\n",
              "      <td>129.3</td>\n",
              "      <td>10.4</td>\n",
              "      <td>27.9</td>\n",
              "      <td>80189</td>\n",
              "      <td>305.0</td>\n",
              "      <td>5.0</td>\n",
              "      <td>109509.0</td>\n",
              "      <td>19010.0</td>\n",
              "      <td>143</td>\n",
              "      <td>1</td>\n",
              "      <td>Manhattan</td>\n",
              "      <td>061</td>\n",
              "      <td>MN06</td>\n",
              "      <td>Manhattanville</td>\n",
              "      <td>1.064708e+07</td>\n",
              "      <td>17040.685896</td>\n",
              "      <td>POLYGON ((999174.261 238490.105, 999084.570 23...</td>\n",
              "      <td>597844</td>\n",
              "      <td>-334314.0</td>\n",
              "      <td>-0.559199</td>\n",
              "    </tr>\n",
              "    <tr>\n",
              "      <th>4</th>\n",
              "      <td>53094</td>\n",
              "      <td>1498.935</td>\n",
              "      <td>4361.448</td>\n",
              "      <td>13561.991</td>\n",
              "      <td>16017.062</td>\n",
              "      <td>5080.501</td>\n",
              "      <td>4759.339</td>\n",
              "      <td>67.5</td>\n",
              "      <td>56.4</td>\n",
              "      <td>17009.407</td>\n",
              "      <td>448.2</td>\n",
              "      <td>551.8</td>\n",
              "      <td>18525.776</td>\n",
              "      <td>40.2594</td>\n",
              "      <td>67.3579</td>\n",
              "      <td>64.8915</td>\n",
              "      <td>259.1</td>\n",
              "      <td>422.0</td>\n",
              "      <td>19554.227</td>\n",
              "      <td>66.3080</td>\n",
              "      <td>19.0960</td>\n",
              "      <td>82.7</td>\n",
              "      <td>62.9</td>\n",
              "      <td>62.0</td>\n",
              "      <td>60.2</td>\n",
              "      <td>23.4</td>\n",
              "      <td>182.2</td>\n",
              "      <td>324817</td>\n",
              "      <td>610.0</td>\n",
              "      <td>10.0</td>\n",
              "      <td>202004.0</td>\n",
              "      <td>38020.0</td>\n",
              "      <td>144</td>\n",
              "      <td>1</td>\n",
              "      <td>Manhattan</td>\n",
              "      <td>061</td>\n",
              "      <td>MN09</td>\n",
              "      <td>Morningside Heights</td>\n",
              "      <td>2.015591e+07</td>\n",
              "      <td>20746.031807</td>\n",
              "      <td>POLYGON ((997509.202 234911.225, 997373.694 23...</td>\n",
              "      <td>1667314</td>\n",
              "      <td>-1002740.0</td>\n",
              "      <td>-0.601410</td>\n",
              "    </tr>\n",
              "  </tbody>\n",
              "</table>\n",
              "</div>"
            ],
            "text/plain": [
              "   Estimate__  Estimate_1  Estimate_2  ...     n_19     change  perc_change\n",
              "0       52922    3258.786    7657.150  ...    18759    -8633.0    -0.460206\n",
              "1       86117    6413.088   11833.941  ...   523255  -275831.0    -0.527145\n",
              "2       52700    2692.562    6715.124  ...   226041  -118859.0    -0.525829\n",
              "3       23673    1508.398    2745.913  ...   597844  -334314.0    -0.559199\n",
              "4       53094    1498.935    4361.448  ...  1667314 -1002740.0    -0.601410\n",
              "\n",
              "[5 rows x 44 columns]"
            ]
          },
          "metadata": {
            "tags": []
          },
          "execution_count": 46
        }
      ]
    },
    {
      "cell_type": "code",
      "metadata": {
        "colab": {
          "base_uri": "https://localhost:8080/",
          "height": 608
        },
        "id": "z3bP4Q0sbfum",
        "outputId": "03ba18ed-66af-4ad0-db1b-460dbff5932f"
      },
      "source": [
        "plt4 = acs_trips.plot(figsize = (10,10), column = 'Estimate_2', scheme = 'quantiles', legend = True)\n",
        "\n",
        "plt.title(\"Youth Population (age 5-17)\")\n",
        "leg4 = plt4.get_legend()\n",
        "leg4.set_bbox_to_anchor((0.6,1))\n",
        "\n",
        "plt.axis(False)"
      ],
      "execution_count": null,
      "outputs": [
        {
          "output_type": "execute_result",
          "data": {
            "text/plain": [
              "(969060.476451303, 1012017.857675462, 184512.055028218, 263124.0642716173)"
            ]
          },
          "metadata": {
            "tags": []
          },
          "execution_count": 98
        },
        {
          "output_type": "display_data",
          "data": {
            "image/png": "[encoded data removed]",
            "text/plain": [
              "<Figure size 720x720 with 1 Axes>"
            ]
          },
          "metadata": {
            "tags": [],
            "needs_background": "light"
          }
        }
      ]
    },
    {
      "cell_type": "code",
      "metadata": {
        "colab": {
          "base_uri": "https://localhost:8080/",
          "height": 608
        },
        "id": "QkTQuWZccMTp",
        "outputId": "461e81e6-0edb-4afe-f76a-c92e361c6104"
      },
      "source": [
        "plt5 = acs_trips.plot(figsize = (10,10), column = 'Estimate21', scheme = 'quantiles', legend = True)\n",
        "\n",
        "plt.title(\"Individuals w/ Annual Income \\$15,000-\\$24,999\")\n",
        "leg5 = plt5.get_legend()\n",
        "leg5.set_bbox_to_anchor((0.6,1))\n",
        "\n",
        "plt.axis(False)"
      ],
      "execution_count": null,
      "outputs": [
        {
          "output_type": "execute_result",
          "data": {
            "text/plain": [
              "(969060.476451303, 1012017.857675462, 184512.055028218, 263124.0642716173)"
            ]
          },
          "metadata": {
            "tags": []
          },
          "execution_count": 99
        },
        {
          "output_type": "display_data",
          "data": {
            "image/png": "[encoded data removed]",
            "text/plain": [
              "<Figure size 720x720 with 1 Axes>"
            ]
          },
          "metadata": {
            "tags": [],
            "needs_background": "light"
          }
        }
      ]
    },
    {
      "cell_type": "code",
      "metadata": {
        "colab": {
          "base_uri": "https://localhost:8080/",
          "height": 608
        },
        "id": "t0iMKQF9jyUU",
        "outputId": "f1bc1aa6-897e-4ef6-89fd-999b96a7345d"
      },
      "source": [
        "plt6 = acs_trips.plot(figsize = (10,10), column = 'Estimate15', scheme = 'quantiles', legend = True)\n",
        "\n",
        "plt.title(\"Individuals w/ Some college or Associate's Degree\")\n",
        "leg6 = plt6.get_legend()\n",
        "leg6.set_bbox_to_anchor((0.6,1))\n",
        "\n",
        "plt.axis(False)"
      ],
      "execution_count": null,
      "outputs": [
        {
          "output_type": "execute_result",
          "data": {
            "text/plain": [
              "(969060.476451303, 1012017.857675462, 184512.055028218, 263124.0642716173)"
            ]
          },
          "metadata": {
            "tags": []
          },
          "execution_count": 102
        },
        {
          "output_type": "display_data",
          "data": {
            "image/png": "[encoded data removed]",
            "text/plain": [
              "<Figure size 720x720 with 1 Axes>"
            ]
          },
          "metadata": {
            "tags": [],
            "needs_background": "light"
          }
        }
      ]
    }
  ]
}