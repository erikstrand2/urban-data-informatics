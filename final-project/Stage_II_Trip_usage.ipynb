{
  "nbformat": 4,
  "nbformat_minor": 0,
  "metadata": {
    "colab": {
      "name": "Stage II: Trip usage.ipynb",
      "provenance": [],
      "collapsed_sections": [],
      "toc_visible": true,
      "include_colab_link": true
    },
    "kernelspec": {
      "name": "python3",
      "display_name": "Python 3"
    }
  },
  "cells": [
    {
      "cell_type": "markdown",
      "metadata": {
        "id": "view-in-github",
        "colab_type": "text"
      },
      "source": [
        "<a href=\"https://colab.research.google.com/github/erikstrand2/urban-data-informatics/blob/master/final-project/Stage_II_Trip_usage.ipynb\" target=\"_parent\"><img src=\"https://colab.research.google.com/assets/colab-badge.svg\" alt=\"Open In Colab\"/></a>"
      ]
    },
    {
      "cell_type": "markdown",
      "metadata": {
        "id": "h7KvyxO8sv_o"
      },
      "source": [
        "# Stage II: Taxi Trip Usage"
      ]
    },
    {
      "cell_type": "markdown",
      "metadata": {
        "id": "CTR6uLc-7nxe"
      },
      "source": [
        "## Setup\n"
      ]
    },
    {
      "cell_type": "code",
      "metadata": {
        "id": "FKb5E5OP7cK7"
      },
      "source": [
        "%%time \n",
        "\n",
        "# Important library for many geopython libraries\n",
        "!apt install gdal-bin python-gdal python3-gdal \n",
        "# Install rtree - Geopandas requirment\n",
        "!apt install python3-rtree \n",
        "# Install Geopandas\n",
        "!pip install git+git://github.com/geopandas/geopandas.git\n",
        "# Install descartes - Geopandas requirment\n",
        "!pip install descartes \n",
        "# Install Folium for Geographic data visualization\n",
        "!pip install folium\n",
        "# Install plotlyExpress\n",
        "!pip install plotly_express\n",
        "\n",
        "# %load_ext google.colab.data_table"
      ],
      "execution_count": null,
      "outputs": []
    },
    {
      "cell_type": "code",
      "metadata": {
        "id": "aGNQg3Aa7TyZ"
      },
      "source": [
        "import pandas as pd\n",
        "import numpy as np\n",
        "import geopandas as gp\n",
        "import re\n",
        "import matplotlib.pyplot as plt"
      ],
      "execution_count": null,
      "outputs": []
    },
    {
      "cell_type": "code",
      "metadata": {
        "id": "5K2NvbcEFLp-"
      },
      "source": [
        "from google.colab import drive\n",
        "drive.mount('/content/drive')"
      ],
      "execution_count": null,
      "outputs": []
    },
    {
      "cell_type": "markdown",
      "metadata": {
        "id": "fyp0iZjgrsR-"
      },
      "source": [
        "## Analysis"
      ]
    },
    {
      "cell_type": "markdown",
      "metadata": {
        "id": "A0EMdUOwrw6U"
      },
      "source": [
        "In this part, we calculate the percental change between 2019 and 2020 trips"
      ]
    },
    {
      "cell_type": "code",
      "metadata": {
        "id": "_ArG9CVaMxSp"
      },
      "source": [
        "# Read files\n",
        "trips2020 = pd.read_csv('/content/drive/MyDrive/IUDI Final Project/output/tripdata_2020.csv')\n",
        "trips2019 = pd.read_csv('/content/drive/MyDrive/IUDI Final Project/output/tripdata_2019.csv')"
      ],
      "execution_count": null,
      "outputs": []
    },
    {
      "cell_type": "code",
      "metadata": {
        "id": "Bqa8pTpHPFIi"
      },
      "source": [
        "# Transform column to datetime\n",
        "trips2020['tpep_pickup_datetime'] = pd.to_datetime(trips2020['tpep_pickup_datetime'])\n",
        "trips2019['tpep_pickup_datetime'] = pd.to_datetime(trips2019['tpep_pickup_datetime'])"
      ],
      "execution_count": null,
      "outputs": []
    },
    {
      "cell_type": "code",
      "metadata": {
        "id": "0jZXMl2jPFFK"
      },
      "source": [
        "# Get hour\n",
        "trips2020['hour'] = trips2020['tpep_pickup_datetime'].apply(lambda x: x.hour)\n",
        "trips2019['hour'] = trips2019['tpep_pickup_datetime'].apply(lambda x: x.hour)"
      ],
      "execution_count": null,
      "outputs": []
    },
    {
      "cell_type": "code",
      "metadata": {
        "id": "o9L47xD_PNug"
      },
      "source": [
        "# Group by Taxi Zones and hour for each year\n",
        "TZ20hour = trips2020.groupby(['PULocationID','hour'])['tpep_pickup_datetime'].count()\n",
        "TZ19hour = trips2019.groupby(['PULocationID','hour'])['tpep_pickup_datetime'].count()"
      ],
      "execution_count": null,
      "outputs": []
    },
    {
      "cell_type": "code",
      "metadata": {
        "id": "Q-lUtCByPOJG"
      },
      "source": [
        "# Compare the two dataframes\n",
        "test = (TZ20hour - TZ19hour) / TZ19hour"
      ],
      "execution_count": null,
      "outputs": []
    },
    {
      "cell_type": "code",
      "metadata": {
        "colab": {
          "base_uri": "https://localhost:8080/"
        },
        "id": "l5kA4Gp66XP9",
        "outputId": "4033575e-91fa-47ec-a004-c225700f7736"
      },
      "source": [
        "trips2019.info()"
      ],
      "execution_count": null,
      "outputs": [
        {
          "output_type": "stream",
          "text": [
            "<class 'pandas.core.frame.DataFrame'>\n",
            "Int64Index: 4445914 entries, 2254245 to 23599141\n",
            "Data columns (total 4 columns):\n",
            " #   Column                Dtype         \n",
            "---  ------                -----         \n",
            " 0   Unnamed: 0            int64         \n",
            " 1   tpep_pickup_datetime  datetime64[ns]\n",
            " 2   PULocationID          int64         \n",
            " 3   hour                  int64         \n",
            "dtypes: datetime64[ns](1), int64(3)\n",
            "memory usage: 169.6 MB\n"
          ],
          "name": "stdout"
        }
      ]
    },
    {
      "cell_type": "code",
      "metadata": {
        "id": "HutXn7v25MVl"
      },
      "source": [
        "# test.to_csv('/content/drive/MyDrive/IUDI Final Project/output/trip_comparison.csv')"
      ],
      "execution_count": null,
      "outputs": []
    }
  ]
}