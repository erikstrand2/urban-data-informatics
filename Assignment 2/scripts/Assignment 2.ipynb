{
 "cells": [
  {
   "cell_type": "markdown",
   "metadata": {},
   "source": [
    "# Assignment 2\n",
    "\n",
    "Erik Strand\n",
    "13 October 2020\n",
    "\n",
    "### Research Question\n",
    "\n",
    "Who are the most frequent repeat callers to the 311 line? Where are they, what kinds of calls are they making, and how do their calls vary over time? \n",
    "\n",
    "#### Scope\n",
    "\n",
    "I will be looking at the entire 10-year period to find the top few addresses from which the most 311 calls originated."
   ]
  },
  {
   "cell_type": "code",
   "execution_count": 1,
   "metadata": {},
   "outputs": [],
   "source": [
    "# import required packages \n",
    "\n",
    "import pandas as pd\n",
    "import numpy as np\n",
    "import matplotlib.pyplot as plt\n",
    "from urllib.parse import urlencode\n",
    "import urllib.request, json\n",
    "from plotnine import * # I prefer this plotting library as it's more familiar to me"
   ]
  },
  {
   "cell_type": "code",
   "execution_count": 2,
   "metadata": {},
   "outputs": [
    {
     "data": {
      "text/html": [
       "<div>\n",
       "<style scoped>\n",
       "    .dataframe tbody tr th:only-of-type {\n",
       "        vertical-align: middle;\n",
       "    }\n",
       "\n",
       "    .dataframe tbody tr th {\n",
       "        vertical-align: top;\n",
       "    }\n",
       "\n",
       "    .dataframe thead th {\n",
       "        text-align: right;\n",
       "    }\n",
       "</style>\n",
       "<table border=\"1\" class=\"dataframe\">\n",
       "  <thead>\n",
       "    <tr style=\"text-align: right;\">\n",
       "      <th></th>\n",
       "      <th>total_counts</th>\n",
       "    </tr>\n",
       "  </thead>\n",
       "  <tbody>\n",
       "    <tr>\n",
       "      <th>0</th>\n",
       "      <td>24130631</td>\n",
       "    </tr>\n",
       "  </tbody>\n",
       "</table>\n",
       "</div>"
      ],
      "text/plain": [
       "   total_counts\n",
       "0      24130631"
      ]
     },
     "execution_count": 2,
     "metadata": {},
     "output_type": "execute_result"
    }
   ],
   "source": [
    "# API key for the 311 dataset\n",
    "API = \"https://data.cityofnewyork.us/resource/erm2-nwe9.csv?\"\n",
    "\n",
    "# A quick query to see how many *total* calls were placed to 311 in this time period\n",
    "query = {'$select': 'count(*) as total_counts'}\n",
    "\n",
    "df = pd.read_csv(API + urlencode(query))\n",
    "df.head()"
   ]
  },
  {
   "cell_type": "code",
   "execution_count": 3,
   "metadata": {},
   "outputs": [
    {
     "data": {
      "text/html": [
       "<div>\n",
       "<style scoped>\n",
       "    .dataframe tbody tr th:only-of-type {\n",
       "        vertical-align: middle;\n",
       "    }\n",
       "\n",
       "    .dataframe tbody tr th {\n",
       "        vertical-align: top;\n",
       "    }\n",
       "\n",
       "    .dataframe thead th {\n",
       "        text-align: right;\n",
       "    }\n",
       "</style>\n",
       "<table border=\"1\" class=\"dataframe\">\n",
       "  <thead>\n",
       "    <tr style=\"text-align: right;\">\n",
       "      <th></th>\n",
       "      <th>incident_address</th>\n",
       "      <th>total_counts</th>\n",
       "    </tr>\n",
       "  </thead>\n",
       "  <tbody>\n",
       "    <tr>\n",
       "      <th>0</th>\n",
       "      <td>NaN</td>\n",
       "      <td>4282947</td>\n",
       "    </tr>\n",
       "    <tr>\n",
       "      <th>1</th>\n",
       "      <td>655 EAST  230 STREET</td>\n",
       "      <td>32561</td>\n",
       "    </tr>\n",
       "    <tr>\n",
       "      <th>2</th>\n",
       "      <td>89-21 ELMHURST AVENUE</td>\n",
       "      <td>16316</td>\n",
       "    </tr>\n",
       "    <tr>\n",
       "      <th>3</th>\n",
       "      <td>672 EAST  231 STREET</td>\n",
       "      <td>15709</td>\n",
       "    </tr>\n",
       "    <tr>\n",
       "      <th>4</th>\n",
       "      <td>34 ARDEN STREET</td>\n",
       "      <td>14561</td>\n",
       "    </tr>\n",
       "    <tr>\n",
       "      <th>5</th>\n",
       "      <td>78-15 PARSONS BOULEVARD</td>\n",
       "      <td>13873</td>\n",
       "    </tr>\n",
       "    <tr>\n",
       "      <th>6</th>\n",
       "      <td>BROADWAY</td>\n",
       "      <td>13332</td>\n",
       "    </tr>\n",
       "    <tr>\n",
       "      <th>7</th>\n",
       "      <td>1025 BOYNTON AVENUE</td>\n",
       "      <td>12703</td>\n",
       "    </tr>\n",
       "    <tr>\n",
       "      <th>8</th>\n",
       "      <td>674 EAST  231 STREET</td>\n",
       "      <td>9981</td>\n",
       "    </tr>\n",
       "    <tr>\n",
       "      <th>9</th>\n",
       "      <td>82-16 164 STREET</td>\n",
       "      <td>8136</td>\n",
       "    </tr>\n",
       "  </tbody>\n",
       "</table>\n",
       "</div>"
      ],
      "text/plain": [
       "          incident_address  total_counts\n",
       "0                      NaN       4282947\n",
       "1     655 EAST  230 STREET         32561\n",
       "2    89-21 ELMHURST AVENUE         16316\n",
       "3     672 EAST  231 STREET         15709\n",
       "4          34 ARDEN STREET         14561\n",
       "5  78-15 PARSONS BOULEVARD         13873\n",
       "6                 BROADWAY         13332\n",
       "7      1025 BOYNTON AVENUE         12703\n",
       "8     674 EAST  231 STREET          9981\n",
       "9         82-16 164 STREET          8136"
      ]
     },
     "execution_count": 3,
     "metadata": {},
     "output_type": "execute_result"
    }
   ],
   "source": [
    "# Second API query. I'm retrieving the total counts of complaints submitted by adddress since 2010.\n",
    "query1 = {'$select': 'incident_address, count(*) as total_counts',\n",
    "         '$group': 'incident_address',\n",
    "         '$order': 'total_counts DESC',\n",
    "         '$limit': 100000\n",
    "         }\n",
    "\n",
    "df1 = pd.read_csv(API + urlencode(query1))\n",
    "df1.head(10)"
   ]
  },
  {
   "cell_type": "markdown",
   "metadata": {},
   "source": [
    "This first selection gives us addresses in NYC which called 311 a *lot* of times since 2010. Let's do some further exploration: "
   ]
  },
  {
   "cell_type": "code",
   "execution_count": 4,
   "metadata": {},
   "outputs": [
    {
     "name": "stdout",
     "output_type": "stream",
     "text": [
      "99999\n",
      "4282947\n",
      "32\n"
     ]
    }
   ],
   "source": [
    "print(df1[\"incident_address\"].nunique())\n",
    "print(df1[\"total_counts\"].max())\n",
    "print(df1[\"total_counts\"].min())"
   ]
  },
  {
   "cell_type": "markdown",
   "metadata": {},
   "source": [
    "As expected, we pulled data for 99,999 addresses in NYC. The address with the most calls made over 4.2 million calls over the past 10 years; the address with the least made just 32. VIS HERE This is still a really huge range, so my next step is to filter it down some. \n",
    "\n",
    "Next, let's make a more filtered version of this data that just looks at addresses which made more than 1,000 311 calls. (This is an arbitrary number, but feels like a good break point to try.)"
   ]
  },
  {
   "cell_type": "code",
   "execution_count": 5,
   "metadata": {},
   "outputs": [
    {
     "name": "stdout",
     "output_type": "stream",
     "text": [
      "926\n"
     ]
    },
    {
     "data": {
      "text/html": [
       "<div>\n",
       "<style scoped>\n",
       "    .dataframe tbody tr th:only-of-type {\n",
       "        vertical-align: middle;\n",
       "    }\n",
       "\n",
       "    .dataframe tbody tr th {\n",
       "        vertical-align: top;\n",
       "    }\n",
       "\n",
       "    .dataframe thead th {\n",
       "        text-align: right;\n",
       "    }\n",
       "</style>\n",
       "<table border=\"1\" class=\"dataframe\">\n",
       "  <thead>\n",
       "    <tr style=\"text-align: right;\">\n",
       "      <th></th>\n",
       "      <th>incident_address</th>\n",
       "      <th>total_counts</th>\n",
       "    </tr>\n",
       "  </thead>\n",
       "  <tbody>\n",
       "    <tr>\n",
       "      <th>1</th>\n",
       "      <td>655 EAST  230 STREET</td>\n",
       "      <td>32561</td>\n",
       "    </tr>\n",
       "    <tr>\n",
       "      <th>2</th>\n",
       "      <td>89-21 ELMHURST AVENUE</td>\n",
       "      <td>16316</td>\n",
       "    </tr>\n",
       "    <tr>\n",
       "      <th>3</th>\n",
       "      <td>672 EAST  231 STREET</td>\n",
       "      <td>15709</td>\n",
       "    </tr>\n",
       "    <tr>\n",
       "      <th>4</th>\n",
       "      <td>34 ARDEN STREET</td>\n",
       "      <td>14561</td>\n",
       "    </tr>\n",
       "    <tr>\n",
       "      <th>5</th>\n",
       "      <td>78-15 PARSONS BOULEVARD</td>\n",
       "      <td>13873</td>\n",
       "    </tr>\n",
       "    <tr>\n",
       "      <th>...</th>\n",
       "      <td>...</td>\n",
       "      <td>...</td>\n",
       "    </tr>\n",
       "    <tr>\n",
       "      <th>97</th>\n",
       "      <td>2251 HOLLAND AVENUE</td>\n",
       "      <td>2574</td>\n",
       "    </tr>\n",
       "    <tr>\n",
       "      <th>98</th>\n",
       "      <td>644 RIVERSIDE DRIVE</td>\n",
       "      <td>2563</td>\n",
       "    </tr>\n",
       "    <tr>\n",
       "      <th>99</th>\n",
       "      <td>LEXINGTON AVENUE</td>\n",
       "      <td>2554</td>\n",
       "    </tr>\n",
       "    <tr>\n",
       "      <th>100</th>\n",
       "      <td>ATLANTIC AVENUE</td>\n",
       "      <td>2547</td>\n",
       "    </tr>\n",
       "    <tr>\n",
       "      <th>101</th>\n",
       "      <td>155 LINDEN BOULEVARD</td>\n",
       "      <td>2539</td>\n",
       "    </tr>\n",
       "  </tbody>\n",
       "</table>\n",
       "<p>100 rows × 2 columns</p>\n",
       "</div>"
      ],
      "text/plain": [
       "            incident_address  total_counts\n",
       "1       655 EAST  230 STREET         32561\n",
       "2      89-21 ELMHURST AVENUE         16316\n",
       "3       672 EAST  231 STREET         15709\n",
       "4            34 ARDEN STREET         14561\n",
       "5    78-15 PARSONS BOULEVARD         13873\n",
       "..                       ...           ...\n",
       "97       2251 HOLLAND AVENUE          2574\n",
       "98       644 RIVERSIDE DRIVE          2563\n",
       "99          LEXINGTON AVENUE          2554\n",
       "100          ATLANTIC AVENUE          2547\n",
       "101     155 LINDEN BOULEVARD          2539\n",
       "\n",
       "[100 rows x 2 columns]"
      ]
     },
     "execution_count": 5,
     "metadata": {},
     "output_type": "execute_result"
    }
   ],
   "source": [
    "repeat_callers = df1.query(\"total_counts > 1000\")\n",
    "print(repeat_callers[\"incident_address\"].nunique())\n",
    "top = repeat_callers.head(102)\n",
    "top = top.drop([0, 6])\n",
    "top"
   ]
  },
  {
   "cell_type": "code",
   "execution_count": 6,
   "metadata": {},
   "outputs": [
    {
     "data": {
      "image/png": "[encoded data removed]",
      "text/plain": [
       "<Figure size 640x480 with 1 Axes>"
      ]
     },
     "metadata": {},
     "output_type": "display_data"
    },
    {
     "data": {
      "text/plain": [
       "<ggplot: (8774546995421)>"
      ]
     },
     "execution_count": 6,
     "metadata": {},
     "output_type": "execute_result"
    }
   ],
   "source": [
    "ggplot(top, aes(x = \"incident_address\", y = \"total_counts\")) + geom_col() + coord_flip() + xlab(\"\") + scale_x_discrete(labels = \"\") + ylab(\"311 calls placed\") + ggtitle(\"NYC Top 100 Addresses for 311 Calls Placed, 2010-2020\")"
   ]
  },
  {
   "cell_type": "markdown",
   "metadata": {},
   "source": [
    "We now have just 926 addresses that made at least 1,000 calls since 2010. Some of these are obviously not real addresses: our top offender is the 'NA' designation, and we also see 'Broadway' in our top 10, which is a very long street and obviously doesn't designate an address. However, the other eight addresses here appear to be real street addresses, so we have some good data to work with. \n",
    "\n",
    "Next, I decided to focus on addresses that placed more than 10,000 calls. I want to try to figure out what these buildings are calling about and how those trends have changed over time. \n",
    "\n",
    "For my next API call, I'll pull all call records for this address in order to analyze trends a bit further. "
   ]
  },
  {
   "cell_type": "code",
   "execution_count": 7,
   "metadata": {},
   "outputs": [
    {
     "name": "stdout",
     "output_type": "stream",
     "text": [
      "105723\n"
     ]
    },
    {
     "data": {
      "text/html": [
       "<div>\n",
       "<style scoped>\n",
       "    .dataframe tbody tr th:only-of-type {\n",
       "        vertical-align: middle;\n",
       "    }\n",
       "\n",
       "    .dataframe tbody tr th {\n",
       "        vertical-align: top;\n",
       "    }\n",
       "\n",
       "    .dataframe thead th {\n",
       "        text-align: right;\n",
       "    }\n",
       "</style>\n",
       "<table border=\"1\" class=\"dataframe\">\n",
       "  <thead>\n",
       "    <tr style=\"text-align: right;\">\n",
       "      <th></th>\n",
       "      <th>incident_address</th>\n",
       "      <th>complaint_type</th>\n",
       "      <th>ym</th>\n",
       "      <th>total_counts</th>\n",
       "    </tr>\n",
       "  </thead>\n",
       "  <tbody>\n",
       "    <tr>\n",
       "      <th>0</th>\n",
       "      <td>655 EAST  230 STREET</td>\n",
       "      <td>Noise - Residential</td>\n",
       "      <td>2020-08-01</td>\n",
       "      <td>11813</td>\n",
       "    </tr>\n",
       "    <tr>\n",
       "      <th>1</th>\n",
       "      <td>655 EAST  230 STREET</td>\n",
       "      <td>Noise - Residential</td>\n",
       "      <td>2020-09-01</td>\n",
       "      <td>8091</td>\n",
       "    </tr>\n",
       "    <tr>\n",
       "      <th>2</th>\n",
       "      <td>672 EAST  231 STREET</td>\n",
       "      <td>Noise - Residential</td>\n",
       "      <td>2020-06-01</td>\n",
       "      <td>5321</td>\n",
       "    </tr>\n",
       "    <tr>\n",
       "      <th>3</th>\n",
       "      <td>655 EAST  230 STREET</td>\n",
       "      <td>Noise - Residential</td>\n",
       "      <td>2020-07-01</td>\n",
       "      <td>4912</td>\n",
       "    </tr>\n",
       "    <tr>\n",
       "      <th>4</th>\n",
       "      <td>655 EAST  230 STREET</td>\n",
       "      <td>Noise - Residential</td>\n",
       "      <td>2020-10-01</td>\n",
       "      <td>4377</td>\n",
       "    </tr>\n",
       "    <tr>\n",
       "      <th>5</th>\n",
       "      <td>672 EAST  231 STREET</td>\n",
       "      <td>Noise - Residential</td>\n",
       "      <td>2020-07-01</td>\n",
       "      <td>4224</td>\n",
       "    </tr>\n",
       "    <tr>\n",
       "      <th>6</th>\n",
       "      <td>672 EAST  231 STREET</td>\n",
       "      <td>Noise - Residential</td>\n",
       "      <td>2020-05-01</td>\n",
       "      <td>3999</td>\n",
       "    </tr>\n",
       "    <tr>\n",
       "      <th>7</th>\n",
       "      <td>655 EAST  230 STREET</td>\n",
       "      <td>Noise - Residential</td>\n",
       "      <td>2020-04-01</td>\n",
       "      <td>2121</td>\n",
       "    </tr>\n",
       "    <tr>\n",
       "      <th>8</th>\n",
       "      <td>655 EAST  230 STREET</td>\n",
       "      <td>Noise - Residential</td>\n",
       "      <td>2020-05-01</td>\n",
       "      <td>1172</td>\n",
       "    </tr>\n",
       "    <tr>\n",
       "      <th>9</th>\n",
       "      <td>672 EAST  231 STREET</td>\n",
       "      <td>Noise - Residential</td>\n",
       "      <td>2020-09-01</td>\n",
       "      <td>1162</td>\n",
       "    </tr>\n",
       "  </tbody>\n",
       "</table>\n",
       "</div>"
      ],
      "text/plain": [
       "       incident_address       complaint_type         ym  total_counts\n",
       "0  655 EAST  230 STREET  Noise - Residential 2020-08-01         11813\n",
       "1  655 EAST  230 STREET  Noise - Residential 2020-09-01          8091\n",
       "2  672 EAST  231 STREET  Noise - Residential 2020-06-01          5321\n",
       "3  655 EAST  230 STREET  Noise - Residential 2020-07-01          4912\n",
       "4  655 EAST  230 STREET  Noise - Residential 2020-10-01          4377\n",
       "5  672 EAST  231 STREET  Noise - Residential 2020-07-01          4224\n",
       "6  672 EAST  231 STREET  Noise - Residential 2020-05-01          3999\n",
       "7  655 EAST  230 STREET  Noise - Residential 2020-04-01          2121\n",
       "8  655 EAST  230 STREET  Noise - Residential 2020-05-01          1172\n",
       "9  672 EAST  231 STREET  Noise - Residential 2020-09-01          1162"
      ]
     },
     "execution_count": 7,
     "metadata": {},
     "output_type": "execute_result"
    }
   ],
   "source": [
    "query2 = {'$select': 'incident_address, complaint_type, date_trunc_ym(created_date) as ym, count(*) as total_counts',\n",
    "         '$where': 'incident_address=\"655 EAST  230 STREET\" or incident_address=\"89-21 ELMHURST AVENUE\" or incident_address=\"672 EAST  231 STREET\" or incident_address=\"34 ARDEN STREET\" or incident_address=\"78-15 PARSONS BOULEVARD\" or incident_address=\"1025 BOYNTON AVENUE\"',\n",
    "         '$group': 'incident_address, complaint_type, ym',\n",
    "         '$order': 'total_counts DESC',\n",
    "         '$limit': 100000\n",
    "         }\n",
    "\n",
    "top_caller = pd.read_csv(API + urlencode(query2),\n",
    "                         parse_dates = ['ym'])\n",
    "\n",
    "print(top_caller[\"total_counts\"].sum())\n",
    "top_caller.head(10)"
   ]
  },
  {
   "cell_type": "code",
   "execution_count": 8,
   "metadata": {},
   "outputs": [
    {
     "name": "stdout",
     "output_type": "stream",
     "text": [
      "complaint_type\n",
      "Noise - Residential            50271\n",
      "HEAT/HOT WATER                 22006\n",
      "HEATING                        10110\n",
      "Illegal Parking                 5248\n",
      "Noise - Vehicle                 4750\n",
      "UNSANITARY CONDITION            2593\n",
      "Non-Emergency Police Matter     2042\n",
      "Noise                           1930\n",
      "Noise - Street/Sidewalk         1054\n",
      "DOOR/WINDOW                      633\n",
      "Name: total_counts, dtype: int64\n",
      "ym\n",
      "2020-08-01    13089\n",
      "2020-09-01    11020\n",
      "2020-07-01     9648\n",
      "2020-06-01     5855\n",
      "2020-05-01     5553\n",
      "2020-10-01     4580\n",
      "2020-04-01     2468\n",
      "2019-03-01     1769\n",
      "2019-02-01     1572\n",
      "2016-02-01     1272\n",
      "Name: total_counts, dtype: int64\n",
      "complaint_type       ym        \n",
      "Noise - Residential  2020-08-01    12468\n",
      "                     2020-09-01     9258\n",
      "                     2020-07-01     9141\n",
      "                     2020-06-01     5340\n",
      "                     2020-05-01     5173\n",
      "                     2020-10-01     4378\n",
      "                     2020-04-01     2124\n",
      "HEAT/HOT WATER       2016-02-01     1047\n",
      "                     2017-11-01     1034\n",
      "                     2016-03-01      967\n",
      "Name: total_counts, dtype: int64\n"
     ]
    }
   ],
   "source": [
    "print(top_caller.groupby(\"complaint_type\")[\"total_counts\"].sum().sort_values(ascending=False).head(10))\n",
    "\n",
    "print(top_caller.groupby(\"ym\")[\"total_counts\"].sum().sort_values(ascending=False).head(10))\n",
    "\n",
    "print(top_caller.groupby([\"complaint_type\", \"ym\"])[\"total_counts\"].sum().sort_values(ascending=False).head(10))"
   ]
  },
  {
   "cell_type": "markdown",
   "metadata": {},
   "source": [
    "Overall, we can see that the vast majority of the calls placed by these six buildings were either 1) noise complaints, 2) heat/hot water  complaints, or 3) other heating complaints. "
   ]
  },
  {
   "cell_type": "code",
   "execution_count": 9,
   "metadata": {
    "scrolled": true
   },
   "outputs": [
    {
     "data": {
      "image/png": "[encoded data removed]",
      "text/plain": [
       "<Figure size 640x480 with 1 Axes>"
      ]
     },
     "metadata": {},
     "output_type": "display_data"
    },
    {
     "data": {
      "text/plain": [
       "<ggplot: (8774548789709)>"
      ]
     },
     "execution_count": 9,
     "metadata": {},
     "output_type": "execute_result"
    }
   ],
   "source": [
    "ggplot(top_caller, aes(x = 'ym', y = 'total_counts', fill = \"incident_address\")) + geom_col(position = \"stack\") + ggtitle(\"NYC addresses with >10,000 calls placed to 311, 2010-2020\") + xlab(\"\") + ylab(\"Calls placed\") + scale_x_date(date_breaks = \"12 months\", date_labels = \"%Y\") + scale_fill_discrete(name = \"Incident Address\")"
   ]
  },
  {
   "cell_type": "code",
   "execution_count": null,
   "metadata": {},
   "outputs": [],
   "source": []
  }
 ],
 "metadata": {
  "kernelspec": {
   "display_name": "Python 3",
   "language": "python",
   "name": "python3"
  },
  "language_info": {
   "codemirror_mode": {
    "name": "ipython",
    "version": 3
   },
   "file_extension": ".py",
   "mimetype": "text/x-python",
   "name": "python",
   "nbconvert_exporter": "python",
   "pygments_lexer": "ipython3",
   "version": "3.7.6"
  }
 },
 "nbformat": 4,
 "nbformat_minor": 4
}
