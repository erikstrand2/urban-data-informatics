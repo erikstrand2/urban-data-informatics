{
 "cells": [
  {
   "cell_type": "markdown",
   "metadata": {},
   "source": [
    "PLA6619 Introduction to Urban Data and Informatics I \\\n",
    "Tuesday, September 29, 2020 \\\n",
    "Week04\n",
    "\n",
    "# Lab 03\n",
    "\n",
    "Please submit __Lab02.ipynb with outputs__ on Canvas after this lab session. It doesn't need to be perfect, but your submission will be reflected in attendance and participation. The solution of this notebook will be shared by end of today.\n",
    "\n",
    "1. More data manipultation practices with Pandas\n",
    "2. Exploratory data analysis and basic data viz using Matplotlib\n",
    "\n",
    "## Resource: \n",
    "* Python Data Science Handbook: Essential Tools for Working with Data by Jake VanderPlas (https://jakevdp.github.io/PythonDataScienceHandbook/). \n",
    "* Matplotlib resources (https://matplotlib.org/)\n",
    "* Python colors (https://matplotlib.org/gallery/color/named_colors.html)"
   ]
  },
  {
   "cell_type": "markdown",
   "metadata": {},
   "source": [
    "# Load required packages"
   ]
  },
  {
   "cell_type": "code",
   "execution_count": 1,
   "metadata": {},
   "outputs": [],
   "source": [
    "# To ignore unimporant system warnings\n",
    "import warnings\n",
    "warnings.filterwarnings(\"ignore\")\n",
    "\n",
    "# We will use Pandas, Numpy, and Matplotlib which is a package for visualization with Python\n",
    "import pandas as pd\n",
    "import numpy as np\n",
    "import matplotlib.pyplot as plt\n",
    "\n",
    "# A magic functin that renders the figure in a notebook \n",
    "%matplotlib inline "
   ]
  },
  {
   "cell_type": "markdown",
   "metadata": {},
   "source": [
    "# PART 1. Data preparation"
   ]
  },
  {
   "cell_type": "markdown",
   "metadata": {},
   "source": [
    "# 1. Load Datasets\n",
    "\n",
    "* 'nyc_covid_updated_09272020.csv', NYC COVID-19 data at zipcode level, updated September 27th 2020 (https://github.com/nychealth/coronavirus-data/blob/master/data-by-modzcta.csv)\n",
    "* 'nyc_var.csv', NYC zipcode level median income and average household size. The original data source is ACS. \n",
    "* FYI, the second data has a duplicate data issue."
   ]
  },
  {
   "cell_type": "code",
   "execution_count": 2,
   "metadata": {},
   "outputs": [
    {
     "data": {
      "text/html": [
       "<div>\n",
       "<style scoped>\n",
       "    .dataframe tbody tr th:only-of-type {\n",
       "        vertical-align: middle;\n",
       "    }\n",
       "\n",
       "    .dataframe tbody tr th {\n",
       "        vertical-align: top;\n",
       "    }\n",
       "\n",
       "    .dataframe thead th {\n",
       "        text-align: right;\n",
       "    }\n",
       "</style>\n",
       "<table border=\"1\" class=\"dataframe\">\n",
       "  <thead>\n",
       "    <tr style=\"text-align: right;\">\n",
       "      <th></th>\n",
       "      <th>Zipcode</th>\n",
       "      <th>NEIGHBORHOOD_NAME</th>\n",
       "      <th>BOROUGH_GROUP</th>\n",
       "      <th>COVID_CASE_COUNT</th>\n",
       "      <th>COVID_CASE_RATE</th>\n",
       "      <th>POP_DENOMINATOR</th>\n",
       "      <th>COVID_DEATH_COUNT</th>\n",
       "      <th>COVID_DEATH_RATE</th>\n",
       "      <th>PERCENT_POSITIVE</th>\n",
       "      <th>TOTAL_COVID_TESTS</th>\n",
       "    </tr>\n",
       "  </thead>\n",
       "  <tbody>\n",
       "    <tr>\n",
       "      <th>0</th>\n",
       "      <td>10001</td>\n",
       "      <td>Chelsea/NoMad/West Chelsea</td>\n",
       "      <td>Manhattan</td>\n",
       "      <td>459</td>\n",
       "      <td>1947.97</td>\n",
       "      <td>23563.03</td>\n",
       "      <td>27</td>\n",
       "      <td>114.59</td>\n",
       "      <td>5.47</td>\n",
       "      <td>8395</td>\n",
       "    </tr>\n",
       "    <tr>\n",
       "      <th>1</th>\n",
       "      <td>10002</td>\n",
       "      <td>Chinatown/Lower East Side</td>\n",
       "      <td>Manhattan</td>\n",
       "      <td>1372</td>\n",
       "      <td>1787.50</td>\n",
       "      <td>76755.41</td>\n",
       "      <td>161</td>\n",
       "      <td>209.76</td>\n",
       "      <td>6.55</td>\n",
       "      <td>20933</td>\n",
       "    </tr>\n",
       "  </tbody>\n",
       "</table>\n",
       "</div>"
      ],
      "text/plain": [
       "  Zipcode           NEIGHBORHOOD_NAME BOROUGH_GROUP  COVID_CASE_COUNT  \\\n",
       "0   10001  Chelsea/NoMad/West Chelsea     Manhattan               459   \n",
       "1   10002   Chinatown/Lower East Side     Manhattan              1372   \n",
       "\n",
       "   COVID_CASE_RATE  POP_DENOMINATOR  COVID_DEATH_COUNT  COVID_DEATH_RATE  \\\n",
       "0          1947.97         23563.03                 27            114.59   \n",
       "1          1787.50         76755.41                161            209.76   \n",
       "\n",
       "   PERCENT_POSITIVE  TOTAL_COVID_TESTS  \n",
       "0              5.47               8395  \n",
       "1              6.55              20933  "
      ]
     },
     "execution_count": 2,
     "metadata": {},
     "output_type": "execute_result"
    }
   ],
   "source": [
    "# Load covid-19 data\n",
    "# If you already know the column information of the dataset, you can specify data type while loading, by using dtype\n",
    "df_covid = pd.read_csv('../data/nyc_covid_upated_09272020.csv', dtype={'Zipcode':str})\n",
    "df_covid.head(2)"
   ]
  },
  {
   "cell_type": "code",
   "execution_count": 16,
   "metadata": {
    "scrolled": true
   },
   "outputs": [
    {
     "data": {
      "text/html": [
       "<div>\n",
       "<style scoped>\n",
       "    .dataframe tbody tr th:only-of-type {\n",
       "        vertical-align: middle;\n",
       "    }\n",
       "\n",
       "    .dataframe tbody tr th {\n",
       "        vertical-align: top;\n",
       "    }\n",
       "\n",
       "    .dataframe thead th {\n",
       "        text-align: right;\n",
       "    }\n",
       "</style>\n",
       "<table border=\"1\" class=\"dataframe\">\n",
       "  <thead>\n",
       "    <tr style=\"text-align: right;\">\n",
       "      <th></th>\n",
       "      <th>Zipcode</th>\n",
       "      <th>med_income</th>\n",
       "      <th>avg_hh_size</th>\n",
       "    </tr>\n",
       "  </thead>\n",
       "  <tbody>\n",
       "    <tr>\n",
       "      <th>0</th>\n",
       "      <td>10001</td>\n",
       "      <td>88526.0</td>\n",
       "      <td>2.225</td>\n",
       "    </tr>\n",
       "    <tr>\n",
       "      <th>1</th>\n",
       "      <td>10002</td>\n",
       "      <td>35859.0</td>\n",
       "      <td>2.180</td>\n",
       "    </tr>\n",
       "  </tbody>\n",
       "</table>\n",
       "</div>"
      ],
      "text/plain": [
       "  Zipcode  med_income  avg_hh_size\n",
       "0   10001     88526.0        2.225\n",
       "1   10002     35859.0        2.180"
      ]
     },
     "execution_count": 16,
     "metadata": {},
     "output_type": "execute_result"
    }
   ],
   "source": [
    "# Load neighborhood variable data\n",
    "df_var = pd.read_csv('../data/nyc_var.csv', dtype={'Zipcode':str})\n",
    "df_var.head(2)"
   ]
  },
  {
   "cell_type": "markdown",
   "metadata": {},
   "source": [
    "# 2. Check duplicate data\n",
    "* There should not be repeated zipcodes in 'Zipcode' column.\n",
    "* Syntax:\n",
    "    \n",
    "       DATAFRAME_NAME.dupliated() --> this returns boolean series with true value for each duplicated row\n",
    "       DATAFRAME_NAME.dupliated().sum() --> this returns total number of duplicated rows"
   ]
  },
  {
   "cell_type": "code",
   "execution_count": 17,
   "metadata": {},
   "outputs": [
    {
     "name": "stdout",
     "output_type": "stream",
     "text": [
      "0      False\n",
      "1      False\n",
      "2      False\n",
      "3      False\n",
      "4      False\n",
      "       ...  \n",
      "172    False\n",
      "173    False\n",
      "174    False\n",
      "175    False\n",
      "176    False\n",
      "Length: 177, dtype: bool\n",
      "0\n",
      "0      False\n",
      "1      False\n",
      "2      False\n",
      "3      False\n",
      "4      False\n",
      "       ...  \n",
      "179     True\n",
      "180     True\n",
      "181     True\n",
      "182     True\n",
      "183     True\n",
      "Length: 184, dtype: bool\n",
      "7\n"
     ]
    }
   ],
   "source": [
    "print(df_covid.duplicated())\n",
    "print(df_covid.duplicated().sum())\n",
    "\n",
    "print(df_var.duplicated())\n",
    "print(df_var.duplicated().sum())"
   ]
  },
  {
   "cell_type": "markdown",
   "metadata": {},
   "source": [
    "# 3. Remove duplicated rows\n",
    "* Syntax:\n",
    "\n",
    "        DATAFRAME_NAME.drop_duplicates()"
   ]
  },
  {
   "cell_type": "code",
   "execution_count": 18,
   "metadata": {},
   "outputs": [
    {
     "name": "stdout",
     "output_type": "stream",
     "text": [
      "184\n",
      "177\n"
     ]
    }
   ],
   "source": [
    "print(len(df_var))\n",
    "df_var = df_var.drop_duplicates()\n",
    "print(len(df_var))"
   ]
  },
  {
   "cell_type": "markdown",
   "metadata": {},
   "source": [
    "# 4. Join two datasets\n",
    "![title](https://pandas.pydata.org/pandas-docs/stable/_images/merging_merge_on_key.png)\n",
    "* We would like to join two tables (df_covid and df_var) based on 'Zipcode' column\n",
    "* If you want to learn more about mege, join, or concatenate functions of Pandas, here is a useful link (https://pandas.pydata.org/pandas-docs/stable/user_guide/merging.html) "
   ]
  },
  {
   "cell_type": "code",
   "execution_count": 21,
   "metadata": {},
   "outputs": [
    {
     "data": {
      "text/html": [
       "<div>\n",
       "<style scoped>\n",
       "    .dataframe tbody tr th:only-of-type {\n",
       "        vertical-align: middle;\n",
       "    }\n",
       "\n",
       "    .dataframe tbody tr th {\n",
       "        vertical-align: top;\n",
       "    }\n",
       "\n",
       "    .dataframe thead th {\n",
       "        text-align: right;\n",
       "    }\n",
       "</style>\n",
       "<table border=\"1\" class=\"dataframe\">\n",
       "  <thead>\n",
       "    <tr style=\"text-align: right;\">\n",
       "      <th></th>\n",
       "      <th>Zipcode</th>\n",
       "      <th>NEIGHBORHOOD_NAME</th>\n",
       "      <th>BOROUGH_GROUP</th>\n",
       "      <th>COVID_CASE_COUNT</th>\n",
       "      <th>COVID_CASE_RATE</th>\n",
       "      <th>POP_DENOMINATOR</th>\n",
       "      <th>COVID_DEATH_COUNT</th>\n",
       "      <th>COVID_DEATH_RATE</th>\n",
       "      <th>PERCENT_POSITIVE</th>\n",
       "      <th>TOTAL_COVID_TESTS</th>\n",
       "      <th>med_income</th>\n",
       "      <th>avg_hh_size</th>\n",
       "    </tr>\n",
       "  </thead>\n",
       "  <tbody>\n",
       "    <tr>\n",
       "      <th>0</th>\n",
       "      <td>10001</td>\n",
       "      <td>Chelsea/NoMad/West Chelsea</td>\n",
       "      <td>Manhattan</td>\n",
       "      <td>459</td>\n",
       "      <td>1947.97</td>\n",
       "      <td>23563.03</td>\n",
       "      <td>27</td>\n",
       "      <td>114.59</td>\n",
       "      <td>5.47</td>\n",
       "      <td>8395</td>\n",
       "      <td>88526.0</td>\n",
       "      <td>2.225</td>\n",
       "    </tr>\n",
       "    <tr>\n",
       "      <th>1</th>\n",
       "      <td>10002</td>\n",
       "      <td>Chinatown/Lower East Side</td>\n",
       "      <td>Manhattan</td>\n",
       "      <td>1372</td>\n",
       "      <td>1787.50</td>\n",
       "      <td>76755.41</td>\n",
       "      <td>161</td>\n",
       "      <td>209.76</td>\n",
       "      <td>6.55</td>\n",
       "      <td>20933</td>\n",
       "      <td>35859.0</td>\n",
       "      <td>2.180</td>\n",
       "    </tr>\n",
       "    <tr>\n",
       "      <th>2</th>\n",
       "      <td>10003</td>\n",
       "      <td>East Village/Gramercy/Greenwich Village</td>\n",
       "      <td>Manhattan</td>\n",
       "      <td>589</td>\n",
       "      <td>1094.76</td>\n",
       "      <td>53801.62</td>\n",
       "      <td>35</td>\n",
       "      <td>65.05</td>\n",
       "      <td>3.06</td>\n",
       "      <td>19267</td>\n",
       "      <td>112131.0</td>\n",
       "      <td>1.700</td>\n",
       "    </tr>\n",
       "    <tr>\n",
       "      <th>3</th>\n",
       "      <td>10004</td>\n",
       "      <td>Financial District</td>\n",
       "      <td>Manhattan</td>\n",
       "      <td>45</td>\n",
       "      <td>1232.67</td>\n",
       "      <td>3650.61</td>\n",
       "      <td>1</td>\n",
       "      <td>27.39</td>\n",
       "      <td>4.28</td>\n",
       "      <td>1051</td>\n",
       "      <td>157645.0</td>\n",
       "      <td>1.820</td>\n",
       "    </tr>\n",
       "    <tr>\n",
       "      <th>4</th>\n",
       "      <td>10005</td>\n",
       "      <td>Financial District</td>\n",
       "      <td>Manhattan</td>\n",
       "      <td>110</td>\n",
       "      <td>1310.13</td>\n",
       "      <td>8396.11</td>\n",
       "      <td>2</td>\n",
       "      <td>23.82</td>\n",
       "      <td>4.21</td>\n",
       "      <td>2611</td>\n",
       "      <td>173333.0</td>\n",
       "      <td>2.020</td>\n",
       "    </tr>\n",
       "  </tbody>\n",
       "</table>\n",
       "</div>"
      ],
      "text/plain": [
       "  Zipcode                        NEIGHBORHOOD_NAME BOROUGH_GROUP  \\\n",
       "0   10001               Chelsea/NoMad/West Chelsea     Manhattan   \n",
       "1   10002                Chinatown/Lower East Side     Manhattan   \n",
       "2   10003  East Village/Gramercy/Greenwich Village     Manhattan   \n",
       "3   10004                       Financial District     Manhattan   \n",
       "4   10005                       Financial District     Manhattan   \n",
       "\n",
       "   COVID_CASE_COUNT  COVID_CASE_RATE  POP_DENOMINATOR  COVID_DEATH_COUNT  \\\n",
       "0               459          1947.97         23563.03                 27   \n",
       "1              1372          1787.50         76755.41                161   \n",
       "2               589          1094.76         53801.62                 35   \n",
       "3                45          1232.67          3650.61                  1   \n",
       "4               110          1310.13          8396.11                  2   \n",
       "\n",
       "   COVID_DEATH_RATE  PERCENT_POSITIVE  TOTAL_COVID_TESTS  med_income  \\\n",
       "0            114.59              5.47               8395     88526.0   \n",
       "1            209.76              6.55              20933     35859.0   \n",
       "2             65.05              3.06              19267    112131.0   \n",
       "3             27.39              4.28               1051    157645.0   \n",
       "4             23.82              4.21               2611    173333.0   \n",
       "\n",
       "   avg_hh_size  \n",
       "0        2.225  \n",
       "1        2.180  \n",
       "2        1.700  \n",
       "3        1.820  \n",
       "4        2.020  "
      ]
     },
     "execution_count": 21,
     "metadata": {},
     "output_type": "execute_result"
    }
   ],
   "source": [
    "df = pd.merge(df_covid, df_var, on = 'Zipcode', how='left')\n",
    "df.head()"
   ]
  },
  {
   "cell_type": "markdown",
   "metadata": {},
   "source": [
    "# PART 2. Exploratory Data Analysis\n",
    "# 1. Descriptive Statistics"
   ]
  },
  {
   "cell_type": "code",
   "execution_count": 22,
   "metadata": {},
   "outputs": [
    {
     "data": {
      "text/html": [
       "<div>\n",
       "<style scoped>\n",
       "    .dataframe tbody tr th:only-of-type {\n",
       "        vertical-align: middle;\n",
       "    }\n",
       "\n",
       "    .dataframe tbody tr th {\n",
       "        vertical-align: top;\n",
       "    }\n",
       "\n",
       "    .dataframe thead th {\n",
       "        text-align: right;\n",
       "    }\n",
       "</style>\n",
       "<table border=\"1\" class=\"dataframe\">\n",
       "  <thead>\n",
       "    <tr style=\"text-align: right;\">\n",
       "      <th></th>\n",
       "      <th>COVID_CASE_COUNT</th>\n",
       "      <th>COVID_CASE_RATE</th>\n",
       "      <th>POP_DENOMINATOR</th>\n",
       "      <th>COVID_DEATH_COUNT</th>\n",
       "      <th>COVID_DEATH_RATE</th>\n",
       "      <th>PERCENT_POSITIVE</th>\n",
       "      <th>TOTAL_COVID_TESTS</th>\n",
       "      <th>med_income</th>\n",
       "      <th>avg_hh_size</th>\n",
       "    </tr>\n",
       "  </thead>\n",
       "  <tbody>\n",
       "    <tr>\n",
       "      <th>count</th>\n",
       "      <td>177.0</td>\n",
       "      <td>177.0</td>\n",
       "      <td>177.0</td>\n",
       "      <td>177.0</td>\n",
       "      <td>177.0</td>\n",
       "      <td>177.0</td>\n",
       "      <td>177.0</td>\n",
       "      <td>177.0</td>\n",
       "      <td>177.0</td>\n",
       "    </tr>\n",
       "    <tr>\n",
       "      <th>mean</th>\n",
       "      <td>1309.0</td>\n",
       "      <td>2666.0</td>\n",
       "      <td>47426.0</td>\n",
       "      <td>108.0</td>\n",
       "      <td>214.0</td>\n",
       "      <td>10.0</td>\n",
       "      <td>13206.0</td>\n",
       "      <td>73905.0</td>\n",
       "      <td>3.0</td>\n",
       "    </tr>\n",
       "    <tr>\n",
       "      <th>std</th>\n",
       "      <td>921.0</td>\n",
       "      <td>934.0</td>\n",
       "      <td>26411.0</td>\n",
       "      <td>86.0</td>\n",
       "      <td>114.0</td>\n",
       "      <td>4.0</td>\n",
       "      <td>7298.0</td>\n",
       "      <td>36878.0</td>\n",
       "      <td>1.0</td>\n",
       "    </tr>\n",
       "    <tr>\n",
       "      <th>min</th>\n",
       "      <td>45.0</td>\n",
       "      <td>686.0</td>\n",
       "      <td>3458.0</td>\n",
       "      <td>0.0</td>\n",
       "      <td>0.0</td>\n",
       "      <td>3.0</td>\n",
       "      <td>1033.0</td>\n",
       "      <td>21149.0</td>\n",
       "      <td>2.0</td>\n",
       "    </tr>\n",
       "    <tr>\n",
       "      <th>25%</th>\n",
       "      <td>616.0</td>\n",
       "      <td>1952.0</td>\n",
       "      <td>26614.0</td>\n",
       "      <td>42.0</td>\n",
       "      <td>142.0</td>\n",
       "      <td>7.0</td>\n",
       "      <td>7627.0</td>\n",
       "      <td>50832.0</td>\n",
       "      <td>2.0</td>\n",
       "    </tr>\n",
       "    <tr>\n",
       "      <th>50%</th>\n",
       "      <td>1001.0</td>\n",
       "      <td>2724.0</td>\n",
       "      <td>43030.0</td>\n",
       "      <td>86.0</td>\n",
       "      <td>206.0</td>\n",
       "      <td>10.0</td>\n",
       "      <td>11759.0</td>\n",
       "      <td>66483.0</td>\n",
       "      <td>3.0</td>\n",
       "    </tr>\n",
       "    <tr>\n",
       "      <th>75%</th>\n",
       "      <td>1848.0</td>\n",
       "      <td>3341.0</td>\n",
       "      <td>67089.0</td>\n",
       "      <td>154.0</td>\n",
       "      <td>266.0</td>\n",
       "      <td>13.0</td>\n",
       "      <td>18769.0</td>\n",
       "      <td>88526.0</td>\n",
       "      <td>3.0</td>\n",
       "    </tr>\n",
       "    <tr>\n",
       "      <th>max</th>\n",
       "      <td>5168.0</td>\n",
       "      <td>4846.0</td>\n",
       "      <td>111594.0</td>\n",
       "      <td>447.0</td>\n",
       "      <td>717.0</td>\n",
       "      <td>16.0</td>\n",
       "      <td>35286.0</td>\n",
       "      <td>250001.0</td>\n",
       "      <td>4.0</td>\n",
       "    </tr>\n",
       "  </tbody>\n",
       "</table>\n",
       "</div>"
      ],
      "text/plain": [
       "       COVID_CASE_COUNT  COVID_CASE_RATE  POP_DENOMINATOR  COVID_DEATH_COUNT  \\\n",
       "count             177.0            177.0            177.0              177.0   \n",
       "mean             1309.0           2666.0          47426.0              108.0   \n",
       "std               921.0            934.0          26411.0               86.0   \n",
       "min                45.0            686.0           3458.0                0.0   \n",
       "25%               616.0           1952.0          26614.0               42.0   \n",
       "50%              1001.0           2724.0          43030.0               86.0   \n",
       "75%              1848.0           3341.0          67089.0              154.0   \n",
       "max              5168.0           4846.0         111594.0              447.0   \n",
       "\n",
       "       COVID_DEATH_RATE  PERCENT_POSITIVE  TOTAL_COVID_TESTS  med_income  \\\n",
       "count             177.0             177.0              177.0       177.0   \n",
       "mean              214.0              10.0            13206.0     73905.0   \n",
       "std               114.0               4.0             7298.0     36878.0   \n",
       "min                 0.0               3.0             1033.0     21149.0   \n",
       "25%               142.0               7.0             7627.0     50832.0   \n",
       "50%               206.0              10.0            11759.0     66483.0   \n",
       "75%               266.0              13.0            18769.0     88526.0   \n",
       "max               717.0              16.0            35286.0    250001.0   \n",
       "\n",
       "       avg_hh_size  \n",
       "count        177.0  \n",
       "mean           3.0  \n",
       "std            1.0  \n",
       "min            2.0  \n",
       "25%            2.0  \n",
       "50%            3.0  \n",
       "75%            3.0  \n",
       "max            4.0  "
      ]
     },
     "execution_count": 22,
     "metadata": {},
     "output_type": "execute_result"
    }
   ],
   "source": [
    "df.describe().round()"
   ]
  },
  {
   "cell_type": "markdown",
   "metadata": {},
   "source": [
    "# 2. Histogram"
   ]
  },
  {
   "cell_type": "code",
   "execution_count": 23,
   "metadata": {},
   "outputs": [
    {
     "data": {
      "text/plain": [
       "<matplotlib.axes._subplots.AxesSubplot at 0x7faf499d9f90>"
      ]
     },
     "execution_count": 23,
     "metadata": {},
     "output_type": "execute_result"
    },
    {
     "data": {
      "image/png": "[encoded data removed]",
      "text/plain": [
       "<Figure size 432x288 with 1 Axes>"
      ]
     },
     "metadata": {
      "needs_background": "light"
     },
     "output_type": "display_data"
    }
   ],
   "source": [
    "fig = plt.figure(figsize = (6,4))\n",
    "df['COVID_CASE_RATE'].hist()"
   ]
  },
  {
   "cell_type": "code",
   "execution_count": 28,
   "metadata": {},
   "outputs": [
    {
     "data": {
      "text/plain": [
       "<matplotlib.legend.Legend at 0x7faf49f9ded0>"
      ]
     },
     "execution_count": 28,
     "metadata": {},
     "output_type": "execute_result"
    },
    {
     "data": {
      "image/png": "[encoded data removed]",
      "text/plain": [
       "<Figure size 432x288 with 1 Axes>"
      ]
     },
     "metadata": {
      "needs_background": "light"
     },
     "output_type": "display_data"
    }
   ],
   "source": [
    "fig = plt.figure(figsize = (6,4))\n",
    "df['COVID_CASE_RATE'].hist(bins = 20, color = 'Purple', edgecolor = 'k', linewidth = 0.5, alpha = 0.75)\n",
    "plt.grid(b = False)\n",
    "plt.axvline(df['COVID_CASE_RATE'].mean(), color = 'Gold', linewidth = 1, linestyle = '--', label = 'Citywide mean')\n",
    "plt.xlabel('COVID case rate')\n",
    "plt.ylabel('# of neighborhoods')\n",
    "plt.legend()"
   ]
  },
  {
   "cell_type": "markdown",
   "metadata": {},
   "source": [
    "# 3. Plotting multiple plots at the same time"
   ]
  },
  {
   "cell_type": "code",
   "execution_count": 29,
   "metadata": {},
   "outputs": [
    {
     "data": {
      "image/png": "[encoded data removed]",
      "text/plain": [
       "<Figure size 864x504 with 4 Axes>"
      ]
     },
     "metadata": {
      "needs_background": "light"
     },
     "output_type": "display_data"
    }
   ],
   "source": [
    "plt.figure(figsize=(12,7))\n",
    "\n",
    "plt.subplot(2,2,1)\n",
    "df['COVID_CASE_RATE'].hist(bins = 20, color = 'Purple', edgecolor = 'k', linewidth = 0.5, alpha = 0.75)\n",
    "plt.title('COVID case rate in NYC (Zipcode level)')\n",
    "plt.grid(b = False)\n",
    "\n",
    "plt.subplot(2,2,2)\n",
    "df['COVID_DEATH_RATE'].hist(bins = 20, color = 'Red', edgecolor = 'k', linewidth = 0.5, alpha = 0.75)\n",
    "plt.title('COVID death rate in NYC (Zipcode level)')\n",
    "plt.grid(b = False)\n",
    "\n",
    "plt.subplot(2,2,3)\n",
    "df['PERCENT_POSITIVE'].hist(bins = 20, color = 'Blue', edgecolor = 'k', linewidth = 0.5, alpha = 0.75)\n",
    "plt.title('COVID positivity rate in NYC (Zipcode level)')\n",
    "plt.grid(b = False)\n",
    "\n",
    "plt.subplot(2,2,4)\n",
    "df['TOTAL_COVID_TESTS'].hist(bins = 20, color = 'Green', edgecolor = 'k', linewidth = 0.5, alpha = 0.75)\n",
    "plt.title('COVID total tests in NYC (Zipcode level)')\n",
    "plt.grid(b = False)"
   ]
  },
  {
   "cell_type": "markdown",
   "metadata": {},
   "source": [
    "# 4. Scatter plot\n",
    "* Syntax:\n",
    "\n",
    "        plt.scatter(DATAFRAME['COLUMN1'],DATAFRAME['COLUMN2'])"
   ]
  },
  {
   "cell_type": "code",
   "execution_count": 33,
   "metadata": {},
   "outputs": [
    {
     "ename": "TypeError",
     "evalue": "from_bounds() argument after * must be an iterable, not int",
     "output_type": "error",
     "traceback": [
      "\u001b[0;31m---------------------------------------------------------------------------\u001b[0m",
      "\u001b[0;31mTypeError\u001b[0m                                 Traceback (most recent call last)",
      "\u001b[0;32m<ipython-input-33-8370e23aa339>\u001b[0m in \u001b[0;36m<module>\u001b[0;34m\u001b[0m\n\u001b[0;32m----> 1\u001b[0;31m \u001b[0mplt\u001b[0m\u001b[0;34m.\u001b[0m\u001b[0mfigure\u001b[0m\u001b[0;34m(\u001b[0m\u001b[0;36m6\u001b[0m\u001b[0;34m,\u001b[0m\u001b[0;36m4\u001b[0m\u001b[0;34m)\u001b[0m\u001b[0;34m\u001b[0m\u001b[0;34m\u001b[0m\u001b[0m\n\u001b[0m\u001b[1;32m      2\u001b[0m \u001b[0;34m\u001b[0m\u001b[0m\n\u001b[1;32m      3\u001b[0m \u001b[0mplt\u001b[0m\u001b[0;34m.\u001b[0m\u001b[0mscatter\u001b[0m\u001b[0;34m(\u001b[0m\u001b[0mdf\u001b[0m\u001b[0;34m[\u001b[0m\u001b[0;34m'TOTAL_COVID_TESTS'\u001b[0m\u001b[0;34m]\u001b[0m\u001b[0;34m,\u001b[0m \u001b[0mdf\u001b[0m\u001b[0;34m[\u001b[0m\u001b[0;34m'COVID_CASE_RATE'\u001b[0m\u001b[0;34m]\u001b[0m\u001b[0;34m)\u001b[0m\u001b[0;34m\u001b[0m\u001b[0;34m\u001b[0m\u001b[0m\n",
      "\u001b[0;32m~/opt/anaconda3/lib/python3.7/site-packages/matplotlib/pyplot.py\u001b[0m in \u001b[0;36mfigure\u001b[0;34m(num, figsize, dpi, facecolor, edgecolor, frameon, FigureClass, clear, **kwargs)\u001b[0m\n\u001b[1;32m    543\u001b[0m                                         \u001b[0mframeon\u001b[0m\u001b[0;34m=\u001b[0m\u001b[0mframeon\u001b[0m\u001b[0;34m,\u001b[0m\u001b[0;34m\u001b[0m\u001b[0;34m\u001b[0m\u001b[0m\n\u001b[1;32m    544\u001b[0m                                         \u001b[0mFigureClass\u001b[0m\u001b[0;34m=\u001b[0m\u001b[0mFigureClass\u001b[0m\u001b[0;34m,\u001b[0m\u001b[0;34m\u001b[0m\u001b[0;34m\u001b[0m\u001b[0m\n\u001b[0;32m--> 545\u001b[0;31m                                         **kwargs)\n\u001b[0m\u001b[1;32m    546\u001b[0m \u001b[0;34m\u001b[0m\u001b[0m\n\u001b[1;32m    547\u001b[0m         \u001b[0;32mif\u001b[0m \u001b[0mfigLabel\u001b[0m\u001b[0;34m:\u001b[0m\u001b[0;34m\u001b[0m\u001b[0;34m\u001b[0m\u001b[0m\n",
      "\u001b[0;32m~/opt/anaconda3/lib/python3.7/site-packages/matplotlib/backend_bases.py\u001b[0m in \u001b[0;36mnew_figure_manager\u001b[0;34m(cls, num, *args, **kwargs)\u001b[0m\n\u001b[1;32m   3258\u001b[0m         \u001b[0;32mfrom\u001b[0m \u001b[0mmatplotlib\u001b[0m\u001b[0;34m.\u001b[0m\u001b[0mfigure\u001b[0m \u001b[0;32mimport\u001b[0m \u001b[0mFigure\u001b[0m\u001b[0;34m\u001b[0m\u001b[0;34m\u001b[0m\u001b[0m\n\u001b[1;32m   3259\u001b[0m         \u001b[0mfig_cls\u001b[0m \u001b[0;34m=\u001b[0m \u001b[0mkwargs\u001b[0m\u001b[0;34m.\u001b[0m\u001b[0mpop\u001b[0m\u001b[0;34m(\u001b[0m\u001b[0;34m'FigureClass'\u001b[0m\u001b[0;34m,\u001b[0m \u001b[0mFigure\u001b[0m\u001b[0;34m)\u001b[0m\u001b[0;34m\u001b[0m\u001b[0;34m\u001b[0m\u001b[0m\n\u001b[0;32m-> 3260\u001b[0;31m         \u001b[0mfig\u001b[0m \u001b[0;34m=\u001b[0m \u001b[0mfig_cls\u001b[0m\u001b[0;34m(\u001b[0m\u001b[0;34m*\u001b[0m\u001b[0margs\u001b[0m\u001b[0;34m,\u001b[0m \u001b[0;34m**\u001b[0m\u001b[0mkwargs\u001b[0m\u001b[0;34m)\u001b[0m\u001b[0;34m\u001b[0m\u001b[0;34m\u001b[0m\u001b[0m\n\u001b[0m\u001b[1;32m   3261\u001b[0m         \u001b[0;32mreturn\u001b[0m \u001b[0mcls\u001b[0m\u001b[0;34m.\u001b[0m\u001b[0mnew_figure_manager_given_figure\u001b[0m\u001b[0;34m(\u001b[0m\u001b[0mnum\u001b[0m\u001b[0;34m,\u001b[0m \u001b[0mfig\u001b[0m\u001b[0;34m)\u001b[0m\u001b[0;34m\u001b[0m\u001b[0;34m\u001b[0m\u001b[0m\n\u001b[1;32m   3262\u001b[0m \u001b[0;34m\u001b[0m\u001b[0m\n",
      "\u001b[0;32m~/opt/anaconda3/lib/python3.7/site-packages/matplotlib/figure.py\u001b[0m in \u001b[0;36m__init__\u001b[0;34m(self, figsize, dpi, facecolor, edgecolor, linewidth, frameon, subplotpars, tight_layout, constrained_layout)\u001b[0m\n\u001b[1;32m    349\u001b[0m             raise ValueError('figure size must be finite not '\n\u001b[1;32m    350\u001b[0m                              '{}'.format(figsize))\n\u001b[0;32m--> 351\u001b[0;31m         \u001b[0mself\u001b[0m\u001b[0;34m.\u001b[0m\u001b[0mbbox_inches\u001b[0m \u001b[0;34m=\u001b[0m \u001b[0mBbox\u001b[0m\u001b[0;34m.\u001b[0m\u001b[0mfrom_bounds\u001b[0m\u001b[0;34m(\u001b[0m\u001b[0;36m0\u001b[0m\u001b[0;34m,\u001b[0m \u001b[0;36m0\u001b[0m\u001b[0;34m,\u001b[0m \u001b[0;34m*\u001b[0m\u001b[0mfigsize\u001b[0m\u001b[0;34m)\u001b[0m\u001b[0;34m\u001b[0m\u001b[0;34m\u001b[0m\u001b[0m\n\u001b[0m\u001b[1;32m    352\u001b[0m \u001b[0;34m\u001b[0m\u001b[0m\n\u001b[1;32m    353\u001b[0m         \u001b[0mself\u001b[0m\u001b[0;34m.\u001b[0m\u001b[0mdpi_scale_trans\u001b[0m \u001b[0;34m=\u001b[0m \u001b[0mAffine2D\u001b[0m\u001b[0;34m(\u001b[0m\u001b[0;34m)\u001b[0m\u001b[0;34m.\u001b[0m\u001b[0mscale\u001b[0m\u001b[0;34m(\u001b[0m\u001b[0mdpi\u001b[0m\u001b[0;34m,\u001b[0m \u001b[0mdpi\u001b[0m\u001b[0;34m)\u001b[0m\u001b[0;34m\u001b[0m\u001b[0;34m\u001b[0m\u001b[0m\n",
      "\u001b[0;31mTypeError\u001b[0m: from_bounds() argument after * must be an iterable, not int"
     ]
    }
   ],
   "source": [
    "plt.figure(6,4)\n",
    "\n",
    "plt.scatter(df['TOTAL_COVID_TESTS'], df['COVID_CASE_RATE'])"
   ]
  },
  {
   "cell_type": "markdown",
   "metadata": {},
   "source": [
    "# 5. Correlation plots (scatter matrix plots) and correlation test\n",
    "\n",
    "Compute pairwise correlation of columns, excluding NA/null values\n",
    "\n",
    "Method of correlation\n",
    "* pearson : standard correlation coefficient (Default)\n",
    "* kendall : Kendall Tau correlation coefficient\n",
    "* spearman : Spearman rank correlation\n"
   ]
  },
  {
   "cell_type": "code",
   "execution_count": null,
   "metadata": {},
   "outputs": [],
   "source": [
    "from pandas.plotting import scatter_matrix"
   ]
  },
  {
   "cell_type": "code",
   "execution_count": null,
   "metadata": {},
   "outputs": [],
   "source": []
  },
  {
   "cell_type": "code",
   "execution_count": null,
   "metadata": {},
   "outputs": [],
   "source": []
  },
  {
   "cell_type": "markdown",
   "metadata": {},
   "source": [
    "# 6. Heatmap"
   ]
  },
  {
   "cell_type": "code",
   "execution_count": null,
   "metadata": {},
   "outputs": [],
   "source": [
    "import seaborn as sns # useful data viz package with Matplotlib"
   ]
  },
  {
   "cell_type": "code",
   "execution_count": null,
   "metadata": {},
   "outputs": [],
   "source": []
  },
  {
   "cell_type": "code",
   "execution_count": null,
   "metadata": {},
   "outputs": [],
   "source": []
  },
  {
   "cell_type": "markdown",
   "metadata": {},
   "source": [
    "# 7. Line plot (be applicable to timeseries)\n",
    "* X-axis is based on the index of the dataframe"
   ]
  },
  {
   "cell_type": "code",
   "execution_count": null,
   "metadata": {},
   "outputs": [],
   "source": []
  },
  {
   "cell_type": "code",
   "execution_count": null,
   "metadata": {},
   "outputs": [],
   "source": []
  },
  {
   "cell_type": "markdown",
   "metadata": {},
   "source": [
    "# 8. Bar charts (using groupby)\n",
    "* Basic syntax to plot a bar chart is\n",
    "        \n",
    "        plt.bar(keys, values)"
   ]
  },
  {
   "cell_type": "code",
   "execution_count": null,
   "metadata": {},
   "outputs": [],
   "source": []
  },
  {
   "cell_type": "code",
   "execution_count": null,
   "metadata": {},
   "outputs": [],
   "source": []
  },
  {
   "cell_type": "code",
   "execution_count": null,
   "metadata": {},
   "outputs": [],
   "source": []
  },
  {
   "cell_type": "code",
   "execution_count": null,
   "metadata": {},
   "outputs": [],
   "source": []
  }
 ],
 "metadata": {
  "kernelspec": {
   "display_name": "Python 3",
   "language": "python",
   "name": "python3"
  },
  "language_info": {
   "codemirror_mode": {
    "name": "ipython",
    "version": 3
   },
   "file_extension": ".py",
   "mimetype": "text/x-python",
   "name": "python",
   "nbconvert_exporter": "python",
   "pygments_lexer": "ipython3",
   "version": "3.7.6"
  }
 },
 "nbformat": 4,
 "nbformat_minor": 2
}
