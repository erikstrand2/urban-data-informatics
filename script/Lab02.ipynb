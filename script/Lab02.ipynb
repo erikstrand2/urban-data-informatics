{
 "cells": [
  {
   "cell_type": "markdown",
   "metadata": {},
   "source": [
    "PLA6619 Introduction to Urban Data and Informatics I \\\n",
    "Tuesday, September 22, 2020 \\\n",
    "Week03"
   ]
  },
  {
   "cell_type": "code",
   "execution_count": 1,
   "metadata": {},
   "outputs": [],
   "source": [
    "import warnings\n",
    "warnings.filterwarnings(\"ignore\")"
   ]
  },
  {
   "cell_type": "markdown",
   "metadata": {},
   "source": [
    "# Lab 02\n",
    "Please submit __Lab02.ipynb__ with outputs on Canvas after this lab session. \n",
    "\n",
    "# PART 1: Intro to Python (continued)\n",
    "\n",
    "## 1. Range\n",
    "\n",
    "        range()\n",
    "       \n",
    "This range() function returns a sequence of numbers, starting from 0 by default, and increments by 1 (by default), and ends at a specified number.\n",
    "\n",
    "        syntax:\n",
    "        range(START_NUMBER, STOP_NUMBER, STEP_NUMBER)\n",
    "        "
   ]
  },
  {
   "cell_type": "code",
   "execution_count": 3,
   "metadata": {},
   "outputs": [
    {
     "name": "stdout",
     "output_type": "stream",
     "text": [
      "[0, 1, 2, 3, 4]\n"
     ]
    }
   ],
   "source": [
    "x = list(range(5))\n",
    "print(x)"
   ]
  },
  {
   "cell_type": "code",
   "execution_count": 4,
   "metadata": {},
   "outputs": [
    {
     "name": "stdout",
     "output_type": "stream",
     "text": [
      "[3, 4, 5]\n"
     ]
    }
   ],
   "source": [
    "x = list(range(3, 6))\n",
    "print(x)"
   ]
  },
  {
   "cell_type": "code",
   "execution_count": 5,
   "metadata": {},
   "outputs": [
    {
     "name": "stdout",
     "output_type": "stream",
     "text": [
      "[3, 5, 7, 9, 11, 13, 15, 17, 19]\n"
     ]
    }
   ],
   "source": [
    "x = list(range(3, 20, 2))\n",
    "print(x)"
   ]
  },
  {
   "cell_type": "markdown",
   "metadata": {},
   "source": [
    "## 2. Calling Functions\n",
    "    min()\n",
    "    max()\n",
    "    sum()\n",
    "    len()"
   ]
  },
  {
   "cell_type": "code",
   "execution_count": 6,
   "metadata": {},
   "outputs": [
    {
     "data": {
      "text/plain": [
       "[0, 1, 2, 3, 4, 5, 6, 7, 8, 9, 10, 11, 12, 13, 14]"
      ]
     },
     "execution_count": 6,
     "metadata": {},
     "output_type": "execute_result"
    }
   ],
   "source": [
    "x = list(range(15))\n",
    "x"
   ]
  },
  {
   "cell_type": "code",
   "execution_count": 7,
   "metadata": {},
   "outputs": [
    {
     "name": "stdout",
     "output_type": "stream",
     "text": [
      "0\n",
      "14\n",
      "105\n",
      "15\n"
     ]
    }
   ],
   "source": [
    "print(min(x))\n",
    "print(max(x))\n",
    "print(sum(x))\n",
    "print(len(x))"
   ]
  },
  {
   "cell_type": "markdown",
   "metadata": {},
   "source": [
    "### Exercise: create a list with a sequence of number from 3 to 31, increment by 4, using range() and print mean value of the items.\n",
    "* Create a list and assign variable.\n",
    "* Assign variables using calling functions based on needs (e.g. min, max, sum, or len)\n",
    "* Print mean value of the items in the list using mathematical expression."
   ]
  },
  {
   "cell_type": "code",
   "execution_count": 20,
   "metadata": {},
   "outputs": [
    {
     "name": "stdout",
     "output_type": "stream",
     "text": [
      "17.0\n"
     ]
    }
   ],
   "source": [
    "y = list(range(3, 32, 4))\n",
    "print(sum(y) / len(y))"
   ]
  },
  {
   "cell_type": "markdown",
   "metadata": {},
   "source": [
    "## 3. Writing Functions\n",
    "A function is a block of code with only runs when it is called. You can pass data, known as parameters, into a function. A function can return data as a result. The advantage of writing functions is you can easily use funciton for repeated processes with the same parameter structure. (e.g. calculator)\n",
    "\n",
    "    Syntax:\n",
    "    \n",
    "    def YOUR_FUNCTION_NAME(PARAMETERS):\n",
    "        WRITE_YOUR_CODE_HERE"
   ]
  },
  {
   "cell_type": "code",
   "execution_count": 11,
   "metadata": {},
   "outputs": [],
   "source": [
    "def my_function(): \n",
    "    print(\"Hello, world!\")"
   ]
  },
  {
   "cell_type": "code",
   "execution_count": 12,
   "metadata": {},
   "outputs": [
    {
     "name": "stdout",
     "output_type": "stream",
     "text": [
      "Hello, world!\n"
     ]
    }
   ],
   "source": [
    "my_function()"
   ]
  },
  {
   "cell_type": "code",
   "execution_count": 13,
   "metadata": {},
   "outputs": [],
   "source": [
    "def func_2(x, y):\n",
    "    return x * y"
   ]
  },
  {
   "cell_type": "code",
   "execution_count": 14,
   "metadata": {},
   "outputs": [
    {
     "data": {
      "text/plain": [
       "18"
      ]
     },
     "execution_count": 14,
     "metadata": {},
     "output_type": "execute_result"
    }
   ],
   "source": [
    "func_2(3,6)"
   ]
  },
  {
   "cell_type": "code",
   "execution_count": 15,
   "metadata": {},
   "outputs": [
    {
     "data": {
      "text/plain": [
       "110"
      ]
     },
     "execution_count": 15,
     "metadata": {},
     "output_type": "execute_result"
    }
   ],
   "source": [
    "func_2(10, 11)"
   ]
  },
  {
   "cell_type": "code",
   "execution_count": 17,
   "metadata": {},
   "outputs": [
    {
     "data": {
      "text/plain": [
       "[11, -5, 24, 0.375]"
      ]
     },
     "execution_count": 17,
     "metadata": {},
     "output_type": "execute_result"
    }
   ],
   "source": [
    "def func_3(x, y): \n",
    "    a = x + y\n",
    "    b = x - y\n",
    "    c = x * y\n",
    "    d = x / y\n",
    "    return([a,b,c,d])\n",
    "\n",
    "func_3(3, 8)"
   ]
  },
  {
   "cell_type": "markdown",
   "metadata": {},
   "source": [
    "### Exercise: write a function to return average value of items in a list."
   ]
  },
  {
   "cell_type": "code",
   "execution_count": 75,
   "metadata": {},
   "outputs": [
    {
     "name": "stdout",
     "output_type": "stream",
     "text": [
      "9.5\n",
      "4.75\n"
     ]
    }
   ],
   "source": [
    "def average(x): \n",
    "    return sum(x) / len(x)\n",
    "\n",
    "\n",
    "print(average(list(range(20))))\n",
    "print(average([0,3,6,10]))"
   ]
  },
  {
   "cell_type": "markdown",
   "metadata": {},
   "source": [
    "## 4. Control Statement (If-else)\n",
    "* if\n",
    "* elif\n",
    "* else"
   ]
  },
  {
   "cell_type": "code",
   "execution_count": 21,
   "metadata": {},
   "outputs": [
    {
     "name": "stdout",
     "output_type": "stream",
     "text": [
      "b is greater than a\n"
     ]
    }
   ],
   "source": [
    "a = 5\n",
    "b = 10\n",
    "if(b > a): \n",
    "    print(\"b is greater than a\")"
   ]
  },
  {
   "cell_type": "code",
   "execution_count": 24,
   "metadata": {},
   "outputs": [
    {
     "name": "stdout",
     "output_type": "stream",
     "text": [
      "a equals b\n"
     ]
    }
   ],
   "source": [
    "a = 10\n",
    "b = 10\n",
    "if(b > a): \n",
    "    print(\"b is greater than a\")\n",
    "elif(a == b): \n",
    "    print(\"a equals b\")"
   ]
  },
  {
   "cell_type": "code",
   "execution_count": 25,
   "metadata": {},
   "outputs": [
    {
     "name": "stdout",
     "output_type": "stream",
     "text": [
      "a is greater than b\n"
     ]
    }
   ],
   "source": [
    "a = 15\n",
    "b = 10\n",
    "if(b > a): \n",
    "    print(\"b is greater than a\")\n",
    "elif(a == b): \n",
    "    print(\"a equals b\")\n",
    "else: \n",
    "    print(\"a is greater than b\")"
   ]
  },
  {
   "cell_type": "markdown",
   "metadata": {},
   "source": [
    "## 5. For loops\n",
    "A for loop is used for iterating over a sequence (that is either a list, a tuple, a dictionary, a set, or a string). This is less like the for keyword in other programming languages, and works more like an iterator method as found in other object-oriented programming languages. With the for loop we can execute a set of statements, once for each item in a list, tuple, set etc.\n",
    "\n",
    "    Syntax:\n",
    "    for item in YOUR_SEQUENCE:\n",
    "        do this\n",
    "        do that\n",
    "        ..."
   ]
  },
  {
   "cell_type": "code",
   "execution_count": 26,
   "metadata": {},
   "outputs": [
    {
     "name": "stdout",
     "output_type": "stream",
     "text": [
      "0\n",
      "1\n",
      "2\n",
      "3\n",
      "4\n",
      "5\n"
     ]
    }
   ],
   "source": [
    "for i in range(6): \n",
    "    print(i)"
   ]
  },
  {
   "cell_type": "code",
   "execution_count": 27,
   "metadata": {},
   "outputs": [
    {
     "name": "stdout",
     "output_type": "stream",
     "text": [
      "I have lived in New York\n",
      "I have lived in Los Angeles\n",
      "I have lived in Chicago\n"
     ]
    }
   ],
   "source": [
    "for city in ['New York', 'Los Angeles', 'Chicago']: \n",
    "    print(\"I have lived in\", city)"
   ]
  },
  {
   "cell_type": "code",
   "execution_count": 28,
   "metadata": {},
   "outputs": [
    {
     "name": "stdout",
     "output_type": "stream",
     "text": [
      "red cup\n",
      "red shirt\n",
      "red pen\n",
      "blue cup\n",
      "blue shirt\n",
      "blue pen\n",
      "yellow cup\n",
      "yellow shirt\n",
      "yellow pen\n"
     ]
    }
   ],
   "source": [
    "colors = ['red', 'blue', 'yellow']\n",
    "items = ['cup', 'shirt', 'pen']\n",
    "\n",
    "for c in colors: \n",
    "    for i in items: \n",
    "        print(c, i)"
   ]
  },
  {
   "cell_type": "code",
   "execution_count": 29,
   "metadata": {},
   "outputs": [
    {
     "name": "stdout",
     "output_type": "stream",
     "text": [
      "0\n",
      "1\n",
      "2\n",
      "4\n"
     ]
    }
   ],
   "source": [
    "for i in range(5): \n",
    "    if (i == 3): \n",
    "        pass\n",
    "    else: \n",
    "        print(i)"
   ]
  },
  {
   "cell_type": "code",
   "execution_count": 30,
   "metadata": {},
   "outputs": [
    {
     "name": "stdout",
     "output_type": "stream",
     "text": [
      "0\n",
      "1\n",
      "2\n"
     ]
    }
   ],
   "source": [
    "for i in range(5): \n",
    "    if (i == 3): \n",
    "        break\n",
    "    else: \n",
    "        print(i)"
   ]
  },
  {
   "cell_type": "code",
   "execution_count": 31,
   "metadata": {},
   "outputs": [
    {
     "name": "stdout",
     "output_type": "stream",
     "text": [
      "0\n",
      "1\n",
      "2\n",
      "Three\n",
      "4\n"
     ]
    }
   ],
   "source": [
    "for i in range(5): \n",
    "    if (i == 3): \n",
    "        print(\"Three\")\n",
    "    else: \n",
    "        print(i)"
   ]
  },
  {
   "cell_type": "markdown",
   "metadata": {},
   "source": [
    "### Exercise: create a function to get all availabe combinations based on the following statements.\n",
    "* Create two lists [1, 3, 5, 7] and [2, 4, 6, 8] using a range() function.\n",
    "* Print out all available combinations of two items from each list if a multiplication result is not 12. For example, 3 and 4 shouldn't be printed out.\n",
    "* Break a script once a for loop once a for loop takes 7 from the first list.\n",
    "Ideal output would be \n",
    "        1 2\n",
    "        1 4\n",
    "        1 6\n",
    "        1 8\n",
    "        3 2\n",
    "        3 6\n",
    "        3 8\n",
    "        5 2\n",
    "        5 4\n",
    "        5 6\n",
    "        5 8"
   ]
  },
  {
   "cell_type": "code",
   "execution_count": 82,
   "metadata": {},
   "outputs": [
    {
     "name": "stdout",
     "output_type": "stream",
     "text": [
      "1 2\n",
      "1 4\n",
      "1 6\n",
      "1 8\n",
      "3 2\n",
      "3 4\n",
      "3 6\n",
      "3 8\n",
      "5 2\n",
      "5 4\n",
      "5 6\n",
      "5 8\n"
     ]
    }
   ],
   "source": [
    "x = list(range(1, 8, 2))\n",
    "y = list(range(2, 9, 2))\n",
    "\n",
    "for i in x: \n",
    "    if(i == 7): \n",
    "        break\n",
    "    else: \n",
    "        for j in y: \n",
    "            print(i, j)\n",
    "        "
   ]
  },
  {
   "cell_type": "markdown",
   "metadata": {},
   "source": [
    "# PART 2: Essential Libraries - Numpy\n"
   ]
  },
  {
   "cell_type": "markdown",
   "metadata": {},
   "source": [
    "### Import Numpy module"
   ]
  },
  {
   "cell_type": "code",
   "execution_count": 33,
   "metadata": {},
   "outputs": [],
   "source": [
    "import numpy as np"
   ]
  },
  {
   "cell_type": "markdown",
   "metadata": {},
   "source": [
    "## 1. Create a numpy array"
   ]
  },
  {
   "cell_type": "code",
   "execution_count": 38,
   "metadata": {},
   "outputs": [
    {
     "name": "stdout",
     "output_type": "stream",
     "text": [
      "[[1 2 3]\n",
      " [4 5 6]]\n"
     ]
    }
   ],
   "source": [
    "x = np.array([[1,2,3],[4,5,6]])\n",
    "print(x)"
   ]
  },
  {
   "cell_type": "markdown",
   "metadata": {},
   "source": [
    "## 2. Shape of matrix (array)"
   ]
  },
  {
   "cell_type": "code",
   "execution_count": 40,
   "metadata": {},
   "outputs": [
    {
     "data": {
      "text/plain": [
       "(2, 3)"
      ]
     },
     "execution_count": 40,
     "metadata": {},
     "output_type": "execute_result"
    }
   ],
   "source": [
    "x.shape"
   ]
  },
  {
   "cell_type": "markdown",
   "metadata": {},
   "source": [
    "## 3. Indexing"
   ]
  },
  {
   "cell_type": "code",
   "execution_count": 41,
   "metadata": {},
   "outputs": [
    {
     "data": {
      "text/plain": [
       "array([1, 2, 3])"
      ]
     },
     "execution_count": 41,
     "metadata": {},
     "output_type": "execute_result"
    }
   ],
   "source": [
    "x[0]"
   ]
  },
  {
   "cell_type": "markdown",
   "metadata": {},
   "source": [
    "__Accessing array rows and columns__ \n"
   ]
  },
  {
   "cell_type": "code",
   "execution_count": 44,
   "metadata": {},
   "outputs": [
    {
     "data": {
      "text/plain": [
       "array([1, 4])"
      ]
     },
     "execution_count": 44,
     "metadata": {},
     "output_type": "execute_result"
    }
   ],
   "source": [
    "x[:,0]"
   ]
  },
  {
   "cell_type": "markdown",
   "metadata": {},
   "source": [
    "## 4. Numpy's arithmetic operators"
   ]
  },
  {
   "cell_type": "code",
   "execution_count": 46,
   "metadata": {},
   "outputs": [
    {
     "name": "stdout",
     "output_type": "stream",
     "text": [
      "[4 5 6 7 8 9]\n",
      "[ 3  6  9 12 15 18]\n",
      "[-2 -1  0  1  2  3]\n"
     ]
    }
   ],
   "source": [
    "x = np.array([1,2,3,4,5,6])\n",
    "\n",
    "print(x+3)\n",
    "print(x*3)\n",
    "print(x-3)"
   ]
  },
  {
   "cell_type": "code",
   "execution_count": 49,
   "metadata": {},
   "outputs": [
    {
     "ename": "AttributeError",
     "evalue": "'numpy.ndarray' object has no attribute 'log'",
     "output_type": "error",
     "traceback": [
      "\u001b[0;31m---------------------------------------------------------------------------\u001b[0m",
      "\u001b[0;31mAttributeError\u001b[0m                            Traceback (most recent call last)",
      "\u001b[0;32m<ipython-input-49-9f05c1e332d2>\u001b[0m in \u001b[0;36m<module>\u001b[0;34m\u001b[0m\n\u001b[0;32m----> 1\u001b[0;31m \u001b[0mx\u001b[0m\u001b[0;34m.\u001b[0m\u001b[0mlog\u001b[0m\u001b[0;34m\u001b[0m\u001b[0;34m\u001b[0m\u001b[0m\n\u001b[0m",
      "\u001b[0;31mAttributeError\u001b[0m: 'numpy.ndarray' object has no attribute 'log'"
     ]
    }
   ],
   "source": [
    "np.log\n",
    "np.exp\n",
    "np.log10"
   ]
  },
  {
   "cell_type": "markdown",
   "metadata": {},
   "source": [
    "## 5. Calling built-in functions"
   ]
  },
  {
   "cell_type": "code",
   "execution_count": 52,
   "metadata": {},
   "outputs": [
    {
     "name": "stdout",
     "output_type": "stream",
     "text": [
      "81\n",
      "1\n",
      "17\n",
      "4.5\n",
      "1.8929694486000912\n"
     ]
    }
   ],
   "source": [
    "x = np.array([[1,2,3,4,5,6],\n",
    "             [2,3,4,5,6,7],\n",
    "             [3,4,5,6,7,8]])\n",
    "print(x.sum())\n",
    "print(x.min())\n",
    "print(x.argmax())\n",
    "print(x.mean())\n",
    "print(x.std())"
   ]
  },
  {
   "cell_type": "code",
   "execution_count": 53,
   "metadata": {},
   "outputs": [
    {
     "name": "stdout",
     "output_type": "stream",
     "text": [
      "81\n"
     ]
    }
   ],
   "source": [
    "print(np.sum(x))"
   ]
  },
  {
   "cell_type": "markdown",
   "metadata": {},
   "source": [
    "# PART 3: Pandas\n",
    "\n",
    "\n",
    "### Import pandas module\n"
   ]
  },
  {
   "cell_type": "code",
   "execution_count": 54,
   "metadata": {},
   "outputs": [],
   "source": [
    "import pandas as pd"
   ]
  },
  {
   "cell_type": "markdown",
   "metadata": {},
   "source": [
    "## 1. Create a pandas dataframe"
   ]
  },
  {
   "cell_type": "code",
   "execution_count": null,
   "metadata": {},
   "outputs": [],
   "source": []
  },
  {
   "cell_type": "code",
   "execution_count": null,
   "metadata": {},
   "outputs": [],
   "source": []
  },
  {
   "cell_type": "code",
   "execution_count": null,
   "metadata": {},
   "outputs": [],
   "source": []
  },
  {
   "cell_type": "markdown",
   "metadata": {},
   "source": [
    "## 2. Data shape, columns, and rows"
   ]
  },
  {
   "cell_type": "code",
   "execution_count": null,
   "metadata": {},
   "outputs": [],
   "source": []
  },
  {
   "cell_type": "code",
   "execution_count": null,
   "metadata": {},
   "outputs": [],
   "source": []
  },
  {
   "cell_type": "code",
   "execution_count": null,
   "metadata": {},
   "outputs": [],
   "source": []
  },
  {
   "cell_type": "code",
   "execution_count": null,
   "metadata": {},
   "outputs": [],
   "source": []
  },
  {
   "cell_type": "code",
   "execution_count": null,
   "metadata": {},
   "outputs": [],
   "source": []
  },
  {
   "cell_type": "markdown",
   "metadata": {},
   "source": [
    "## 3. Data types"
   ]
  },
  {
   "cell_type": "code",
   "execution_count": null,
   "metadata": {},
   "outputs": [],
   "source": []
  },
  {
   "cell_type": "markdown",
   "metadata": {},
   "source": [
    "## 4. Data indexing and selection"
   ]
  },
  {
   "cell_type": "code",
   "execution_count": null,
   "metadata": {},
   "outputs": [],
   "source": []
  },
  {
   "cell_type": "code",
   "execution_count": null,
   "metadata": {},
   "outputs": [],
   "source": []
  },
  {
   "cell_type": "code",
   "execution_count": null,
   "metadata": {},
   "outputs": [],
   "source": []
  },
  {
   "cell_type": "markdown",
   "metadata": {},
   "source": [
    "## 5. Sorting\n",
    "    \n",
    "    syntax\n",
    "    YOUR_DATAFRAME.sort_values(by='COLUMN_NAME', ascending='False')   ascending='True' is default"
   ]
  },
  {
   "cell_type": "code",
   "execution_count": null,
   "metadata": {},
   "outputs": [],
   "source": []
  },
  {
   "cell_type": "markdown",
   "metadata": {},
   "source": [
    "## 6. Basic functions"
   ]
  },
  {
   "cell_type": "code",
   "execution_count": null,
   "metadata": {},
   "outputs": [],
   "source": []
  },
  {
   "cell_type": "markdown",
   "metadata": {},
   "source": [
    "# PART 4: Play with data (TIPS FOR THE ASSIGNMENT!)\n",
    "\n",
    "\n",
    "## 1. Load NYC311 data (311 service requests data subset) "
   ]
  },
  {
   "cell_type": "code",
   "execution_count": 55,
   "metadata": {},
   "outputs": [],
   "source": [
    "df = pd.read_csv('../data/311_Service_Requests_01062020.csv')"
   ]
  },
  {
   "cell_type": "code",
   "execution_count": 59,
   "metadata": {},
   "outputs": [
    {
     "data": {
      "text/html": [
       "<div>\n",
       "<style scoped>\n",
       "    .dataframe tbody tr th:only-of-type {\n",
       "        vertical-align: middle;\n",
       "    }\n",
       "\n",
       "    .dataframe tbody tr th {\n",
       "        vertical-align: top;\n",
       "    }\n",
       "\n",
       "    .dataframe thead th {\n",
       "        text-align: right;\n",
       "    }\n",
       "</style>\n",
       "<table border=\"1\" class=\"dataframe\">\n",
       "  <thead>\n",
       "    <tr style=\"text-align: right;\">\n",
       "      <th></th>\n",
       "      <th>Unique Key</th>\n",
       "      <th>Created Date</th>\n",
       "      <th>Closed Date</th>\n",
       "      <th>Agency</th>\n",
       "      <th>Agency Name</th>\n",
       "      <th>Complaint Type</th>\n",
       "      <th>Descriptor</th>\n",
       "      <th>Location Type</th>\n",
       "      <th>Incident Zip</th>\n",
       "      <th>Incident Address</th>\n",
       "      <th>...</th>\n",
       "      <th>Vehicle Type</th>\n",
       "      <th>Taxi Company Borough</th>\n",
       "      <th>Taxi Pick Up Location</th>\n",
       "      <th>Bridge Highway Name</th>\n",
       "      <th>Bridge Highway Direction</th>\n",
       "      <th>Road Ramp</th>\n",
       "      <th>Bridge Highway Segment</th>\n",
       "      <th>Latitude</th>\n",
       "      <th>Longitude</th>\n",
       "      <th>Location</th>\n",
       "    </tr>\n",
       "  </thead>\n",
       "  <tbody>\n",
       "    <tr>\n",
       "      <th>0</th>\n",
       "      <td>45321376</td>\n",
       "      <td>01/06/2020 12:00:00 AM</td>\n",
       "      <td>01/22/2020 12:00:01 AM</td>\n",
       "      <td>DOHMH</td>\n",
       "      <td>Department of Health and Mental Hygiene</td>\n",
       "      <td>Food Poisoning</td>\n",
       "      <td>1 or 2</td>\n",
       "      <td>1-2 Family Dwelling</td>\n",
       "      <td>10467.0</td>\n",
       "      <td>3311 WHITE PLAINS ROAD</td>\n",
       "      <td>...</td>\n",
       "      <td>NaN</td>\n",
       "      <td>NaN</td>\n",
       "      <td>NaN</td>\n",
       "      <td>NaN</td>\n",
       "      <td>NaN</td>\n",
       "      <td>NaN</td>\n",
       "      <td>NaN</td>\n",
       "      <td>40.873639</td>\n",
       "      <td>-73.867095</td>\n",
       "      <td>(40.8736393816693, -73.86709503705343)</td>\n",
       "    </tr>\n",
       "    <tr>\n",
       "      <th>1</th>\n",
       "      <td>45322953</td>\n",
       "      <td>01/06/2020 12:00:00 AM</td>\n",
       "      <td>01/21/2020 12:00:01 AM</td>\n",
       "      <td>DOHMH</td>\n",
       "      <td>Department of Health and Mental Hygiene</td>\n",
       "      <td>Food Poisoning</td>\n",
       "      <td>3 or More</td>\n",
       "      <td>Restaurant/Bar/Deli/Bakery</td>\n",
       "      <td>11375.0</td>\n",
       "      <td>64-18 108 STREET</td>\n",
       "      <td>...</td>\n",
       "      <td>NaN</td>\n",
       "      <td>NaN</td>\n",
       "      <td>NaN</td>\n",
       "      <td>NaN</td>\n",
       "      <td>NaN</td>\n",
       "      <td>NaN</td>\n",
       "      <td>NaN</td>\n",
       "      <td>40.732517</td>\n",
       "      <td>-73.849397</td>\n",
       "      <td>(40.73251661488513, -73.84939676972941)</td>\n",
       "    </tr>\n",
       "    <tr>\n",
       "      <th>2</th>\n",
       "      <td>45319607</td>\n",
       "      <td>01/06/2020 12:00:00 AM</td>\n",
       "      <td>01/06/2020 12:00:01 AM</td>\n",
       "      <td>DOHMH</td>\n",
       "      <td>Department of Health and Mental Hygiene</td>\n",
       "      <td>Food Poisoning</td>\n",
       "      <td>1 or 2</td>\n",
       "      <td>Restaurant/Bar/Deli/Bakery</td>\n",
       "      <td>10128.0</td>\n",
       "      <td>1664 3 AVENUE</td>\n",
       "      <td>...</td>\n",
       "      <td>NaN</td>\n",
       "      <td>NaN</td>\n",
       "      <td>NaN</td>\n",
       "      <td>NaN</td>\n",
       "      <td>NaN</td>\n",
       "      <td>NaN</td>\n",
       "      <td>NaN</td>\n",
       "      <td>40.783423</td>\n",
       "      <td>-73.950634</td>\n",
       "      <td>(40.783423466965544, -73.95063441884525)</td>\n",
       "    </tr>\n",
       "    <tr>\n",
       "      <th>3</th>\n",
       "      <td>45319110</td>\n",
       "      <td>01/06/2020 12:00:00 AM</td>\n",
       "      <td>01/21/2020 12:00:01 AM</td>\n",
       "      <td>DOHMH</td>\n",
       "      <td>Department of Health and Mental Hygiene</td>\n",
       "      <td>Food Poisoning</td>\n",
       "      <td>1 or 2</td>\n",
       "      <td>Restaurant</td>\n",
       "      <td>10039.0</td>\n",
       "      <td>2730 FREDRICK DOUGLASS BOULEVARD</td>\n",
       "      <td>...</td>\n",
       "      <td>NaN</td>\n",
       "      <td>NaN</td>\n",
       "      <td>NaN</td>\n",
       "      <td>NaN</td>\n",
       "      <td>NaN</td>\n",
       "      <td>NaN</td>\n",
       "      <td>NaN</td>\n",
       "      <td>40.822932</td>\n",
       "      <td>-73.941832</td>\n",
       "      <td>(40.82293243748226, -73.94183246541331)</td>\n",
       "    </tr>\n",
       "    <tr>\n",
       "      <th>4</th>\n",
       "      <td>45319119</td>\n",
       "      <td>01/06/2020 12:00:00 AM</td>\n",
       "      <td>01/07/2020 01:35:26 PM</td>\n",
       "      <td>DOHMH</td>\n",
       "      <td>Department of Health and Mental Hygiene</td>\n",
       "      <td>Food Poisoning</td>\n",
       "      <td>1 or 2</td>\n",
       "      <td>1-2 Family Dwelling</td>\n",
       "      <td>10467.0</td>\n",
       "      <td>3311 WHITE PLAINS ROAD</td>\n",
       "      <td>...</td>\n",
       "      <td>NaN</td>\n",
       "      <td>NaN</td>\n",
       "      <td>NaN</td>\n",
       "      <td>NaN</td>\n",
       "      <td>NaN</td>\n",
       "      <td>NaN</td>\n",
       "      <td>NaN</td>\n",
       "      <td>40.873639</td>\n",
       "      <td>-73.867095</td>\n",
       "      <td>(40.8736393816693, -73.86709503705343)</td>\n",
       "    </tr>\n",
       "  </tbody>\n",
       "</table>\n",
       "<p>5 rows × 41 columns</p>\n",
       "</div>"
      ],
      "text/plain": [
       "   Unique Key            Created Date             Closed Date Agency  \\\n",
       "0    45321376  01/06/2020 12:00:00 AM  01/22/2020 12:00:01 AM  DOHMH   \n",
       "1    45322953  01/06/2020 12:00:00 AM  01/21/2020 12:00:01 AM  DOHMH   \n",
       "2    45319607  01/06/2020 12:00:00 AM  01/06/2020 12:00:01 AM  DOHMH   \n",
       "3    45319110  01/06/2020 12:00:00 AM  01/21/2020 12:00:01 AM  DOHMH   \n",
       "4    45319119  01/06/2020 12:00:00 AM  01/07/2020 01:35:26 PM  DOHMH   \n",
       "\n",
       "                               Agency Name  Complaint Type Descriptor  \\\n",
       "0  Department of Health and Mental Hygiene  Food Poisoning     1 or 2   \n",
       "1  Department of Health and Mental Hygiene  Food Poisoning  3 or More   \n",
       "2  Department of Health and Mental Hygiene  Food Poisoning     1 or 2   \n",
       "3  Department of Health and Mental Hygiene  Food Poisoning     1 or 2   \n",
       "4  Department of Health and Mental Hygiene  Food Poisoning     1 or 2   \n",
       "\n",
       "                Location Type  Incident Zip                  Incident Address  \\\n",
       "0         1-2 Family Dwelling       10467.0            3311 WHITE PLAINS ROAD   \n",
       "1  Restaurant/Bar/Deli/Bakery       11375.0                  64-18 108 STREET   \n",
       "2  Restaurant/Bar/Deli/Bakery       10128.0                     1664 3 AVENUE   \n",
       "3                  Restaurant       10039.0  2730 FREDRICK DOUGLASS BOULEVARD   \n",
       "4         1-2 Family Dwelling       10467.0            3311 WHITE PLAINS ROAD   \n",
       "\n",
       "   ... Vehicle Type Taxi Company Borough Taxi Pick Up Location  \\\n",
       "0  ...          NaN                  NaN                   NaN   \n",
       "1  ...          NaN                  NaN                   NaN   \n",
       "2  ...          NaN                  NaN                   NaN   \n",
       "3  ...          NaN                  NaN                   NaN   \n",
       "4  ...          NaN                  NaN                   NaN   \n",
       "\n",
       "  Bridge Highway Name Bridge Highway Direction Road Ramp  \\\n",
       "0                 NaN                      NaN       NaN   \n",
       "1                 NaN                      NaN       NaN   \n",
       "2                 NaN                      NaN       NaN   \n",
       "3                 NaN                      NaN       NaN   \n",
       "4                 NaN                      NaN       NaN   \n",
       "\n",
       "  Bridge Highway Segment   Latitude  Longitude  \\\n",
       "0                    NaN  40.873639 -73.867095   \n",
       "1                    NaN  40.732517 -73.849397   \n",
       "2                    NaN  40.783423 -73.950634   \n",
       "3                    NaN  40.822932 -73.941832   \n",
       "4                    NaN  40.873639 -73.867095   \n",
       "\n",
       "                                   Location  \n",
       "0    (40.8736393816693, -73.86709503705343)  \n",
       "1   (40.73251661488513, -73.84939676972941)  \n",
       "2  (40.783423466965544, -73.95063441884525)  \n",
       "3   (40.82293243748226, -73.94183246541331)  \n",
       "4    (40.8736393816693, -73.86709503705343)  \n",
       "\n",
       "[5 rows x 41 columns]"
      ]
     },
     "execution_count": 59,
     "metadata": {},
     "output_type": "execute_result"
    }
   ],
   "source": [
    "df.head()"
   ]
  },
  {
   "cell_type": "code",
   "execution_count": 61,
   "metadata": {},
   "outputs": [
    {
     "data": {
      "text/html": [
       "<div>\n",
       "<style scoped>\n",
       "    .dataframe tbody tr th:only-of-type {\n",
       "        vertical-align: middle;\n",
       "    }\n",
       "\n",
       "    .dataframe tbody tr th {\n",
       "        vertical-align: top;\n",
       "    }\n",
       "\n",
       "    .dataframe thead th {\n",
       "        text-align: right;\n",
       "    }\n",
       "</style>\n",
       "<table border=\"1\" class=\"dataframe\">\n",
       "  <thead>\n",
       "    <tr style=\"text-align: right;\">\n",
       "      <th></th>\n",
       "      <th>Unique Key</th>\n",
       "      <th>Created Date</th>\n",
       "      <th>Closed Date</th>\n",
       "      <th>Agency</th>\n",
       "      <th>Agency Name</th>\n",
       "      <th>Complaint Type</th>\n",
       "      <th>Descriptor</th>\n",
       "      <th>Location Type</th>\n",
       "      <th>Incident Zip</th>\n",
       "      <th>Incident Address</th>\n",
       "      <th>...</th>\n",
       "      <th>Vehicle Type</th>\n",
       "      <th>Taxi Company Borough</th>\n",
       "      <th>Taxi Pick Up Location</th>\n",
       "      <th>Bridge Highway Name</th>\n",
       "      <th>Bridge Highway Direction</th>\n",
       "      <th>Road Ramp</th>\n",
       "      <th>Bridge Highway Segment</th>\n",
       "      <th>Latitude</th>\n",
       "      <th>Longitude</th>\n",
       "      <th>Location</th>\n",
       "    </tr>\n",
       "  </thead>\n",
       "  <tbody>\n",
       "    <tr>\n",
       "      <th>6029</th>\n",
       "      <td>45336051</td>\n",
       "      <td>01/07/2020 12:00:00 AM</td>\n",
       "      <td>01/07/2020 12:00:01 AM</td>\n",
       "      <td>DOHMH</td>\n",
       "      <td>Department of Health and Mental Hygiene</td>\n",
       "      <td>Food Poisoning</td>\n",
       "      <td>3 or More</td>\n",
       "      <td>Other (Explain Below)</td>\n",
       "      <td>11206.0</td>\n",
       "      <td>LEWIS AVENUE</td>\n",
       "      <td>...</td>\n",
       "      <td>NaN</td>\n",
       "      <td>NaN</td>\n",
       "      <td>NaN</td>\n",
       "      <td>NaN</td>\n",
       "      <td>NaN</td>\n",
       "      <td>NaN</td>\n",
       "      <td>NaN</td>\n",
       "      <td>40.696689</td>\n",
       "      <td>-73.937792</td>\n",
       "      <td>(40.69668857681533, -73.93779178748973)</td>\n",
       "    </tr>\n",
       "    <tr>\n",
       "      <th>6030</th>\n",
       "      <td>45334413</td>\n",
       "      <td>01/07/2020 12:00:00 AM</td>\n",
       "      <td>01/07/2020 12:00:01 AM</td>\n",
       "      <td>DOHMH</td>\n",
       "      <td>Department of Health and Mental Hygiene</td>\n",
       "      <td>Food Poisoning</td>\n",
       "      <td>1 or 2</td>\n",
       "      <td>Restaurant/Bar/Deli/Bakery</td>\n",
       "      <td>10018.0</td>\n",
       "      <td>49 WEST   39 STREET</td>\n",
       "      <td>...</td>\n",
       "      <td>NaN</td>\n",
       "      <td>NaN</td>\n",
       "      <td>NaN</td>\n",
       "      <td>NaN</td>\n",
       "      <td>NaN</td>\n",
       "      <td>NaN</td>\n",
       "      <td>NaN</td>\n",
       "      <td>40.752255</td>\n",
       "      <td>-73.983852</td>\n",
       "      <td>(40.752255401079175, -73.98385207652169)</td>\n",
       "    </tr>\n",
       "    <tr>\n",
       "      <th>6031</th>\n",
       "      <td>45334078</td>\n",
       "      <td>01/07/2020 12:00:00 AM</td>\n",
       "      <td>01/22/2020 12:00:01 AM</td>\n",
       "      <td>DOHMH</td>\n",
       "      <td>Department of Health and Mental Hygiene</td>\n",
       "      <td>Food Poisoning</td>\n",
       "      <td>3 or More</td>\n",
       "      <td>Retail Store</td>\n",
       "      <td>11206.0</td>\n",
       "      <td>1102 MYRTLE AVENUE</td>\n",
       "      <td>...</td>\n",
       "      <td>NaN</td>\n",
       "      <td>NaN</td>\n",
       "      <td>NaN</td>\n",
       "      <td>NaN</td>\n",
       "      <td>NaN</td>\n",
       "      <td>NaN</td>\n",
       "      <td>NaN</td>\n",
       "      <td>40.696817</td>\n",
       "      <td>-73.936605</td>\n",
       "      <td>(40.696816933440644, -73.93660520135623)</td>\n",
       "    </tr>\n",
       "    <tr>\n",
       "      <th>6032</th>\n",
       "      <td>45333111</td>\n",
       "      <td>01/07/2020 12:00:00 AM</td>\n",
       "      <td>01/08/2020 12:00:01 AM</td>\n",
       "      <td>DOHMH</td>\n",
       "      <td>Department of Health and Mental Hygiene</td>\n",
       "      <td>Food Poisoning</td>\n",
       "      <td>1 or 2</td>\n",
       "      <td>Restaurant</td>\n",
       "      <td>10001.0</td>\n",
       "      <td>11 WEST   32 STREET</td>\n",
       "      <td>...</td>\n",
       "      <td>NaN</td>\n",
       "      <td>NaN</td>\n",
       "      <td>NaN</td>\n",
       "      <td>NaN</td>\n",
       "      <td>NaN</td>\n",
       "      <td>NaN</td>\n",
       "      <td>NaN</td>\n",
       "      <td>40.747414</td>\n",
       "      <td>-73.986091</td>\n",
       "      <td>(40.74741395808759, -73.98609084169061)</td>\n",
       "    </tr>\n",
       "    <tr>\n",
       "      <th>6033</th>\n",
       "      <td>45329755</td>\n",
       "      <td>01/07/2020 12:00:00 AM</td>\n",
       "      <td>01/07/2020 04:37:08 PM</td>\n",
       "      <td>DOHMH</td>\n",
       "      <td>Department of Health and Mental Hygiene</td>\n",
       "      <td>Food Poisoning</td>\n",
       "      <td>1 or 2</td>\n",
       "      <td>Street Area</td>\n",
       "      <td>11004.0</td>\n",
       "      <td>255 STREET</td>\n",
       "      <td>...</td>\n",
       "      <td>NaN</td>\n",
       "      <td>NaN</td>\n",
       "      <td>NaN</td>\n",
       "      <td>NaN</td>\n",
       "      <td>NaN</td>\n",
       "      <td>NaN</td>\n",
       "      <td>NaN</td>\n",
       "      <td>40.736363</td>\n",
       "      <td>-73.712831</td>\n",
       "      <td>(40.73636320048617, -73.71283058158437)</td>\n",
       "    </tr>\n",
       "    <tr>\n",
       "      <th>6034</th>\n",
       "      <td>45332962</td>\n",
       "      <td>01/07/2020 12:00:00 AM</td>\n",
       "      <td>01/07/2020 01:41:32 PM</td>\n",
       "      <td>DOHMH</td>\n",
       "      <td>Department of Health and Mental Hygiene</td>\n",
       "      <td>Food Poisoning</td>\n",
       "      <td>1 or 2</td>\n",
       "      <td>Restaurant</td>\n",
       "      <td>11215.0</td>\n",
       "      <td>318 5 AVENUE</td>\n",
       "      <td>...</td>\n",
       "      <td>NaN</td>\n",
       "      <td>NaN</td>\n",
       "      <td>NaN</td>\n",
       "      <td>NaN</td>\n",
       "      <td>NaN</td>\n",
       "      <td>NaN</td>\n",
       "      <td>NaN</td>\n",
       "      <td>40.673030</td>\n",
       "      <td>-73.983100</td>\n",
       "      <td>(40.67303049309962, -73.9830997896011)</td>\n",
       "    </tr>\n",
       "    <tr>\n",
       "      <th>6035</th>\n",
       "      <td>45333565</td>\n",
       "      <td>01/07/2020 12:00:00 AM</td>\n",
       "      <td>01/07/2020 01:42:09 PM</td>\n",
       "      <td>DOHMH</td>\n",
       "      <td>Department of Health and Mental Hygiene</td>\n",
       "      <td>Food Poisoning</td>\n",
       "      <td>1 or 2</td>\n",
       "      <td>Restaurant/Bar/Deli/Bakery</td>\n",
       "      <td>10013.0</td>\n",
       "      <td>80 BAYARD STREET</td>\n",
       "      <td>...</td>\n",
       "      <td>NaN</td>\n",
       "      <td>NaN</td>\n",
       "      <td>NaN</td>\n",
       "      <td>NaN</td>\n",
       "      <td>NaN</td>\n",
       "      <td>NaN</td>\n",
       "      <td>NaN</td>\n",
       "      <td>40.715732</td>\n",
       "      <td>-73.998755</td>\n",
       "      <td>(40.71573208700158, -73.99875548037697)</td>\n",
       "    </tr>\n",
       "    <tr>\n",
       "      <th>6036</th>\n",
       "      <td>45334655</td>\n",
       "      <td>01/07/2020 12:00:00 AM</td>\n",
       "      <td>01/07/2020 04:36:42 PM</td>\n",
       "      <td>DOHMH</td>\n",
       "      <td>Department of Health and Mental Hygiene</td>\n",
       "      <td>Food Poisoning</td>\n",
       "      <td>1 or 2</td>\n",
       "      <td>Other (Explain Below)</td>\n",
       "      <td>11354.0</td>\n",
       "      <td>136-20 ROOSEVELT AVENUE</td>\n",
       "      <td>...</td>\n",
       "      <td>NaN</td>\n",
       "      <td>NaN</td>\n",
       "      <td>NaN</td>\n",
       "      <td>NaN</td>\n",
       "      <td>NaN</td>\n",
       "      <td>NaN</td>\n",
       "      <td>NaN</td>\n",
       "      <td>40.759785</td>\n",
       "      <td>-73.829236</td>\n",
       "      <td>(40.75978506574562, -73.82923633167887)</td>\n",
       "    </tr>\n",
       "  </tbody>\n",
       "</table>\n",
       "<p>8 rows × 41 columns</p>\n",
       "</div>"
      ],
      "text/plain": [
       "      Unique Key            Created Date             Closed Date Agency  \\\n",
       "6029    45336051  01/07/2020 12:00:00 AM  01/07/2020 12:00:01 AM  DOHMH   \n",
       "6030    45334413  01/07/2020 12:00:00 AM  01/07/2020 12:00:01 AM  DOHMH   \n",
       "6031    45334078  01/07/2020 12:00:00 AM  01/22/2020 12:00:01 AM  DOHMH   \n",
       "6032    45333111  01/07/2020 12:00:00 AM  01/08/2020 12:00:01 AM  DOHMH   \n",
       "6033    45329755  01/07/2020 12:00:00 AM  01/07/2020 04:37:08 PM  DOHMH   \n",
       "6034    45332962  01/07/2020 12:00:00 AM  01/07/2020 01:41:32 PM  DOHMH   \n",
       "6035    45333565  01/07/2020 12:00:00 AM  01/07/2020 01:42:09 PM  DOHMH   \n",
       "6036    45334655  01/07/2020 12:00:00 AM  01/07/2020 04:36:42 PM  DOHMH   \n",
       "\n",
       "                                  Agency Name  Complaint Type Descriptor  \\\n",
       "6029  Department of Health and Mental Hygiene  Food Poisoning  3 or More   \n",
       "6030  Department of Health and Mental Hygiene  Food Poisoning     1 or 2   \n",
       "6031  Department of Health and Mental Hygiene  Food Poisoning  3 or More   \n",
       "6032  Department of Health and Mental Hygiene  Food Poisoning     1 or 2   \n",
       "6033  Department of Health and Mental Hygiene  Food Poisoning     1 or 2   \n",
       "6034  Department of Health and Mental Hygiene  Food Poisoning     1 or 2   \n",
       "6035  Department of Health and Mental Hygiene  Food Poisoning     1 or 2   \n",
       "6036  Department of Health and Mental Hygiene  Food Poisoning     1 or 2   \n",
       "\n",
       "                   Location Type  Incident Zip         Incident Address  ...  \\\n",
       "6029       Other (Explain Below)       11206.0             LEWIS AVENUE  ...   \n",
       "6030  Restaurant/Bar/Deli/Bakery       10018.0      49 WEST   39 STREET  ...   \n",
       "6031                Retail Store       11206.0       1102 MYRTLE AVENUE  ...   \n",
       "6032                  Restaurant       10001.0      11 WEST   32 STREET  ...   \n",
       "6033                 Street Area       11004.0               255 STREET  ...   \n",
       "6034                  Restaurant       11215.0             318 5 AVENUE  ...   \n",
       "6035  Restaurant/Bar/Deli/Bakery       10013.0         80 BAYARD STREET  ...   \n",
       "6036       Other (Explain Below)       11354.0  136-20 ROOSEVELT AVENUE  ...   \n",
       "\n",
       "     Vehicle Type Taxi Company Borough Taxi Pick Up Location  \\\n",
       "6029          NaN                  NaN                   NaN   \n",
       "6030          NaN                  NaN                   NaN   \n",
       "6031          NaN                  NaN                   NaN   \n",
       "6032          NaN                  NaN                   NaN   \n",
       "6033          NaN                  NaN                   NaN   \n",
       "6034          NaN                  NaN                   NaN   \n",
       "6035          NaN                  NaN                   NaN   \n",
       "6036          NaN                  NaN                   NaN   \n",
       "\n",
       "     Bridge Highway Name Bridge Highway Direction Road Ramp  \\\n",
       "6029                 NaN                      NaN       NaN   \n",
       "6030                 NaN                      NaN       NaN   \n",
       "6031                 NaN                      NaN       NaN   \n",
       "6032                 NaN                      NaN       NaN   \n",
       "6033                 NaN                      NaN       NaN   \n",
       "6034                 NaN                      NaN       NaN   \n",
       "6035                 NaN                      NaN       NaN   \n",
       "6036                 NaN                      NaN       NaN   \n",
       "\n",
       "     Bridge Highway Segment   Latitude  Longitude  \\\n",
       "6029                    NaN  40.696689 -73.937792   \n",
       "6030                    NaN  40.752255 -73.983852   \n",
       "6031                    NaN  40.696817 -73.936605   \n",
       "6032                    NaN  40.747414 -73.986091   \n",
       "6033                    NaN  40.736363 -73.712831   \n",
       "6034                    NaN  40.673030 -73.983100   \n",
       "6035                    NaN  40.715732 -73.998755   \n",
       "6036                    NaN  40.759785 -73.829236   \n",
       "\n",
       "                                      Location  \n",
       "6029   (40.69668857681533, -73.93779178748973)  \n",
       "6030  (40.752255401079175, -73.98385207652169)  \n",
       "6031  (40.696816933440644, -73.93660520135623)  \n",
       "6032   (40.74741395808759, -73.98609084169061)  \n",
       "6033   (40.73636320048617, -73.71283058158437)  \n",
       "6034    (40.67303049309962, -73.9830997896011)  \n",
       "6035   (40.71573208700158, -73.99875548037697)  \n",
       "6036   (40.75978506574562, -73.82923633167887)  \n",
       "\n",
       "[8 rows x 41 columns]"
      ]
     },
     "execution_count": 61,
     "metadata": {},
     "output_type": "execute_result"
    }
   ],
   "source": [
    "df.tail(8)"
   ]
  },
  {
   "cell_type": "markdown",
   "metadata": {},
   "source": [
    "## 2. Print column list"
   ]
  },
  {
   "cell_type": "code",
   "execution_count": 62,
   "metadata": {},
   "outputs": [
    {
     "data": {
      "text/plain": [
       "['Unique Key',\n",
       " 'Created Date',\n",
       " 'Closed Date',\n",
       " 'Agency',\n",
       " 'Agency Name',\n",
       " 'Complaint Type',\n",
       " 'Descriptor',\n",
       " 'Location Type',\n",
       " 'Incident Zip',\n",
       " 'Incident Address',\n",
       " 'Street Name',\n",
       " 'Cross Street 1',\n",
       " 'Cross Street 2',\n",
       " 'Intersection Street 1',\n",
       " 'Intersection Street 2',\n",
       " 'Address Type',\n",
       " 'City',\n",
       " 'Landmark',\n",
       " 'Facility Type',\n",
       " 'Status',\n",
       " 'Due Date',\n",
       " 'Resolution Description',\n",
       " 'Resolution Action Updated Date',\n",
       " 'Community Board',\n",
       " 'BBL',\n",
       " 'Borough',\n",
       " 'X Coordinate (State Plane)',\n",
       " 'Y Coordinate (State Plane)',\n",
       " 'Open Data Channel Type',\n",
       " 'Park Facility Name',\n",
       " 'Park Borough',\n",
       " 'Vehicle Type',\n",
       " 'Taxi Company Borough',\n",
       " 'Taxi Pick Up Location',\n",
       " 'Bridge Highway Name',\n",
       " 'Bridge Highway Direction',\n",
       " 'Road Ramp',\n",
       " 'Bridge Highway Segment',\n",
       " 'Latitude',\n",
       " 'Longitude',\n",
       " 'Location']"
      ]
     },
     "execution_count": 62,
     "metadata": {},
     "output_type": "execute_result"
    }
   ],
   "source": [
    "df.columns.tolist()"
   ]
  },
  {
   "cell_type": "markdown",
   "metadata": {},
   "source": [
    "## 3. Print total number of rows (length of data)"
   ]
  },
  {
   "cell_type": "code",
   "execution_count": 69,
   "metadata": {},
   "outputs": [
    {
     "name": "stdout",
     "output_type": "stream",
     "text": [
      "6037\n"
     ]
    }
   ],
   "source": [
    "print(len(df))"
   ]
  },
  {
   "cell_type": "markdown",
   "metadata": {},
   "source": [
    "## 4. Print data header with certain columns "
   ]
  },
  {
   "cell_type": "code",
   "execution_count": 72,
   "metadata": {},
   "outputs": [
    {
     "name": "stdout",
     "output_type": "stream",
     "text": [
      "                               Agency Name           Complaint Type  \\\n",
      "0  Department of Health and Mental Hygiene           Food Poisoning   \n",
      "1  Department of Health and Mental Hygiene           Food Poisoning   \n",
      "2  Department of Health and Mental Hygiene           Food Poisoning   \n",
      "3  Department of Health and Mental Hygiene           Food Poisoning   \n",
      "4  Department of Health and Mental Hygiene           Food Poisoning   \n",
      "5  Department of Health and Mental Hygiene           Food Poisoning   \n",
      "6  Department of Health and Mental Hygiene           Food Poisoning   \n",
      "7          New York City Police Department      Noise - Residential   \n",
      "8          New York City Police Department  Noise - Street/Sidewalk   \n",
      "9          New York City Police Department      Noise - Residential   \n",
      "\n",
      "           City  \n",
      "0         BRONX  \n",
      "1  Forest Hills  \n",
      "2      NEW YORK  \n",
      "3      NEW YORK  \n",
      "4         BRONX  \n",
      "5      NEW YORK  \n",
      "6    Ozone Park  \n",
      "7      BROOKLYN  \n",
      "8         BRONX  \n",
      "9      BROOKLYN  \n"
     ]
    }
   ],
   "source": [
    "print(df[['Agency Name','Complaint Type','City']].head(10))"
   ]
  },
  {
   "cell_type": "markdown",
   "metadata": {},
   "source": [
    "## 5. Print data by index\n",
    "Let's keep 6 columns used above ('Unique Key', 'Agency Name', 'Complaint Type', 'Incident Zip', 'Borough', and 'Created Date')"
   ]
  },
  {
   "cell_type": "code",
   "execution_count": null,
   "metadata": {},
   "outputs": [],
   "source": []
  },
  {
   "cell_type": "markdown",
   "metadata": {},
   "source": [
    "## 6. Downsize data with certain columns"
   ]
  },
  {
   "cell_type": "code",
   "execution_count": null,
   "metadata": {},
   "outputs": [],
   "source": []
  },
  {
   "cell_type": "markdown",
   "metadata": {},
   "source": [
    "## 7. Rename columns \n",
    "Let's rename column 'Incident Zip' to 'Zipcode'"
   ]
  },
  {
   "cell_type": "code",
   "execution_count": null,
   "metadata": {},
   "outputs": [],
   "source": []
  },
  {
   "cell_type": "markdown",
   "metadata": {},
   "source": [
    "## 8. Check datatype"
   ]
  },
  {
   "cell_type": "code",
   "execution_count": null,
   "metadata": {},
   "outputs": [],
   "source": []
  },
  {
   "cell_type": "markdown",
   "metadata": {},
   "source": [
    "## 9. Convert data type\n",
    "* Zipcode: float to object (string)"
   ]
  },
  {
   "cell_type": "code",
   "execution_count": null,
   "metadata": {},
   "outputs": [],
   "source": []
  },
  {
   "cell_type": "code",
   "execution_count": null,
   "metadata": {},
   "outputs": [],
   "source": []
  },
  {
   "cell_type": "markdown",
   "metadata": {},
   "source": [
    "## Exercise: convert 'Created Date' column data type to datetime \n",
    "* Google it!\n",
    "* Hint: pd.to_datetime\n"
   ]
  },
  {
   "cell_type": "code",
   "execution_count": null,
   "metadata": {},
   "outputs": [],
   "source": []
  },
  {
   "cell_type": "markdown",
   "metadata": {},
   "source": [
    "## 10. Print unique values of the column"
   ]
  },
  {
   "cell_type": "code",
   "execution_count": null,
   "metadata": {},
   "outputs": [],
   "source": []
  },
  {
   "cell_type": "code",
   "execution_count": null,
   "metadata": {
    "scrolled": true
   },
   "outputs": [],
   "source": []
  },
  {
   "cell_type": "markdown",
   "metadata": {},
   "source": [
    "## 11. Print rows based on values\n",
    "* Print rows where \"Zipcode\" is 10011 and \"Complaint Type\" is 'Illegal Parking'"
   ]
  },
  {
   "cell_type": "code",
   "execution_count": null,
   "metadata": {},
   "outputs": [],
   "source": []
  },
  {
   "cell_type": "markdown",
   "metadata": {},
   "source": [
    "### Exercise: how many 311 service requests were reported in zipcode 10027 (Columbia Univ. neighborhood)?"
   ]
  },
  {
   "cell_type": "code",
   "execution_count": null,
   "metadata": {},
   "outputs": [],
   "source": []
  },
  {
   "cell_type": "code",
   "execution_count": null,
   "metadata": {},
   "outputs": [],
   "source": []
  },
  {
   "cell_type": "markdown",
   "metadata": {},
   "source": [
    "## 12. Groupby\n",
    "\n",
    "    Syntax:\n",
    "    YOUR_DATAFRAME.groupby('COLUME_NAME').OPERATOR() \n",
    "    OPERATOR can be count, sum, min, max, mean, and so on.\n",
    "\n",
    "* Let's groupby Borough to calculate how many 311 complaints were reported"
   ]
  },
  {
   "cell_type": "code",
   "execution_count": null,
   "metadata": {},
   "outputs": [],
   "source": []
  },
  {
   "cell_type": "markdown",
   "metadata": {},
   "source": [
    "### Exercise: how many complaints are averagely reported at the zipcode level?"
   ]
  },
  {
   "cell_type": "code",
   "execution_count": null,
   "metadata": {},
   "outputs": [],
   "source": []
  },
  {
   "cell_type": "markdown",
   "metadata": {},
   "source": [
    "## 13. Create a new column\n",
    "* Create a column 'City' with value 'NYC' "
   ]
  },
  {
   "cell_type": "code",
   "execution_count": null,
   "metadata": {},
   "outputs": [],
   "source": []
  },
  {
   "cell_type": "markdown",
   "metadata": {},
   "source": [
    "## 14. Export your dataframe as csv format\n",
    "* After data cleaning, processing, or any other manipulation, you will need to export your dataframe as a new dataset. \n",
    "* This can be saved in 'output' folder.\n",
    "\n",
    "        Syntax:\n",
    "        YOUR_DATAFRAME.to_csv('FILE_PATH')\n",
    "       "
   ]
  },
  {
   "cell_type": "code",
   "execution_count": null,
   "metadata": {},
   "outputs": [],
   "source": []
  },
  {
   "cell_type": "code",
   "execution_count": null,
   "metadata": {},
   "outputs": [],
   "source": []
  }
 ],
 "metadata": {
  "kernelspec": {
   "display_name": "Python 3",
   "language": "python",
   "name": "python3"
  },
  "language_info": {
   "codemirror_mode": {
    "name": "ipython",
    "version": 3
   },
   "file_extension": ".py",
   "mimetype": "text/x-python",
   "name": "python",
   "nbconvert_exporter": "python",
   "pygments_lexer": "ipython3",
   "version": "3.7.6"
  }
 },
 "nbformat": 4,
 "nbformat_minor": 2
}
