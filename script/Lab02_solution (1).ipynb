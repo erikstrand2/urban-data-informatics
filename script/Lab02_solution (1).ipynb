{
 "cells": [
  {
   "cell_type": "markdown",
   "metadata": {},
   "source": [
    "PLA6619 Introduction to Urban Data and Informatics I \\\n",
    "Tuesday, September 22, 2020 \\\n",
    "Week03"
   ]
  },
  {
   "cell_type": "code",
   "execution_count": null,
   "metadata": {},
   "outputs": [],
   "source": [
    "# Comments in Python begin with a hash mark ( # ) \n",
    "# and whitespace character and continue to the end of the line. \n",
    "# Because comments do not execute, when you run a program \n",
    "# you will not see any indication of the comment there. \n",
    "# Comments are in the source code for humans to read, not for computers to execute."
   ]
  },
  {
   "cell_type": "code",
   "execution_count": 1,
   "metadata": {},
   "outputs": [],
   "source": [
    "# There are sometimes useless system warnings (which is not an error). \n",
    "# I put this codes to ignore errors\n",
    "import warnings\n",
    "warnings.filterwarnings(\"ignore\")"
   ]
  },
  {
   "cell_type": "markdown",
   "metadata": {},
   "source": [
    "# Lab 02\n",
    "Please submit __Lab02.ipynb__ with outputs on Canvas after this lab session. It doesn't need to be perfect, but your submission will be reflected in attendance and participation. The solution of this notebook will be shared by end of today.\n",
    "# PART 1: Intro to Python (continued)\n",
    "\n",
    "## 1. Range\n",
    "\n",
    "        range()\n",
    "       \n",
    "This range() function returns a sequence of numbers, starting from 0 by default, and increments by 1 (by default), and ends at a specified number.\n",
    "\n",
    "        syntax:\n",
    "        range(START_NUMBER, STOP_NUMBER, STEP_NUMBER)\n",
    "        "
   ]
  },
  {
   "cell_type": "code",
   "execution_count": 2,
   "metadata": {},
   "outputs": [
    {
     "name": "stdout",
     "output_type": "stream",
     "text": [
      "[0, 1, 2, 3, 4]\n"
     ]
    }
   ],
   "source": [
    "x = list(range(5))\n",
    "print (x)"
   ]
  },
  {
   "cell_type": "code",
   "execution_count": 3,
   "metadata": {},
   "outputs": [
    {
     "name": "stdout",
     "output_type": "stream",
     "text": [
      "[3, 4, 5]\n"
     ]
    }
   ],
   "source": [
    "# Create a sequence of numbers from 3 to 5, and print each item in the sequence:\n",
    "x = list(range(3,6))\n",
    "print (x)"
   ]
  },
  {
   "cell_type": "code",
   "execution_count": 4,
   "metadata": {},
   "outputs": [
    {
     "name": "stdout",
     "output_type": "stream",
     "text": [
      "[3, 5, 7, 9, 11, 13, 15, 17, 19]\n"
     ]
    }
   ],
   "source": [
    "# Create a sequence of numbers from 3 to 19, but increment by 2 instead of 1:\n",
    "x = list(range(3, 20, 2))\n",
    "print (x)"
   ]
  },
  {
   "cell_type": "markdown",
   "metadata": {},
   "source": [
    "## 2. Calling Functions\n",
    "    min()\n",
    "    max()\n",
    "    sum()\n",
    "    len()"
   ]
  },
  {
   "cell_type": "code",
   "execution_count": 5,
   "metadata": {},
   "outputs": [
    {
     "data": {
      "text/plain": [
       "[0, 1, 2, 3, 4, 5, 6, 7, 8, 9, 10, 11, 12, 13, 14]"
      ]
     },
     "execution_count": 5,
     "metadata": {},
     "output_type": "execute_result"
    }
   ],
   "source": [
    "x = list(range(15))\n",
    "x"
   ]
  },
  {
   "cell_type": "code",
   "execution_count": 6,
   "metadata": {},
   "outputs": [
    {
     "name": "stdout",
     "output_type": "stream",
     "text": [
      "0\n",
      "14\n",
      "105\n",
      "15\n"
     ]
    }
   ],
   "source": [
    "print (min(x))\n",
    "print (max(x))\n",
    "print (sum(x))\n",
    "print (len(x))"
   ]
  },
  {
   "cell_type": "markdown",
   "metadata": {},
   "source": [
    "### Exercise: create a list with a sequence of number from 3 to 31, increment by 4, using range() and print mean value of the items.\n",
    "* Create a list and assign variable.\n",
    "* Assign variables using calling functions based on needs (e.g. min, max, sum, or len)\n",
    "* Print mean value of the items in the list using mathematical expression."
   ]
  },
  {
   "cell_type": "code",
   "execution_count": 7,
   "metadata": {},
   "outputs": [
    {
     "name": "stdout",
     "output_type": "stream",
     "text": [
      "17.0\n"
     ]
    }
   ],
   "source": [
    "myList = range(3, 32, 4)\n",
    "a = sum(myList)\n",
    "b = len(myList)\n",
    "\n",
    "print (a/b)"
   ]
  },
  {
   "cell_type": "markdown",
   "metadata": {},
   "source": [
    "## 3. Wrting Functions\n",
    "A function is a block of code with only runs when it is called. You can pass data, known as parameters, into a function. A function can return data as a result. The advantage of writing functions is you can easily use funciton for repeated processes with the same parameter structure. (e.g. calculator)\n",
    "\n",
    "    Syntax:\n",
    "    \n",
    "    def YOUR_FUNCTION_NAME(PARAMETERS):\n",
    "        WRITE_YOUR_CODE_HERE"
   ]
  },
  {
   "cell_type": "code",
   "execution_count": 8,
   "metadata": {},
   "outputs": [],
   "source": [
    "# Writing a function\n",
    "def myFunction(): # without a parameter\n",
    "    print (\"We are learning Python.\")"
   ]
  },
  {
   "cell_type": "code",
   "execution_count": 9,
   "metadata": {},
   "outputs": [
    {
     "name": "stdout",
     "output_type": "stream",
     "text": [
      "We are learning Python.\n"
     ]
    }
   ],
   "source": [
    "# Use or call a function\n",
    "myFunction()"
   ]
  },
  {
   "cell_type": "code",
   "execution_count": 10,
   "metadata": {},
   "outputs": [],
   "source": [
    "# Writing a function\n",
    "def myFunction(x,y):\n",
    "    return x*y"
   ]
  },
  {
   "cell_type": "code",
   "execution_count": 11,
   "metadata": {},
   "outputs": [
    {
     "data": {
      "text/plain": [
       "15"
      ]
     },
     "execution_count": 11,
     "metadata": {},
     "output_type": "execute_result"
    }
   ],
   "source": [
    "myFunction(3,5)"
   ]
  },
  {
   "cell_type": "code",
   "execution_count": 12,
   "metadata": {},
   "outputs": [
    {
     "data": {
      "text/plain": [
       "60"
      ]
     },
     "execution_count": 12,
     "metadata": {},
     "output_type": "execute_result"
    }
   ],
   "source": [
    "myFunction(10,6)"
   ]
  },
  {
   "cell_type": "code",
   "execution_count": 13,
   "metadata": {},
   "outputs": [
    {
     "data": {
      "text/plain": [
       "[14, 4, 45, 1.8]"
      ]
     },
     "execution_count": 13,
     "metadata": {},
     "output_type": "execute_result"
    }
   ],
   "source": [
    "# Writing a function (four fundamental arithmetic calculation)\n",
    "def myFunction(x,y):\n",
    "    a = x+y\n",
    "    b = x-y\n",
    "    c = x*y\n",
    "    d = x/y\n",
    "    return [a,b,c,d]\n",
    "\n",
    "myFunction(9,5)"
   ]
  },
  {
   "cell_type": "markdown",
   "metadata": {},
   "source": [
    "### Exercise: write a function to return average value of items in a list."
   ]
  },
  {
   "cell_type": "code",
   "execution_count": 14,
   "metadata": {},
   "outputs": [
    {
     "name": "stdout",
     "output_type": "stream",
     "text": [
      "4.0\n"
     ]
    }
   ],
   "source": [
    "def myFunction(inputList):\n",
    "    print (sum(inputList)/len(inputList))\n",
    "    \n",
    "myFunction([1,4,5,8,2])"
   ]
  },
  {
   "cell_type": "markdown",
   "metadata": {},
   "source": [
    "## 4. Control Statement (If-else)\n",
    "* if\n",
    "* elif\n",
    "* else"
   ]
  },
  {
   "cell_type": "code",
   "execution_count": 15,
   "metadata": {},
   "outputs": [
    {
     "name": "stdout",
     "output_type": "stream",
     "text": [
      "b is greater than a.\n"
     ]
    }
   ],
   "source": [
    "a = 5\n",
    "b = 30\n",
    "\n",
    "if b > a:\n",
    "    print (\"b is greater than a.\")"
   ]
  },
  {
   "cell_type": "code",
   "execution_count": 16,
   "metadata": {},
   "outputs": [
    {
     "name": "stdout",
     "output_type": "stream",
     "text": [
      "a and b are equal.\n"
     ]
    }
   ],
   "source": [
    "# The elif keyword is pythons way of saying \"if the previous conditions were not true, then try this condition\"\n",
    "\n",
    "a = 33\n",
    "b = 33\n",
    "if b > a:\n",
    "    print (\"b is greater than a.\")\n",
    "elif a == b:\n",
    "    print (\"a and b are equal.\")"
   ]
  },
  {
   "cell_type": "code",
   "execution_count": 17,
   "metadata": {},
   "outputs": [
    {
     "name": "stdout",
     "output_type": "stream",
     "text": [
      "a is greater than b.\n"
     ]
    }
   ],
   "source": [
    "# The else keyword catches anything which isn't caught by the preceding conditions\n",
    "a = 200\n",
    "b = 33\n",
    "if b > a:\n",
    "    print (\"b is greater than a.\")\n",
    "elif a == b:\n",
    "    print (\"a and b are equal.\")\n",
    "else:\n",
    "    print (\"a is greater than b.\")"
   ]
  },
  {
   "cell_type": "markdown",
   "metadata": {},
   "source": [
    "## 5. For loops\n",
    "A for loop is used for iterating over a sequence (that is either a list, a tuple, a dictionary, a set, or a string). This is less like the for keyword in other programming languages, and works more like an iterator method as found in other object-oriented programming languages. With the for loop we can execute a set of statements, once for each item in a list, tuple, set etc.\n",
    "\n",
    "    Syntax:\n",
    "    for item in YOUR_SEQUENCE:\n",
    "        do this\n",
    "        do that\n",
    "        ..."
   ]
  },
  {
   "cell_type": "code",
   "execution_count": 18,
   "metadata": {},
   "outputs": [
    {
     "name": "stdout",
     "output_type": "stream",
     "text": [
      "0\n",
      "1\n",
      "2\n",
      "3\n",
      "4\n",
      "5\n"
     ]
    }
   ],
   "source": [
    "for i in range(6):\n",
    "    print (i)"
   ]
  },
  {
   "cell_type": "code",
   "execution_count": 19,
   "metadata": {},
   "outputs": [
    {
     "name": "stdout",
     "output_type": "stream",
     "text": [
      "I've traveled New York.\n",
      "I've traveled Boston.\n",
      "I've traveled Chicago.\n"
     ]
    }
   ],
   "source": [
    "for city in ['New York', 'Boston', 'Chicago']:\n",
    "    print (\"I've traveled %s.\" %city)"
   ]
  },
  {
   "cell_type": "code",
   "execution_count": 20,
   "metadata": {},
   "outputs": [
    {
     "name": "stdout",
     "output_type": "stream",
     "text": [
      "red pen\n",
      "red shirt\n",
      "red paper\n",
      "yellow pen\n",
      "yellow shirt\n",
      "yellow paper\n",
      "blue pen\n",
      "blue shirt\n",
      "blue paper\n"
     ]
    }
   ],
   "source": [
    "# Print all combinations of lists\n",
    "colors = ['red', 'yellow', 'blue']\n",
    "items = ['pen', 'shirt', 'paper']\n",
    "\n",
    "for c in colors: \n",
    "    for i in items:\n",
    "        print (c, i)"
   ]
  },
  {
   "cell_type": "code",
   "execution_count": 21,
   "metadata": {},
   "outputs": [
    {
     "name": "stdout",
     "output_type": "stream",
     "text": [
      "0\n",
      "1\n",
      "2\n",
      "Three\n",
      "4\n"
     ]
    }
   ],
   "source": [
    "# For loop with controlling statement\n",
    "for i in range(5): \n",
    "    if i == 3:\n",
    "        print ('Three')\n",
    "    else:\n",
    "        print (i)"
   ]
  },
  {
   "cell_type": "code",
   "execution_count": 22,
   "metadata": {},
   "outputs": [
    {
     "name": "stdout",
     "output_type": "stream",
     "text": [
      "0\n",
      "1\n",
      "2\n",
      "4\n"
     ]
    }
   ],
   "source": [
    "# You can pass\n",
    "for i in range(5):\n",
    "    if i == 3:\n",
    "        pass\n",
    "    else:\n",
    "        print (i)"
   ]
  },
  {
   "cell_type": "code",
   "execution_count": 23,
   "metadata": {},
   "outputs": [
    {
     "name": "stdout",
     "output_type": "stream",
     "text": [
      "0\n",
      "1\n",
      "2\n"
     ]
    }
   ],
   "source": [
    "# You can break a script\n",
    "for i in range(5):\n",
    "    if i == 3:\n",
    "        break\n",
    "    else:\n",
    "        print (i)"
   ]
  },
  {
   "cell_type": "markdown",
   "metadata": {},
   "source": [
    "### Exercise: create a function to get all availabe combinations based on the following statements.\n",
    "* Create two lists [1, 3, 5, 7] and [2, 4, 6, 8] using a range() function.\n",
    "* Print out all available combinations of two items from each list if a multiplication result is not 12. For example, 3 and 4 shouldn't be printed out.\n",
    "* Break a script once a for loop once a for loop takes 7 from the first list.\n",
    "Ideal output would be \n",
    "        1 2\n",
    "        1 4\n",
    "        1 6\n",
    "        1 8\n",
    "        3 2\n",
    "        3 6\n",
    "        3 8\n",
    "        5 2\n",
    "        5 4\n",
    "        5 6\n",
    "        5 8"
   ]
  },
  {
   "cell_type": "code",
   "execution_count": 24,
   "metadata": {},
   "outputs": [
    {
     "name": "stdout",
     "output_type": "stream",
     "text": [
      "1 2\n",
      "1 4\n",
      "1 6\n",
      "1 8\n",
      "3 2\n",
      "3 6\n",
      "3 8\n",
      "5 2\n",
      "5 4\n",
      "5 6\n",
      "5 8\n"
     ]
    }
   ],
   "source": [
    "myList1 = list(range(1,8,2))\n",
    "myList2 = list(range(2,9,2))\n",
    "\n",
    "for i in myList1:\n",
    "    for j in myList2:\n",
    "        x = i*j\n",
    "        if x == 12:\n",
    "            pass\n",
    "        elif i == 7:\n",
    "            break\n",
    "        else:\n",
    "            print (i, j)"
   ]
  },
  {
   "cell_type": "markdown",
   "metadata": {},
   "source": [
    "# PART 2: Essential Libraries - Numpy\n",
    "NumPy is one of the fundamental packages for scientific computing in the browser.\n",
    "\n",
    "* Multimensional arrays\n",
    "* High-level mathematical functions such as linear algebra operations\n",
    "* Important, because the NumPy array is the fundamental data structure in scikit-learn (which will be mainly used for machine learning algorithms)\n",
    "* Data will have to be converted to a NumPy array\n",
    "* Core functionality: ndarray class, multidimensinal (n-dimensional) array\n",
    "* All elements in the array must be of the same data type (e.g. int, str, float...)\n"
   ]
  },
  {
   "cell_type": "markdown",
   "metadata": {},
   "source": [
    "## Import Numpy module"
   ]
  },
  {
   "cell_type": "code",
   "execution_count": 25,
   "metadata": {},
   "outputs": [],
   "source": [
    "import numpy as np"
   ]
  },
  {
   "cell_type": "markdown",
   "metadata": {},
   "source": [
    "## 1. Create a numpy array"
   ]
  },
  {
   "cell_type": "code",
   "execution_count": 26,
   "metadata": {},
   "outputs": [
    {
     "name": "stdout",
     "output_type": "stream",
     "text": [
      "[[1 2 3]\n",
      " [4 5 6]]\n"
     ]
    }
   ],
   "source": [
    "# Create 2 by 3 numpy array \n",
    "x = np.array([[1,2,3],\n",
    "              [4,5,6]])\n",
    "\n",
    "print (x)"
   ]
  },
  {
   "cell_type": "markdown",
   "metadata": {},
   "source": [
    "## 2. Shape of matrix (array)"
   ]
  },
  {
   "cell_type": "code",
   "execution_count": 27,
   "metadata": {},
   "outputs": [
    {
     "name": "stdout",
     "output_type": "stream",
     "text": [
      "(2, 3)\n"
     ]
    }
   ],
   "source": [
    "print (x.shape)"
   ]
  },
  {
   "cell_type": "markdown",
   "metadata": {},
   "source": [
    "## 3. Indexing"
   ]
  },
  {
   "cell_type": "code",
   "execution_count": 28,
   "metadata": {},
   "outputs": [
    {
     "name": "stdout",
     "output_type": "stream",
     "text": [
      "[1 2 3]\n",
      "[4 5 6]\n",
      "1\n",
      "6\n"
     ]
    }
   ],
   "source": [
    "# Array indexing\n",
    "print (x[0])\n",
    "print (x[1])\n",
    "print (x[0][0])\n",
    "print (x[1][2])"
   ]
  },
  {
   "cell_type": "markdown",
   "metadata": {},
   "source": [
    "__Accessing array rows and columns__ \\\n",
    "One commonly needed routine is accessing single rows or columns of an array. You can do this by combining indexing and slicing, using an empty slice marked by a single colon (:):"
   ]
  },
  {
   "cell_type": "code",
   "execution_count": 29,
   "metadata": {},
   "outputs": [
    {
     "name": "stdout",
     "output_type": "stream",
     "text": [
      "[1 4]\n",
      "[3 6]\n"
     ]
    }
   ],
   "source": [
    "# First column\n",
    "print (x[:, 0])\n",
    "\n",
    "# Third column\n",
    "print (x[:, 2])"
   ]
  },
  {
   "cell_type": "markdown",
   "metadata": {},
   "source": [
    "## 4. Numpy's arithmetic operators"
   ]
  },
  {
   "cell_type": "code",
   "execution_count": 30,
   "metadata": {},
   "outputs": [
    {
     "name": "stdout",
     "output_type": "stream",
     "text": [
      "[4 5 6 7 8 9]\n",
      "[-9 -8 -7 -6 -5 -4]\n",
      "[ 3  6  9 12 15 18]\n"
     ]
    }
   ],
   "source": [
    "x = np.array([1,2,3,4,5,6])\n",
    "\n",
    "print (x+3)\n",
    "print (x-10)\n",
    "print (x*3)"
   ]
  },
  {
   "cell_type": "code",
   "execution_count": 31,
   "metadata": {},
   "outputs": [],
   "source": [
    "# Absolute, log, exp values\n",
    "# The inverse of the exponentials, the logarithms, are also available. \n",
    "# The basic np.log gives the natural logarithm; if you prefer to compute the base-2 logarithm or \n",
    "# the base-10 logarithm, these are available as well:"
   ]
  },
  {
   "cell_type": "markdown",
   "metadata": {},
   "source": [
    "## 5. Calling built-in functions"
   ]
  },
  {
   "cell_type": "code",
   "execution_count": 32,
   "metadata": {},
   "outputs": [
    {
     "name": "stdout",
     "output_type": "stream",
     "text": [
      "60\n",
      "1\n",
      "0\n",
      "7\n",
      "14\n",
      "4.0\n",
      "1.632993161855452\n"
     ]
    }
   ],
   "source": [
    "x = np.array([[1,2,3,4,5],\n",
    "             [2,3,4,5,6],\n",
    "             [3,4,5,6,7]])\n",
    "\n",
    "print (x.sum())\n",
    "print (x.min())\n",
    "print (x.argmin()) # Find index of minimum value \n",
    "print (x.max())\n",
    "print (x.argmax()) # Find index of maximum value\n",
    "print (x.mean())\n",
    "print (x.std())"
   ]
  },
  {
   "cell_type": "code",
   "execution_count": 33,
   "metadata": {},
   "outputs": [
    {
     "name": "stdout",
     "output_type": "stream",
     "text": [
      "4.0\n",
      "60\n",
      "1\n",
      "0\n",
      "14\n",
      "4.0\n",
      "1.632993161855452\n"
     ]
    }
   ],
   "source": [
    "# Or, NumPy functions can be used as other format like below\n",
    "print (np.median(x))\n",
    "print (np.sum(x))\n",
    "print (np.min(x))\n",
    "print (np.argmin(x))\n",
    "print (np.argmax(x))\n",
    "print (np.mean(x))\n",
    "print (np.std(x))"
   ]
  },
  {
   "cell_type": "markdown",
   "metadata": {},
   "source": [
    "# PART 3: Pandas\n",
    "Pandas is a Python library for data wrangling and analysis.\n",
    "\n",
    "* Data structure called the DataFrame - modeled after the R DataFrame\n",
    "* Simply, it is like a table, similar to an Excel spreadsheet\n",
    "* Great range of methods to modify and operate on data tables\n",
    "* SQL-like queries, joins of tables\n",
    "* In contrast to NumPy, Pandas allows each column to have a separate data type (e.g. one for string, one for float, one for datetime etc.)\n",
    "* Ingest from a variety of data file formats and data bases (SQL, Excel file, csv, json)\n",
    "\n",
    "### Import pandas module\n"
   ]
  },
  {
   "cell_type": "code",
   "execution_count": 34,
   "metadata": {},
   "outputs": [],
   "source": [
    "import pandas as pd"
   ]
  },
  {
   "cell_type": "markdown",
   "metadata": {},
   "source": [
    "## 1. Create a pandas dataframe"
   ]
  },
  {
   "cell_type": "code",
   "execution_count": 35,
   "metadata": {},
   "outputs": [
    {
     "name": "stdout",
     "output_type": "stream",
     "text": [
      "{'Name': ['John', 'Anna', 'Peter', 'Linda', 'Nick'], 'Location': ['New York', 'Paris', 'Berlin', 'London', 'Barcelona'], 'Major': ['Architecture', 'Urban Planning', 'Urban Design', 'Computer Science', 'Fine Arts'], 'Age': [28, 30, 27, 25, 26]}\n"
     ]
    }
   ],
   "source": [
    "# Create a simple dataset using dictionary\n",
    "data = {'Name': [\"John\", \"Anna\", \"Peter\", \"Linda\", \"Nick\"],\n",
    "       'Location': [\"New York\", \"Paris\", \"Berlin\", \"London\", \"Barcelona\"],\n",
    "       'Major': [\"Architecture\", \"Urban Planning\", \"Urban Design\", \"Computer Science\", \"Fine Arts\"],\n",
    "       'Age': [28, 30, 27, 25, 26]}\n",
    "\n",
    "print (data)"
   ]
  },
  {
   "cell_type": "code",
   "execution_count": 36,
   "metadata": {},
   "outputs": [],
   "source": [
    "# Convert this dictionary to pandas dataframe\n",
    "data_pandas = pd.DataFrame(data)"
   ]
  },
  {
   "cell_type": "code",
   "execution_count": 37,
   "metadata": {},
   "outputs": [
    {
     "data": {
      "text/html": [
       "<div>\n",
       "<style scoped>\n",
       "    .dataframe tbody tr th:only-of-type {\n",
       "        vertical-align: middle;\n",
       "    }\n",
       "\n",
       "    .dataframe tbody tr th {\n",
       "        vertical-align: top;\n",
       "    }\n",
       "\n",
       "    .dataframe thead th {\n",
       "        text-align: right;\n",
       "    }\n",
       "</style>\n",
       "<table border=\"1\" class=\"dataframe\">\n",
       "  <thead>\n",
       "    <tr style=\"text-align: right;\">\n",
       "      <th></th>\n",
       "      <th>Name</th>\n",
       "      <th>Location</th>\n",
       "      <th>Major</th>\n",
       "      <th>Age</th>\n",
       "    </tr>\n",
       "  </thead>\n",
       "  <tbody>\n",
       "    <tr>\n",
       "      <td>0</td>\n",
       "      <td>John</td>\n",
       "      <td>New York</td>\n",
       "      <td>Architecture</td>\n",
       "      <td>28</td>\n",
       "    </tr>\n",
       "    <tr>\n",
       "      <td>1</td>\n",
       "      <td>Anna</td>\n",
       "      <td>Paris</td>\n",
       "      <td>Urban Planning</td>\n",
       "      <td>30</td>\n",
       "    </tr>\n",
       "    <tr>\n",
       "      <td>2</td>\n",
       "      <td>Peter</td>\n",
       "      <td>Berlin</td>\n",
       "      <td>Urban Design</td>\n",
       "      <td>27</td>\n",
       "    </tr>\n",
       "    <tr>\n",
       "      <td>3</td>\n",
       "      <td>Linda</td>\n",
       "      <td>London</td>\n",
       "      <td>Computer Science</td>\n",
       "      <td>25</td>\n",
       "    </tr>\n",
       "    <tr>\n",
       "      <td>4</td>\n",
       "      <td>Nick</td>\n",
       "      <td>Barcelona</td>\n",
       "      <td>Fine Arts</td>\n",
       "      <td>26</td>\n",
       "    </tr>\n",
       "  </tbody>\n",
       "</table>\n",
       "</div>"
      ],
      "text/plain": [
       "    Name   Location             Major  Age\n",
       "0   John   New York      Architecture   28\n",
       "1   Anna      Paris    Urban Planning   30\n",
       "2  Peter     Berlin      Urban Design   27\n",
       "3  Linda     London  Computer Science   25\n",
       "4   Nick  Barcelona         Fine Arts   26"
      ]
     },
     "execution_count": 37,
     "metadata": {},
     "output_type": "execute_result"
    }
   ],
   "source": [
    "# Pandas dataframe allows pretty printing of dataframes\n",
    "data_pandas"
   ]
  },
  {
   "cell_type": "markdown",
   "metadata": {},
   "source": [
    "## 2. Data shape, columns, and rows"
   ]
  },
  {
   "cell_type": "code",
   "execution_count": 38,
   "metadata": {},
   "outputs": [
    {
     "name": "stdout",
     "output_type": "stream",
     "text": [
      "Shape of data_pandas:  (5, 4)\n"
     ]
    }
   ],
   "source": [
    "print (\"Shape of data_pandas: \",data_pandas.shape)"
   ]
  },
  {
   "cell_type": "code",
   "execution_count": 39,
   "metadata": {},
   "outputs": [
    {
     "name": "stdout",
     "output_type": "stream",
     "text": [
      "Column names:  ['Name', 'Location', 'Major', 'Age']\n"
     ]
    }
   ],
   "source": [
    "# Print all columns\n",
    "print (\"Column names: \",data_pandas.columns.tolist())"
   ]
  },
  {
   "cell_type": "code",
   "execution_count": 40,
   "metadata": {},
   "outputs": [
    {
     "data": {
      "text/plain": [
       "0     John\n",
       "1     Anna\n",
       "2    Peter\n",
       "3    Linda\n",
       "4     Nick\n",
       "Name: Name, dtype: object"
      ]
     },
     "execution_count": 40,
     "metadata": {},
     "output_type": "execute_result"
    }
   ],
   "source": [
    "# Call data associated a columne\n",
    "data_pandas['Name']"
   ]
  },
  {
   "cell_type": "code",
   "execution_count": 41,
   "metadata": {},
   "outputs": [
    {
     "data": {
      "text/plain": [
       "0     John\n",
       "1     Anna\n",
       "2    Peter\n",
       "3    Linda\n",
       "4     Nick\n",
       "Name: Name, dtype: object"
      ]
     },
     "execution_count": 41,
     "metadata": {},
     "output_type": "execute_result"
    }
   ],
   "source": [
    "data_pandas.Name"
   ]
  },
  {
   "cell_type": "code",
   "execution_count": 42,
   "metadata": {},
   "outputs": [
    {
     "data": {
      "text/html": [
       "<div>\n",
       "<style scoped>\n",
       "    .dataframe tbody tr th:only-of-type {\n",
       "        vertical-align: middle;\n",
       "    }\n",
       "\n",
       "    .dataframe tbody tr th {\n",
       "        vertical-align: top;\n",
       "    }\n",
       "\n",
       "    .dataframe thead th {\n",
       "        text-align: right;\n",
       "    }\n",
       "</style>\n",
       "<table border=\"1\" class=\"dataframe\">\n",
       "  <thead>\n",
       "    <tr style=\"text-align: right;\">\n",
       "      <th></th>\n",
       "      <th>Name</th>\n",
       "      <th>Major</th>\n",
       "    </tr>\n",
       "  </thead>\n",
       "  <tbody>\n",
       "    <tr>\n",
       "      <td>0</td>\n",
       "      <td>John</td>\n",
       "      <td>Architecture</td>\n",
       "    </tr>\n",
       "    <tr>\n",
       "      <td>1</td>\n",
       "      <td>Anna</td>\n",
       "      <td>Urban Planning</td>\n",
       "    </tr>\n",
       "    <tr>\n",
       "      <td>2</td>\n",
       "      <td>Peter</td>\n",
       "      <td>Urban Design</td>\n",
       "    </tr>\n",
       "    <tr>\n",
       "      <td>3</td>\n",
       "      <td>Linda</td>\n",
       "      <td>Computer Science</td>\n",
       "    </tr>\n",
       "    <tr>\n",
       "      <td>4</td>\n",
       "      <td>Nick</td>\n",
       "      <td>Fine Arts</td>\n",
       "    </tr>\n",
       "  </tbody>\n",
       "</table>\n",
       "</div>"
      ],
      "text/plain": [
       "    Name             Major\n",
       "0   John      Architecture\n",
       "1   Anna    Urban Planning\n",
       "2  Peter      Urban Design\n",
       "3  Linda  Computer Science\n",
       "4   Nick         Fine Arts"
      ]
     },
     "execution_count": 42,
     "metadata": {},
     "output_type": "execute_result"
    }
   ],
   "source": [
    "data_pandas[['Name', 'Major']] # multiple columns"
   ]
  },
  {
   "cell_type": "markdown",
   "metadata": {},
   "source": [
    "## 3. Data types"
   ]
  },
  {
   "cell_type": "code",
   "execution_count": 43,
   "metadata": {},
   "outputs": [
    {
     "data": {
      "text/plain": [
       "Name        object\n",
       "Location    object\n",
       "Major       object\n",
       "Age          int64\n",
       "dtype: object"
      ]
     },
     "execution_count": 43,
     "metadata": {},
     "output_type": "execute_result"
    }
   ],
   "source": [
    "data_pandas.dtypes"
   ]
  },
  {
   "cell_type": "markdown",
   "metadata": {},
   "source": [
    "## 4. Data indexing and selection"
   ]
  },
  {
   "cell_type": "code",
   "execution_count": 44,
   "metadata": {},
   "outputs": [
    {
     "data": {
      "text/html": [
       "<div>\n",
       "<style scoped>\n",
       "    .dataframe tbody tr th:only-of-type {\n",
       "        vertical-align: middle;\n",
       "    }\n",
       "\n",
       "    .dataframe tbody tr th {\n",
       "        vertical-align: top;\n",
       "    }\n",
       "\n",
       "    .dataframe thead th {\n",
       "        text-align: right;\n",
       "    }\n",
       "</style>\n",
       "<table border=\"1\" class=\"dataframe\">\n",
       "  <thead>\n",
       "    <tr style=\"text-align: right;\">\n",
       "      <th></th>\n",
       "      <th>Name</th>\n",
       "      <th>Location</th>\n",
       "      <th>Major</th>\n",
       "      <th>Age</th>\n",
       "    </tr>\n",
       "  </thead>\n",
       "  <tbody>\n",
       "    <tr>\n",
       "      <td>1</td>\n",
       "      <td>Anna</td>\n",
       "      <td>Paris</td>\n",
       "      <td>Urban Planning</td>\n",
       "      <td>30</td>\n",
       "    </tr>\n",
       "    <tr>\n",
       "      <td>2</td>\n",
       "      <td>Peter</td>\n",
       "      <td>Berlin</td>\n",
       "      <td>Urban Design</td>\n",
       "      <td>27</td>\n",
       "    </tr>\n",
       "  </tbody>\n",
       "</table>\n",
       "</div>"
      ],
      "text/plain": [
       "    Name Location           Major  Age\n",
       "1   Anna    Paris  Urban Planning   30\n",
       "2  Peter   Berlin    Urban Design   27"
      ]
     },
     "execution_count": 44,
     "metadata": {},
     "output_type": "execute_result"
    }
   ],
   "source": [
    "# Show the rows based on index\n",
    "data_pandas.iloc[1:3] # rows with index 1 through 3 (stop before index 3)"
   ]
  },
  {
   "cell_type": "code",
   "execution_count": 45,
   "metadata": {},
   "outputs": [
    {
     "data": {
      "text/html": [
       "<div>\n",
       "<style scoped>\n",
       "    .dataframe tbody tr th:only-of-type {\n",
       "        vertical-align: middle;\n",
       "    }\n",
       "\n",
       "    .dataframe tbody tr th {\n",
       "        vertical-align: top;\n",
       "    }\n",
       "\n",
       "    .dataframe thead th {\n",
       "        text-align: right;\n",
       "    }\n",
       "</style>\n",
       "<table border=\"1\" class=\"dataframe\">\n",
       "  <thead>\n",
       "    <tr style=\"text-align: right;\">\n",
       "      <th></th>\n",
       "      <th>Name</th>\n",
       "      <th>Location</th>\n",
       "      <th>Major</th>\n",
       "      <th>Age</th>\n",
       "    </tr>\n",
       "  </thead>\n",
       "  <tbody>\n",
       "    <tr>\n",
       "      <td>0</td>\n",
       "      <td>John</td>\n",
       "      <td>New York</td>\n",
       "      <td>Architecture</td>\n",
       "      <td>28</td>\n",
       "    </tr>\n",
       "    <tr>\n",
       "      <td>1</td>\n",
       "      <td>Anna</td>\n",
       "      <td>Paris</td>\n",
       "      <td>Urban Planning</td>\n",
       "      <td>30</td>\n",
       "    </tr>\n",
       "  </tbody>\n",
       "</table>\n",
       "</div>"
      ],
      "text/plain": [
       "   Name  Location           Major  Age\n",
       "0  John  New York    Architecture   28\n",
       "1  Anna     Paris  Urban Planning   30"
      ]
     },
     "execution_count": 45,
     "metadata": {},
     "output_type": "execute_result"
    }
   ],
   "source": [
    "# Show the rows based on the value\n",
    "# Syntax: DataFrameName[ConditionStatement]\n",
    "data_pandas[data_pandas['Age']>27]"
   ]
  },
  {
   "cell_type": "code",
   "execution_count": 46,
   "metadata": {},
   "outputs": [
    {
     "data": {
      "text/html": [
       "<div>\n",
       "<style scoped>\n",
       "    .dataframe tbody tr th:only-of-type {\n",
       "        vertical-align: middle;\n",
       "    }\n",
       "\n",
       "    .dataframe tbody tr th {\n",
       "        vertical-align: top;\n",
       "    }\n",
       "\n",
       "    .dataframe thead th {\n",
       "        text-align: right;\n",
       "    }\n",
       "</style>\n",
       "<table border=\"1\" class=\"dataframe\">\n",
       "  <thead>\n",
       "    <tr style=\"text-align: right;\">\n",
       "      <th></th>\n",
       "      <th>Name</th>\n",
       "      <th>Location</th>\n",
       "      <th>Major</th>\n",
       "      <th>Age</th>\n",
       "    </tr>\n",
       "  </thead>\n",
       "  <tbody>\n",
       "    <tr>\n",
       "      <td>1</td>\n",
       "      <td>Anna</td>\n",
       "      <td>Paris</td>\n",
       "      <td>Urban Planning</td>\n",
       "      <td>30</td>\n",
       "    </tr>\n",
       "  </tbody>\n",
       "</table>\n",
       "</div>"
      ],
      "text/plain": [
       "   Name Location           Major  Age\n",
       "1  Anna    Paris  Urban Planning   30"
      ]
     },
     "execution_count": 46,
     "metadata": {},
     "output_type": "execute_result"
    }
   ],
   "source": [
    "data_pandas[data_pandas['Major']=='Urban Planning']"
   ]
  },
  {
   "cell_type": "markdown",
   "metadata": {},
   "source": [
    "## 5. Sorting\n",
    "Even though the dataframe is sorted, the original index will be kept. If you want to change or reset the index, you can use 'DataFrame.reset_index()' command.\n",
    "    \n",
    "    syntax\n",
    "    YOUR_DATAFRAME.sort_values(by='COLUMN_NAME', ascending='False')   ascending='True' is default"
   ]
  },
  {
   "cell_type": "code",
   "execution_count": 47,
   "metadata": {},
   "outputs": [
    {
     "data": {
      "text/html": [
       "<div>\n",
       "<style scoped>\n",
       "    .dataframe tbody tr th:only-of-type {\n",
       "        vertical-align: middle;\n",
       "    }\n",
       "\n",
       "    .dataframe tbody tr th {\n",
       "        vertical-align: top;\n",
       "    }\n",
       "\n",
       "    .dataframe thead th {\n",
       "        text-align: right;\n",
       "    }\n",
       "</style>\n",
       "<table border=\"1\" class=\"dataframe\">\n",
       "  <thead>\n",
       "    <tr style=\"text-align: right;\">\n",
       "      <th></th>\n",
       "      <th>Name</th>\n",
       "      <th>Location</th>\n",
       "      <th>Major</th>\n",
       "      <th>Age</th>\n",
       "    </tr>\n",
       "  </thead>\n",
       "  <tbody>\n",
       "    <tr>\n",
       "      <td>3</td>\n",
       "      <td>Linda</td>\n",
       "      <td>London</td>\n",
       "      <td>Computer Science</td>\n",
       "      <td>25</td>\n",
       "    </tr>\n",
       "    <tr>\n",
       "      <td>4</td>\n",
       "      <td>Nick</td>\n",
       "      <td>Barcelona</td>\n",
       "      <td>Fine Arts</td>\n",
       "      <td>26</td>\n",
       "    </tr>\n",
       "    <tr>\n",
       "      <td>2</td>\n",
       "      <td>Peter</td>\n",
       "      <td>Berlin</td>\n",
       "      <td>Urban Design</td>\n",
       "      <td>27</td>\n",
       "    </tr>\n",
       "    <tr>\n",
       "      <td>0</td>\n",
       "      <td>John</td>\n",
       "      <td>New York</td>\n",
       "      <td>Architecture</td>\n",
       "      <td>28</td>\n",
       "    </tr>\n",
       "    <tr>\n",
       "      <td>1</td>\n",
       "      <td>Anna</td>\n",
       "      <td>Paris</td>\n",
       "      <td>Urban Planning</td>\n",
       "      <td>30</td>\n",
       "    </tr>\n",
       "  </tbody>\n",
       "</table>\n",
       "</div>"
      ],
      "text/plain": [
       "    Name   Location             Major  Age\n",
       "3  Linda     London  Computer Science   25\n",
       "4   Nick  Barcelona         Fine Arts   26\n",
       "2  Peter     Berlin      Urban Design   27\n",
       "0   John   New York      Architecture   28\n",
       "1   Anna      Paris    Urban Planning   30"
      ]
     },
     "execution_count": 47,
     "metadata": {},
     "output_type": "execute_result"
    }
   ],
   "source": [
    "data_pandas.sort_values(by='Age') # Try ascending='False'"
   ]
  },
  {
   "cell_type": "markdown",
   "metadata": {},
   "source": [
    "## 6. Basic functions"
   ]
  },
  {
   "cell_type": "code",
   "execution_count": 48,
   "metadata": {},
   "outputs": [
    {
     "name": "stdout",
     "output_type": "stream",
     "text": [
      "25\n",
      "30\n",
      "27.2\n",
      "1.9235384061671346\n",
      "27.0\n"
     ]
    }
   ],
   "source": [
    "print (data_pandas['Age'].min()) # Minimum value\n",
    "print (data_pandas['Age'].max()) # Maximum value\n",
    "print (data_pandas['Age'].mean()) # Mean value\n",
    "print (data_pandas['Age'].std()) # Standard deviation\n",
    "print (data_pandas['Age'].median()) # Median value"
   ]
  },
  {
   "cell_type": "markdown",
   "metadata": {},
   "source": [
    "# PART 4: Play with data (TIPS FOR THE ASSIGNMENT!)\n",
    "By using Pandas, various file formats can be loaded for data analysis.\n",
    "* Excel\n",
    "* CSV\n",
    "* JSON\n",
    "* APIs\n",
    "\n",
    "## 1. Load NYC311 data (311 service requests data subset) "
   ]
  },
  {
   "cell_type": "code",
   "execution_count": 49,
   "metadata": {},
   "outputs": [],
   "source": [
    "df = pd.read_csv('../data/311_Service_Requests_01062020.csv')"
   ]
  },
  {
   "cell_type": "code",
   "execution_count": 50,
   "metadata": {},
   "outputs": [
    {
     "data": {
      "text/html": [
       "<div>\n",
       "<style scoped>\n",
       "    .dataframe tbody tr th:only-of-type {\n",
       "        vertical-align: middle;\n",
       "    }\n",
       "\n",
       "    .dataframe tbody tr th {\n",
       "        vertical-align: top;\n",
       "    }\n",
       "\n",
       "    .dataframe thead th {\n",
       "        text-align: right;\n",
       "    }\n",
       "</style>\n",
       "<table border=\"1\" class=\"dataframe\">\n",
       "  <thead>\n",
       "    <tr style=\"text-align: right;\">\n",
       "      <th></th>\n",
       "      <th>Unique Key</th>\n",
       "      <th>Created Date</th>\n",
       "      <th>Closed Date</th>\n",
       "      <th>Agency</th>\n",
       "      <th>Agency Name</th>\n",
       "      <th>Complaint Type</th>\n",
       "      <th>Descriptor</th>\n",
       "      <th>Location Type</th>\n",
       "      <th>Incident Zip</th>\n",
       "      <th>Incident Address</th>\n",
       "      <th>...</th>\n",
       "      <th>Vehicle Type</th>\n",
       "      <th>Taxi Company Borough</th>\n",
       "      <th>Taxi Pick Up Location</th>\n",
       "      <th>Bridge Highway Name</th>\n",
       "      <th>Bridge Highway Direction</th>\n",
       "      <th>Road Ramp</th>\n",
       "      <th>Bridge Highway Segment</th>\n",
       "      <th>Latitude</th>\n",
       "      <th>Longitude</th>\n",
       "      <th>Location</th>\n",
       "    </tr>\n",
       "  </thead>\n",
       "  <tbody>\n",
       "    <tr>\n",
       "      <td>0</td>\n",
       "      <td>45321376</td>\n",
       "      <td>01/06/2020 12:00:00 AM</td>\n",
       "      <td>01/22/2020 12:00:01 AM</td>\n",
       "      <td>DOHMH</td>\n",
       "      <td>Department of Health and Mental Hygiene</td>\n",
       "      <td>Food Poisoning</td>\n",
       "      <td>1 or 2</td>\n",
       "      <td>1-2 Family Dwelling</td>\n",
       "      <td>10467.0</td>\n",
       "      <td>3311 WHITE PLAINS ROAD</td>\n",
       "      <td>...</td>\n",
       "      <td>NaN</td>\n",
       "      <td>NaN</td>\n",
       "      <td>NaN</td>\n",
       "      <td>NaN</td>\n",
       "      <td>NaN</td>\n",
       "      <td>NaN</td>\n",
       "      <td>NaN</td>\n",
       "      <td>40.873639</td>\n",
       "      <td>-73.867095</td>\n",
       "      <td>(40.8736393816693, -73.86709503705343)</td>\n",
       "    </tr>\n",
       "    <tr>\n",
       "      <td>1</td>\n",
       "      <td>45322953</td>\n",
       "      <td>01/06/2020 12:00:00 AM</td>\n",
       "      <td>01/21/2020 12:00:01 AM</td>\n",
       "      <td>DOHMH</td>\n",
       "      <td>Department of Health and Mental Hygiene</td>\n",
       "      <td>Food Poisoning</td>\n",
       "      <td>3 or More</td>\n",
       "      <td>Restaurant/Bar/Deli/Bakery</td>\n",
       "      <td>11375.0</td>\n",
       "      <td>64-18 108 STREET</td>\n",
       "      <td>...</td>\n",
       "      <td>NaN</td>\n",
       "      <td>NaN</td>\n",
       "      <td>NaN</td>\n",
       "      <td>NaN</td>\n",
       "      <td>NaN</td>\n",
       "      <td>NaN</td>\n",
       "      <td>NaN</td>\n",
       "      <td>40.732517</td>\n",
       "      <td>-73.849397</td>\n",
       "      <td>(40.73251661488513, -73.84939676972941)</td>\n",
       "    </tr>\n",
       "    <tr>\n",
       "      <td>2</td>\n",
       "      <td>45319607</td>\n",
       "      <td>01/06/2020 12:00:00 AM</td>\n",
       "      <td>01/06/2020 12:00:01 AM</td>\n",
       "      <td>DOHMH</td>\n",
       "      <td>Department of Health and Mental Hygiene</td>\n",
       "      <td>Food Poisoning</td>\n",
       "      <td>1 or 2</td>\n",
       "      <td>Restaurant/Bar/Deli/Bakery</td>\n",
       "      <td>10128.0</td>\n",
       "      <td>1664 3 AVENUE</td>\n",
       "      <td>...</td>\n",
       "      <td>NaN</td>\n",
       "      <td>NaN</td>\n",
       "      <td>NaN</td>\n",
       "      <td>NaN</td>\n",
       "      <td>NaN</td>\n",
       "      <td>NaN</td>\n",
       "      <td>NaN</td>\n",
       "      <td>40.783423</td>\n",
       "      <td>-73.950634</td>\n",
       "      <td>(40.783423466965544, -73.95063441884525)</td>\n",
       "    </tr>\n",
       "    <tr>\n",
       "      <td>3</td>\n",
       "      <td>45319110</td>\n",
       "      <td>01/06/2020 12:00:00 AM</td>\n",
       "      <td>01/21/2020 12:00:01 AM</td>\n",
       "      <td>DOHMH</td>\n",
       "      <td>Department of Health and Mental Hygiene</td>\n",
       "      <td>Food Poisoning</td>\n",
       "      <td>1 or 2</td>\n",
       "      <td>Restaurant</td>\n",
       "      <td>10039.0</td>\n",
       "      <td>2730 FREDRICK DOUGLASS BOULEVARD</td>\n",
       "      <td>...</td>\n",
       "      <td>NaN</td>\n",
       "      <td>NaN</td>\n",
       "      <td>NaN</td>\n",
       "      <td>NaN</td>\n",
       "      <td>NaN</td>\n",
       "      <td>NaN</td>\n",
       "      <td>NaN</td>\n",
       "      <td>40.822932</td>\n",
       "      <td>-73.941832</td>\n",
       "      <td>(40.82293243748226, -73.94183246541331)</td>\n",
       "    </tr>\n",
       "    <tr>\n",
       "      <td>4</td>\n",
       "      <td>45319119</td>\n",
       "      <td>01/06/2020 12:00:00 AM</td>\n",
       "      <td>01/07/2020 01:35:26 PM</td>\n",
       "      <td>DOHMH</td>\n",
       "      <td>Department of Health and Mental Hygiene</td>\n",
       "      <td>Food Poisoning</td>\n",
       "      <td>1 or 2</td>\n",
       "      <td>1-2 Family Dwelling</td>\n",
       "      <td>10467.0</td>\n",
       "      <td>3311 WHITE PLAINS ROAD</td>\n",
       "      <td>...</td>\n",
       "      <td>NaN</td>\n",
       "      <td>NaN</td>\n",
       "      <td>NaN</td>\n",
       "      <td>NaN</td>\n",
       "      <td>NaN</td>\n",
       "      <td>NaN</td>\n",
       "      <td>NaN</td>\n",
       "      <td>40.873639</td>\n",
       "      <td>-73.867095</td>\n",
       "      <td>(40.8736393816693, -73.86709503705343)</td>\n",
       "    </tr>\n",
       "  </tbody>\n",
       "</table>\n",
       "<p>5 rows × 41 columns</p>\n",
       "</div>"
      ],
      "text/plain": [
       "   Unique Key            Created Date             Closed Date Agency  \\\n",
       "0    45321376  01/06/2020 12:00:00 AM  01/22/2020 12:00:01 AM  DOHMH   \n",
       "1    45322953  01/06/2020 12:00:00 AM  01/21/2020 12:00:01 AM  DOHMH   \n",
       "2    45319607  01/06/2020 12:00:00 AM  01/06/2020 12:00:01 AM  DOHMH   \n",
       "3    45319110  01/06/2020 12:00:00 AM  01/21/2020 12:00:01 AM  DOHMH   \n",
       "4    45319119  01/06/2020 12:00:00 AM  01/07/2020 01:35:26 PM  DOHMH   \n",
       "\n",
       "                               Agency Name  Complaint Type Descriptor  \\\n",
       "0  Department of Health and Mental Hygiene  Food Poisoning     1 or 2   \n",
       "1  Department of Health and Mental Hygiene  Food Poisoning  3 or More   \n",
       "2  Department of Health and Mental Hygiene  Food Poisoning     1 or 2   \n",
       "3  Department of Health and Mental Hygiene  Food Poisoning     1 or 2   \n",
       "4  Department of Health and Mental Hygiene  Food Poisoning     1 or 2   \n",
       "\n",
       "                Location Type  Incident Zip                  Incident Address  \\\n",
       "0         1-2 Family Dwelling       10467.0            3311 WHITE PLAINS ROAD   \n",
       "1  Restaurant/Bar/Deli/Bakery       11375.0                  64-18 108 STREET   \n",
       "2  Restaurant/Bar/Deli/Bakery       10128.0                     1664 3 AVENUE   \n",
       "3                  Restaurant       10039.0  2730 FREDRICK DOUGLASS BOULEVARD   \n",
       "4         1-2 Family Dwelling       10467.0            3311 WHITE PLAINS ROAD   \n",
       "\n",
       "   ... Vehicle Type Taxi Company Borough Taxi Pick Up Location  \\\n",
       "0  ...          NaN                  NaN                   NaN   \n",
       "1  ...          NaN                  NaN                   NaN   \n",
       "2  ...          NaN                  NaN                   NaN   \n",
       "3  ...          NaN                  NaN                   NaN   \n",
       "4  ...          NaN                  NaN                   NaN   \n",
       "\n",
       "  Bridge Highway Name Bridge Highway Direction Road Ramp  \\\n",
       "0                 NaN                      NaN       NaN   \n",
       "1                 NaN                      NaN       NaN   \n",
       "2                 NaN                      NaN       NaN   \n",
       "3                 NaN                      NaN       NaN   \n",
       "4                 NaN                      NaN       NaN   \n",
       "\n",
       "  Bridge Highway Segment   Latitude  Longitude  \\\n",
       "0                    NaN  40.873639 -73.867095   \n",
       "1                    NaN  40.732517 -73.849397   \n",
       "2                    NaN  40.783423 -73.950634   \n",
       "3                    NaN  40.822932 -73.941832   \n",
       "4                    NaN  40.873639 -73.867095   \n",
       "\n",
       "                                   Location  \n",
       "0    (40.8736393816693, -73.86709503705343)  \n",
       "1   (40.73251661488513, -73.84939676972941)  \n",
       "2  (40.783423466965544, -73.95063441884525)  \n",
       "3   (40.82293243748226, -73.94183246541331)  \n",
       "4    (40.8736393816693, -73.86709503705343)  \n",
       "\n",
       "[5 rows x 41 columns]"
      ]
     },
     "execution_count": 50,
     "metadata": {},
     "output_type": "execute_result"
    }
   ],
   "source": [
    "df.head()"
   ]
  },
  {
   "cell_type": "code",
   "execution_count": 51,
   "metadata": {},
   "outputs": [
    {
     "data": {
      "text/html": [
       "<div>\n",
       "<style scoped>\n",
       "    .dataframe tbody tr th:only-of-type {\n",
       "        vertical-align: middle;\n",
       "    }\n",
       "\n",
       "    .dataframe tbody tr th {\n",
       "        vertical-align: top;\n",
       "    }\n",
       "\n",
       "    .dataframe thead th {\n",
       "        text-align: right;\n",
       "    }\n",
       "</style>\n",
       "<table border=\"1\" class=\"dataframe\">\n",
       "  <thead>\n",
       "    <tr style=\"text-align: right;\">\n",
       "      <th></th>\n",
       "      <th>Unique Key</th>\n",
       "      <th>Created Date</th>\n",
       "      <th>Closed Date</th>\n",
       "      <th>Agency</th>\n",
       "      <th>Agency Name</th>\n",
       "      <th>Complaint Type</th>\n",
       "      <th>Descriptor</th>\n",
       "      <th>Location Type</th>\n",
       "      <th>Incident Zip</th>\n",
       "      <th>Incident Address</th>\n",
       "      <th>...</th>\n",
       "      <th>Vehicle Type</th>\n",
       "      <th>Taxi Company Borough</th>\n",
       "      <th>Taxi Pick Up Location</th>\n",
       "      <th>Bridge Highway Name</th>\n",
       "      <th>Bridge Highway Direction</th>\n",
       "      <th>Road Ramp</th>\n",
       "      <th>Bridge Highway Segment</th>\n",
       "      <th>Latitude</th>\n",
       "      <th>Longitude</th>\n",
       "      <th>Location</th>\n",
       "    </tr>\n",
       "  </thead>\n",
       "  <tbody>\n",
       "    <tr>\n",
       "      <td>6032</td>\n",
       "      <td>45333111</td>\n",
       "      <td>01/07/2020 12:00:00 AM</td>\n",
       "      <td>01/08/2020 12:00:01 AM</td>\n",
       "      <td>DOHMH</td>\n",
       "      <td>Department of Health and Mental Hygiene</td>\n",
       "      <td>Food Poisoning</td>\n",
       "      <td>1 or 2</td>\n",
       "      <td>Restaurant</td>\n",
       "      <td>10001.0</td>\n",
       "      <td>11 WEST   32 STREET</td>\n",
       "      <td>...</td>\n",
       "      <td>NaN</td>\n",
       "      <td>NaN</td>\n",
       "      <td>NaN</td>\n",
       "      <td>NaN</td>\n",
       "      <td>NaN</td>\n",
       "      <td>NaN</td>\n",
       "      <td>NaN</td>\n",
       "      <td>40.747414</td>\n",
       "      <td>-73.986091</td>\n",
       "      <td>(40.74741395808759, -73.98609084169061)</td>\n",
       "    </tr>\n",
       "    <tr>\n",
       "      <td>6033</td>\n",
       "      <td>45329755</td>\n",
       "      <td>01/07/2020 12:00:00 AM</td>\n",
       "      <td>01/07/2020 04:37:08 PM</td>\n",
       "      <td>DOHMH</td>\n",
       "      <td>Department of Health and Mental Hygiene</td>\n",
       "      <td>Food Poisoning</td>\n",
       "      <td>1 or 2</td>\n",
       "      <td>Street Area</td>\n",
       "      <td>11004.0</td>\n",
       "      <td>255 STREET</td>\n",
       "      <td>...</td>\n",
       "      <td>NaN</td>\n",
       "      <td>NaN</td>\n",
       "      <td>NaN</td>\n",
       "      <td>NaN</td>\n",
       "      <td>NaN</td>\n",
       "      <td>NaN</td>\n",
       "      <td>NaN</td>\n",
       "      <td>40.736363</td>\n",
       "      <td>-73.712831</td>\n",
       "      <td>(40.73636320048617, -73.71283058158437)</td>\n",
       "    </tr>\n",
       "    <tr>\n",
       "      <td>6034</td>\n",
       "      <td>45332962</td>\n",
       "      <td>01/07/2020 12:00:00 AM</td>\n",
       "      <td>01/07/2020 01:41:32 PM</td>\n",
       "      <td>DOHMH</td>\n",
       "      <td>Department of Health and Mental Hygiene</td>\n",
       "      <td>Food Poisoning</td>\n",
       "      <td>1 or 2</td>\n",
       "      <td>Restaurant</td>\n",
       "      <td>11215.0</td>\n",
       "      <td>318 5 AVENUE</td>\n",
       "      <td>...</td>\n",
       "      <td>NaN</td>\n",
       "      <td>NaN</td>\n",
       "      <td>NaN</td>\n",
       "      <td>NaN</td>\n",
       "      <td>NaN</td>\n",
       "      <td>NaN</td>\n",
       "      <td>NaN</td>\n",
       "      <td>40.673030</td>\n",
       "      <td>-73.983100</td>\n",
       "      <td>(40.67303049309962, -73.9830997896011)</td>\n",
       "    </tr>\n",
       "    <tr>\n",
       "      <td>6035</td>\n",
       "      <td>45333565</td>\n",
       "      <td>01/07/2020 12:00:00 AM</td>\n",
       "      <td>01/07/2020 01:42:09 PM</td>\n",
       "      <td>DOHMH</td>\n",
       "      <td>Department of Health and Mental Hygiene</td>\n",
       "      <td>Food Poisoning</td>\n",
       "      <td>1 or 2</td>\n",
       "      <td>Restaurant/Bar/Deli/Bakery</td>\n",
       "      <td>10013.0</td>\n",
       "      <td>80 BAYARD STREET</td>\n",
       "      <td>...</td>\n",
       "      <td>NaN</td>\n",
       "      <td>NaN</td>\n",
       "      <td>NaN</td>\n",
       "      <td>NaN</td>\n",
       "      <td>NaN</td>\n",
       "      <td>NaN</td>\n",
       "      <td>NaN</td>\n",
       "      <td>40.715732</td>\n",
       "      <td>-73.998755</td>\n",
       "      <td>(40.71573208700158, -73.99875548037697)</td>\n",
       "    </tr>\n",
       "    <tr>\n",
       "      <td>6036</td>\n",
       "      <td>45334655</td>\n",
       "      <td>01/07/2020 12:00:00 AM</td>\n",
       "      <td>01/07/2020 04:36:42 PM</td>\n",
       "      <td>DOHMH</td>\n",
       "      <td>Department of Health and Mental Hygiene</td>\n",
       "      <td>Food Poisoning</td>\n",
       "      <td>1 or 2</td>\n",
       "      <td>Other (Explain Below)</td>\n",
       "      <td>11354.0</td>\n",
       "      <td>136-20 ROOSEVELT AVENUE</td>\n",
       "      <td>...</td>\n",
       "      <td>NaN</td>\n",
       "      <td>NaN</td>\n",
       "      <td>NaN</td>\n",
       "      <td>NaN</td>\n",
       "      <td>NaN</td>\n",
       "      <td>NaN</td>\n",
       "      <td>NaN</td>\n",
       "      <td>40.759785</td>\n",
       "      <td>-73.829236</td>\n",
       "      <td>(40.75978506574562, -73.82923633167887)</td>\n",
       "    </tr>\n",
       "  </tbody>\n",
       "</table>\n",
       "<p>5 rows × 41 columns</p>\n",
       "</div>"
      ],
      "text/plain": [
       "      Unique Key            Created Date             Closed Date Agency  \\\n",
       "6032    45333111  01/07/2020 12:00:00 AM  01/08/2020 12:00:01 AM  DOHMH   \n",
       "6033    45329755  01/07/2020 12:00:00 AM  01/07/2020 04:37:08 PM  DOHMH   \n",
       "6034    45332962  01/07/2020 12:00:00 AM  01/07/2020 01:41:32 PM  DOHMH   \n",
       "6035    45333565  01/07/2020 12:00:00 AM  01/07/2020 01:42:09 PM  DOHMH   \n",
       "6036    45334655  01/07/2020 12:00:00 AM  01/07/2020 04:36:42 PM  DOHMH   \n",
       "\n",
       "                                  Agency Name  Complaint Type Descriptor  \\\n",
       "6032  Department of Health and Mental Hygiene  Food Poisoning     1 or 2   \n",
       "6033  Department of Health and Mental Hygiene  Food Poisoning     1 or 2   \n",
       "6034  Department of Health and Mental Hygiene  Food Poisoning     1 or 2   \n",
       "6035  Department of Health and Mental Hygiene  Food Poisoning     1 or 2   \n",
       "6036  Department of Health and Mental Hygiene  Food Poisoning     1 or 2   \n",
       "\n",
       "                   Location Type  Incident Zip         Incident Address  ...  \\\n",
       "6032                  Restaurant       10001.0      11 WEST   32 STREET  ...   \n",
       "6033                 Street Area       11004.0               255 STREET  ...   \n",
       "6034                  Restaurant       11215.0             318 5 AVENUE  ...   \n",
       "6035  Restaurant/Bar/Deli/Bakery       10013.0         80 BAYARD STREET  ...   \n",
       "6036       Other (Explain Below)       11354.0  136-20 ROOSEVELT AVENUE  ...   \n",
       "\n",
       "     Vehicle Type Taxi Company Borough Taxi Pick Up Location  \\\n",
       "6032          NaN                  NaN                   NaN   \n",
       "6033          NaN                  NaN                   NaN   \n",
       "6034          NaN                  NaN                   NaN   \n",
       "6035          NaN                  NaN                   NaN   \n",
       "6036          NaN                  NaN                   NaN   \n",
       "\n",
       "     Bridge Highway Name Bridge Highway Direction Road Ramp  \\\n",
       "6032                 NaN                      NaN       NaN   \n",
       "6033                 NaN                      NaN       NaN   \n",
       "6034                 NaN                      NaN       NaN   \n",
       "6035                 NaN                      NaN       NaN   \n",
       "6036                 NaN                      NaN       NaN   \n",
       "\n",
       "     Bridge Highway Segment   Latitude  Longitude  \\\n",
       "6032                    NaN  40.747414 -73.986091   \n",
       "6033                    NaN  40.736363 -73.712831   \n",
       "6034                    NaN  40.673030 -73.983100   \n",
       "6035                    NaN  40.715732 -73.998755   \n",
       "6036                    NaN  40.759785 -73.829236   \n",
       "\n",
       "                                     Location  \n",
       "6032  (40.74741395808759, -73.98609084169061)  \n",
       "6033  (40.73636320048617, -73.71283058158437)  \n",
       "6034   (40.67303049309962, -73.9830997896011)  \n",
       "6035  (40.71573208700158, -73.99875548037697)  \n",
       "6036  (40.75978506574562, -73.82923633167887)  \n",
       "\n",
       "[5 rows x 41 columns]"
      ]
     },
     "execution_count": 51,
     "metadata": {},
     "output_type": "execute_result"
    }
   ],
   "source": [
    "df.tail()"
   ]
  },
  {
   "cell_type": "markdown",
   "metadata": {},
   "source": [
    "## 2. Print column list"
   ]
  },
  {
   "cell_type": "code",
   "execution_count": 52,
   "metadata": {},
   "outputs": [
    {
     "name": "stdout",
     "output_type": "stream",
     "text": [
      "['Unique Key', 'Created Date', 'Closed Date', 'Agency', 'Agency Name', 'Complaint Type', 'Descriptor', 'Location Type', 'Incident Zip', 'Incident Address', 'Street Name', 'Cross Street 1', 'Cross Street 2', 'Intersection Street 1', 'Intersection Street 2', 'Address Type', 'City', 'Landmark', 'Facility Type', 'Status', 'Due Date', 'Resolution Description', 'Resolution Action Updated Date', 'Community Board', 'BBL', 'Borough', 'X Coordinate (State Plane)', 'Y Coordinate (State Plane)', 'Open Data Channel Type', 'Park Facility Name', 'Park Borough', 'Vehicle Type', 'Taxi Company Borough', 'Taxi Pick Up Location', 'Bridge Highway Name', 'Bridge Highway Direction', 'Road Ramp', 'Bridge Highway Segment', 'Latitude', 'Longitude', 'Location']\n"
     ]
    }
   ],
   "source": [
    "print (df.columns.tolist())"
   ]
  },
  {
   "cell_type": "markdown",
   "metadata": {},
   "source": [
    "## 3. Print total number of rows (length of data)"
   ]
  },
  {
   "cell_type": "code",
   "execution_count": 53,
   "metadata": {},
   "outputs": [
    {
     "name": "stdout",
     "output_type": "stream",
     "text": [
      "6037\n"
     ]
    }
   ],
   "source": [
    "print (len(df))"
   ]
  },
  {
   "cell_type": "markdown",
   "metadata": {},
   "source": [
    "## 4. Print data header with certain columns "
   ]
  },
  {
   "cell_type": "code",
   "execution_count": 54,
   "metadata": {},
   "outputs": [
    {
     "data": {
      "text/html": [
       "<div>\n",
       "<style scoped>\n",
       "    .dataframe tbody tr th:only-of-type {\n",
       "        vertical-align: middle;\n",
       "    }\n",
       "\n",
       "    .dataframe tbody tr th {\n",
       "        vertical-align: top;\n",
       "    }\n",
       "\n",
       "    .dataframe thead th {\n",
       "        text-align: right;\n",
       "    }\n",
       "</style>\n",
       "<table border=\"1\" class=\"dataframe\">\n",
       "  <thead>\n",
       "    <tr style=\"text-align: right;\">\n",
       "      <th></th>\n",
       "      <th>Unique Key</th>\n",
       "      <th>Agency Name</th>\n",
       "      <th>Complaint Type</th>\n",
       "      <th>Incident Zip</th>\n",
       "      <th>Borough</th>\n",
       "      <th>Created Date</th>\n",
       "    </tr>\n",
       "  </thead>\n",
       "  <tbody>\n",
       "    <tr>\n",
       "      <td>0</td>\n",
       "      <td>45321376</td>\n",
       "      <td>Department of Health and Mental Hygiene</td>\n",
       "      <td>Food Poisoning</td>\n",
       "      <td>10467.0</td>\n",
       "      <td>BRONX</td>\n",
       "      <td>01/06/2020 12:00:00 AM</td>\n",
       "    </tr>\n",
       "    <tr>\n",
       "      <td>1</td>\n",
       "      <td>45322953</td>\n",
       "      <td>Department of Health and Mental Hygiene</td>\n",
       "      <td>Food Poisoning</td>\n",
       "      <td>11375.0</td>\n",
       "      <td>QUEENS</td>\n",
       "      <td>01/06/2020 12:00:00 AM</td>\n",
       "    </tr>\n",
       "    <tr>\n",
       "      <td>2</td>\n",
       "      <td>45319607</td>\n",
       "      <td>Department of Health and Mental Hygiene</td>\n",
       "      <td>Food Poisoning</td>\n",
       "      <td>10128.0</td>\n",
       "      <td>MANHATTAN</td>\n",
       "      <td>01/06/2020 12:00:00 AM</td>\n",
       "    </tr>\n",
       "    <tr>\n",
       "      <td>3</td>\n",
       "      <td>45319110</td>\n",
       "      <td>Department of Health and Mental Hygiene</td>\n",
       "      <td>Food Poisoning</td>\n",
       "      <td>10039.0</td>\n",
       "      <td>MANHATTAN</td>\n",
       "      <td>01/06/2020 12:00:00 AM</td>\n",
       "    </tr>\n",
       "    <tr>\n",
       "      <td>4</td>\n",
       "      <td>45319119</td>\n",
       "      <td>Department of Health and Mental Hygiene</td>\n",
       "      <td>Food Poisoning</td>\n",
       "      <td>10467.0</td>\n",
       "      <td>BRONX</td>\n",
       "      <td>01/06/2020 12:00:00 AM</td>\n",
       "    </tr>\n",
       "  </tbody>\n",
       "</table>\n",
       "</div>"
      ],
      "text/plain": [
       "   Unique Key                              Agency Name  Complaint Type  \\\n",
       "0    45321376  Department of Health and Mental Hygiene  Food Poisoning   \n",
       "1    45322953  Department of Health and Mental Hygiene  Food Poisoning   \n",
       "2    45319607  Department of Health and Mental Hygiene  Food Poisoning   \n",
       "3    45319110  Department of Health and Mental Hygiene  Food Poisoning   \n",
       "4    45319119  Department of Health and Mental Hygiene  Food Poisoning   \n",
       "\n",
       "   Incident Zip    Borough            Created Date  \n",
       "0       10467.0      BRONX  01/06/2020 12:00:00 AM  \n",
       "1       11375.0     QUEENS  01/06/2020 12:00:00 AM  \n",
       "2       10128.0  MANHATTAN  01/06/2020 12:00:00 AM  \n",
       "3       10039.0  MANHATTAN  01/06/2020 12:00:00 AM  \n",
       "4       10467.0      BRONX  01/06/2020 12:00:00 AM  "
      ]
     },
     "execution_count": 54,
     "metadata": {},
     "output_type": "execute_result"
    }
   ],
   "source": [
    "df[['Unique Key', 'Agency Name', 'Complaint Type', 'Incident Zip', 'Borough', 'Created Date']].head()"
   ]
  },
  {
   "cell_type": "markdown",
   "metadata": {},
   "source": [
    "## 5. Print data by index\n",
    "Let's keep 6 columns used above ('Unique Key', 'Agency Name', 'Complaint Type', 'Incident Zip', 'Borough', and 'Created Date')"
   ]
  },
  {
   "cell_type": "code",
   "execution_count": 55,
   "metadata": {},
   "outputs": [
    {
     "data": {
      "text/html": [
       "<div>\n",
       "<style scoped>\n",
       "    .dataframe tbody tr th:only-of-type {\n",
       "        vertical-align: middle;\n",
       "    }\n",
       "\n",
       "    .dataframe tbody tr th {\n",
       "        vertical-align: top;\n",
       "    }\n",
       "\n",
       "    .dataframe thead th {\n",
       "        text-align: right;\n",
       "    }\n",
       "</style>\n",
       "<table border=\"1\" class=\"dataframe\">\n",
       "  <thead>\n",
       "    <tr style=\"text-align: right;\">\n",
       "      <th></th>\n",
       "      <th>Unique Key</th>\n",
       "      <th>Agency Name</th>\n",
       "      <th>Complaint Type</th>\n",
       "      <th>Incident Zip</th>\n",
       "      <th>Borough</th>\n",
       "      <th>Created Date</th>\n",
       "    </tr>\n",
       "  </thead>\n",
       "  <tbody>\n",
       "    <tr>\n",
       "      <td>300</td>\n",
       "      <td>45325465</td>\n",
       "      <td>New York City Police Department</td>\n",
       "      <td>Illegal Parking</td>\n",
       "      <td>11216.0</td>\n",
       "      <td>BROOKLYN</td>\n",
       "      <td>01/06/2020 03:03:50 AM</td>\n",
       "    </tr>\n",
       "    <tr>\n",
       "      <td>301</td>\n",
       "      <td>45326017</td>\n",
       "      <td>Department of Environmental Protection</td>\n",
       "      <td>Noise</td>\n",
       "      <td>11206.0</td>\n",
       "      <td>BROOKLYN</td>\n",
       "      <td>01/06/2020 03:07:00 AM</td>\n",
       "    </tr>\n",
       "    <tr>\n",
       "      <td>302</td>\n",
       "      <td>45321176</td>\n",
       "      <td>Department of Housing Preservation and Develop...</td>\n",
       "      <td>HEAT/HOT WATER</td>\n",
       "      <td>10302.0</td>\n",
       "      <td>STATEN ISLAND</td>\n",
       "      <td>01/06/2020 03:08:54 AM</td>\n",
       "    </tr>\n",
       "    <tr>\n",
       "      <td>303</td>\n",
       "      <td>45320852</td>\n",
       "      <td>New York City Police Department</td>\n",
       "      <td>Noise - Commercial</td>\n",
       "      <td>10468.0</td>\n",
       "      <td>BRONX</td>\n",
       "      <td>01/06/2020 03:09:15 AM</td>\n",
       "    </tr>\n",
       "    <tr>\n",
       "      <td>304</td>\n",
       "      <td>45319309</td>\n",
       "      <td>New York City Police Department</td>\n",
       "      <td>Noise - Residential</td>\n",
       "      <td>11354.0</td>\n",
       "      <td>QUEENS</td>\n",
       "      <td>01/06/2020 03:09:50 AM</td>\n",
       "    </tr>\n",
       "  </tbody>\n",
       "</table>\n",
       "</div>"
      ],
      "text/plain": [
       "     Unique Key                                        Agency Name  \\\n",
       "300    45325465                    New York City Police Department   \n",
       "301    45326017             Department of Environmental Protection   \n",
       "302    45321176  Department of Housing Preservation and Develop...   \n",
       "303    45320852                    New York City Police Department   \n",
       "304    45319309                    New York City Police Department   \n",
       "\n",
       "          Complaint Type  Incident Zip        Borough            Created Date  \n",
       "300      Illegal Parking       11216.0       BROOKLYN  01/06/2020 03:03:50 AM  \n",
       "301                Noise       11206.0       BROOKLYN  01/06/2020 03:07:00 AM  \n",
       "302       HEAT/HOT WATER       10302.0  STATEN ISLAND  01/06/2020 03:08:54 AM  \n",
       "303   Noise - Commercial       10468.0          BRONX  01/06/2020 03:09:15 AM  \n",
       "304  Noise - Residential       11354.0         QUEENS  01/06/2020 03:09:50 AM  "
      ]
     },
     "execution_count": 55,
     "metadata": {},
     "output_type": "execute_result"
    }
   ],
   "source": [
    "df[['Unique Key', 'Agency Name', 'Complaint Type', 'Incident Zip', 'Borough', 'Created Date']].iloc[300:305]"
   ]
  },
  {
   "cell_type": "markdown",
   "metadata": {},
   "source": [
    "## 6. Downsize data with certain columns"
   ]
  },
  {
   "cell_type": "code",
   "execution_count": 56,
   "metadata": {},
   "outputs": [
    {
     "data": {
      "text/html": [
       "<div>\n",
       "<style scoped>\n",
       "    .dataframe tbody tr th:only-of-type {\n",
       "        vertical-align: middle;\n",
       "    }\n",
       "\n",
       "    .dataframe tbody tr th {\n",
       "        vertical-align: top;\n",
       "    }\n",
       "\n",
       "    .dataframe thead th {\n",
       "        text-align: right;\n",
       "    }\n",
       "</style>\n",
       "<table border=\"1\" class=\"dataframe\">\n",
       "  <thead>\n",
       "    <tr style=\"text-align: right;\">\n",
       "      <th></th>\n",
       "      <th>Unique Key</th>\n",
       "      <th>Agency Name</th>\n",
       "      <th>Complaint Type</th>\n",
       "      <th>Incident Zip</th>\n",
       "      <th>Borough</th>\n",
       "      <th>Created Date</th>\n",
       "    </tr>\n",
       "  </thead>\n",
       "  <tbody>\n",
       "    <tr>\n",
       "      <td>0</td>\n",
       "      <td>45321376</td>\n",
       "      <td>Department of Health and Mental Hygiene</td>\n",
       "      <td>Food Poisoning</td>\n",
       "      <td>10467.0</td>\n",
       "      <td>BRONX</td>\n",
       "      <td>01/06/2020 12:00:00 AM</td>\n",
       "    </tr>\n",
       "    <tr>\n",
       "      <td>1</td>\n",
       "      <td>45322953</td>\n",
       "      <td>Department of Health and Mental Hygiene</td>\n",
       "      <td>Food Poisoning</td>\n",
       "      <td>11375.0</td>\n",
       "      <td>QUEENS</td>\n",
       "      <td>01/06/2020 12:00:00 AM</td>\n",
       "    </tr>\n",
       "  </tbody>\n",
       "</table>\n",
       "</div>"
      ],
      "text/plain": [
       "   Unique Key                              Agency Name  Complaint Type  \\\n",
       "0    45321376  Department of Health and Mental Hygiene  Food Poisoning   \n",
       "1    45322953  Department of Health and Mental Hygiene  Food Poisoning   \n",
       "\n",
       "   Incident Zip Borough            Created Date  \n",
       "0       10467.0   BRONX  01/06/2020 12:00:00 AM  \n",
       "1       11375.0  QUEENS  01/06/2020 12:00:00 AM  "
      ]
     },
     "execution_count": 56,
     "metadata": {},
     "output_type": "execute_result"
    }
   ],
   "source": [
    "df2 = df[['Unique Key', 'Agency Name', 'Complaint Type', 'Incident Zip', 'Borough', 'Created Date']]\n",
    "df2.head(2)"
   ]
  },
  {
   "cell_type": "markdown",
   "metadata": {},
   "source": [
    "## 7. Rename columns \n",
    "Let's rename column 'Incident Zip' to 'Zipcode'"
   ]
  },
  {
   "cell_type": "code",
   "execution_count": 57,
   "metadata": {},
   "outputs": [
    {
     "data": {
      "text/html": [
       "<div>\n",
       "<style scoped>\n",
       "    .dataframe tbody tr th:only-of-type {\n",
       "        vertical-align: middle;\n",
       "    }\n",
       "\n",
       "    .dataframe tbody tr th {\n",
       "        vertical-align: top;\n",
       "    }\n",
       "\n",
       "    .dataframe thead th {\n",
       "        text-align: right;\n",
       "    }\n",
       "</style>\n",
       "<table border=\"1\" class=\"dataframe\">\n",
       "  <thead>\n",
       "    <tr style=\"text-align: right;\">\n",
       "      <th></th>\n",
       "      <th>Unique Key</th>\n",
       "      <th>Agency Name</th>\n",
       "      <th>Complaint Type</th>\n",
       "      <th>Zipcode</th>\n",
       "      <th>Borough</th>\n",
       "      <th>Created Date</th>\n",
       "    </tr>\n",
       "  </thead>\n",
       "  <tbody>\n",
       "    <tr>\n",
       "      <td>0</td>\n",
       "      <td>45321376</td>\n",
       "      <td>Department of Health and Mental Hygiene</td>\n",
       "      <td>Food Poisoning</td>\n",
       "      <td>10467.0</td>\n",
       "      <td>BRONX</td>\n",
       "      <td>01/06/2020 12:00:00 AM</td>\n",
       "    </tr>\n",
       "    <tr>\n",
       "      <td>1</td>\n",
       "      <td>45322953</td>\n",
       "      <td>Department of Health and Mental Hygiene</td>\n",
       "      <td>Food Poisoning</td>\n",
       "      <td>11375.0</td>\n",
       "      <td>QUEENS</td>\n",
       "      <td>01/06/2020 12:00:00 AM</td>\n",
       "    </tr>\n",
       "  </tbody>\n",
       "</table>\n",
       "</div>"
      ],
      "text/plain": [
       "   Unique Key                              Agency Name  Complaint Type  \\\n",
       "0    45321376  Department of Health and Mental Hygiene  Food Poisoning   \n",
       "1    45322953  Department of Health and Mental Hygiene  Food Poisoning   \n",
       "\n",
       "   Zipcode Borough            Created Date  \n",
       "0  10467.0   BRONX  01/06/2020 12:00:00 AM  \n",
       "1  11375.0  QUEENS  01/06/2020 12:00:00 AM  "
      ]
     },
     "execution_count": 57,
     "metadata": {},
     "output_type": "execute_result"
    }
   ],
   "source": [
    "df2.rename(columns = {'Incident Zip':'Zipcode'}, inplace = True) \n",
    "df2.head(2)"
   ]
  },
  {
   "cell_type": "markdown",
   "metadata": {},
   "source": [
    "## 8. Check datatype"
   ]
  },
  {
   "cell_type": "code",
   "execution_count": 58,
   "metadata": {},
   "outputs": [
    {
     "name": "stdout",
     "output_type": "stream",
     "text": [
      "Unique Key          int64\n",
      "Agency Name        object\n",
      "Complaint Type     object\n",
      "Zipcode           float64\n",
      "Borough            object\n",
      "Created Date       object\n",
      "dtype: object\n"
     ]
    }
   ],
   "source": [
    "print (df2.dtypes)"
   ]
  },
  {
   "cell_type": "markdown",
   "metadata": {},
   "source": [
    "## 9. Convert data type\n",
    "* Zipcode: float to object (string)"
   ]
  },
  {
   "cell_type": "code",
   "execution_count": 59,
   "metadata": {},
   "outputs": [
    {
     "data": {
      "text/html": [
       "<div>\n",
       "<style scoped>\n",
       "    .dataframe tbody tr th:only-of-type {\n",
       "        vertical-align: middle;\n",
       "    }\n",
       "\n",
       "    .dataframe tbody tr th {\n",
       "        vertical-align: top;\n",
       "    }\n",
       "\n",
       "    .dataframe thead th {\n",
       "        text-align: right;\n",
       "    }\n",
       "</style>\n",
       "<table border=\"1\" class=\"dataframe\">\n",
       "  <thead>\n",
       "    <tr style=\"text-align: right;\">\n",
       "      <th></th>\n",
       "      <th>Unique Key</th>\n",
       "      <th>Agency Name</th>\n",
       "      <th>Complaint Type</th>\n",
       "      <th>Zipcode</th>\n",
       "      <th>Borough</th>\n",
       "      <th>Created Date</th>\n",
       "    </tr>\n",
       "  </thead>\n",
       "  <tbody>\n",
       "    <tr>\n",
       "      <td>0</td>\n",
       "      <td>45321376</td>\n",
       "      <td>Department of Health and Mental Hygiene</td>\n",
       "      <td>Food Poisoning</td>\n",
       "      <td>10467</td>\n",
       "      <td>BRONX</td>\n",
       "      <td>01/06/2020 12:00:00 AM</td>\n",
       "    </tr>\n",
       "    <tr>\n",
       "      <td>1</td>\n",
       "      <td>45322953</td>\n",
       "      <td>Department of Health and Mental Hygiene</td>\n",
       "      <td>Food Poisoning</td>\n",
       "      <td>11375</td>\n",
       "      <td>QUEENS</td>\n",
       "      <td>01/06/2020 12:00:00 AM</td>\n",
       "    </tr>\n",
       "  </tbody>\n",
       "</table>\n",
       "</div>"
      ],
      "text/plain": [
       "   Unique Key                              Agency Name  Complaint Type  \\\n",
       "0    45321376  Department of Health and Mental Hygiene  Food Poisoning   \n",
       "1    45322953  Department of Health and Mental Hygiene  Food Poisoning   \n",
       "\n",
       "  Zipcode Borough            Created Date  \n",
       "0   10467   BRONX  01/06/2020 12:00:00 AM  \n",
       "1   11375  QUEENS  01/06/2020 12:00:00 AM  "
      ]
     },
     "execution_count": 59,
     "metadata": {},
     "output_type": "execute_result"
    }
   ],
   "source": [
    "df2['Zipcode'] = df2['Zipcode'].astype(str).str[0:5]\n",
    "df2.head(2)"
   ]
  },
  {
   "cell_type": "code",
   "execution_count": 60,
   "metadata": {},
   "outputs": [
    {
     "name": "stdout",
     "output_type": "stream",
     "text": [
      "Unique Key         int64\n",
      "Agency Name       object\n",
      "Complaint Type    object\n",
      "Zipcode           object\n",
      "Borough           object\n",
      "Created Date      object\n",
      "dtype: object\n"
     ]
    }
   ],
   "source": [
    "print (df2.dtypes)"
   ]
  },
  {
   "cell_type": "markdown",
   "metadata": {},
   "source": [
    "## Exercise: convert 'Created Date' column data type to datetime \n",
    "* Google it!\n",
    "* Hint: pd.to_datetime\n"
   ]
  },
  {
   "cell_type": "code",
   "execution_count": null,
   "metadata": {},
   "outputs": [],
   "source": []
  },
  {
   "cell_type": "markdown",
   "metadata": {},
   "source": [
    "## 10. Print unique values of the column"
   ]
  },
  {
   "cell_type": "code",
   "execution_count": 61,
   "metadata": {},
   "outputs": [
    {
     "name": "stdout",
     "output_type": "stream",
     "text": [
      "['Department of Health and Mental Hygiene'\n",
      " 'New York City Police Department' 'Department of Buildings'\n",
      " 'Department of Transportation' 'Department of Environmental Protection'\n",
      " 'Department of Housing Preservation and Development'\n",
      " 'Taxi and Limousine Commission' 'BCC - Queens West'\n",
      " 'Department of Sanitation' 'BCC - Brooklyn South'\n",
      " 'Department of Parks and Recreation' 'Department of Consumer Affairs'\n",
      " 'A - Staten Island' 'Brooklyn North 03' 'Bronx 11' 'Queens West 04'\n",
      " 'A - Brooklyn' 'BCC - Bronx' 'BCC - Brooklyn North'\n",
      " 'Economic Development Corporation' 'BCC - Queens East' 'A - Queens'\n",
      " 'A - Manhattan' 'Department of Homeless Services' 'Bronx 05'\n",
      " 'Manhattan 04' 'Queens East 12' 'Manhattan 01' 'BCC - Staten Island'\n",
      " 'Manhattan 02' 'Queens West 03' 'Department of Education' 'Manhattan 03'\n",
      " 'Bronx 08' 'Bronx 03' 'A - Canine Task Force Citywide' 'Manhattan 07'\n",
      " 'Manhattan 05' 'Manhattan 08' 'A - Bronx' 'Brooklyn South 10'\n",
      " 'A - Illegal Posting Staten Island, Queens and Brooklyn' 'Bronx 10'\n",
      " 'Queens East 10' 'Queens West 06' 'Manhattan 06'\n",
      " 'P - Commercial Recycling Citywide' 'Queens West 02' 'Bronx 04']\n"
     ]
    }
   ],
   "source": [
    "print (df2['Agency Name'].unique())"
   ]
  },
  {
   "cell_type": "code",
   "execution_count": 62,
   "metadata": {
    "scrolled": true
   },
   "outputs": [
    {
     "name": "stdout",
     "output_type": "stream",
     "text": [
      "New York City Police Department                           1928\n",
      "Department of Housing Preservation and Development        1315\n",
      "Department of Transportation                               934\n",
      "Department of Environmental Protection                     390\n",
      "Department of Buildings                                    388\n",
      "Department of Sanitation                                   308\n",
      "Department of Health and Mental Hygiene                    185\n",
      "Department of Parks and Recreation                         130\n",
      "Taxi and Limousine Commission                               93\n",
      "Department of Homeless Services                             43\n",
      "BCC - Brooklyn South                                        40\n",
      "Department of Consumer Affairs                              34\n",
      "BCC - Brooklyn North                                        31\n",
      "BCC - Queens West                                           26\n",
      "A - Brooklyn                                                22\n",
      "BCC - Staten Island                                         19\n",
      "Queens East 12                                              15\n",
      "A - Queens                                                  14\n",
      "A - Manhattan                                               13\n",
      "A - Staten Island                                           11\n",
      "BCC - Bronx                                                 11\n",
      "A - Bronx                                                    9\n",
      "BCC - Queens East                                            8\n",
      "Economic Development Corporation                             7\n",
      "Brooklyn North 03                                            7\n",
      "Bronx 11                                                     6\n",
      "Queens East 10                                               6\n",
      "A - Canine Task Force Citywide                               5\n",
      "Department of Education                                      5\n",
      "Queens West 04                                               4\n",
      "Brooklyn South 10                                            3\n",
      "Bronx 08                                                     3\n",
      "A - Illegal Posting Staten Island, Queens and Brooklyn       3\n",
      "Queens West 03                                               2\n",
      "Queens West 06                                               2\n",
      "Bronx 10                                                     2\n",
      "Manhattan 08                                                 2\n",
      "Manhattan 04                                                 2\n",
      "Bronx 05                                                     1\n",
      "Manhattan 06                                                 1\n",
      "Manhattan 03                                                 1\n",
      "Manhattan 05                                                 1\n",
      "Manhattan 07                                                 1\n",
      "Bronx 03                                                     1\n",
      "Manhattan 01                                                 1\n",
      "Queens West 02                                               1\n",
      "Manhattan 02                                                 1\n",
      "P - Commercial Recycling Citywide                            1\n",
      "Bronx 04                                                     1\n",
      "Name: Agency Name, dtype: int64\n"
     ]
    }
   ],
   "source": [
    "# Print unique values of the column with counts\n",
    "print (df2['Agency Name'].value_counts())"
   ]
  },
  {
   "cell_type": "markdown",
   "metadata": {},
   "source": [
    "## 11. Print rows based on values\n",
    "* Print rows where \"Zipcode\" is 10011 and \"Complaint Type\" is 'Illegal Parking'"
   ]
  },
  {
   "cell_type": "code",
   "execution_count": 65,
   "metadata": {},
   "outputs": [
    {
     "data": {
      "text/html": [
       "<div>\n",
       "<style scoped>\n",
       "    .dataframe tbody tr th:only-of-type {\n",
       "        vertical-align: middle;\n",
       "    }\n",
       "\n",
       "    .dataframe tbody tr th {\n",
       "        vertical-align: top;\n",
       "    }\n",
       "\n",
       "    .dataframe thead th {\n",
       "        text-align: right;\n",
       "    }\n",
       "</style>\n",
       "<table border=\"1\" class=\"dataframe\">\n",
       "  <thead>\n",
       "    <tr style=\"text-align: right;\">\n",
       "      <th></th>\n",
       "      <th>Unique Key</th>\n",
       "      <th>Agency Name</th>\n",
       "      <th>Complaint Type</th>\n",
       "      <th>Zipcode</th>\n",
       "      <th>Borough</th>\n",
       "      <th>Created Date</th>\n",
       "    </tr>\n",
       "  </thead>\n",
       "  <tbody>\n",
       "    <tr>\n",
       "      <td>4993</td>\n",
       "      <td>45325003</td>\n",
       "      <td>New York City Police Department</td>\n",
       "      <td>Illegal Parking</td>\n",
       "      <td>10011</td>\n",
       "      <td>MANHATTAN</td>\n",
       "      <td>01/06/2020 07:48:07 PM</td>\n",
       "    </tr>\n",
       "    <tr>\n",
       "      <td>5959</td>\n",
       "      <td>45322573</td>\n",
       "      <td>New York City Police Department</td>\n",
       "      <td>Illegal Parking</td>\n",
       "      <td>10011</td>\n",
       "      <td>MANHATTAN</td>\n",
       "      <td>01/06/2020 11:41:21 PM</td>\n",
       "    </tr>\n",
       "    <tr>\n",
       "      <td>5975</td>\n",
       "      <td>45320348</td>\n",
       "      <td>New York City Police Department</td>\n",
       "      <td>Illegal Parking</td>\n",
       "      <td>10011</td>\n",
       "      <td>MANHATTAN</td>\n",
       "      <td>01/06/2020 11:44:16 PM</td>\n",
       "    </tr>\n",
       "  </tbody>\n",
       "</table>\n",
       "</div>"
      ],
      "text/plain": [
       "      Unique Key                      Agency Name   Complaint Type Zipcode  \\\n",
       "4993    45325003  New York City Police Department  Illegal Parking   10011   \n",
       "5959    45322573  New York City Police Department  Illegal Parking   10011   \n",
       "5975    45320348  New York City Police Department  Illegal Parking   10011   \n",
       "\n",
       "        Borough            Created Date  \n",
       "4993  MANHATTAN  01/06/2020 07:48:07 PM  \n",
       "5959  MANHATTAN  01/06/2020 11:41:21 PM  \n",
       "5975  MANHATTAN  01/06/2020 11:44:16 PM  "
      ]
     },
     "execution_count": 65,
     "metadata": {},
     "output_type": "execute_result"
    }
   ],
   "source": [
    "df2[(df2['Zipcode']=='10011') & (df2['Complaint Type']=='Illegal Parking')]"
   ]
  },
  {
   "cell_type": "markdown",
   "metadata": {},
   "source": [
    "### Exercise: how many 311 service requests were reported in zipcode 10027 (Columbia Univ. neighborhood)?"
   ]
  },
  {
   "cell_type": "code",
   "execution_count": null,
   "metadata": {},
   "outputs": [],
   "source": []
  },
  {
   "cell_type": "code",
   "execution_count": null,
   "metadata": {},
   "outputs": [],
   "source": []
  },
  {
   "cell_type": "markdown",
   "metadata": {},
   "source": [
    "## 12. Groupby\n",
    "\n",
    "    Syntax:\n",
    "    YOUR_DATAFRAME.groupby('COLUME_NAME').OPERATOR() \n",
    "    OPERATOR can be count, sum, min, max, mean, and so on.\n",
    "* A groupby operation involves some combination of splitting the object, applying a function, and combining the results. This can be used to group large amounts of data and compute operations on these groups.\n",
    "* Let's groupby Borough to calculate how many 311 complaints were reported"
   ]
  },
  {
   "cell_type": "code",
   "execution_count": 66,
   "metadata": {},
   "outputs": [
    {
     "data": {
      "text/html": [
       "<div>\n",
       "<style scoped>\n",
       "    .dataframe tbody tr th:only-of-type {\n",
       "        vertical-align: middle;\n",
       "    }\n",
       "\n",
       "    .dataframe tbody tr th {\n",
       "        vertical-align: top;\n",
       "    }\n",
       "\n",
       "    .dataframe thead th {\n",
       "        text-align: right;\n",
       "    }\n",
       "</style>\n",
       "<table border=\"1\" class=\"dataframe\">\n",
       "  <thead>\n",
       "    <tr style=\"text-align: right;\">\n",
       "      <th></th>\n",
       "      <th>Unique Key</th>\n",
       "      <th>Agency Name</th>\n",
       "      <th>Complaint Type</th>\n",
       "      <th>Zipcode</th>\n",
       "      <th>Created Date</th>\n",
       "    </tr>\n",
       "    <tr>\n",
       "      <th>Borough</th>\n",
       "      <th></th>\n",
       "      <th></th>\n",
       "      <th></th>\n",
       "      <th></th>\n",
       "      <th></th>\n",
       "    </tr>\n",
       "  </thead>\n",
       "  <tbody>\n",
       "    <tr>\n",
       "      <td>BRONX</td>\n",
       "      <td>1069</td>\n",
       "      <td>1069</td>\n",
       "      <td>1069</td>\n",
       "      <td>1069</td>\n",
       "      <td>1069</td>\n",
       "    </tr>\n",
       "    <tr>\n",
       "      <td>BROOKLYN</td>\n",
       "      <td>1763</td>\n",
       "      <td>1763</td>\n",
       "      <td>1763</td>\n",
       "      <td>1763</td>\n",
       "      <td>1763</td>\n",
       "    </tr>\n",
       "    <tr>\n",
       "      <td>MANHATTAN</td>\n",
       "      <td>1417</td>\n",
       "      <td>1417</td>\n",
       "      <td>1417</td>\n",
       "      <td>1417</td>\n",
       "      <td>1417</td>\n",
       "    </tr>\n",
       "    <tr>\n",
       "      <td>QUEENS</td>\n",
       "      <td>1485</td>\n",
       "      <td>1485</td>\n",
       "      <td>1485</td>\n",
       "      <td>1485</td>\n",
       "      <td>1485</td>\n",
       "    </tr>\n",
       "    <tr>\n",
       "      <td>STATEN ISLAND</td>\n",
       "      <td>261</td>\n",
       "      <td>261</td>\n",
       "      <td>261</td>\n",
       "      <td>261</td>\n",
       "      <td>261</td>\n",
       "    </tr>\n",
       "    <tr>\n",
       "      <td>Unspecified</td>\n",
       "      <td>42</td>\n",
       "      <td>42</td>\n",
       "      <td>42</td>\n",
       "      <td>42</td>\n",
       "      <td>42</td>\n",
       "    </tr>\n",
       "  </tbody>\n",
       "</table>\n",
       "</div>"
      ],
      "text/plain": [
       "               Unique Key  Agency Name  Complaint Type  Zipcode  Created Date\n",
       "Borough                                                                      \n",
       "BRONX                1069         1069            1069     1069          1069\n",
       "BROOKLYN             1763         1763            1763     1763          1763\n",
       "MANHATTAN            1417         1417            1417     1417          1417\n",
       "QUEENS               1485         1485            1485     1485          1485\n",
       "STATEN ISLAND         261          261             261      261           261\n",
       "Unspecified            42           42              42       42            42"
      ]
     },
     "execution_count": 66,
     "metadata": {},
     "output_type": "execute_result"
    }
   ],
   "source": [
    "df2.groupby('Borough').count()"
   ]
  },
  {
   "cell_type": "markdown",
   "metadata": {},
   "source": [
    "### Exercise: how many complaints are averagely reported at the zipcode level?"
   ]
  },
  {
   "cell_type": "code",
   "execution_count": null,
   "metadata": {},
   "outputs": [],
   "source": []
  },
  {
   "cell_type": "markdown",
   "metadata": {},
   "source": [
    "## 13. Create a new column\n",
    "* Create a column 'City' with value 'NYC' "
   ]
  },
  {
   "cell_type": "code",
   "execution_count": 68,
   "metadata": {},
   "outputs": [
    {
     "data": {
      "text/html": [
       "<div>\n",
       "<style scoped>\n",
       "    .dataframe tbody tr th:only-of-type {\n",
       "        vertical-align: middle;\n",
       "    }\n",
       "\n",
       "    .dataframe tbody tr th {\n",
       "        vertical-align: top;\n",
       "    }\n",
       "\n",
       "    .dataframe thead th {\n",
       "        text-align: right;\n",
       "    }\n",
       "</style>\n",
       "<table border=\"1\" class=\"dataframe\">\n",
       "  <thead>\n",
       "    <tr style=\"text-align: right;\">\n",
       "      <th></th>\n",
       "      <th>Unique Key</th>\n",
       "      <th>Agency Name</th>\n",
       "      <th>Complaint Type</th>\n",
       "      <th>Zipcode</th>\n",
       "      <th>Borough</th>\n",
       "      <th>Created Date</th>\n",
       "      <th>City</th>\n",
       "    </tr>\n",
       "  </thead>\n",
       "  <tbody>\n",
       "    <tr>\n",
       "      <td>0</td>\n",
       "      <td>45321376</td>\n",
       "      <td>Department of Health and Mental Hygiene</td>\n",
       "      <td>Food Poisoning</td>\n",
       "      <td>10467</td>\n",
       "      <td>BRONX</td>\n",
       "      <td>01/06/2020 12:00:00 AM</td>\n",
       "      <td>NYC</td>\n",
       "    </tr>\n",
       "    <tr>\n",
       "      <td>1</td>\n",
       "      <td>45322953</td>\n",
       "      <td>Department of Health and Mental Hygiene</td>\n",
       "      <td>Food Poisoning</td>\n",
       "      <td>11375</td>\n",
       "      <td>QUEENS</td>\n",
       "      <td>01/06/2020 12:00:00 AM</td>\n",
       "      <td>NYC</td>\n",
       "    </tr>\n",
       "  </tbody>\n",
       "</table>\n",
       "</div>"
      ],
      "text/plain": [
       "   Unique Key                              Agency Name  Complaint Type  \\\n",
       "0    45321376  Department of Health and Mental Hygiene  Food Poisoning   \n",
       "1    45322953  Department of Health and Mental Hygiene  Food Poisoning   \n",
       "\n",
       "  Zipcode Borough            Created Date City  \n",
       "0   10467   BRONX  01/06/2020 12:00:00 AM  NYC  \n",
       "1   11375  QUEENS  01/06/2020 12:00:00 AM  NYC  "
      ]
     },
     "execution_count": 68,
     "metadata": {},
     "output_type": "execute_result"
    }
   ],
   "source": [
    "df2['City'] = 'NYC'\n",
    "df2.head(2)"
   ]
  },
  {
   "cell_type": "markdown",
   "metadata": {},
   "source": [
    "## 14. Export your dataframe as csv format\n",
    "* After data cleaning, processing, or any other manipulation, you will need to export your dataframe as a new dataset. \n",
    "* This can be saved in 'output' folder.\n",
    "\n",
    "        Syntax:\n",
    "        YOUR_DATAFRAME.to_csv('FILE_PATH')\n",
    "       "
   ]
  },
  {
   "cell_type": "code",
   "execution_count": 69,
   "metadata": {},
   "outputs": [],
   "source": [
    "df2.to_csv('../output/Lab02_NYC311_test_output.csv')"
   ]
  },
  {
   "cell_type": "code",
   "execution_count": null,
   "metadata": {},
   "outputs": [],
   "source": []
  }
 ],
 "metadata": {
  "kernelspec": {
   "display_name": "Python 3",
   "language": "python",
   "name": "python3"
  },
  "language_info": {
   "codemirror_mode": {
    "name": "ipython",
    "version": 3
   },
   "file_extension": ".py",
   "mimetype": "text/x-python",
   "name": "python",
   "nbconvert_exporter": "python",
   "pygments_lexer": "ipython3",
   "version": "3.7.4"
  }
 },
 "nbformat": 4,
 "nbformat_minor": 2
}
